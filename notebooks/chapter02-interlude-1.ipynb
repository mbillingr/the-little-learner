{
 "cells": [
  {
   "cell_type": "code",
   "execution_count": 1,
   "metadata": {},
   "outputs": [],
   "source": [
    "include(\"../src/Schemish.jl\")\n",
    "include(\"../src/LittleLearner.jl\")\n",
    "using .Schemish\n",
    "using .LittleLearner"
   ]
  },
  {
   "cell_type": "markdown",
   "metadata": {},
   "source": [
    "# Interlude I - The More We Extend, the Less Tensor We Get"
   ]
  },
  {
   "cell_type": "code",
   "execution_count": 2,
   "metadata": {},
   "outputs": [],
   "source": [
    "@assert tensor([5, 6, 7]) + tensor([2, 0, 1]) == tensor([7, 6, 8])\n",
    "@assert 4 + tensor([3, 6, 5]) == tensor([7, 10, 9])\n",
    "@assert tensor([6, 9, 1]) + tensor([[4, 3, 8], [7, 4, 7]]) == tensor([[10, 12, 9], [13, 13, 8]])\n",
    "@assert tensor([[4, 6, 5], [6, 9, 7]]) * 3 == tensor([[12, 18, 15], [18, 27, 21]])"
   ]
  },
  {
   "cell_type": "code",
   "execution_count": 3,
   "metadata": {},
   "outputs": [],
   "source": [
    "@assert sqrt(tensor([9, 16, 25])) == tensor([3, 4, 5])\n",
    "@assert sqrt(tensor([[49, 81, 16], [64, 25, 36]])) == tensor([[7, 9, 4], [8, 5, 6]])"
   ]
  },
  {
   "cell_type": "code",
   "execution_count": 4,
   "metadata": {},
   "outputs": [],
   "source": [
    "@assert sum_1(tensor([10.0, 12.0, 14.0])) == 36.0\n",
    "@assert sum(tensor([[[1, 2], [3, 4]], [[5, 6], [7, 8]]])) == tensor([[3, 7], [11, 15]])"
   ]
  },
  {
   "cell_type": "code",
   "execution_count": 5,
   "metadata": {},
   "outputs": [
    {
     "data": {
      "text/plain": [
       "[14 34 26 50]"
      ]
     },
     "metadata": {},
     "output_type": "display_data"
    }
   ],
   "source": [
    "line = (x) -> (θ) -> ref(θ, 0) * x + ref(θ, 1)\n",
    "\n",
    "line(tensor([2,7,5,11]))(list(4, 6))"
   ]
  }
 ],
 "metadata": {
  "kernelspec": {
   "display_name": "Julia 1.9.2",
   "language": "julia",
   "name": "julia-1.9"
  },
  "language_info": {
   "file_extension": ".jl",
   "mimetype": "application/julia",
   "name": "julia",
   "version": "1.9.2"
  },
  "orig_nbformat": 4
 },
 "nbformat": 4,
 "nbformat_minor": 2
}
