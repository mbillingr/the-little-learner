{
 "cells": [
  {
   "cell_type": "code",
   "execution_count": 1,
   "metadata": {},
   "outputs": [],
   "source": [
    "using Plots\n",
    "\n",
    "include(\"../src/Schemish.jl\")\n",
    "using .Schemish\n",
    "\n",
    "include(\"../src/AppendixA.jl\")\n",
    "using .AppendixA"
   ]
  },
  {
   "cell_type": "markdown",
   "metadata": {},
   "source": [
    "# 1 - The Lines Sleep Tonight"
   ]
  },
  {
   "cell_type": "code",
   "execution_count": 2,
   "metadata": {},
   "outputs": [
    {
     "data": {
      "image/png": "[encoded data removed]",
      "image/svg+xml": [
       "<?xml version=\"1.0\" encoding=\"utf-8\"?>\n",
       "<svg xmlns=\"http://www.w3.org/2000/svg\" xmlns:xlink=\"http://www.w3.org/1999/xlink\" width=\"600\" height=\"400\" viewBox=\"0 0 2400 1600\">\n",
       "<defs>\n",
       "  <clipPath id=\"clip110\">\n",
       "    <rect x=\"0\" y=\"0\" width=\"2400\" height=\"1600\"/>\n",
       "  </clipPath>\n",
       "</defs>\n",
       "<path clip-path=\"url(#clip110)\" d=\"M0 1600 L2400 1600 L2400 0 L0 0  Z\" fill=\"#ffffff\" fill-rule=\"evenodd\" fill-opacity=\"1\"/>\n",
       "<defs>\n",
       "  <clipPath id=\"clip111\">\n",
       "    <rect x=\"480\" y=\"0\" width=\"1681\" height=\"1600\"/>\n",
       "  </clipPath>\n",
       "</defs>\n",
       "<path clip-path=\"url(#clip110)\" d=\"M156.922 1486.45 L2352.76 1486.45 L2352.76 47.2441 L156.922 47.2441  Z\" fill=\"#ffffff\" fill-rule=\"evenodd\" fill-opacity=\"1\"/>\n",
       "<defs>\n",
       "  <clipPath id=\"clip112\">\n",
       "    <rect x=\"156\" y=\"47\" width=\"2197\" height=\"1440\"/>\n",
       "  </clipPath>\n",
       "</defs>\n",
       "<polyline clip-path=\"url(#clip112)\" style=\"stroke:#000000; stroke-linecap:round; stroke-linejoin:round; stroke-width:2; stroke-opacity:0.1; fill:none\" points=\"219.069,1486.45 219.069,47.2441 \"/>\n",
       "<polyline clip-path=\"url(#clip112)\" style=\"stroke:#000000; stroke-linecap:round; stroke-linejoin:round; stroke-width:2; stroke-opacity:0.1; fill:none\" points=\"909.582,1486.45 909.582,47.2441 \"/>\n",
       "<polyline clip-path=\"url(#clip112)\" style=\"stroke:#000000; stroke-linecap:round; stroke-linejoin:round; stroke-width:2; stroke-opacity:0.1; fill:none\" points=\"1600.1,1486.45 1600.1,47.2441 \"/>\n",
       "<polyline clip-path=\"url(#clip112)\" style=\"stroke:#000000; stroke-linecap:round; stroke-linejoin:round; stroke-width:2; stroke-opacity:0.1; fill:none\" points=\"2290.61,1486.45 2290.61,47.2441 \"/>\n",
       "<polyline clip-path=\"url(#clip110)\" style=\"stroke:#000000; stroke-linecap:round; stroke-linejoin:round; stroke-width:4; stroke-opacity:1; fill:none\" points=\"156.922,1486.45 2352.76,1486.45 \"/>\n",
       "<polyline clip-path=\"url(#clip110)\" style=\"stroke:#000000; stroke-linecap:round; stroke-linejoin:round; stroke-width:4; stroke-opacity:1; fill:none\" points=\"219.069,1486.45 219.069,1467.55 \"/>\n",
       "<polyline clip-path=\"url(#clip110)\" style=\"stroke:#000000; stroke-linecap:round; stroke-linejoin:round; stroke-width:4; stroke-opacity:1; fill:none\" points=\"909.582,1486.45 909.582,1467.55 \"/>\n",
       "<polyline clip-path=\"url(#clip110)\" style=\"stroke:#000000; stroke-linecap:round; stroke-linejoin:round; stroke-width:4; stroke-opacity:1; fill:none\" points=\"1600.1,1486.45 1600.1,1467.55 \"/>\n",
       "<polyline clip-path=\"url(#clip110)\" style=\"stroke:#000000; stroke-linecap:round; stroke-linejoin:round; stroke-width:4; stroke-opacity:1; fill:none\" points=\"2290.61,1486.45 2290.61,1467.55 \"/>\n",
       "<path clip-path=\"url(#clip110)\" d=\"M209.451 1544.91 L217.089 1544.91 L217.089 1518.55 L208.779 1520.21 L208.779 1515.95 L217.043 1514.29 L221.719 1514.29 L221.719 1544.91 L229.358 1544.91 L229.358 1548.85 L209.451 1548.85 L209.451 1544.91 Z\" fill=\"#000000\" fill-rule=\"nonzero\" fill-opacity=\"1\" /><path clip-path=\"url(#clip110)\" d=\"M904.235 1544.91 L920.554 1544.91 L920.554 1548.85 L898.61 1548.85 L898.61 1544.91 Q901.272 1542.16 905.855 1537.53 Q910.462 1532.88 911.642 1531.53 Q913.888 1529.01 914.767 1527.27 Q915.67 1525.51 915.67 1523.82 Q915.67 1521.07 913.726 1519.33 Q911.804 1517.6 908.703 1517.6 Q906.504 1517.6 904.05 1518.36 Q901.619 1519.13 898.842 1520.68 L898.842 1515.95 Q901.666 1514.82 904.119 1514.24 Q906.573 1513.66 908.61 1513.66 Q913.98 1513.66 917.175 1516.35 Q920.369 1519.03 920.369 1523.52 Q920.369 1525.65 919.559 1527.57 Q918.772 1529.47 916.666 1532.07 Q916.087 1532.74 912.985 1535.95 Q909.883 1539.15 904.235 1544.91 Z\" fill=\"#000000\" fill-rule=\"nonzero\" fill-opacity=\"1\" /><path clip-path=\"url(#clip110)\" d=\"M1604.34 1530.21 Q1607.7 1530.93 1609.58 1533.2 Q1611.47 1535.47 1611.47 1538.8 Q1611.47 1543.92 1607.95 1546.72 Q1604.44 1549.52 1597.95 1549.52 Q1595.78 1549.52 1593.46 1549.08 Q1591.17 1548.66 1588.72 1547.81 L1588.72 1543.29 Q1590.66 1544.43 1592.98 1545.01 Q1595.29 1545.58 1597.82 1545.58 Q1602.21 1545.58 1604.51 1543.85 Q1606.82 1542.11 1606.82 1538.8 Q1606.82 1535.75 1604.67 1534.03 Q1602.54 1532.3 1598.72 1532.3 L1594.69 1532.3 L1594.69 1528.45 L1598.9 1528.45 Q1602.35 1528.45 1604.18 1527.09 Q1606.01 1525.7 1606.01 1523.11 Q1606.01 1520.45 1604.11 1519.03 Q1602.24 1517.6 1598.72 1517.6 Q1596.8 1517.6 1594.6 1518.01 Q1592.4 1518.43 1589.76 1519.31 L1589.76 1515.14 Q1592.42 1514.4 1594.74 1514.03 Q1597.08 1513.66 1599.14 1513.66 Q1604.46 1513.66 1607.56 1516.09 Q1610.66 1518.5 1610.66 1522.62 Q1610.66 1525.49 1609.02 1527.48 Q1607.38 1529.45 1604.34 1530.21 Z\" fill=\"#000000\" fill-rule=\"nonzero\" fill-opacity=\"1\" /><path clip-path=\"url(#clip110)\" d=\"M2293.62 1518.36 L2281.81 1536.81 L2293.62 1536.81 L2293.62 1518.36 M2292.39 1514.29 L2298.27 1514.29 L2298.27 1536.81 L2303.2 1536.81 L2303.2 1540.7 L2298.27 1540.7 L2298.27 1548.85 L2293.62 1548.85 L2293.62 1540.7 L2278.02 1540.7 L2278.02 1536.19 L2292.39 1514.29 Z\" fill=\"#000000\" fill-rule=\"nonzero\" fill-opacity=\"1\" /><polyline clip-path=\"url(#clip112)\" style=\"stroke:#000000; stroke-linecap:round; stroke-linejoin:round; stroke-width:2; stroke-opacity:0.1; fill:none\" points=\"156.922,1309.94 2352.76,1309.94 \"/>\n",
       "<polyline clip-path=\"url(#clip112)\" style=\"stroke:#000000; stroke-linecap:round; stroke-linejoin:round; stroke-width:2; stroke-opacity:0.1; fill:none\" points=\"156.922,1083.65 2352.76,1083.65 \"/>\n",
       "<polyline clip-path=\"url(#clip112)\" style=\"stroke:#000000; stroke-linecap:round; stroke-linejoin:round; stroke-width:2; stroke-opacity:0.1; fill:none\" points=\"156.922,857.362 2352.76,857.362 \"/>\n",
       "<polyline clip-path=\"url(#clip112)\" style=\"stroke:#000000; stroke-linecap:round; stroke-linejoin:round; stroke-width:2; stroke-opacity:0.1; fill:none\" points=\"156.922,631.072 2352.76,631.072 \"/>\n",
       "<polyline clip-path=\"url(#clip112)\" style=\"stroke:#000000; stroke-linecap:round; stroke-linejoin:round; stroke-width:2; stroke-opacity:0.1; fill:none\" points=\"156.922,404.782 2352.76,404.782 \"/>\n",
       "<polyline clip-path=\"url(#clip112)\" style=\"stroke:#000000; stroke-linecap:round; stroke-linejoin:round; stroke-width:2; stroke-opacity:0.1; fill:none\" points=\"156.922,178.492 2352.76,178.492 \"/>\n",
       "<polyline clip-path=\"url(#clip110)\" style=\"stroke:#000000; stroke-linecap:round; stroke-linejoin:round; stroke-width:4; stroke-opacity:1; fill:none\" points=\"156.922,1486.45 156.922,47.2441 \"/>\n",
       "<polyline clip-path=\"url(#clip110)\" style=\"stroke:#000000; stroke-linecap:round; stroke-linejoin:round; stroke-width:4; stroke-opacity:1; fill:none\" points=\"156.922,1309.94 175.82,1309.94 \"/>\n",
       "<polyline clip-path=\"url(#clip110)\" style=\"stroke:#000000; stroke-linecap:round; stroke-linejoin:round; stroke-width:4; stroke-opacity:1; fill:none\" points=\"156.922,1083.65 175.82,1083.65 \"/>\n",
       "<polyline clip-path=\"url(#clip110)\" style=\"stroke:#000000; stroke-linecap:round; stroke-linejoin:round; stroke-width:4; stroke-opacity:1; fill:none\" points=\"156.922,857.362 175.82,857.362 \"/>\n",
       "<polyline clip-path=\"url(#clip110)\" style=\"stroke:#000000; stroke-linecap:round; stroke-linejoin:round; stroke-width:4; stroke-opacity:1; fill:none\" points=\"156.922,631.072 175.82,631.072 \"/>\n",
       "<polyline clip-path=\"url(#clip110)\" style=\"stroke:#000000; stroke-linecap:round; stroke-linejoin:round; stroke-width:4; stroke-opacity:1; fill:none\" points=\"156.922,404.782 175.82,404.782 \"/>\n",
       "<polyline clip-path=\"url(#clip110)\" style=\"stroke:#000000; stroke-linecap:round; stroke-linejoin:round; stroke-width:4; stroke-opacity:1; fill:none\" points=\"156.922,178.492 175.82,178.492 \"/>\n",
       "<path clip-path=\"url(#clip110)\" d=\"M55.5523 1323.29 L63.1911 1323.29 L63.1911 1296.92 L54.881 1298.59 L54.881 1294.33 L63.1448 1292.66 L67.8207 1292.66 L67.8207 1323.29 L75.4596 1323.29 L75.4596 1327.22 L55.5523 1327.22 L55.5523 1323.29 Z\" fill=\"#000000\" fill-rule=\"nonzero\" fill-opacity=\"1\" /><path clip-path=\"url(#clip110)\" d=\"M84.904 1321.34 L89.7882 1321.34 L89.7882 1327.22 L84.904 1327.22 L84.904 1321.34 Z\" fill=\"#000000\" fill-rule=\"nonzero\" fill-opacity=\"1\" /><path clip-path=\"url(#clip110)\" d=\"M100.02 1292.66 L118.376 1292.66 L118.376 1296.6 L104.302 1296.6 L104.302 1305.07 Q105.321 1304.72 106.339 1304.56 Q107.358 1304.37 108.376 1304.37 Q114.163 1304.37 117.543 1307.55 Q120.922 1310.72 120.922 1316.13 Q120.922 1321.71 117.45 1324.81 Q113.978 1327.89 107.658 1327.89 Q105.483 1327.89 103.214 1327.52 Q100.969 1327.15 98.5613 1326.41 L98.5613 1321.71 Q100.645 1322.85 102.867 1323.4 Q105.089 1323.96 107.566 1323.96 Q111.571 1323.96 113.908 1321.85 Q116.246 1319.74 116.246 1316.13 Q116.246 1312.52 113.908 1310.42 Q111.571 1308.31 107.566 1308.31 Q105.691 1308.31 103.816 1308.73 Q101.964 1309.14 100.02 1310.02 L100.02 1292.66 Z\" fill=\"#000000\" fill-rule=\"nonzero\" fill-opacity=\"1\" /><path clip-path=\"url(#clip110)\" d=\"M57.7745 1097 L74.0939 1097 L74.0939 1100.93 L52.1495 1100.93 L52.1495 1097 Q54.8115 1094.24 59.3949 1089.61 Q64.0013 1084.96 65.1819 1083.62 Q67.4272 1081.09 68.3068 1079.36 Q69.2096 1077.6 69.2096 1075.91 Q69.2096 1073.15 67.2652 1071.42 Q65.3439 1069.68 62.2421 1069.68 Q60.043 1069.68 57.5893 1070.45 Q55.1588 1071.21 52.381 1072.76 L52.381 1068.04 Q55.2051 1066.9 57.6588 1066.33 Q60.1124 1065.75 62.1495 1065.75 Q67.5198 1065.75 70.7142 1068.43 Q73.9087 1071.12 73.9087 1075.61 Q73.9087 1077.74 73.0985 1079.66 Q72.3115 1081.56 70.205 1084.15 Q69.6263 1084.82 66.5245 1088.04 Q63.4226 1091.23 57.7745 1097 Z\" fill=\"#000000\" fill-rule=\"nonzero\" fill-opacity=\"1\" /><path clip-path=\"url(#clip110)\" d=\"M83.9086 1095.05 L88.7928 1095.05 L88.7928 1100.93 L83.9086 1100.93 L83.9086 1095.05 Z\" fill=\"#000000\" fill-rule=\"nonzero\" fill-opacity=\"1\" /><path clip-path=\"url(#clip110)\" d=\"M108.978 1069.45 Q105.367 1069.45 103.538 1073.02 Q101.733 1076.56 101.733 1083.69 Q101.733 1090.79 103.538 1094.36 Q105.367 1097.9 108.978 1097.9 Q112.612 1097.9 114.418 1094.36 Q116.246 1090.79 116.246 1083.69 Q116.246 1076.56 114.418 1073.02 Q112.612 1069.45 108.978 1069.45 M108.978 1065.75 Q114.788 1065.75 117.844 1070.35 Q120.922 1074.94 120.922 1083.69 Q120.922 1092.41 117.844 1097.02 Q114.788 1101.6 108.978 1101.6 Q103.168 1101.6 100.089 1097.02 Q97.0335 1092.41 97.0335 1083.69 Q97.0335 1074.94 100.089 1070.35 Q103.168 1065.75 108.978 1065.75 Z\" fill=\"#000000\" fill-rule=\"nonzero\" fill-opacity=\"1\" /><path clip-path=\"url(#clip110)\" d=\"M58.7699 870.707 L75.0892 870.707 L75.0892 874.642 L53.1449 874.642 L53.1449 870.707 Q55.8069 867.952 60.3902 863.323 Q64.9967 858.67 66.1772 857.327 Q68.4226 854.804 69.3022 853.068 Q70.205 851.309 70.205 849.619 Q70.205 846.864 68.2606 845.128 Q66.3393 843.392 63.2374 843.392 Q61.0384 843.392 58.5847 844.156 Q56.1541 844.92 53.3764 846.471 L53.3764 841.749 Q56.2004 840.614 58.6541 840.036 Q61.1078 839.457 63.1448 839.457 Q68.5152 839.457 71.7096 842.142 Q74.904 844.827 74.904 849.318 Q74.904 851.448 74.0939 853.369 Q73.3068 855.267 71.2004 857.86 Q70.6217 858.531 67.5198 861.748 Q64.418 864.943 58.7699 870.707 Z\" fill=\"#000000\" fill-rule=\"nonzero\" fill-opacity=\"1\" /><path clip-path=\"url(#clip110)\" d=\"M84.904 868.762 L89.7882 868.762 L89.7882 874.642 L84.904 874.642 L84.904 868.762 Z\" fill=\"#000000\" fill-rule=\"nonzero\" fill-opacity=\"1\" /><path clip-path=\"url(#clip110)\" d=\"M100.02 840.082 L118.376 840.082 L118.376 844.017 L104.302 844.017 L104.302 852.489 Q105.321 852.142 106.339 851.98 Q107.358 851.795 108.376 851.795 Q114.163 851.795 117.543 854.966 Q120.922 858.137 120.922 863.554 Q120.922 869.133 117.45 872.235 Q113.978 875.313 107.658 875.313 Q105.483 875.313 103.214 874.943 Q100.969 874.573 98.5613 873.832 L98.5613 869.133 Q100.645 870.267 102.867 870.823 Q105.089 871.378 107.566 871.378 Q111.571 871.378 113.908 869.272 Q116.246 867.165 116.246 863.554 Q116.246 859.943 113.908 857.836 Q111.571 855.73 107.566 855.73 Q105.691 855.73 103.816 856.147 Q101.964 856.563 100.02 857.443 L100.02 840.082 Z\" fill=\"#000000\" fill-rule=\"nonzero\" fill-opacity=\"1\" /><path clip-path=\"url(#clip110)\" d=\"M67.9133 629.718 Q71.2698 630.435 73.1448 632.704 Q75.0429 634.972 75.0429 638.306 Q75.0429 643.422 71.5244 646.222 Q68.0059 649.023 61.5245 649.023 Q59.3486 649.023 57.0338 648.584 Q54.7421 648.167 52.2884 647.31 L52.2884 642.797 Q54.2328 643.931 56.5477 644.509 Q58.8625 645.088 61.3856 645.088 Q65.7837 645.088 68.0754 643.352 Q70.3902 641.616 70.3902 638.306 Q70.3902 635.25 68.2374 633.537 Q66.1078 631.801 62.2884 631.801 L58.2606 631.801 L58.2606 627.959 L62.4735 627.959 Q65.9226 627.959 67.7513 626.593 Q69.58 625.204 69.58 622.611 Q69.58 619.949 67.6819 618.537 Q65.8069 617.102 62.2884 617.102 Q60.3671 617.102 58.168 617.519 Q55.969 617.936 53.3301 618.815 L53.3301 614.649 Q55.9921 613.908 58.3069 613.537 Q60.6449 613.167 62.705 613.167 Q68.0291 613.167 71.1309 615.598 Q74.2327 618.005 74.2327 622.125 Q74.2327 624.996 72.5892 626.986 Q70.9457 628.954 67.9133 629.718 Z\" fill=\"#000000\" fill-rule=\"nonzero\" fill-opacity=\"1\" /><path clip-path=\"url(#clip110)\" d=\"M83.9086 642.472 L88.7928 642.472 L88.7928 648.352 L83.9086 648.352 L83.9086 642.472 Z\" fill=\"#000000\" fill-rule=\"nonzero\" fill-opacity=\"1\" /><path clip-path=\"url(#clip110)\" d=\"M108.978 616.871 Q105.367 616.871 103.538 620.436 Q101.733 623.977 101.733 631.107 Q101.733 638.213 103.538 641.778 Q105.367 645.32 108.978 645.32 Q112.612 645.32 114.418 641.778 Q116.246 638.213 116.246 631.107 Q116.246 623.977 114.418 620.436 Q112.612 616.871 108.978 616.871 M108.978 613.167 Q114.788 613.167 117.844 617.774 Q120.922 622.357 120.922 631.107 Q120.922 639.834 117.844 644.44 Q114.788 649.023 108.978 649.023 Q103.168 649.023 100.089 644.44 Q97.0335 639.834 97.0335 631.107 Q97.0335 622.357 100.089 617.774 Q103.168 613.167 108.978 613.167 Z\" fill=\"#000000\" fill-rule=\"nonzero\" fill-opacity=\"1\" /><path clip-path=\"url(#clip110)\" d=\"M68.9087 403.428 Q72.2652 404.146 74.1402 406.414 Q76.0383 408.683 76.0383 412.016 Q76.0383 417.132 72.5198 419.933 Q69.0013 422.733 62.5198 422.733 Q60.3439 422.733 58.0291 422.294 Q55.7375 421.877 53.2838 421.02 L53.2838 416.507 Q55.2282 417.641 57.543 418.22 Q59.8578 418.798 62.381 418.798 Q66.7791 418.798 69.0707 417.062 Q71.3855 415.326 71.3855 412.016 Q71.3855 408.96 69.2328 407.247 Q67.1032 405.511 63.2837 405.511 L59.256 405.511 L59.256 401.669 L63.4689 401.669 Q66.918 401.669 68.7467 400.303 Q70.5754 398.914 70.5754 396.322 Q70.5754 393.66 68.6772 392.247 Q66.8022 390.812 63.2837 390.812 Q61.3624 390.812 59.1634 391.229 Q56.9643 391.646 54.3254 392.525 L54.3254 388.359 Q56.9875 387.618 59.3023 387.248 Q61.6402 386.877 63.7004 386.877 Q69.0244 386.877 72.1263 389.308 Q75.2281 391.715 75.2281 395.835 Q75.2281 398.706 73.5846 400.697 Q71.9411 402.664 68.9087 403.428 Z\" fill=\"#000000\" fill-rule=\"nonzero\" fill-opacity=\"1\" /><path clip-path=\"url(#clip110)\" d=\"M84.904 416.183 L89.7882 416.183 L89.7882 422.062 L84.904 422.062 L84.904 416.183 Z\" fill=\"#000000\" fill-rule=\"nonzero\" fill-opacity=\"1\" /><path clip-path=\"url(#clip110)\" d=\"M100.02 387.502 L118.376 387.502 L118.376 391.437 L104.302 391.437 L104.302 399.909 Q105.321 399.562 106.339 399.4 Q107.358 399.215 108.376 399.215 Q114.163 399.215 117.543 402.386 Q120.922 405.558 120.922 410.974 Q120.922 416.553 117.45 419.655 Q113.978 422.733 107.658 422.733 Q105.483 422.733 103.214 422.363 Q100.969 421.993 98.5613 421.252 L98.5613 416.553 Q100.645 417.687 102.867 418.243 Q105.089 418.798 107.566 418.798 Q111.571 418.798 113.908 416.692 Q116.246 414.585 116.246 410.974 Q116.246 407.363 113.908 405.257 Q111.571 403.15 107.566 403.15 Q105.691 403.15 103.816 403.567 Q101.964 403.984 100.02 404.863 L100.02 387.502 Z\" fill=\"#000000\" fill-rule=\"nonzero\" fill-opacity=\"1\" /><path clip-path=\"url(#clip110)\" d=\"M66.5939 165.286 L54.7884 183.735 L66.5939 183.735 L66.5939 165.286 M65.367 161.212 L71.2466 161.212 L71.2466 183.735 L76.1772 183.735 L76.1772 187.624 L71.2466 187.624 L71.2466 195.772 L66.5939 195.772 L66.5939 187.624 L50.9921 187.624 L50.9921 183.11 L65.367 161.212 Z\" fill=\"#000000\" fill-rule=\"nonzero\" fill-opacity=\"1\" /><path clip-path=\"url(#clip110)\" d=\"M83.9086 189.893 L88.7928 189.893 L88.7928 195.772 L83.9086 195.772 L83.9086 189.893 Z\" fill=\"#000000\" fill-rule=\"nonzero\" fill-opacity=\"1\" /><path clip-path=\"url(#clip110)\" d=\"M108.978 164.291 Q105.367 164.291 103.538 167.856 Q101.733 171.397 101.733 178.527 Q101.733 185.633 103.538 189.198 Q105.367 192.74 108.978 192.74 Q112.612 192.74 114.418 189.198 Q116.246 185.633 116.246 178.527 Q116.246 171.397 114.418 167.856 Q112.612 164.291 108.978 164.291 M108.978 160.587 Q114.788 160.587 117.844 165.194 Q120.922 169.777 120.922 178.527 Q120.922 187.254 117.844 191.86 Q114.788 196.444 108.978 196.444 Q103.168 196.444 100.089 191.86 Q97.0335 187.254 97.0335 178.527 Q97.0335 169.777 100.089 165.194 Q103.168 160.587 108.978 160.587 Z\" fill=\"#000000\" fill-rule=\"nonzero\" fill-opacity=\"1\" /><circle clip-path=\"url(#clip112)\" cx=\"909.582\" cy=\"1174.17\" r=\"14.4\" fill=\"#009af9\" fill-rule=\"evenodd\" fill-opacity=\"1\" stroke=\"#000000\" stroke-opacity=\"1\" stroke-width=\"3.2\"/>\n",
       "<circle clip-path=\"url(#clip112)\" cx=\"219.069\" cy=\"1445.72\" r=\"14.4\" fill=\"#009af9\" fill-rule=\"evenodd\" fill-opacity=\"1\" stroke=\"#000000\" stroke-opacity=\"1\" stroke-width=\"3.2\"/>\n",
       "<circle clip-path=\"url(#clip112)\" cx=\"2290.61\" cy=\"87.9763\" r=\"14.4\" fill=\"#009af9\" fill-rule=\"evenodd\" fill-opacity=\"1\" stroke=\"#000000\" stroke-opacity=\"1\" stroke-width=\"3.2\"/>\n",
       "<circle clip-path=\"url(#clip112)\" cx=\"1600.1\" cy=\"495.298\" r=\"14.4\" fill=\"#009af9\" fill-rule=\"evenodd\" fill-opacity=\"1\" stroke=\"#000000\" stroke-opacity=\"1\" stroke-width=\"3.2\"/>\n",
       "<path clip-path=\"url(#clip110)\" d=\"M230.117 198.898 L502.13 198.898 L502.13 95.2176 L230.117 95.2176  Z\" fill=\"#ffffff\" fill-rule=\"evenodd\" fill-opacity=\"1\"/>\n",
       "<polyline clip-path=\"url(#clip110)\" style=\"stroke:#000000; stroke-linecap:round; stroke-linejoin:round; stroke-width:4; stroke-opacity:1; fill:none\" points=\"230.117,198.898 502.13,198.898 502.13,95.2176 230.117,95.2176 230.117,198.898 \"/>\n",
       "<circle clip-path=\"url(#clip110)\" cx=\"327.709\" cy=\"147.058\" r=\"20.48\" fill=\"#009af9\" fill-rule=\"evenodd\" fill-opacity=\"1\" stroke=\"#000000\" stroke-opacity=\"1\" stroke-width=\"4.55111\"/>\n",
       "<path clip-path=\"url(#clip110)\" d=\"M439.144 166.745 Q437.339 171.375 435.626 172.787 Q433.913 174.199 431.043 174.199 L427.64 174.199 L427.64 170.634 L430.14 170.634 Q431.899 170.634 432.871 169.8 Q433.844 168.967 435.024 165.865 L435.788 163.921 L425.302 138.412 L429.816 138.412 L437.918 158.689 L446.019 138.412 L450.533 138.412 L439.144 166.745 Z\" fill=\"#000000\" fill-rule=\"nonzero\" fill-opacity=\"1\" /><path clip-path=\"url(#clip110)\" d=\"M457.825 160.402 L465.464 160.402 L465.464 134.037 L457.154 135.703 L457.154 131.444 L465.417 129.778 L470.093 129.778 L470.093 160.402 L477.732 160.402 L477.732 164.338 L457.825 164.338 L457.825 160.402 Z\" fill=\"#000000\" fill-rule=\"nonzero\" fill-opacity=\"1\" /></svg>\n"
      ],
      "text/html": [
       "<?xml version=\"1.0\" encoding=\"utf-8\"?>\n",
       "<svg xmlns=\"http://www.w3.org/2000/svg\" xmlns:xlink=\"http://www.w3.org/1999/xlink\" width=\"600\" height=\"400\" viewBox=\"0 0 2400 1600\">\n",
       "<defs>\n",
       "  <clipPath id=\"clip160\">\n",
       "    <rect x=\"0\" y=\"0\" width=\"2400\" height=\"1600\"/>\n",
       "  </clipPath>\n",
       "</defs>\n",
       "<path clip-path=\"url(#clip160)\" d=\"M0 1600 L2400 1600 L2400 0 L0 0  Z\" fill=\"#ffffff\" fill-rule=\"evenodd\" fill-opacity=\"1\"/>\n",
       "<defs>\n",
       "  <clipPath id=\"clip161\">\n",
       "    <rect x=\"480\" y=\"0\" width=\"1681\" height=\"1600\"/>\n",
       "  </clipPath>\n",
       "</defs>\n",
       "<path clip-path=\"url(#clip160)\" d=\"M156.922 1486.45 L2352.76 1486.45 L2352.76 47.2441 L156.922 47.2441  Z\" fill=\"#ffffff\" fill-rule=\"evenodd\" fill-opacity=\"1\"/>\n",
       "<defs>\n",
       "  <clipPath id=\"clip162\">\n",
       "    <rect x=\"156\" y=\"47\" width=\"2197\" height=\"1440\"/>\n",
       "  </clipPath>\n",
       "</defs>\n",
       "<polyline clip-path=\"url(#clip162)\" style=\"stroke:#000000; stroke-linecap:round; stroke-linejoin:round; stroke-width:2; stroke-opacity:0.1; fill:none\" points=\"219.069,1486.45 219.069,47.2441 \"/>\n",
       "<polyline clip-path=\"url(#clip162)\" style=\"stroke:#000000; stroke-linecap:round; stroke-linejoin:round; stroke-width:2; stroke-opacity:0.1; fill:none\" points=\"909.582,1486.45 909.582,47.2441 \"/>\n",
       "<polyline clip-path=\"url(#clip162)\" style=\"stroke:#000000; stroke-linecap:round; stroke-linejoin:round; stroke-width:2; stroke-opacity:0.1; fill:none\" points=\"1600.1,1486.45 1600.1,47.2441 \"/>\n",
       "<polyline clip-path=\"url(#clip162)\" style=\"stroke:#000000; stroke-linecap:round; stroke-linejoin:round; stroke-width:2; stroke-opacity:0.1; fill:none\" points=\"2290.61,1486.45 2290.61,47.2441 \"/>\n",
       "<polyline clip-path=\"url(#clip160)\" style=\"stroke:#000000; stroke-linecap:round; stroke-linejoin:round; stroke-width:4; stroke-opacity:1; fill:none\" points=\"156.922,1486.45 2352.76,1486.45 \"/>\n",
       "<polyline clip-path=\"url(#clip160)\" style=\"stroke:#000000; stroke-linecap:round; stroke-linejoin:round; stroke-width:4; stroke-opacity:1; fill:none\" points=\"219.069,1486.45 219.069,1467.55 \"/>\n",
       "<polyline clip-path=\"url(#clip160)\" style=\"stroke:#000000; stroke-linecap:round; stroke-linejoin:round; stroke-width:4; stroke-opacity:1; fill:none\" points=\"909.582,1486.45 909.582,1467.55 \"/>\n",
       "<polyline clip-path=\"url(#clip160)\" style=\"stroke:#000000; stroke-linecap:round; stroke-linejoin:round; stroke-width:4; stroke-opacity:1; fill:none\" points=\"1600.1,1486.45 1600.1,1467.55 \"/>\n",
       "<polyline clip-path=\"url(#clip160)\" style=\"stroke:#000000; stroke-linecap:round; stroke-linejoin:round; stroke-width:4; stroke-opacity:1; fill:none\" points=\"2290.61,1486.45 2290.61,1467.55 \"/>\n",
       "<path clip-path=\"url(#clip160)\" d=\"M209.451 1544.91 L217.089 1544.91 L217.089 1518.55 L208.779 1520.21 L208.779 1515.95 L217.043 1514.29 L221.719 1514.29 L221.719 1544.91 L229.358 1544.91 L229.358 1548.85 L209.451 1548.85 L209.451 1544.91 Z\" fill=\"#000000\" fill-rule=\"nonzero\" fill-opacity=\"1\" /><path clip-path=\"url(#clip160)\" d=\"M904.235 1544.91 L920.554 1544.91 L920.554 1548.85 L898.61 1548.85 L898.61 1544.91 Q901.272 1542.16 905.855 1537.53 Q910.462 1532.88 911.642 1531.53 Q913.888 1529.01 914.767 1527.27 Q915.67 1525.51 915.67 1523.82 Q915.67 1521.07 913.726 1519.33 Q911.804 1517.6 908.703 1517.6 Q906.504 1517.6 904.05 1518.36 Q901.619 1519.13 898.842 1520.68 L898.842 1515.95 Q901.666 1514.82 904.119 1514.24 Q906.573 1513.66 908.61 1513.66 Q913.98 1513.66 917.175 1516.35 Q920.369 1519.03 920.369 1523.52 Q920.369 1525.65 919.559 1527.57 Q918.772 1529.47 916.666 1532.07 Q916.087 1532.74 912.985 1535.95 Q909.883 1539.15 904.235 1544.91 Z\" fill=\"#000000\" fill-rule=\"nonzero\" fill-opacity=\"1\" /><path clip-path=\"url(#clip160)\" d=\"M1604.34 1530.21 Q1607.7 1530.93 1609.58 1533.2 Q1611.47 1535.47 1611.47 1538.8 Q1611.47 1543.92 1607.95 1546.72 Q1604.44 1549.52 1597.95 1549.52 Q1595.78 1549.52 1593.46 1549.08 Q1591.17 1548.66 1588.72 1547.81 L1588.72 1543.29 Q1590.66 1544.43 1592.98 1545.01 Q1595.29 1545.58 1597.82 1545.58 Q1602.21 1545.58 1604.51 1543.85 Q1606.82 1542.11 1606.82 1538.8 Q1606.82 1535.75 1604.67 1534.03 Q1602.54 1532.3 1598.72 1532.3 L1594.69 1532.3 L1594.69 1528.45 L1598.9 1528.45 Q1602.35 1528.45 1604.18 1527.09 Q1606.01 1525.7 1606.01 1523.11 Q1606.01 1520.45 1604.11 1519.03 Q1602.24 1517.6 1598.72 1517.6 Q1596.8 1517.6 1594.6 1518.01 Q1592.4 1518.43 1589.76 1519.31 L1589.76 1515.14 Q1592.42 1514.4 1594.74 1514.03 Q1597.08 1513.66 1599.14 1513.66 Q1604.46 1513.66 1607.56 1516.09 Q1610.66 1518.5 1610.66 1522.62 Q1610.66 1525.49 1609.02 1527.48 Q1607.38 1529.45 1604.34 1530.21 Z\" fill=\"#000000\" fill-rule=\"nonzero\" fill-opacity=\"1\" /><path clip-path=\"url(#clip160)\" d=\"M2293.62 1518.36 L2281.81 1536.81 L2293.62 1536.81 L2293.62 1518.36 M2292.39 1514.29 L2298.27 1514.29 L2298.27 1536.81 L2303.2 1536.81 L2303.2 1540.7 L2298.27 1540.7 L2298.27 1548.85 L2293.62 1548.85 L2293.62 1540.7 L2278.02 1540.7 L2278.02 1536.19 L2292.39 1514.29 Z\" fill=\"#000000\" fill-rule=\"nonzero\" fill-opacity=\"1\" /><polyline clip-path=\"url(#clip162)\" style=\"stroke:#000000; stroke-linecap:round; stroke-linejoin:round; stroke-width:2; stroke-opacity:0.1; fill:none\" points=\"156.922,1309.94 2352.76,1309.94 \"/>\n",
       "<polyline clip-path=\"url(#clip162)\" style=\"stroke:#000000; stroke-linecap:round; stroke-linejoin:round; stroke-width:2; stroke-opacity:0.1; fill:none\" points=\"156.922,1083.65 2352.76,1083.65 \"/>\n",
       "<polyline clip-path=\"url(#clip162)\" style=\"stroke:#000000; stroke-linecap:round; stroke-linejoin:round; stroke-width:2; stroke-opacity:0.1; fill:none\" points=\"156.922,857.362 2352.76,857.362 \"/>\n",
       "<polyline clip-path=\"url(#clip162)\" style=\"stroke:#000000; stroke-linecap:round; stroke-linejoin:round; stroke-width:2; stroke-opacity:0.1; fill:none\" points=\"156.922,631.072 2352.76,631.072 \"/>\n",
       "<polyline clip-path=\"url(#clip162)\" style=\"stroke:#000000; stroke-linecap:round; stroke-linejoin:round; stroke-width:2; stroke-opacity:0.1; fill:none\" points=\"156.922,404.782 2352.76,404.782 \"/>\n",
       "<polyline clip-path=\"url(#clip162)\" style=\"stroke:#000000; stroke-linecap:round; stroke-linejoin:round; stroke-width:2; stroke-opacity:0.1; fill:none\" points=\"156.922,178.492 2352.76,178.492 \"/>\n",
       "<polyline clip-path=\"url(#clip160)\" style=\"stroke:#000000; stroke-linecap:round; stroke-linejoin:round; stroke-width:4; stroke-opacity:1; fill:none\" points=\"156.922,1486.45 156.922,47.2441 \"/>\n",
       "<polyline clip-path=\"url(#clip160)\" style=\"stroke:#000000; stroke-linecap:round; stroke-linejoin:round; stroke-width:4; stroke-opacity:1; fill:none\" points=\"156.922,1309.94 175.82,1309.94 \"/>\n",
       "<polyline clip-path=\"url(#clip160)\" style=\"stroke:#000000; stroke-linecap:round; stroke-linejoin:round; stroke-width:4; stroke-opacity:1; fill:none\" points=\"156.922,1083.65 175.82,1083.65 \"/>\n",
       "<polyline clip-path=\"url(#clip160)\" style=\"stroke:#000000; stroke-linecap:round; stroke-linejoin:round; stroke-width:4; stroke-opacity:1; fill:none\" points=\"156.922,857.362 175.82,857.362 \"/>\n",
       "<polyline clip-path=\"url(#clip160)\" style=\"stroke:#000000; stroke-linecap:round; stroke-linejoin:round; stroke-width:4; stroke-opacity:1; fill:none\" points=\"156.922,631.072 175.82,631.072 \"/>\n",
       "<polyline clip-path=\"url(#clip160)\" style=\"stroke:#000000; stroke-linecap:round; stroke-linejoin:round; stroke-width:4; stroke-opacity:1; fill:none\" points=\"156.922,404.782 175.82,404.782 \"/>\n",
       "<polyline clip-path=\"url(#clip160)\" style=\"stroke:#000000; stroke-linecap:round; stroke-linejoin:round; stroke-width:4; stroke-opacity:1; fill:none\" points=\"156.922,178.492 175.82,178.492 \"/>\n",
       "<path clip-path=\"url(#clip160)\" d=\"M55.5523 1323.29 L63.1911 1323.29 L63.1911 1296.92 L54.881 1298.59 L54.881 1294.33 L63.1448 1292.66 L67.8207 1292.66 L67.8207 1323.29 L75.4596 1323.29 L75.4596 1327.22 L55.5523 1327.22 L55.5523 1323.29 Z\" fill=\"#000000\" fill-rule=\"nonzero\" fill-opacity=\"1\" /><path clip-path=\"url(#clip160)\" d=\"M84.904 1321.34 L89.7882 1321.34 L89.7882 1327.22 L84.904 1327.22 L84.904 1321.34 Z\" fill=\"#000000\" fill-rule=\"nonzero\" fill-opacity=\"1\" /><path clip-path=\"url(#clip160)\" d=\"M100.02 1292.66 L118.376 1292.66 L118.376 1296.6 L104.302 1296.6 L104.302 1305.07 Q105.321 1304.72 106.339 1304.56 Q107.358 1304.37 108.376 1304.37 Q114.163 1304.37 117.543 1307.55 Q120.922 1310.72 120.922 1316.13 Q120.922 1321.71 117.45 1324.81 Q113.978 1327.89 107.658 1327.89 Q105.483 1327.89 103.214 1327.52 Q100.969 1327.15 98.5613 1326.41 L98.5613 1321.71 Q100.645 1322.85 102.867 1323.4 Q105.089 1323.96 107.566 1323.96 Q111.571 1323.96 113.908 1321.85 Q116.246 1319.74 116.246 1316.13 Q116.246 1312.52 113.908 1310.42 Q111.571 1308.31 107.566 1308.31 Q105.691 1308.31 103.816 1308.73 Q101.964 1309.14 100.02 1310.02 L100.02 1292.66 Z\" fill=\"#000000\" fill-rule=\"nonzero\" fill-opacity=\"1\" /><path clip-path=\"url(#clip160)\" d=\"M57.7745 1097 L74.0939 1097 L74.0939 1100.93 L52.1495 1100.93 L52.1495 1097 Q54.8115 1094.24 59.3949 1089.61 Q64.0013 1084.96 65.1819 1083.62 Q67.4272 1081.09 68.3068 1079.36 Q69.2096 1077.6 69.2096 1075.91 Q69.2096 1073.15 67.2652 1071.42 Q65.3439 1069.68 62.2421 1069.68 Q60.043 1069.68 57.5893 1070.45 Q55.1588 1071.21 52.381 1072.76 L52.381 1068.04 Q55.2051 1066.9 57.6588 1066.33 Q60.1124 1065.75 62.1495 1065.75 Q67.5198 1065.75 70.7142 1068.43 Q73.9087 1071.12 73.9087 1075.61 Q73.9087 1077.74 73.0985 1079.66 Q72.3115 1081.56 70.205 1084.15 Q69.6263 1084.82 66.5245 1088.04 Q63.4226 1091.23 57.7745 1097 Z\" fill=\"#000000\" fill-rule=\"nonzero\" fill-opacity=\"1\" /><path clip-path=\"url(#clip160)\" d=\"M83.9086 1095.05 L88.7928 1095.05 L88.7928 1100.93 L83.9086 1100.93 L83.9086 1095.05 Z\" fill=\"#000000\" fill-rule=\"nonzero\" fill-opacity=\"1\" /><path clip-path=\"url(#clip160)\" d=\"M108.978 1069.45 Q105.367 1069.45 103.538 1073.02 Q101.733 1076.56 101.733 1083.69 Q101.733 1090.79 103.538 1094.36 Q105.367 1097.9 108.978 1097.9 Q112.612 1097.9 114.418 1094.36 Q116.246 1090.79 116.246 1083.69 Q116.246 1076.56 114.418 1073.02 Q112.612 1069.45 108.978 1069.45 M108.978 1065.75 Q114.788 1065.75 117.844 1070.35 Q120.922 1074.94 120.922 1083.69 Q120.922 1092.41 117.844 1097.02 Q114.788 1101.6 108.978 1101.6 Q103.168 1101.6 100.089 1097.02 Q97.0335 1092.41 97.0335 1083.69 Q97.0335 1074.94 100.089 1070.35 Q103.168 1065.75 108.978 1065.75 Z\" fill=\"#000000\" fill-rule=\"nonzero\" fill-opacity=\"1\" /><path clip-path=\"url(#clip160)\" d=\"M58.7699 870.707 L75.0892 870.707 L75.0892 874.642 L53.1449 874.642 L53.1449 870.707 Q55.8069 867.952 60.3902 863.323 Q64.9967 858.67 66.1772 857.327 Q68.4226 854.804 69.3022 853.068 Q70.205 851.309 70.205 849.619 Q70.205 846.864 68.2606 845.128 Q66.3393 843.392 63.2374 843.392 Q61.0384 843.392 58.5847 844.156 Q56.1541 844.92 53.3764 846.471 L53.3764 841.749 Q56.2004 840.614 58.6541 840.036 Q61.1078 839.457 63.1448 839.457 Q68.5152 839.457 71.7096 842.142 Q74.904 844.827 74.904 849.318 Q74.904 851.448 74.0939 853.369 Q73.3068 855.267 71.2004 857.86 Q70.6217 858.531 67.5198 861.748 Q64.418 864.943 58.7699 870.707 Z\" fill=\"#000000\" fill-rule=\"nonzero\" fill-opacity=\"1\" /><path clip-path=\"url(#clip160)\" d=\"M84.904 868.762 L89.7882 868.762 L89.7882 874.642 L84.904 874.642 L84.904 868.762 Z\" fill=\"#000000\" fill-rule=\"nonzero\" fill-opacity=\"1\" /><path clip-path=\"url(#clip160)\" d=\"M100.02 840.082 L118.376 840.082 L118.376 844.017 L104.302 844.017 L104.302 852.489 Q105.321 852.142 106.339 851.98 Q107.358 851.795 108.376 851.795 Q114.163 851.795 117.543 854.966 Q120.922 858.137 120.922 863.554 Q120.922 869.133 117.45 872.235 Q113.978 875.313 107.658 875.313 Q105.483 875.313 103.214 874.943 Q100.969 874.573 98.5613 873.832 L98.5613 869.133 Q100.645 870.267 102.867 870.823 Q105.089 871.378 107.566 871.378 Q111.571 871.378 113.908 869.272 Q116.246 867.165 116.246 863.554 Q116.246 859.943 113.908 857.836 Q111.571 855.73 107.566 855.73 Q105.691 855.73 103.816 856.147 Q101.964 856.563 100.02 857.443 L100.02 840.082 Z\" fill=\"#000000\" fill-rule=\"nonzero\" fill-opacity=\"1\" /><path clip-path=\"url(#clip160)\" d=\"M67.9133 629.718 Q71.2698 630.435 73.1448 632.704 Q75.0429 634.972 75.0429 638.306 Q75.0429 643.422 71.5244 646.222 Q68.0059 649.023 61.5245 649.023 Q59.3486 649.023 57.0338 648.584 Q54.7421 648.167 52.2884 647.31 L52.2884 642.797 Q54.2328 643.931 56.5477 644.509 Q58.8625 645.088 61.3856 645.088 Q65.7837 645.088 68.0754 643.352 Q70.3902 641.616 70.3902 638.306 Q70.3902 635.25 68.2374 633.537 Q66.1078 631.801 62.2884 631.801 L58.2606 631.801 L58.2606 627.959 L62.4735 627.959 Q65.9226 627.959 67.7513 626.593 Q69.58 625.204 69.58 622.611 Q69.58 619.949 67.6819 618.537 Q65.8069 617.102 62.2884 617.102 Q60.3671 617.102 58.168 617.519 Q55.969 617.936 53.3301 618.815 L53.3301 614.649 Q55.9921 613.908 58.3069 613.537 Q60.6449 613.167 62.705 613.167 Q68.0291 613.167 71.1309 615.598 Q74.2327 618.005 74.2327 622.125 Q74.2327 624.996 72.5892 626.986 Q70.9457 628.954 67.9133 629.718 Z\" fill=\"#000000\" fill-rule=\"nonzero\" fill-opacity=\"1\" /><path clip-path=\"url(#clip160)\" d=\"M83.9086 642.472 L88.7928 642.472 L88.7928 648.352 L83.9086 648.352 L83.9086 642.472 Z\" fill=\"#000000\" fill-rule=\"nonzero\" fill-opacity=\"1\" /><path clip-path=\"url(#clip160)\" d=\"M108.978 616.871 Q105.367 616.871 103.538 620.436 Q101.733 623.977 101.733 631.107 Q101.733 638.213 103.538 641.778 Q105.367 645.32 108.978 645.32 Q112.612 645.32 114.418 641.778 Q116.246 638.213 116.246 631.107 Q116.246 623.977 114.418 620.436 Q112.612 616.871 108.978 616.871 M108.978 613.167 Q114.788 613.167 117.844 617.774 Q120.922 622.357 120.922 631.107 Q120.922 639.834 117.844 644.44 Q114.788 649.023 108.978 649.023 Q103.168 649.023 100.089 644.44 Q97.0335 639.834 97.0335 631.107 Q97.0335 622.357 100.089 617.774 Q103.168 613.167 108.978 613.167 Z\" fill=\"#000000\" fill-rule=\"nonzero\" fill-opacity=\"1\" /><path clip-path=\"url(#clip160)\" d=\"M68.9087 403.428 Q72.2652 404.146 74.1402 406.414 Q76.0383 408.683 76.0383 412.016 Q76.0383 417.132 72.5198 419.933 Q69.0013 422.733 62.5198 422.733 Q60.3439 422.733 58.0291 422.294 Q55.7375 421.877 53.2838 421.02 L53.2838 416.507 Q55.2282 417.641 57.543 418.22 Q59.8578 418.798 62.381 418.798 Q66.7791 418.798 69.0707 417.062 Q71.3855 415.326 71.3855 412.016 Q71.3855 408.96 69.2328 407.247 Q67.1032 405.511 63.2837 405.511 L59.256 405.511 L59.256 401.669 L63.4689 401.669 Q66.918 401.669 68.7467 400.303 Q70.5754 398.914 70.5754 396.322 Q70.5754 393.66 68.6772 392.247 Q66.8022 390.812 63.2837 390.812 Q61.3624 390.812 59.1634 391.229 Q56.9643 391.646 54.3254 392.525 L54.3254 388.359 Q56.9875 387.618 59.3023 387.248 Q61.6402 386.877 63.7004 386.877 Q69.0244 386.877 72.1263 389.308 Q75.2281 391.715 75.2281 395.835 Q75.2281 398.706 73.5846 400.697 Q71.9411 402.664 68.9087 403.428 Z\" fill=\"#000000\" fill-rule=\"nonzero\" fill-opacity=\"1\" /><path clip-path=\"url(#clip160)\" d=\"M84.904 416.183 L89.7882 416.183 L89.7882 422.062 L84.904 422.062 L84.904 416.183 Z\" fill=\"#000000\" fill-rule=\"nonzero\" fill-opacity=\"1\" /><path clip-path=\"url(#clip160)\" d=\"M100.02 387.502 L118.376 387.502 L118.376 391.437 L104.302 391.437 L104.302 399.909 Q105.321 399.562 106.339 399.4 Q107.358 399.215 108.376 399.215 Q114.163 399.215 117.543 402.386 Q120.922 405.558 120.922 410.974 Q120.922 416.553 117.45 419.655 Q113.978 422.733 107.658 422.733 Q105.483 422.733 103.214 422.363 Q100.969 421.993 98.5613 421.252 L98.5613 416.553 Q100.645 417.687 102.867 418.243 Q105.089 418.798 107.566 418.798 Q111.571 418.798 113.908 416.692 Q116.246 414.585 116.246 410.974 Q116.246 407.363 113.908 405.257 Q111.571 403.15 107.566 403.15 Q105.691 403.15 103.816 403.567 Q101.964 403.984 100.02 404.863 L100.02 387.502 Z\" fill=\"#000000\" fill-rule=\"nonzero\" fill-opacity=\"1\" /><path clip-path=\"url(#clip160)\" d=\"M66.5939 165.286 L54.7884 183.735 L66.5939 183.735 L66.5939 165.286 M65.367 161.212 L71.2466 161.212 L71.2466 183.735 L76.1772 183.735 L76.1772 187.624 L71.2466 187.624 L71.2466 195.772 L66.5939 195.772 L66.5939 187.624 L50.9921 187.624 L50.9921 183.11 L65.367 161.212 Z\" fill=\"#000000\" fill-rule=\"nonzero\" fill-opacity=\"1\" /><path clip-path=\"url(#clip160)\" d=\"M83.9086 189.893 L88.7928 189.893 L88.7928 195.772 L83.9086 195.772 L83.9086 189.893 Z\" fill=\"#000000\" fill-rule=\"nonzero\" fill-opacity=\"1\" /><path clip-path=\"url(#clip160)\" d=\"M108.978 164.291 Q105.367 164.291 103.538 167.856 Q101.733 171.397 101.733 178.527 Q101.733 185.633 103.538 189.198 Q105.367 192.74 108.978 192.74 Q112.612 192.74 114.418 189.198 Q116.246 185.633 116.246 178.527 Q116.246 171.397 114.418 167.856 Q112.612 164.291 108.978 164.291 M108.978 160.587 Q114.788 160.587 117.844 165.194 Q120.922 169.777 120.922 178.527 Q120.922 187.254 117.844 191.86 Q114.788 196.444 108.978 196.444 Q103.168 196.444 100.089 191.86 Q97.0335 187.254 97.0335 178.527 Q97.0335 169.777 100.089 165.194 Q103.168 160.587 108.978 160.587 Z\" fill=\"#000000\" fill-rule=\"nonzero\" fill-opacity=\"1\" /><circle clip-path=\"url(#clip162)\" cx=\"909.582\" cy=\"1174.17\" r=\"14.4\" fill=\"#009af9\" fill-rule=\"evenodd\" fill-opacity=\"1\" stroke=\"#000000\" stroke-opacity=\"1\" stroke-width=\"3.2\"/>\n",
       "<circle clip-path=\"url(#clip162)\" cx=\"219.069\" cy=\"1445.72\" r=\"14.4\" fill=\"#009af9\" fill-rule=\"evenodd\" fill-opacity=\"1\" stroke=\"#000000\" stroke-opacity=\"1\" stroke-width=\"3.2\"/>\n",
       "<circle clip-path=\"url(#clip162)\" cx=\"2290.61\" cy=\"87.9763\" r=\"14.4\" fill=\"#009af9\" fill-rule=\"evenodd\" fill-opacity=\"1\" stroke=\"#000000\" stroke-opacity=\"1\" stroke-width=\"3.2\"/>\n",
       "<circle clip-path=\"url(#clip162)\" cx=\"1600.1\" cy=\"495.298\" r=\"14.4\" fill=\"#009af9\" fill-rule=\"evenodd\" fill-opacity=\"1\" stroke=\"#000000\" stroke-opacity=\"1\" stroke-width=\"3.2\"/>\n",
       "<path clip-path=\"url(#clip160)\" d=\"M230.117 198.898 L502.13 198.898 L502.13 95.2176 L230.117 95.2176  Z\" fill=\"#ffffff\" fill-rule=\"evenodd\" fill-opacity=\"1\"/>\n",
       "<polyline clip-path=\"url(#clip160)\" style=\"stroke:#000000; stroke-linecap:round; stroke-linejoin:round; stroke-width:4; stroke-opacity:1; fill:none\" points=\"230.117,198.898 502.13,198.898 502.13,95.2176 230.117,95.2176 230.117,198.898 \"/>\n",
       "<circle clip-path=\"url(#clip160)\" cx=\"327.709\" cy=\"147.058\" r=\"20.48\" fill=\"#009af9\" fill-rule=\"evenodd\" fill-opacity=\"1\" stroke=\"#000000\" stroke-opacity=\"1\" stroke-width=\"4.55111\"/>\n",
       "<path clip-path=\"url(#clip160)\" d=\"M439.144 166.745 Q437.339 171.375 435.626 172.787 Q433.913 174.199 431.043 174.199 L427.64 174.199 L427.64 170.634 L430.14 170.634 Q431.899 170.634 432.871 169.8 Q433.844 168.967 435.024 165.865 L435.788 163.921 L425.302 138.412 L429.816 138.412 L437.918 158.689 L446.019 138.412 L450.533 138.412 L439.144 166.745 Z\" fill=\"#000000\" fill-rule=\"nonzero\" fill-opacity=\"1\" /><path clip-path=\"url(#clip160)\" d=\"M457.825 160.402 L465.464 160.402 L465.464 134.037 L457.154 135.703 L457.154 131.444 L465.417 129.778 L470.093 129.778 L470.093 160.402 L477.732 160.402 L477.732 164.338 L457.825 164.338 L457.825 160.402 Z\" fill=\"#000000\" fill-rule=\"nonzero\" fill-opacity=\"1\" /></svg>\n"
      ]
     },
     "metadata": {},
     "output_type": "display_data"
    }
   ],
   "source": [
    "line_xs = tensor([2.0, 1.0, 4.0, 3.0])\n",
    "line_ys = tensor([1.8, 1.2, 4.2, 3.3])\n",
    "\n",
    "plot(line_xs.elements, line_ys.elements, seriestype=:scatter)"
   ]
  },
  {
   "cell_type": "code",
   "execution_count": 3,
   "metadata": {},
   "outputs": [
    {
     "data": {
      "text/plain": [
       "line (generic function with 1 method)"
      ]
     },
     "metadata": {},
     "output_type": "display_data"
    }
   ],
   "source": [
    "\n",
    "# frame 26:25\n",
    "\n",
    "line(x) = (θ) -> ref(θ, 0) * x + ref(θ, 1)"
   ]
  },
  {
   "cell_type": "code",
   "execution_count": 4,
   "metadata": {},
   "outputs": [
    {
     "data": {
      "text/plain": [
       "7"
      ]
     },
     "metadata": {},
     "output_type": "display_data"
    }
   ],
   "source": [
    "line(5)(list(1,2))"
   ]
  },
  {
   "cell_type": "markdown",
   "metadata": {},
   "source": [
    "# 2 - The More We Learn, the Tenser We Become"
   ]
  },
  {
   "cell_type": "code",
   "execution_count": 5,
   "metadata": {},
   "outputs": [],
   "source": [
    "@assert is_scalar(9)\n",
    "@assert is_scalar(3.1415)\n",
    "@assert !is_scalar(tensor([1]))\n",
    "@assert tlen(tensor([17, 12, 91, 67])) == 4\n",
    "@assert tlen(tensor([[3, 2, 8], [7, 1, 9]])) == 2"
   ]
  },
  {
   "cell_type": "code",
   "execution_count": 6,
   "metadata": {},
   "outputs": [
    {
     "data": {
      "text/plain": [
       "shape (generic function with 1 method)"
      ]
     },
     "metadata": {},
     "output_type": "display_data"
    }
   ],
   "source": [
    "\n",
    "# frame 39:37\n",
    "\n",
    "function shape(t)\n",
    "    result = list()\n",
    "    while !is_scalar(t)\n",
    "        # the iterative implementation requires us to append to the list,\n",
    "        # in contrast to the book's recursive implementation that prepends.\n",
    "        result = snoc(result, tlen(t))\n",
    "        t = tref(t, 0)\n",
    "    end\n",
    "    result\n",
    "end"
   ]
  },
  {
   "cell_type": "code",
   "execution_count": 7,
   "metadata": {},
   "outputs": [],
   "source": [
    "@assert shape(9) == list()\n",
    "@assert shape(tensor([9, 4, 7, 8, 0, 1])) == list(6)\n",
    "@assert shape(tensor([[[5], [6], [8]], [[7], [9], [5]]])) == list(2, 3, 1)"
   ]
  },
  {
   "cell_type": "code",
   "execution_count": 8,
   "metadata": {},
   "outputs": [
    {
     "data": {
      "text/plain": [
       "rank (generic function with 1 method)"
      ]
     },
     "metadata": {},
     "output_type": "display_data"
    }
   ],
   "source": [
    "\n",
    "# frame 42:44\n",
    "\n",
    "function rank(t)\n",
    "    result = 0\n",
    "    while !is_scalar(t)\n",
    "        # this is mostly equivalent to the books accumulator passing style;\n",
    "        # we just mutate the accumulator in place.\n",
    "        result += 1\n",
    "        t = tref(t, 0)\n",
    "    end\n",
    "    result\n",
    "end"
   ]
  },
  {
   "cell_type": "code",
   "execution_count": 9,
   "metadata": {},
   "outputs": [],
   "source": [
    "@assert rank(9) == 0\n",
    "@assert rank(tensor([9, 4, 7, 8, 0, 1])) == 1\n",
    "@assert rank(tensor([[[5], [6], [8]], [[7], [9], [5]]])) == 3"
   ]
  },
  {
   "cell_type": "markdown",
   "metadata": {},
   "source": [
    "# Interlude I - The More We Extend, the Less Tensor We Get"
   ]
  },
  {
   "cell_type": "code",
   "execution_count": 10,
   "metadata": {},
   "outputs": [],
   "source": [
    "@assert tensor([5, 6, 7]) + tensor([2, 0, 1]) == tensor([7, 6, 8])\n",
    "@assert 4 + tensor([3, 6, 5]) == tensor([7, 10, 9])\n",
    "@assert tensor([6, 9, 1]) + tensor([[4, 3, 8], [7, 4, 7]]) == tensor([[10, 12, 9], [13, 13, 8]])\n",
    "@assert tensor([[4, 6, 5], [6, 9, 7]]) * 3 == tensor([[12, 18, 15], [18, 27, 21]])\n",
    "\n",
    "@assert sqrt(tensor([9, 16, 25])) == tensor([3, 4, 5])\n",
    "@assert sqrt(tensor([[49, 81, 16], [64, 25, 36]])) == tensor([[7, 9, 4], [8, 5, 6]])"
   ]
  },
  {
   "cell_type": "code",
   "execution_count": 11,
   "metadata": {},
   "outputs": [
    {
     "data": {
      "text/plain": [
       "(::Main.Schemish.var\"#extended#4\"{typeof(sum_1), Int64}) (generic function with 1 method)"
      ]
     },
     "metadata": {},
     "output_type": "display_data"
    }
   ],
   "source": [
    "\n",
    "# frame 53:24\n",
    "\n",
    "function sum_1(t)\n",
    "    result = 0\n",
    "    for i in 0:tlen(t)-1\n",
    "       result = result + tref(t, i)\n",
    "    end\n",
    "    result\n",
    "end\n",
    "\n",
    "sum = ext1(sum_1, 1)"
   ]
  },
  {
   "cell_type": "code",
   "execution_count": 12,
   "metadata": {},
   "outputs": [],
   "source": [
    "@assert sum_1(tensor([10.0, 12.0, 14.0])) == 36.0\n",
    "@assert sum(tensor([[[1, 2], [3, 4]], [[5, 6], [7, 8]]])) == tensor([[3, 7], [11, 15]])"
   ]
  },
  {
   "cell_type": "code",
   "execution_count": 13,
   "metadata": {},
   "outputs": [
    {
     "data": {
      "text/plain": [
       "[14 34 26 50]"
      ]
     },
     "metadata": {},
     "output_type": "display_data"
    }
   ],
   "source": [
    "line(tensor([2,7,5,11]))(list(4, 6))"
   ]
  },
  {
   "cell_type": "markdown",
   "metadata": {},
   "source": [
    "# 3 - Running Down a Slippery Slope"
   ]
  },
  {
   "cell_type": "code",
   "execution_count": 14,
   "metadata": {},
   "outputs": [
    {
     "data": {
      "text/plain": [
       "l2_loss (generic function with 1 method)"
      ]
     },
     "metadata": {},
     "output_type": "display_data"
    }
   ],
   "source": [
    "\n",
    "# frame 63:22\n",
    "\n",
    "l2_loss(target) = (xs, ys) -> (θ) -> sum(sqr(ys - target(xs)(θ)))"
   ]
  },
  {
   "cell_type": "code",
   "execution_count": 15,
   "metadata": {},
   "outputs": [
    {
     "data": {
      "text/plain": [
       "33.21"
      ]
     },
     "metadata": {},
     "output_type": "display_data"
    }
   ],
   "source": [
    "expectant = l2_loss(line)\n",
    "objective = expectant(line_xs, line_ys)\n",
    "loss_0 = objective(list(0.0, 0.0))"
   ]
  },
  {
   "cell_type": "code",
   "execution_count": 16,
   "metadata": {},
   "outputs": [
    {
     "data": {
      "text/plain": [
       "5.502108626999984"
      ]
     },
     "metadata": {},
     "output_type": "display_data"
    }
   ],
   "source": [
    "loss_0_ = objective(list(0.0099, 0.0))\n",
    "rate_of_change = (loss_0_ - loss_0) / 0.0099\n",
    "θ0_1 = 0.0 - rate_of_change * 0.01\n",
    "loss_1 = objective(list(θ0_1, 0.0))"
   ]
  },
  {
   "cell_type": "code",
   "execution_count": 17,
   "metadata": {},
   "outputs": [
    {
     "data": {
      "text/plain": [
       "-25.08119999999999"
      ]
     },
     "metadata": {},
     "output_type": "display_data"
    }
   ],
   "source": [
    "loss_1_ = objective(list(θ0_1+0.0099, 0.0))\n",
    "rate_of_change = (loss_1_ - loss_1) / 0.0099"
   ]
  },
  {
   "cell_type": "markdown",
   "metadata": {},
   "source": [
    "As we see, the rate of change depends on the current θ..."
   ]
  },
  {
   "cell_type": "markdown",
   "metadata": {},
   "source": [
    "# 4 - Slip-slidin' Away"
   ]
  },
  {
   "cell_type": "code",
   "execution_count": 18,
   "metadata": {},
   "outputs": [
    {
     "data": {
      "image/png": "[encoded data removed]",
      "image/svg+xml": [
       "<?xml version=\"1.0\" encoding=\"utf-8\"?>\n",
       "<svg xmlns=\"http://www.w3.org/2000/svg\" xmlns:xlink=\"http://www.w3.org/1999/xlink\" width=\"600\" height=\"400\" viewBox=\"0 0 2400 1600\">\n",
       "<defs>\n",
       "  <clipPath id=\"clip200\">\n",
       "    <rect x=\"0\" y=\"0\" width=\"2400\" height=\"1600\"/>\n",
       "  </clipPath>\n",
       "</defs>\n",
       "<path clip-path=\"url(#clip200)\" d=\"M0 1600 L2400 1600 L2400 0 L0 0  Z\" fill=\"#ffffff\" fill-rule=\"evenodd\" fill-opacity=\"1\"/>\n",
       "<defs>\n",
       "  <clipPath id=\"clip201\">\n",
       "    <rect x=\"480\" y=\"0\" width=\"1681\" height=\"1600\"/>\n",
       "  </clipPath>\n",
       "</defs>\n",
       "<path clip-path=\"url(#clip200)\" d=\"M170.857 1486.45 L2352.76 1486.45 L2352.76 47.2441 L170.857 47.2441  Z\" fill=\"#ffffff\" fill-rule=\"evenodd\" fill-opacity=\"1\"/>\n",
       "<defs>\n",
       "  <clipPath id=\"clip202\">\n",
       "    <rect x=\"170\" y=\"47\" width=\"2183\" height=\"1440\"/>\n",
       "  </clipPath>\n",
       "</defs>\n",
       "<polyline clip-path=\"url(#clip202)\" style=\"stroke:#000000; stroke-linecap:round; stroke-linejoin:round; stroke-width:2; stroke-opacity:0.1; fill:none\" points=\"232.609,1486.45 232.609,47.2441 \"/>\n",
       "<polyline clip-path=\"url(#clip202)\" style=\"stroke:#000000; stroke-linecap:round; stroke-linejoin:round; stroke-width:2; stroke-opacity:0.1; fill:none\" points=\"575.675,1486.45 575.675,47.2441 \"/>\n",
       "<polyline clip-path=\"url(#clip202)\" style=\"stroke:#000000; stroke-linecap:round; stroke-linejoin:round; stroke-width:2; stroke-opacity:0.1; fill:none\" points=\"918.741,1486.45 918.741,47.2441 \"/>\n",
       "<polyline clip-path=\"url(#clip202)\" style=\"stroke:#000000; stroke-linecap:round; stroke-linejoin:round; stroke-width:2; stroke-opacity:0.1; fill:none\" points=\"1261.81,1486.45 1261.81,47.2441 \"/>\n",
       "<polyline clip-path=\"url(#clip202)\" style=\"stroke:#000000; stroke-linecap:round; stroke-linejoin:round; stroke-width:2; stroke-opacity:0.1; fill:none\" points=\"1604.87,1486.45 1604.87,47.2441 \"/>\n",
       "<polyline clip-path=\"url(#clip202)\" style=\"stroke:#000000; stroke-linecap:round; stroke-linejoin:round; stroke-width:2; stroke-opacity:0.1; fill:none\" points=\"1947.94,1486.45 1947.94,47.2441 \"/>\n",
       "<polyline clip-path=\"url(#clip202)\" style=\"stroke:#000000; stroke-linecap:round; stroke-linejoin:round; stroke-width:2; stroke-opacity:0.1; fill:none\" points=\"2291,1486.45 2291,47.2441 \"/>\n",
       "<polyline clip-path=\"url(#clip200)\" style=\"stroke:#000000; stroke-linecap:round; stroke-linejoin:round; stroke-width:4; stroke-opacity:1; fill:none\" points=\"170.857,1486.45 2352.76,1486.45 \"/>\n",
       "<polyline clip-path=\"url(#clip200)\" style=\"stroke:#000000; stroke-linecap:round; stroke-linejoin:round; stroke-width:4; stroke-opacity:1; fill:none\" points=\"232.609,1486.45 232.609,1467.55 \"/>\n",
       "<polyline clip-path=\"url(#clip200)\" style=\"stroke:#000000; stroke-linecap:round; stroke-linejoin:round; stroke-width:4; stroke-opacity:1; fill:none\" points=\"575.675,1486.45 575.675,1467.55 \"/>\n",
       "<polyline clip-path=\"url(#clip200)\" style=\"stroke:#000000; stroke-linecap:round; stroke-linejoin:round; stroke-width:4; stroke-opacity:1; fill:none\" points=\"918.741,1486.45 918.741,1467.55 \"/>\n",
       "<polyline clip-path=\"url(#clip200)\" style=\"stroke:#000000; stroke-linecap:round; stroke-linejoin:round; stroke-width:4; stroke-opacity:1; fill:none\" points=\"1261.81,1486.45 1261.81,1467.55 \"/>\n",
       "<polyline clip-path=\"url(#clip200)\" style=\"stroke:#000000; stroke-linecap:round; stroke-linejoin:round; stroke-width:4; stroke-opacity:1; fill:none\" points=\"1604.87,1486.45 1604.87,1467.55 \"/>\n",
       "<polyline clip-path=\"url(#clip200)\" style=\"stroke:#000000; stroke-linecap:round; stroke-linejoin:round; stroke-width:4; stroke-opacity:1; fill:none\" points=\"1947.94,1486.45 1947.94,1467.55 \"/>\n",
       "<polyline clip-path=\"url(#clip200)\" style=\"stroke:#000000; stroke-linecap:round; stroke-linejoin:round; stroke-width:4; stroke-opacity:1; fill:none\" points=\"2291,1486.45 2291,1467.55 \"/>\n",
       "<path clip-path=\"url(#clip200)\" d=\"M202.552 1532.02 L232.227 1532.02 L232.227 1535.95 L202.552 1535.95 L202.552 1532.02 Z\" fill=\"#000000\" fill-rule=\"nonzero\" fill-opacity=\"1\" /><path clip-path=\"url(#clip200)\" d=\"M246.348 1544.91 L262.667 1544.91 L262.667 1548.85 L240.723 1548.85 L240.723 1544.91 Q243.385 1542.16 247.968 1537.53 Q252.574 1532.88 253.755 1531.53 Q256 1529.01 256.88 1527.27 Q257.783 1525.51 257.783 1523.82 Q257.783 1521.07 255.838 1519.33 Q253.917 1517.6 250.815 1517.6 Q248.616 1517.6 246.162 1518.36 Q243.732 1519.13 240.954 1520.68 L240.954 1515.95 Q243.778 1514.82 246.232 1514.24 Q248.686 1513.66 250.723 1513.66 Q256.093 1513.66 259.287 1516.35 Q262.482 1519.03 262.482 1523.52 Q262.482 1525.65 261.672 1527.57 Q260.885 1529.47 258.778 1532.07 Q258.199 1532.74 255.098 1535.95 Q251.996 1539.15 246.348 1544.91 Z\" fill=\"#000000\" fill-rule=\"nonzero\" fill-opacity=\"1\" /><path clip-path=\"url(#clip200)\" d=\"M545.432 1532.02 L575.108 1532.02 L575.108 1535.95 L545.432 1535.95 L545.432 1532.02 Z\" fill=\"#000000\" fill-rule=\"nonzero\" fill-opacity=\"1\" /><path clip-path=\"url(#clip200)\" d=\"M586.011 1544.91 L593.65 1544.91 L593.65 1518.55 L585.339 1520.21 L585.339 1515.95 L593.603 1514.29 L598.279 1514.29 L598.279 1544.91 L605.918 1544.91 L605.918 1548.85 L586.011 1548.85 L586.011 1544.91 Z\" fill=\"#000000\" fill-rule=\"nonzero\" fill-opacity=\"1\" /><path clip-path=\"url(#clip200)\" d=\"M918.741 1517.37 Q915.13 1517.37 913.301 1520.93 Q911.496 1524.47 911.496 1531.6 Q911.496 1538.71 913.301 1542.27 Q915.13 1545.82 918.741 1545.82 Q922.375 1545.82 924.181 1542.27 Q926.009 1538.71 926.009 1531.6 Q926.009 1524.47 924.181 1520.93 Q922.375 1517.37 918.741 1517.37 M918.741 1513.66 Q924.551 1513.66 927.607 1518.27 Q930.685 1522.85 930.685 1531.6 Q930.685 1540.33 927.607 1544.94 Q924.551 1549.52 918.741 1549.52 Q912.931 1549.52 909.852 1544.94 Q906.796 1540.33 906.796 1531.6 Q906.796 1522.85 909.852 1518.27 Q912.931 1513.66 918.741 1513.66 Z\" fill=\"#000000\" fill-rule=\"nonzero\" fill-opacity=\"1\" /><path clip-path=\"url(#clip200)\" d=\"M1252.19 1544.91 L1259.83 1544.91 L1259.83 1518.55 L1251.52 1520.21 L1251.52 1515.95 L1259.78 1514.29 L1264.46 1514.29 L1264.46 1544.91 L1272.1 1544.91 L1272.1 1548.85 L1252.19 1548.85 L1252.19 1544.91 Z\" fill=\"#000000\" fill-rule=\"nonzero\" fill-opacity=\"1\" /><path clip-path=\"url(#clip200)\" d=\"M1599.53 1544.91 L1615.84 1544.91 L1615.84 1548.85 L1593.9 1548.85 L1593.9 1544.91 Q1596.56 1542.16 1601.15 1537.53 Q1605.75 1532.88 1606.93 1531.53 Q1609.18 1529.01 1610.06 1527.27 Q1610.96 1525.51 1610.96 1523.82 Q1610.96 1521.07 1609.02 1519.33 Q1607.09 1517.6 1603.99 1517.6 Q1601.79 1517.6 1599.34 1518.36 Q1596.91 1519.13 1594.13 1520.68 L1594.13 1515.95 Q1596.96 1514.82 1599.41 1514.24 Q1601.86 1513.66 1603.9 1513.66 Q1609.27 1513.66 1612.47 1516.35 Q1615.66 1519.03 1615.66 1523.52 Q1615.66 1525.65 1614.85 1527.57 Q1614.06 1529.47 1611.96 1532.07 Q1611.38 1532.74 1608.28 1535.95 Q1605.17 1539.15 1599.53 1544.91 Z\" fill=\"#000000\" fill-rule=\"nonzero\" fill-opacity=\"1\" /><path clip-path=\"url(#clip200)\" d=\"M1952.19 1530.21 Q1955.54 1530.93 1957.42 1533.2 Q1959.32 1535.47 1959.32 1538.8 Q1959.32 1543.92 1955.8 1546.72 Q1952.28 1549.52 1945.8 1549.52 Q1943.62 1549.52 1941.31 1549.08 Q1939.01 1548.66 1936.56 1547.81 L1936.56 1543.29 Q1938.51 1544.43 1940.82 1545.01 Q1943.14 1545.58 1945.66 1545.58 Q1950.06 1545.58 1952.35 1543.85 Q1954.66 1542.11 1954.66 1538.8 Q1954.66 1535.75 1952.51 1534.03 Q1950.38 1532.3 1946.56 1532.3 L1942.53 1532.3 L1942.53 1528.45 L1946.75 1528.45 Q1950.2 1528.45 1952.02 1527.09 Q1953.85 1525.7 1953.85 1523.11 Q1953.85 1520.45 1951.95 1519.03 Q1950.08 1517.6 1946.56 1517.6 Q1944.64 1517.6 1942.44 1518.01 Q1940.24 1518.43 1937.6 1519.31 L1937.6 1515.14 Q1940.26 1514.4 1942.58 1514.03 Q1944.92 1513.66 1946.98 1513.66 Q1952.3 1513.66 1955.4 1516.09 Q1958.51 1518.5 1958.51 1522.62 Q1958.51 1525.49 1956.86 1527.48 Q1955.22 1529.45 1952.19 1530.21 Z\" fill=\"#000000\" fill-rule=\"nonzero\" fill-opacity=\"1\" /><path clip-path=\"url(#clip200)\" d=\"M2294.01 1518.36 L2282.21 1536.81 L2294.01 1536.81 L2294.01 1518.36 M2292.79 1514.29 L2298.67 1514.29 L2298.67 1536.81 L2303.6 1536.81 L2303.6 1540.7 L2298.67 1540.7 L2298.67 1548.85 L2294.01 1548.85 L2294.01 1540.7 L2278.41 1540.7 L2278.41 1536.19 L2292.79 1514.29 Z\" fill=\"#000000\" fill-rule=\"nonzero\" fill-opacity=\"1\" /><polyline clip-path=\"url(#clip202)\" style=\"stroke:#000000; stroke-linecap:round; stroke-linejoin:round; stroke-width:2; stroke-opacity:0.1; fill:none\" points=\"170.857,1446.74 2352.76,1446.74 \"/>\n",
       "<polyline clip-path=\"url(#clip202)\" style=\"stroke:#000000; stroke-linecap:round; stroke-linejoin:round; stroke-width:2; stroke-opacity:0.1; fill:none\" points=\"170.857,1203.42 2352.76,1203.42 \"/>\n",
       "<polyline clip-path=\"url(#clip202)\" style=\"stroke:#000000; stroke-linecap:round; stroke-linejoin:round; stroke-width:2; stroke-opacity:0.1; fill:none\" points=\"170.857,960.093 2352.76,960.093 \"/>\n",
       "<polyline clip-path=\"url(#clip202)\" style=\"stroke:#000000; stroke-linecap:round; stroke-linejoin:round; stroke-width:2; stroke-opacity:0.1; fill:none\" points=\"170.857,716.77 2352.76,716.77 \"/>\n",
       "<polyline clip-path=\"url(#clip202)\" style=\"stroke:#000000; stroke-linecap:round; stroke-linejoin:round; stroke-width:2; stroke-opacity:0.1; fill:none\" points=\"170.857,473.448 2352.76,473.448 \"/>\n",
       "<polyline clip-path=\"url(#clip202)\" style=\"stroke:#000000; stroke-linecap:round; stroke-linejoin:round; stroke-width:2; stroke-opacity:0.1; fill:none\" points=\"170.857,230.125 2352.76,230.125 \"/>\n",
       "<polyline clip-path=\"url(#clip200)\" style=\"stroke:#000000; stroke-linecap:round; stroke-linejoin:round; stroke-width:4; stroke-opacity:1; fill:none\" points=\"170.857,1486.45 170.857,47.2441 \"/>\n",
       "<polyline clip-path=\"url(#clip200)\" style=\"stroke:#000000; stroke-linecap:round; stroke-linejoin:round; stroke-width:4; stroke-opacity:1; fill:none\" points=\"170.857,1446.74 189.755,1446.74 \"/>\n",
       "<polyline clip-path=\"url(#clip200)\" style=\"stroke:#000000; stroke-linecap:round; stroke-linejoin:round; stroke-width:4; stroke-opacity:1; fill:none\" points=\"170.857,1203.42 189.755,1203.42 \"/>\n",
       "<polyline clip-path=\"url(#clip200)\" style=\"stroke:#000000; stroke-linecap:round; stroke-linejoin:round; stroke-width:4; stroke-opacity:1; fill:none\" points=\"170.857,960.093 189.755,960.093 \"/>\n",
       "<polyline clip-path=\"url(#clip200)\" style=\"stroke:#000000; stroke-linecap:round; stroke-linejoin:round; stroke-width:4; stroke-opacity:1; fill:none\" points=\"170.857,716.77 189.755,716.77 \"/>\n",
       "<polyline clip-path=\"url(#clip200)\" style=\"stroke:#000000; stroke-linecap:round; stroke-linejoin:round; stroke-width:4; stroke-opacity:1; fill:none\" points=\"170.857,473.448 189.755,473.448 \"/>\n",
       "<polyline clip-path=\"url(#clip200)\" style=\"stroke:#000000; stroke-linecap:round; stroke-linejoin:round; stroke-width:4; stroke-opacity:1; fill:none\" points=\"170.857,230.125 189.755,230.125 \"/>\n",
       "<path clip-path=\"url(#clip200)\" d=\"M122.913 1432.54 Q119.302 1432.54 117.473 1436.1 Q115.668 1439.64 115.668 1446.77 Q115.668 1453.88 117.473 1457.44 Q119.302 1460.99 122.913 1460.99 Q126.547 1460.99 128.353 1457.44 Q130.182 1453.88 130.182 1446.77 Q130.182 1439.64 128.353 1436.1 Q126.547 1432.54 122.913 1432.54 M122.913 1428.83 Q128.723 1428.83 131.779 1433.44 Q134.857 1438.02 134.857 1446.77 Q134.857 1455.5 131.779 1460.11 Q128.723 1464.69 122.913 1464.69 Q117.103 1464.69 114.024 1460.11 Q110.969 1455.5 110.969 1446.77 Q110.969 1438.02 114.024 1433.44 Q117.103 1428.83 122.913 1428.83 Z\" fill=\"#000000\" fill-rule=\"nonzero\" fill-opacity=\"1\" /><path clip-path=\"url(#clip200)\" d=\"M82.7975 1186.14 L101.154 1186.14 L101.154 1190.07 L87.0799 1190.07 L87.0799 1198.54 Q88.0984 1198.2 89.1169 1198.03 Q90.1354 1197.85 91.1539 1197.85 Q96.941 1197.85 100.321 1201.02 Q103.7 1204.19 103.7 1209.61 Q103.7 1215.19 100.228 1218.29 Q96.7558 1221.37 90.4364 1221.37 Q88.2604 1221.37 85.9919 1221 Q83.7466 1220.63 81.3392 1219.88 L81.3392 1215.19 Q83.4225 1216.32 85.6447 1216.88 Q87.8669 1217.43 90.3438 1217.43 Q94.3484 1217.43 96.6863 1215.32 Q99.0243 1213.22 99.0243 1209.61 Q99.0243 1206 96.6863 1203.89 Q94.3484 1201.78 90.3438 1201.78 Q88.4688 1201.78 86.5938 1202.2 Q84.7419 1202.62 82.7975 1203.5 L82.7975 1186.14 Z\" fill=\"#000000\" fill-rule=\"nonzero\" fill-opacity=\"1\" /><path clip-path=\"url(#clip200)\" d=\"M122.913 1189.21 Q119.302 1189.21 117.473 1192.78 Q115.668 1196.32 115.668 1203.45 Q115.668 1210.56 117.473 1214.12 Q119.302 1217.66 122.913 1217.66 Q126.547 1217.66 128.353 1214.12 Q130.182 1210.56 130.182 1203.45 Q130.182 1196.32 128.353 1192.78 Q126.547 1189.21 122.913 1189.21 M122.913 1185.51 Q128.723 1185.51 131.779 1190.12 Q134.857 1194.7 134.857 1203.45 Q134.857 1212.18 131.779 1216.78 Q128.723 1221.37 122.913 1221.37 Q117.103 1221.37 114.024 1216.78 Q110.969 1212.18 110.969 1203.45 Q110.969 1194.7 114.024 1190.12 Q117.103 1185.51 122.913 1185.51 Z\" fill=\"#000000\" fill-rule=\"nonzero\" fill-opacity=\"1\" /><path clip-path=\"url(#clip200)\" d=\"M53.3995 973.438 L61.0384 973.438 L61.0384 947.072 L52.7282 948.739 L52.7282 944.479 L60.9921 942.813 L65.668 942.813 L65.668 973.438 L73.3068 973.438 L73.3068 977.373 L53.3995 977.373 L53.3995 973.438 Z\" fill=\"#000000\" fill-rule=\"nonzero\" fill-opacity=\"1\" /><path clip-path=\"url(#clip200)\" d=\"M92.7512 945.891 Q89.1401 945.891 87.3114 949.456 Q85.5058 952.998 85.5058 960.127 Q85.5058 967.234 87.3114 970.799 Q89.1401 974.34 92.7512 974.34 Q96.3854 974.34 98.1909 970.799 Q100.02 967.234 100.02 960.127 Q100.02 952.998 98.1909 949.456 Q96.3854 945.891 92.7512 945.891 M92.7512 942.188 Q98.5613 942.188 101.617 946.794 Q104.696 951.377 104.696 960.127 Q104.696 968.854 101.617 973.461 Q98.5613 978.044 92.7512 978.044 Q86.941 978.044 83.8623 973.461 Q80.8068 968.854 80.8068 960.127 Q80.8068 951.377 83.8623 946.794 Q86.941 942.188 92.7512 942.188 Z\" fill=\"#000000\" fill-rule=\"nonzero\" fill-opacity=\"1\" /><path clip-path=\"url(#clip200)\" d=\"M122.913 945.891 Q119.302 945.891 117.473 949.456 Q115.668 952.998 115.668 960.127 Q115.668 967.234 117.473 970.799 Q119.302 974.34 122.913 974.34 Q126.547 974.34 128.353 970.799 Q130.182 967.234 130.182 960.127 Q130.182 952.998 128.353 949.456 Q126.547 945.891 122.913 945.891 M122.913 942.188 Q128.723 942.188 131.779 946.794 Q134.857 951.377 134.857 960.127 Q134.857 968.854 131.779 973.461 Q128.723 978.044 122.913 978.044 Q117.103 978.044 114.024 973.461 Q110.969 968.854 110.969 960.127 Q110.969 951.377 114.024 946.794 Q117.103 942.188 122.913 942.188 Z\" fill=\"#000000\" fill-rule=\"nonzero\" fill-opacity=\"1\" /><path clip-path=\"url(#clip200)\" d=\"M53.3995 730.115 L61.0384 730.115 L61.0384 703.749 L52.7282 705.416 L52.7282 701.157 L60.9921 699.49 L65.668 699.49 L65.668 730.115 L73.3068 730.115 L73.3068 734.05 L53.3995 734.05 L53.3995 730.115 Z\" fill=\"#000000\" fill-rule=\"nonzero\" fill-opacity=\"1\" /><path clip-path=\"url(#clip200)\" d=\"M82.7975 699.49 L101.154 699.49 L101.154 703.425 L87.0799 703.425 L87.0799 711.898 Q88.0984 711.55 89.1169 711.388 Q90.1354 711.203 91.1539 711.203 Q96.941 711.203 100.321 714.374 Q103.7 717.546 103.7 722.962 Q103.7 728.541 100.228 731.643 Q96.7558 734.722 90.4364 734.722 Q88.2604 734.722 85.9919 734.351 Q83.7466 733.981 81.3392 733.24 L81.3392 728.541 Q83.4225 729.675 85.6447 730.231 Q87.8669 730.786 90.3438 730.786 Q94.3484 730.786 96.6863 728.68 Q99.0243 726.573 99.0243 722.962 Q99.0243 719.351 96.6863 717.245 Q94.3484 715.138 90.3438 715.138 Q88.4688 715.138 86.5938 715.555 Q84.7419 715.972 82.7975 716.851 L82.7975 699.49 Z\" fill=\"#000000\" fill-rule=\"nonzero\" fill-opacity=\"1\" /><path clip-path=\"url(#clip200)\" d=\"M122.913 702.569 Q119.302 702.569 117.473 706.134 Q115.668 709.675 115.668 716.805 Q115.668 723.911 117.473 727.476 Q119.302 731.018 122.913 731.018 Q126.547 731.018 128.353 727.476 Q130.182 723.911 130.182 716.805 Q130.182 709.675 128.353 706.134 Q126.547 702.569 122.913 702.569 M122.913 698.865 Q128.723 698.865 131.779 703.472 Q134.857 708.055 134.857 716.805 Q134.857 725.532 131.779 730.138 Q128.723 734.722 122.913 734.722 Q117.103 734.722 114.024 730.138 Q110.969 725.532 110.969 716.805 Q110.969 708.055 114.024 703.472 Q117.103 698.865 122.913 698.865 Z\" fill=\"#000000\" fill-rule=\"nonzero\" fill-opacity=\"1\" /><path clip-path=\"url(#clip200)\" d=\"M56.6171 486.793 L72.9365 486.793 L72.9365 490.728 L50.9921 490.728 L50.9921 486.793 Q53.6541 484.038 58.2375 479.408 Q62.8439 474.756 64.0245 473.413 Q66.2698 470.89 67.1494 469.154 Q68.0522 467.395 68.0522 465.705 Q68.0522 462.95 66.1078 461.214 Q64.1865 459.478 61.0847 459.478 Q58.8856 459.478 56.4319 460.242 Q54.0014 461.006 51.2236 462.557 L51.2236 457.834 Q54.0477 456.7 56.5014 456.121 Q58.955 455.543 60.9921 455.543 Q66.3624 455.543 69.5568 458.228 Q72.7513 460.913 72.7513 465.404 Q72.7513 467.533 71.9411 469.455 Q71.1541 471.353 69.0476 473.945 Q68.4689 474.617 65.367 477.834 Q62.2652 481.029 56.6171 486.793 Z\" fill=\"#000000\" fill-rule=\"nonzero\" fill-opacity=\"1\" /><path clip-path=\"url(#clip200)\" d=\"M92.7512 459.246 Q89.1401 459.246 87.3114 462.811 Q85.5058 466.353 85.5058 473.482 Q85.5058 480.589 87.3114 484.154 Q89.1401 487.695 92.7512 487.695 Q96.3854 487.695 98.1909 484.154 Q100.02 480.589 100.02 473.482 Q100.02 466.353 98.1909 462.811 Q96.3854 459.246 92.7512 459.246 M92.7512 455.543 Q98.5613 455.543 101.617 460.149 Q104.696 464.733 104.696 473.482 Q104.696 482.209 101.617 486.816 Q98.5613 491.399 92.7512 491.399 Q86.941 491.399 83.8623 486.816 Q80.8068 482.209 80.8068 473.482 Q80.8068 464.733 83.8623 460.149 Q86.941 455.543 92.7512 455.543 Z\" fill=\"#000000\" fill-rule=\"nonzero\" fill-opacity=\"1\" /><path clip-path=\"url(#clip200)\" d=\"M122.913 459.246 Q119.302 459.246 117.473 462.811 Q115.668 466.353 115.668 473.482 Q115.668 480.589 117.473 484.154 Q119.302 487.695 122.913 487.695 Q126.547 487.695 128.353 484.154 Q130.182 480.589 130.182 473.482 Q130.182 466.353 128.353 462.811 Q126.547 459.246 122.913 459.246 M122.913 455.543 Q128.723 455.543 131.779 460.149 Q134.857 464.733 134.857 473.482 Q134.857 482.209 131.779 486.816 Q128.723 491.399 122.913 491.399 Q117.103 491.399 114.024 486.816 Q110.969 482.209 110.969 473.482 Q110.969 464.733 114.024 460.149 Q117.103 455.543 122.913 455.543 Z\" fill=\"#000000\" fill-rule=\"nonzero\" fill-opacity=\"1\" /><path clip-path=\"url(#clip200)\" d=\"M56.6171 243.47 L72.9365 243.47 L72.9365 247.405 L50.9921 247.405 L50.9921 243.47 Q53.6541 240.715 58.2375 236.086 Q62.8439 231.433 64.0245 230.091 Q66.2698 227.567 67.1494 225.831 Q68.0522 224.072 68.0522 222.382 Q68.0522 219.628 66.1078 217.892 Q64.1865 216.155 61.0847 216.155 Q58.8856 216.155 56.4319 216.919 Q54.0014 217.683 51.2236 219.234 L51.2236 214.512 Q54.0477 213.378 56.5014 212.799 Q58.955 212.22 60.9921 212.22 Q66.3624 212.22 69.5568 214.905 Q72.7513 217.591 72.7513 222.081 Q72.7513 224.211 71.9411 226.132 Q71.1541 228.03 69.0476 230.623 Q68.4689 231.294 65.367 234.512 Q62.2652 237.706 56.6171 243.47 Z\" fill=\"#000000\" fill-rule=\"nonzero\" fill-opacity=\"1\" /><path clip-path=\"url(#clip200)\" d=\"M82.7975 212.845 L101.154 212.845 L101.154 216.78 L87.0799 216.78 L87.0799 225.253 Q88.0984 224.905 89.1169 224.743 Q90.1354 224.558 91.1539 224.558 Q96.941 224.558 100.321 227.729 Q103.7 230.901 103.7 236.317 Q103.7 241.896 100.228 244.998 Q96.7558 248.077 90.4364 248.077 Q88.2604 248.077 85.9919 247.706 Q83.7466 247.336 81.3392 246.595 L81.3392 241.896 Q83.4225 243.03 85.6447 243.586 Q87.8669 244.141 90.3438 244.141 Q94.3484 244.141 96.6863 242.035 Q99.0243 239.928 99.0243 236.317 Q99.0243 232.706 96.6863 230.6 Q94.3484 228.493 90.3438 228.493 Q88.4688 228.493 86.5938 228.91 Q84.7419 229.327 82.7975 230.206 L82.7975 212.845 Z\" fill=\"#000000\" fill-rule=\"nonzero\" fill-opacity=\"1\" /><path clip-path=\"url(#clip200)\" d=\"M122.913 215.924 Q119.302 215.924 117.473 219.489 Q115.668 223.03 115.668 230.16 Q115.668 237.266 117.473 240.831 Q119.302 244.373 122.913 244.373 Q126.547 244.373 128.353 240.831 Q130.182 237.266 130.182 230.16 Q130.182 223.03 128.353 219.489 Q126.547 215.924 122.913 215.924 M122.913 212.22 Q128.723 212.22 131.779 216.827 Q134.857 221.41 134.857 230.16 Q134.857 238.887 131.779 243.493 Q128.723 248.077 122.913 248.077 Q117.103 248.077 114.024 243.493 Q110.969 238.887 110.969 230.16 Q110.969 221.41 114.024 216.827 Q117.103 212.22 122.913 212.22 Z\" fill=\"#000000\" fill-rule=\"nonzero\" fill-opacity=\"1\" /><circle clip-path=\"url(#clip202)\" cx=\"575.675\" cy=\"832.543\" r=\"14.4\" fill=\"#ff0000\" fill-rule=\"evenodd\" fill-opacity=\"1\" stroke=\"#000000\" stroke-opacity=\"1\" stroke-width=\"3.2\"/>\n",
       "<circle clip-path=\"url(#clip202)\" cx=\"918.741\" cy=\"1285.12\" r=\"14.4\" fill=\"#ff0000\" fill-rule=\"evenodd\" fill-opacity=\"1\" stroke=\"#000000\" stroke-opacity=\"1\" stroke-width=\"3.2\"/>\n",
       "<circle clip-path=\"url(#clip202)\" cx=\"1261.81\" cy=\"1445.72\" r=\"14.4\" fill=\"#ff0000\" fill-rule=\"evenodd\" fill-opacity=\"1\" stroke=\"#000000\" stroke-opacity=\"1\" stroke-width=\"3.2\"/>\n",
       "<circle clip-path=\"url(#clip202)\" cx=\"1604.87\" cy=\"1314.32\" r=\"14.4\" fill=\"#ff0000\" fill-rule=\"evenodd\" fill-opacity=\"1\" stroke=\"#000000\" stroke-opacity=\"1\" stroke-width=\"3.2\"/>\n",
       "<circle clip-path=\"url(#clip202)\" cx=\"1947.94\" cy=\"890.94\" r=\"14.4\" fill=\"#ff0000\" fill-rule=\"evenodd\" fill-opacity=\"1\" stroke=\"#000000\" stroke-opacity=\"1\" stroke-width=\"3.2\"/>\n",
       "<polyline clip-path=\"url(#clip202)\" style=\"stroke:#ff0000; stroke-linecap:round; stroke-linejoin:round; stroke-width:4; stroke-opacity:1; fill:none\" points=\"232.609,87.9763 266.916,175.572 301.222,260.249 335.529,342.005 369.836,420.841 404.142,496.758 438.449,569.755 472.755,639.832 507.062,706.989 541.368,771.226 575.675,832.543 609.982,890.94 644.288,946.418 678.595,998.976 712.901,1048.61 747.208,1095.33 781.515,1139.13 815.821,1180.01 850.128,1217.97 884.434,1253 918.741,1285.12 953.047,1314.32 987.354,1340.6 1021.66,1363.96 1055.97,1384.4 1090.27,1401.92 1124.58,1416.52 1158.89,1428.2 1193.19,1436.96 1227.5,1442.8 1261.81,1445.72 1296.11,1445.72 1330.42,1442.8 1364.73,1436.96 1399.03,1428.2 1433.34,1416.52 1467.65,1401.92 1501.95,1384.4 1536.26,1363.96 1570.57,1340.6 1604.87,1314.32 1639.18,1285.12 1673.49,1253 1707.79,1217.97 1742.1,1180.01 1776.41,1139.13 1810.71,1095.33 1845.02,1048.61 1879.33,998.976 1913.63,946.418 1947.94,890.94 1982.24,832.543 2016.55,771.226 2050.86,706.989 2085.16,639.832 2119.47,569.755 2153.78,496.758 2188.08,420.841 2222.39,342.005 2256.7,260.249 2291,175.572 \"/>\n",
       "<path clip-path=\"url(#clip200)\" d=\"M2009.41 1438.47 L2280.03 1438.47 L2280.03 1282.95 L2009.41 1282.95  Z\" fill=\"#ffffff\" fill-rule=\"evenodd\" fill-opacity=\"1\"/>\n",
       "<polyline clip-path=\"url(#clip200)\" style=\"stroke:#000000; stroke-linecap:round; stroke-linejoin:round; stroke-width:4; stroke-opacity:1; fill:none\" points=\"2009.41,1438.47 2280.03,1438.47 2280.03,1282.95 2009.41,1282.95 2009.41,1438.47 \"/>\n",
       "<circle clip-path=\"url(#clip200)\" cx=\"2106.38\" cy=\"1334.79\" r=\"20.48\" fill=\"#ff0000\" fill-rule=\"evenodd\" fill-opacity=\"1\" stroke=\"#000000\" stroke-opacity=\"1\" stroke-width=\"4.55111\"/>\n",
       "<path clip-path=\"url(#clip200)\" d=\"M2217.19 1354.48 Q2215.39 1359.11 2213.68 1360.52 Q2211.96 1361.94 2209.09 1361.94 L2205.69 1361.94 L2205.69 1358.37 L2208.19 1358.37 Q2209.95 1358.37 2210.92 1357.54 Q2211.89 1356.7 2213.07 1353.6 L2213.84 1351.66 L2203.35 1326.15 L2207.87 1326.15 L2215.97 1346.43 L2224.07 1326.15 L2228.58 1326.15 L2217.19 1354.48 Z\" fill=\"#000000\" fill-rule=\"nonzero\" fill-opacity=\"1\" /><path clip-path=\"url(#clip200)\" d=\"M2235.88 1348.14 L2243.51 1348.14 L2243.51 1321.77 L2235.2 1323.44 L2235.2 1319.18 L2243.47 1317.51 L2248.14 1317.51 L2248.14 1348.14 L2255.78 1348.14 L2255.78 1352.07 L2235.88 1352.07 L2235.88 1348.14 Z\" fill=\"#000000\" fill-rule=\"nonzero\" fill-opacity=\"1\" /><polyline clip-path=\"url(#clip200)\" style=\"stroke:#ff0000; stroke-linecap:round; stroke-linejoin:round; stroke-width:4; stroke-opacity:1; fill:none\" points=\"2033.65,1386.63 2179.11,1386.63 \"/>\n",
       "<path clip-path=\"url(#clip200)\" d=\"M2217.19 1406.32 Q2215.39 1410.95 2213.68 1412.36 Q2211.96 1413.78 2209.09 1413.78 L2205.69 1413.78 L2205.69 1410.21 L2208.19 1410.21 Q2209.95 1410.21 2210.92 1409.38 Q2211.89 1408.54 2213.07 1405.44 L2213.84 1403.5 L2203.35 1377.99 L2207.87 1377.99 L2215.97 1398.27 L2224.07 1377.99 L2228.58 1377.99 L2217.19 1406.32 Z\" fill=\"#000000\" fill-rule=\"nonzero\" fill-opacity=\"1\" /><path clip-path=\"url(#clip200)\" d=\"M2239.09 1399.98 L2255.41 1399.98 L2255.41 1403.91 L2233.47 1403.91 L2233.47 1399.98 Q2236.13 1397.22 2240.71 1392.6 Q2245.32 1387.94 2246.5 1386.6 Q2248.75 1384.08 2249.63 1382.34 Q2250.53 1380.58 2250.53 1378.89 Q2250.53 1376.14 2248.58 1374.4 Q2246.66 1372.66 2243.56 1372.66 Q2241.36 1372.66 2238.91 1373.43 Q2236.48 1374.19 2233.7 1375.74 L2233.7 1371.02 Q2236.52 1369.89 2238.98 1369.31 Q2241.43 1368.73 2243.47 1368.73 Q2248.84 1368.73 2252.03 1371.41 Q2255.23 1374.1 2255.23 1378.59 Q2255.23 1380.72 2254.42 1382.64 Q2253.63 1384.54 2251.52 1387.13 Q2250.94 1387.8 2247.84 1391.02 Q2244.74 1394.22 2239.09 1399.98 Z\" fill=\"#000000\" fill-rule=\"nonzero\" fill-opacity=\"1\" /></svg>\n"
      ],
      "text/html": [
       "<?xml version=\"1.0\" encoding=\"utf-8\"?>\n",
       "<svg xmlns=\"http://www.w3.org/2000/svg\" xmlns:xlink=\"http://www.w3.org/1999/xlink\" width=\"600\" height=\"400\" viewBox=\"0 0 2400 1600\">\n",
       "<defs>\n",
       "  <clipPath id=\"clip250\">\n",
       "    <rect x=\"0\" y=\"0\" width=\"2400\" height=\"1600\"/>\n",
       "  </clipPath>\n",
       "</defs>\n",
       "<path clip-path=\"url(#clip250)\" d=\"M0 1600 L2400 1600 L2400 0 L0 0  Z\" fill=\"#ffffff\" fill-rule=\"evenodd\" fill-opacity=\"1\"/>\n",
       "<defs>\n",
       "  <clipPath id=\"clip251\">\n",
       "    <rect x=\"480\" y=\"0\" width=\"1681\" height=\"1600\"/>\n",
       "  </clipPath>\n",
       "</defs>\n",
       "<path clip-path=\"url(#clip250)\" d=\"M170.857 1486.45 L2352.76 1486.45 L2352.76 47.2441 L170.857 47.2441  Z\" fill=\"#ffffff\" fill-rule=\"evenodd\" fill-opacity=\"1\"/>\n",
       "<defs>\n",
       "  <clipPath id=\"clip252\">\n",
       "    <rect x=\"170\" y=\"47\" width=\"2183\" height=\"1440\"/>\n",
       "  </clipPath>\n",
       "</defs>\n",
       "<polyline clip-path=\"url(#clip252)\" style=\"stroke:#000000; stroke-linecap:round; stroke-linejoin:round; stroke-width:2; stroke-opacity:0.1; fill:none\" points=\"232.609,1486.45 232.609,47.2441 \"/>\n",
       "<polyline clip-path=\"url(#clip252)\" style=\"stroke:#000000; stroke-linecap:round; stroke-linejoin:round; stroke-width:2; stroke-opacity:0.1; fill:none\" points=\"575.675,1486.45 575.675,47.2441 \"/>\n",
       "<polyline clip-path=\"url(#clip252)\" style=\"stroke:#000000; stroke-linecap:round; stroke-linejoin:round; stroke-width:2; stroke-opacity:0.1; fill:none\" points=\"918.741,1486.45 918.741,47.2441 \"/>\n",
       "<polyline clip-path=\"url(#clip252)\" style=\"stroke:#000000; stroke-linecap:round; stroke-linejoin:round; stroke-width:2; stroke-opacity:0.1; fill:none\" points=\"1261.81,1486.45 1261.81,47.2441 \"/>\n",
       "<polyline clip-path=\"url(#clip252)\" style=\"stroke:#000000; stroke-linecap:round; stroke-linejoin:round; stroke-width:2; stroke-opacity:0.1; fill:none\" points=\"1604.87,1486.45 1604.87,47.2441 \"/>\n",
       "<polyline clip-path=\"url(#clip252)\" style=\"stroke:#000000; stroke-linecap:round; stroke-linejoin:round; stroke-width:2; stroke-opacity:0.1; fill:none\" points=\"1947.94,1486.45 1947.94,47.2441 \"/>\n",
       "<polyline clip-path=\"url(#clip252)\" style=\"stroke:#000000; stroke-linecap:round; stroke-linejoin:round; stroke-width:2; stroke-opacity:0.1; fill:none\" points=\"2291,1486.45 2291,47.2441 \"/>\n",
       "<polyline clip-path=\"url(#clip250)\" style=\"stroke:#000000; stroke-linecap:round; stroke-linejoin:round; stroke-width:4; stroke-opacity:1; fill:none\" points=\"170.857,1486.45 2352.76,1486.45 \"/>\n",
       "<polyline clip-path=\"url(#clip250)\" style=\"stroke:#000000; stroke-linecap:round; stroke-linejoin:round; stroke-width:4; stroke-opacity:1; fill:none\" points=\"232.609,1486.45 232.609,1467.55 \"/>\n",
       "<polyline clip-path=\"url(#clip250)\" style=\"stroke:#000000; stroke-linecap:round; stroke-linejoin:round; stroke-width:4; stroke-opacity:1; fill:none\" points=\"575.675,1486.45 575.675,1467.55 \"/>\n",
       "<polyline clip-path=\"url(#clip250)\" style=\"stroke:#000000; stroke-linecap:round; stroke-linejoin:round; stroke-width:4; stroke-opacity:1; fill:none\" points=\"918.741,1486.45 918.741,1467.55 \"/>\n",
       "<polyline clip-path=\"url(#clip250)\" style=\"stroke:#000000; stroke-linecap:round; stroke-linejoin:round; stroke-width:4; stroke-opacity:1; fill:none\" points=\"1261.81,1486.45 1261.81,1467.55 \"/>\n",
       "<polyline clip-path=\"url(#clip250)\" style=\"stroke:#000000; stroke-linecap:round; stroke-linejoin:round; stroke-width:4; stroke-opacity:1; fill:none\" points=\"1604.87,1486.45 1604.87,1467.55 \"/>\n",
       "<polyline clip-path=\"url(#clip250)\" style=\"stroke:#000000; stroke-linecap:round; stroke-linejoin:round; stroke-width:4; stroke-opacity:1; fill:none\" points=\"1947.94,1486.45 1947.94,1467.55 \"/>\n",
       "<polyline clip-path=\"url(#clip250)\" style=\"stroke:#000000; stroke-linecap:round; stroke-linejoin:round; stroke-width:4; stroke-opacity:1; fill:none\" points=\"2291,1486.45 2291,1467.55 \"/>\n",
       "<path clip-path=\"url(#clip250)\" d=\"M202.552 1532.02 L232.227 1532.02 L232.227 1535.95 L202.552 1535.95 L202.552 1532.02 Z\" fill=\"#000000\" fill-rule=\"nonzero\" fill-opacity=\"1\" /><path clip-path=\"url(#clip250)\" d=\"M246.348 1544.91 L262.667 1544.91 L262.667 1548.85 L240.723 1548.85 L240.723 1544.91 Q243.385 1542.16 247.968 1537.53 Q252.574 1532.88 253.755 1531.53 Q256 1529.01 256.88 1527.27 Q257.783 1525.51 257.783 1523.82 Q257.783 1521.07 255.838 1519.33 Q253.917 1517.6 250.815 1517.6 Q248.616 1517.6 246.162 1518.36 Q243.732 1519.13 240.954 1520.68 L240.954 1515.95 Q243.778 1514.82 246.232 1514.24 Q248.686 1513.66 250.723 1513.66 Q256.093 1513.66 259.287 1516.35 Q262.482 1519.03 262.482 1523.52 Q262.482 1525.65 261.672 1527.57 Q260.885 1529.47 258.778 1532.07 Q258.199 1532.74 255.098 1535.95 Q251.996 1539.15 246.348 1544.91 Z\" fill=\"#000000\" fill-rule=\"nonzero\" fill-opacity=\"1\" /><path clip-path=\"url(#clip250)\" d=\"M545.432 1532.02 L575.108 1532.02 L575.108 1535.95 L545.432 1535.95 L545.432 1532.02 Z\" fill=\"#000000\" fill-rule=\"nonzero\" fill-opacity=\"1\" /><path clip-path=\"url(#clip250)\" d=\"M586.011 1544.91 L593.65 1544.91 L593.65 1518.55 L585.339 1520.21 L585.339 1515.95 L593.603 1514.29 L598.279 1514.29 L598.279 1544.91 L605.918 1544.91 L605.918 1548.85 L586.011 1548.85 L586.011 1544.91 Z\" fill=\"#000000\" fill-rule=\"nonzero\" fill-opacity=\"1\" /><path clip-path=\"url(#clip250)\" d=\"M918.741 1517.37 Q915.13 1517.37 913.301 1520.93 Q911.496 1524.47 911.496 1531.6 Q911.496 1538.71 913.301 1542.27 Q915.13 1545.82 918.741 1545.82 Q922.375 1545.82 924.181 1542.27 Q926.009 1538.71 926.009 1531.6 Q926.009 1524.47 924.181 1520.93 Q922.375 1517.37 918.741 1517.37 M918.741 1513.66 Q924.551 1513.66 927.607 1518.27 Q930.685 1522.85 930.685 1531.6 Q930.685 1540.33 927.607 1544.94 Q924.551 1549.52 918.741 1549.52 Q912.931 1549.52 909.852 1544.94 Q906.796 1540.33 906.796 1531.6 Q906.796 1522.85 909.852 1518.27 Q912.931 1513.66 918.741 1513.66 Z\" fill=\"#000000\" fill-rule=\"nonzero\" fill-opacity=\"1\" /><path clip-path=\"url(#clip250)\" d=\"M1252.19 1544.91 L1259.83 1544.91 L1259.83 1518.55 L1251.52 1520.21 L1251.52 1515.95 L1259.78 1514.29 L1264.46 1514.29 L1264.46 1544.91 L1272.1 1544.91 L1272.1 1548.85 L1252.19 1548.85 L1252.19 1544.91 Z\" fill=\"#000000\" fill-rule=\"nonzero\" fill-opacity=\"1\" /><path clip-path=\"url(#clip250)\" d=\"M1599.53 1544.91 L1615.84 1544.91 L1615.84 1548.85 L1593.9 1548.85 L1593.9 1544.91 Q1596.56 1542.16 1601.15 1537.53 Q1605.75 1532.88 1606.93 1531.53 Q1609.18 1529.01 1610.06 1527.27 Q1610.96 1525.51 1610.96 1523.82 Q1610.96 1521.07 1609.02 1519.33 Q1607.09 1517.6 1603.99 1517.6 Q1601.79 1517.6 1599.34 1518.36 Q1596.91 1519.13 1594.13 1520.68 L1594.13 1515.95 Q1596.96 1514.82 1599.41 1514.24 Q1601.86 1513.66 1603.9 1513.66 Q1609.27 1513.66 1612.47 1516.35 Q1615.66 1519.03 1615.66 1523.52 Q1615.66 1525.65 1614.85 1527.57 Q1614.06 1529.47 1611.96 1532.07 Q1611.38 1532.74 1608.28 1535.95 Q1605.17 1539.15 1599.53 1544.91 Z\" fill=\"#000000\" fill-rule=\"nonzero\" fill-opacity=\"1\" /><path clip-path=\"url(#clip250)\" d=\"M1952.19 1530.21 Q1955.54 1530.93 1957.42 1533.2 Q1959.32 1535.47 1959.32 1538.8 Q1959.32 1543.92 1955.8 1546.72 Q1952.28 1549.52 1945.8 1549.52 Q1943.62 1549.52 1941.31 1549.08 Q1939.01 1548.66 1936.56 1547.81 L1936.56 1543.29 Q1938.51 1544.43 1940.82 1545.01 Q1943.14 1545.58 1945.66 1545.58 Q1950.06 1545.58 1952.35 1543.85 Q1954.66 1542.11 1954.66 1538.8 Q1954.66 1535.75 1952.51 1534.03 Q1950.38 1532.3 1946.56 1532.3 L1942.53 1532.3 L1942.53 1528.45 L1946.75 1528.45 Q1950.2 1528.45 1952.02 1527.09 Q1953.85 1525.7 1953.85 1523.11 Q1953.85 1520.45 1951.95 1519.03 Q1950.08 1517.6 1946.56 1517.6 Q1944.64 1517.6 1942.44 1518.01 Q1940.24 1518.43 1937.6 1519.31 L1937.6 1515.14 Q1940.26 1514.4 1942.58 1514.03 Q1944.92 1513.66 1946.98 1513.66 Q1952.3 1513.66 1955.4 1516.09 Q1958.51 1518.5 1958.51 1522.62 Q1958.51 1525.49 1956.86 1527.48 Q1955.22 1529.45 1952.19 1530.21 Z\" fill=\"#000000\" fill-rule=\"nonzero\" fill-opacity=\"1\" /><path clip-path=\"url(#clip250)\" d=\"M2294.01 1518.36 L2282.21 1536.81 L2294.01 1536.81 L2294.01 1518.36 M2292.79 1514.29 L2298.67 1514.29 L2298.67 1536.81 L2303.6 1536.81 L2303.6 1540.7 L2298.67 1540.7 L2298.67 1548.85 L2294.01 1548.85 L2294.01 1540.7 L2278.41 1540.7 L2278.41 1536.19 L2292.79 1514.29 Z\" fill=\"#000000\" fill-rule=\"nonzero\" fill-opacity=\"1\" /><polyline clip-path=\"url(#clip252)\" style=\"stroke:#000000; stroke-linecap:round; stroke-linejoin:round; stroke-width:2; stroke-opacity:0.1; fill:none\" points=\"170.857,1446.74 2352.76,1446.74 \"/>\n",
       "<polyline clip-path=\"url(#clip252)\" style=\"stroke:#000000; stroke-linecap:round; stroke-linejoin:round; stroke-width:2; stroke-opacity:0.1; fill:none\" points=\"170.857,1203.42 2352.76,1203.42 \"/>\n",
       "<polyline clip-path=\"url(#clip252)\" style=\"stroke:#000000; stroke-linecap:round; stroke-linejoin:round; stroke-width:2; stroke-opacity:0.1; fill:none\" points=\"170.857,960.093 2352.76,960.093 \"/>\n",
       "<polyline clip-path=\"url(#clip252)\" style=\"stroke:#000000; stroke-linecap:round; stroke-linejoin:round; stroke-width:2; stroke-opacity:0.1; fill:none\" points=\"170.857,716.77 2352.76,716.77 \"/>\n",
       "<polyline clip-path=\"url(#clip252)\" style=\"stroke:#000000; stroke-linecap:round; stroke-linejoin:round; stroke-width:2; stroke-opacity:0.1; fill:none\" points=\"170.857,473.448 2352.76,473.448 \"/>\n",
       "<polyline clip-path=\"url(#clip252)\" style=\"stroke:#000000; stroke-linecap:round; stroke-linejoin:round; stroke-width:2; stroke-opacity:0.1; fill:none\" points=\"170.857,230.125 2352.76,230.125 \"/>\n",
       "<polyline clip-path=\"url(#clip250)\" style=\"stroke:#000000; stroke-linecap:round; stroke-linejoin:round; stroke-width:4; stroke-opacity:1; fill:none\" points=\"170.857,1486.45 170.857,47.2441 \"/>\n",
       "<polyline clip-path=\"url(#clip250)\" style=\"stroke:#000000; stroke-linecap:round; stroke-linejoin:round; stroke-width:4; stroke-opacity:1; fill:none\" points=\"170.857,1446.74 189.755,1446.74 \"/>\n",
       "<polyline clip-path=\"url(#clip250)\" style=\"stroke:#000000; stroke-linecap:round; stroke-linejoin:round; stroke-width:4; stroke-opacity:1; fill:none\" points=\"170.857,1203.42 189.755,1203.42 \"/>\n",
       "<polyline clip-path=\"url(#clip250)\" style=\"stroke:#000000; stroke-linecap:round; stroke-linejoin:round; stroke-width:4; stroke-opacity:1; fill:none\" points=\"170.857,960.093 189.755,960.093 \"/>\n",
       "<polyline clip-path=\"url(#clip250)\" style=\"stroke:#000000; stroke-linecap:round; stroke-linejoin:round; stroke-width:4; stroke-opacity:1; fill:none\" points=\"170.857,716.77 189.755,716.77 \"/>\n",
       "<polyline clip-path=\"url(#clip250)\" style=\"stroke:#000000; stroke-linecap:round; stroke-linejoin:round; stroke-width:4; stroke-opacity:1; fill:none\" points=\"170.857,473.448 189.755,473.448 \"/>\n",
       "<polyline clip-path=\"url(#clip250)\" style=\"stroke:#000000; stroke-linecap:round; stroke-linejoin:round; stroke-width:4; stroke-opacity:1; fill:none\" points=\"170.857,230.125 189.755,230.125 \"/>\n",
       "<path clip-path=\"url(#clip250)\" d=\"M122.913 1432.54 Q119.302 1432.54 117.473 1436.1 Q115.668 1439.64 115.668 1446.77 Q115.668 1453.88 117.473 1457.44 Q119.302 1460.99 122.913 1460.99 Q126.547 1460.99 128.353 1457.44 Q130.182 1453.88 130.182 1446.77 Q130.182 1439.64 128.353 1436.1 Q126.547 1432.54 122.913 1432.54 M122.913 1428.83 Q128.723 1428.83 131.779 1433.44 Q134.857 1438.02 134.857 1446.77 Q134.857 1455.5 131.779 1460.11 Q128.723 1464.69 122.913 1464.69 Q117.103 1464.69 114.024 1460.11 Q110.969 1455.5 110.969 1446.77 Q110.969 1438.02 114.024 1433.44 Q117.103 1428.83 122.913 1428.83 Z\" fill=\"#000000\" fill-rule=\"nonzero\" fill-opacity=\"1\" /><path clip-path=\"url(#clip250)\" d=\"M82.7975 1186.14 L101.154 1186.14 L101.154 1190.07 L87.0799 1190.07 L87.0799 1198.54 Q88.0984 1198.2 89.1169 1198.03 Q90.1354 1197.85 91.1539 1197.85 Q96.941 1197.85 100.321 1201.02 Q103.7 1204.19 103.7 1209.61 Q103.7 1215.19 100.228 1218.29 Q96.7558 1221.37 90.4364 1221.37 Q88.2604 1221.37 85.9919 1221 Q83.7466 1220.63 81.3392 1219.88 L81.3392 1215.19 Q83.4225 1216.32 85.6447 1216.88 Q87.8669 1217.43 90.3438 1217.43 Q94.3484 1217.43 96.6863 1215.32 Q99.0243 1213.22 99.0243 1209.61 Q99.0243 1206 96.6863 1203.89 Q94.3484 1201.78 90.3438 1201.78 Q88.4688 1201.78 86.5938 1202.2 Q84.7419 1202.62 82.7975 1203.5 L82.7975 1186.14 Z\" fill=\"#000000\" fill-rule=\"nonzero\" fill-opacity=\"1\" /><path clip-path=\"url(#clip250)\" d=\"M122.913 1189.21 Q119.302 1189.21 117.473 1192.78 Q115.668 1196.32 115.668 1203.45 Q115.668 1210.56 117.473 1214.12 Q119.302 1217.66 122.913 1217.66 Q126.547 1217.66 128.353 1214.12 Q130.182 1210.56 130.182 1203.45 Q130.182 1196.32 128.353 1192.78 Q126.547 1189.21 122.913 1189.21 M122.913 1185.51 Q128.723 1185.51 131.779 1190.12 Q134.857 1194.7 134.857 1203.45 Q134.857 1212.18 131.779 1216.78 Q128.723 1221.37 122.913 1221.37 Q117.103 1221.37 114.024 1216.78 Q110.969 1212.18 110.969 1203.45 Q110.969 1194.7 114.024 1190.12 Q117.103 1185.51 122.913 1185.51 Z\" fill=\"#000000\" fill-rule=\"nonzero\" fill-opacity=\"1\" /><path clip-path=\"url(#clip250)\" d=\"M53.3995 973.438 L61.0384 973.438 L61.0384 947.072 L52.7282 948.739 L52.7282 944.479 L60.9921 942.813 L65.668 942.813 L65.668 973.438 L73.3068 973.438 L73.3068 977.373 L53.3995 977.373 L53.3995 973.438 Z\" fill=\"#000000\" fill-rule=\"nonzero\" fill-opacity=\"1\" /><path clip-path=\"url(#clip250)\" d=\"M92.7512 945.891 Q89.1401 945.891 87.3114 949.456 Q85.5058 952.998 85.5058 960.127 Q85.5058 967.234 87.3114 970.799 Q89.1401 974.34 92.7512 974.34 Q96.3854 974.34 98.1909 970.799 Q100.02 967.234 100.02 960.127 Q100.02 952.998 98.1909 949.456 Q96.3854 945.891 92.7512 945.891 M92.7512 942.188 Q98.5613 942.188 101.617 946.794 Q104.696 951.377 104.696 960.127 Q104.696 968.854 101.617 973.461 Q98.5613 978.044 92.7512 978.044 Q86.941 978.044 83.8623 973.461 Q80.8068 968.854 80.8068 960.127 Q80.8068 951.377 83.8623 946.794 Q86.941 942.188 92.7512 942.188 Z\" fill=\"#000000\" fill-rule=\"nonzero\" fill-opacity=\"1\" /><path clip-path=\"url(#clip250)\" d=\"M122.913 945.891 Q119.302 945.891 117.473 949.456 Q115.668 952.998 115.668 960.127 Q115.668 967.234 117.473 970.799 Q119.302 974.34 122.913 974.34 Q126.547 974.34 128.353 970.799 Q130.182 967.234 130.182 960.127 Q130.182 952.998 128.353 949.456 Q126.547 945.891 122.913 945.891 M122.913 942.188 Q128.723 942.188 131.779 946.794 Q134.857 951.377 134.857 960.127 Q134.857 968.854 131.779 973.461 Q128.723 978.044 122.913 978.044 Q117.103 978.044 114.024 973.461 Q110.969 968.854 110.969 960.127 Q110.969 951.377 114.024 946.794 Q117.103 942.188 122.913 942.188 Z\" fill=\"#000000\" fill-rule=\"nonzero\" fill-opacity=\"1\" /><path clip-path=\"url(#clip250)\" d=\"M53.3995 730.115 L61.0384 730.115 L61.0384 703.749 L52.7282 705.416 L52.7282 701.157 L60.9921 699.49 L65.668 699.49 L65.668 730.115 L73.3068 730.115 L73.3068 734.05 L53.3995 734.05 L53.3995 730.115 Z\" fill=\"#000000\" fill-rule=\"nonzero\" fill-opacity=\"1\" /><path clip-path=\"url(#clip250)\" d=\"M82.7975 699.49 L101.154 699.49 L101.154 703.425 L87.0799 703.425 L87.0799 711.898 Q88.0984 711.55 89.1169 711.388 Q90.1354 711.203 91.1539 711.203 Q96.941 711.203 100.321 714.374 Q103.7 717.546 103.7 722.962 Q103.7 728.541 100.228 731.643 Q96.7558 734.722 90.4364 734.722 Q88.2604 734.722 85.9919 734.351 Q83.7466 733.981 81.3392 733.24 L81.3392 728.541 Q83.4225 729.675 85.6447 730.231 Q87.8669 730.786 90.3438 730.786 Q94.3484 730.786 96.6863 728.68 Q99.0243 726.573 99.0243 722.962 Q99.0243 719.351 96.6863 717.245 Q94.3484 715.138 90.3438 715.138 Q88.4688 715.138 86.5938 715.555 Q84.7419 715.972 82.7975 716.851 L82.7975 699.49 Z\" fill=\"#000000\" fill-rule=\"nonzero\" fill-opacity=\"1\" /><path clip-path=\"url(#clip250)\" d=\"M122.913 702.569 Q119.302 702.569 117.473 706.134 Q115.668 709.675 115.668 716.805 Q115.668 723.911 117.473 727.476 Q119.302 731.018 122.913 731.018 Q126.547 731.018 128.353 727.476 Q130.182 723.911 130.182 716.805 Q130.182 709.675 128.353 706.134 Q126.547 702.569 122.913 702.569 M122.913 698.865 Q128.723 698.865 131.779 703.472 Q134.857 708.055 134.857 716.805 Q134.857 725.532 131.779 730.138 Q128.723 734.722 122.913 734.722 Q117.103 734.722 114.024 730.138 Q110.969 725.532 110.969 716.805 Q110.969 708.055 114.024 703.472 Q117.103 698.865 122.913 698.865 Z\" fill=\"#000000\" fill-rule=\"nonzero\" fill-opacity=\"1\" /><path clip-path=\"url(#clip250)\" d=\"M56.6171 486.793 L72.9365 486.793 L72.9365 490.728 L50.9921 490.728 L50.9921 486.793 Q53.6541 484.038 58.2375 479.408 Q62.8439 474.756 64.0245 473.413 Q66.2698 470.89 67.1494 469.154 Q68.0522 467.395 68.0522 465.705 Q68.0522 462.95 66.1078 461.214 Q64.1865 459.478 61.0847 459.478 Q58.8856 459.478 56.4319 460.242 Q54.0014 461.006 51.2236 462.557 L51.2236 457.834 Q54.0477 456.7 56.5014 456.121 Q58.955 455.543 60.9921 455.543 Q66.3624 455.543 69.5568 458.228 Q72.7513 460.913 72.7513 465.404 Q72.7513 467.533 71.9411 469.455 Q71.1541 471.353 69.0476 473.945 Q68.4689 474.617 65.367 477.834 Q62.2652 481.029 56.6171 486.793 Z\" fill=\"#000000\" fill-rule=\"nonzero\" fill-opacity=\"1\" /><path clip-path=\"url(#clip250)\" d=\"M92.7512 459.246 Q89.1401 459.246 87.3114 462.811 Q85.5058 466.353 85.5058 473.482 Q85.5058 480.589 87.3114 484.154 Q89.1401 487.695 92.7512 487.695 Q96.3854 487.695 98.1909 484.154 Q100.02 480.589 100.02 473.482 Q100.02 466.353 98.1909 462.811 Q96.3854 459.246 92.7512 459.246 M92.7512 455.543 Q98.5613 455.543 101.617 460.149 Q104.696 464.733 104.696 473.482 Q104.696 482.209 101.617 486.816 Q98.5613 491.399 92.7512 491.399 Q86.941 491.399 83.8623 486.816 Q80.8068 482.209 80.8068 473.482 Q80.8068 464.733 83.8623 460.149 Q86.941 455.543 92.7512 455.543 Z\" fill=\"#000000\" fill-rule=\"nonzero\" fill-opacity=\"1\" /><path clip-path=\"url(#clip250)\" d=\"M122.913 459.246 Q119.302 459.246 117.473 462.811 Q115.668 466.353 115.668 473.482 Q115.668 480.589 117.473 484.154 Q119.302 487.695 122.913 487.695 Q126.547 487.695 128.353 484.154 Q130.182 480.589 130.182 473.482 Q130.182 466.353 128.353 462.811 Q126.547 459.246 122.913 459.246 M122.913 455.543 Q128.723 455.543 131.779 460.149 Q134.857 464.733 134.857 473.482 Q134.857 482.209 131.779 486.816 Q128.723 491.399 122.913 491.399 Q117.103 491.399 114.024 486.816 Q110.969 482.209 110.969 473.482 Q110.969 464.733 114.024 460.149 Q117.103 455.543 122.913 455.543 Z\" fill=\"#000000\" fill-rule=\"nonzero\" fill-opacity=\"1\" /><path clip-path=\"url(#clip250)\" d=\"M56.6171 243.47 L72.9365 243.47 L72.9365 247.405 L50.9921 247.405 L50.9921 243.47 Q53.6541 240.715 58.2375 236.086 Q62.8439 231.433 64.0245 230.091 Q66.2698 227.567 67.1494 225.831 Q68.0522 224.072 68.0522 222.382 Q68.0522 219.628 66.1078 217.892 Q64.1865 216.155 61.0847 216.155 Q58.8856 216.155 56.4319 216.919 Q54.0014 217.683 51.2236 219.234 L51.2236 214.512 Q54.0477 213.378 56.5014 212.799 Q58.955 212.22 60.9921 212.22 Q66.3624 212.22 69.5568 214.905 Q72.7513 217.591 72.7513 222.081 Q72.7513 224.211 71.9411 226.132 Q71.1541 228.03 69.0476 230.623 Q68.4689 231.294 65.367 234.512 Q62.2652 237.706 56.6171 243.47 Z\" fill=\"#000000\" fill-rule=\"nonzero\" fill-opacity=\"1\" /><path clip-path=\"url(#clip250)\" d=\"M82.7975 212.845 L101.154 212.845 L101.154 216.78 L87.0799 216.78 L87.0799 225.253 Q88.0984 224.905 89.1169 224.743 Q90.1354 224.558 91.1539 224.558 Q96.941 224.558 100.321 227.729 Q103.7 230.901 103.7 236.317 Q103.7 241.896 100.228 244.998 Q96.7558 248.077 90.4364 248.077 Q88.2604 248.077 85.9919 247.706 Q83.7466 247.336 81.3392 246.595 L81.3392 241.896 Q83.4225 243.03 85.6447 243.586 Q87.8669 244.141 90.3438 244.141 Q94.3484 244.141 96.6863 242.035 Q99.0243 239.928 99.0243 236.317 Q99.0243 232.706 96.6863 230.6 Q94.3484 228.493 90.3438 228.493 Q88.4688 228.493 86.5938 228.91 Q84.7419 229.327 82.7975 230.206 L82.7975 212.845 Z\" fill=\"#000000\" fill-rule=\"nonzero\" fill-opacity=\"1\" /><path clip-path=\"url(#clip250)\" d=\"M122.913 215.924 Q119.302 215.924 117.473 219.489 Q115.668 223.03 115.668 230.16 Q115.668 237.266 117.473 240.831 Q119.302 244.373 122.913 244.373 Q126.547 244.373 128.353 240.831 Q130.182 237.266 130.182 230.16 Q130.182 223.03 128.353 219.489 Q126.547 215.924 122.913 215.924 M122.913 212.22 Q128.723 212.22 131.779 216.827 Q134.857 221.41 134.857 230.16 Q134.857 238.887 131.779 243.493 Q128.723 248.077 122.913 248.077 Q117.103 248.077 114.024 243.493 Q110.969 238.887 110.969 230.16 Q110.969 221.41 114.024 216.827 Q117.103 212.22 122.913 212.22 Z\" fill=\"#000000\" fill-rule=\"nonzero\" fill-opacity=\"1\" /><circle clip-path=\"url(#clip252)\" cx=\"575.675\" cy=\"832.543\" r=\"14.4\" fill=\"#ff0000\" fill-rule=\"evenodd\" fill-opacity=\"1\" stroke=\"#000000\" stroke-opacity=\"1\" stroke-width=\"3.2\"/>\n",
       "<circle clip-path=\"url(#clip252)\" cx=\"918.741\" cy=\"1285.12\" r=\"14.4\" fill=\"#ff0000\" fill-rule=\"evenodd\" fill-opacity=\"1\" stroke=\"#000000\" stroke-opacity=\"1\" stroke-width=\"3.2\"/>\n",
       "<circle clip-path=\"url(#clip252)\" cx=\"1261.81\" cy=\"1445.72\" r=\"14.4\" fill=\"#ff0000\" fill-rule=\"evenodd\" fill-opacity=\"1\" stroke=\"#000000\" stroke-opacity=\"1\" stroke-width=\"3.2\"/>\n",
       "<circle clip-path=\"url(#clip252)\" cx=\"1604.87\" cy=\"1314.32\" r=\"14.4\" fill=\"#ff0000\" fill-rule=\"evenodd\" fill-opacity=\"1\" stroke=\"#000000\" stroke-opacity=\"1\" stroke-width=\"3.2\"/>\n",
       "<circle clip-path=\"url(#clip252)\" cx=\"1947.94\" cy=\"890.94\" r=\"14.4\" fill=\"#ff0000\" fill-rule=\"evenodd\" fill-opacity=\"1\" stroke=\"#000000\" stroke-opacity=\"1\" stroke-width=\"3.2\"/>\n",
       "<polyline clip-path=\"url(#clip252)\" style=\"stroke:#ff0000; stroke-linecap:round; stroke-linejoin:round; stroke-width:4; stroke-opacity:1; fill:none\" points=\"232.609,87.9763 266.916,175.572 301.222,260.249 335.529,342.005 369.836,420.841 404.142,496.758 438.449,569.755 472.755,639.832 507.062,706.989 541.368,771.226 575.675,832.543 609.982,890.94 644.288,946.418 678.595,998.976 712.901,1048.61 747.208,1095.33 781.515,1139.13 815.821,1180.01 850.128,1217.97 884.434,1253 918.741,1285.12 953.047,1314.32 987.354,1340.6 1021.66,1363.96 1055.97,1384.4 1090.27,1401.92 1124.58,1416.52 1158.89,1428.2 1193.19,1436.96 1227.5,1442.8 1261.81,1445.72 1296.11,1445.72 1330.42,1442.8 1364.73,1436.96 1399.03,1428.2 1433.34,1416.52 1467.65,1401.92 1501.95,1384.4 1536.26,1363.96 1570.57,1340.6 1604.87,1314.32 1639.18,1285.12 1673.49,1253 1707.79,1217.97 1742.1,1180.01 1776.41,1139.13 1810.71,1095.33 1845.02,1048.61 1879.33,998.976 1913.63,946.418 1947.94,890.94 1982.24,832.543 2016.55,771.226 2050.86,706.989 2085.16,639.832 2119.47,569.755 2153.78,496.758 2188.08,420.841 2222.39,342.005 2256.7,260.249 2291,175.572 \"/>\n",
       "<path clip-path=\"url(#clip250)\" d=\"M2009.41 1438.47 L2280.03 1438.47 L2280.03 1282.95 L2009.41 1282.95  Z\" fill=\"#ffffff\" fill-rule=\"evenodd\" fill-opacity=\"1\"/>\n",
       "<polyline clip-path=\"url(#clip250)\" style=\"stroke:#000000; stroke-linecap:round; stroke-linejoin:round; stroke-width:4; stroke-opacity:1; fill:none\" points=\"2009.41,1438.47 2280.03,1438.47 2280.03,1282.95 2009.41,1282.95 2009.41,1438.47 \"/>\n",
       "<circle clip-path=\"url(#clip250)\" cx=\"2106.38\" cy=\"1334.79\" r=\"20.48\" fill=\"#ff0000\" fill-rule=\"evenodd\" fill-opacity=\"1\" stroke=\"#000000\" stroke-opacity=\"1\" stroke-width=\"4.55111\"/>\n",
       "<path clip-path=\"url(#clip250)\" d=\"M2217.19 1354.48 Q2215.39 1359.11 2213.68 1360.52 Q2211.96 1361.94 2209.09 1361.94 L2205.69 1361.94 L2205.69 1358.37 L2208.19 1358.37 Q2209.95 1358.37 2210.92 1357.54 Q2211.89 1356.7 2213.07 1353.6 L2213.84 1351.66 L2203.35 1326.15 L2207.87 1326.15 L2215.97 1346.43 L2224.07 1326.15 L2228.58 1326.15 L2217.19 1354.48 Z\" fill=\"#000000\" fill-rule=\"nonzero\" fill-opacity=\"1\" /><path clip-path=\"url(#clip250)\" d=\"M2235.88 1348.14 L2243.51 1348.14 L2243.51 1321.77 L2235.2 1323.44 L2235.2 1319.18 L2243.47 1317.51 L2248.14 1317.51 L2248.14 1348.14 L2255.78 1348.14 L2255.78 1352.07 L2235.88 1352.07 L2235.88 1348.14 Z\" fill=\"#000000\" fill-rule=\"nonzero\" fill-opacity=\"1\" /><polyline clip-path=\"url(#clip250)\" style=\"stroke:#ff0000; stroke-linecap:round; stroke-linejoin:round; stroke-width:4; stroke-opacity:1; fill:none\" points=\"2033.65,1386.63 2179.11,1386.63 \"/>\n",
       "<path clip-path=\"url(#clip250)\" d=\"M2217.19 1406.32 Q2215.39 1410.95 2213.68 1412.36 Q2211.96 1413.78 2209.09 1413.78 L2205.69 1413.78 L2205.69 1410.21 L2208.19 1410.21 Q2209.95 1410.21 2210.92 1409.38 Q2211.89 1408.54 2213.07 1405.44 L2213.84 1403.5 L2203.35 1377.99 L2207.87 1377.99 L2215.97 1398.27 L2224.07 1377.99 L2228.58 1377.99 L2217.19 1406.32 Z\" fill=\"#000000\" fill-rule=\"nonzero\" fill-opacity=\"1\" /><path clip-path=\"url(#clip250)\" d=\"M2239.09 1399.98 L2255.41 1399.98 L2255.41 1403.91 L2233.47 1403.91 L2233.47 1399.98 Q2236.13 1397.22 2240.71 1392.6 Q2245.32 1387.94 2246.5 1386.6 Q2248.75 1384.08 2249.63 1382.34 Q2250.53 1380.58 2250.53 1378.89 Q2250.53 1376.14 2248.58 1374.4 Q2246.66 1372.66 2243.56 1372.66 Q2241.36 1372.66 2238.91 1373.43 Q2236.48 1374.19 2233.7 1375.74 L2233.7 1371.02 Q2236.52 1369.89 2238.98 1369.31 Q2241.43 1368.73 2243.47 1368.73 Q2248.84 1368.73 2252.03 1371.41 Q2255.23 1374.1 2255.23 1378.59 Q2255.23 1380.72 2254.42 1382.64 Q2253.63 1384.54 2251.52 1387.13 Q2250.94 1387.8 2247.84 1391.02 Q2244.74 1394.22 2239.09 1399.98 Z\" fill=\"#000000\" fill-rule=\"nonzero\" fill-opacity=\"1\" /></svg>\n"
      ]
     },
     "metadata": {},
     "output_type": "display_data"
    }
   ],
   "source": [
    "let θ0s = [-1, 0, 1, 2, 3]\n",
    "    let losses = [objective(list(θ0, 0.0)) for θ0 in θ0s]\n",
    "        plot(θ0s, losses, seriestype=:scatter, color=:red)\n",
    "    end\n",
    "end\n",
    "\n",
    "let θ0s = -2:0.1:4\n",
    "    let losses = [objective(list(θ0, 0.0)) for θ0 in θ0s]\n",
    "        plot!(θ0s, losses, color=:red)\n",
    "    end\n",
    "end"
   ]
  },
  {
   "cell_type": "code",
   "execution_count": 19,
   "metadata": {},
   "outputs": [
    {
     "data": {
      "text/plain": [
       "5-element Vector{Tuple{Float64}}:\n",
       " (Inf,)\n",
       " (0.5,)\n",
       " (0.35355339059327373,)\n",
       " (0.2886751345948129,)\n",
       " (0.25,)"
      ]
     },
     "metadata": {},
     "output_type": "display_data"
    }
   ],
   "source": [
    "foo(x) = sqrt(x)\n",
    "[gradient_of((θ)->foo(ref(θ, 0)), list(x)) for x in 0:4]"
   ]
  },
  {
   "cell_type": "code",
   "execution_count": 20,
   "metadata": {},
   "outputs": [
    {
     "data": {
      "text/plain": [
       "[[[0 0 0]] [[0 0 0]]]"
      ]
     },
     "metadata": {},
     "output_type": "display_data"
    }
   ],
   "source": [
    "map_star((x)->0, tensor([[1,2,3], [1,2,3]]))"
   ]
  },
  {
   "cell_type": "code",
   "execution_count": 21,
   "metadata": {},
   "outputs": [
    {
     "data": {
      "text/plain": [
       "8"
      ]
     },
     "metadata": {},
     "output_type": "display_data"
    }
   ],
   "source": [
    "2^3"
   ]
  },
  {
   "cell_type": "code",
   "execution_count": 22,
   "metadata": {},
   "outputs": [],
   "source": []
  }
 ],
 "metadata": {
  "kernelspec": {
   "display_name": "Julia 1.9.2",
   "language": "julia",
   "name": "julia-1.9"
  },
  "language_info": {
   "file_extension": ".jl",
   "mimetype": "application/julia",
   "name": "julia",
   "version": "1.9.2"
  },
  "orig_nbformat": 4
 },
 "nbformat": 4,
 "nbformat_minor": 2
}
