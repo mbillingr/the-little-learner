{
 "cells": [
  {
   "cell_type": "code",
   "execution_count": 1,
   "metadata": {},
   "outputs": [],
   "source": [
    "using Plots\n",
    "\n",
    "include(\"../src/Schemish.jl\")\n",
    "using .Schemish\n",
    "using .Schemish: zeros\n",
    "\n",
    "include(\"../src/AppendixA.jl\")\n",
    "using .AppendixA"
   ]
  },
  {
   "cell_type": "markdown",
   "metadata": {},
   "source": [
    "# 1 - The Lines Sleep Tonight"
   ]
  },
  {
   "cell_type": "code",
   "execution_count": 2,
   "metadata": {},
   "outputs": [
    {
     "data": {
      "image/png": "[encoded data removed]",
      "image/svg+xml": [
       "<?xml version=\"1.0\" encoding=\"utf-8\"?>\n",
       "<svg xmlns=\"http://www.w3.org/2000/svg\" xmlns:xlink=\"http://www.w3.org/1999/xlink\" width=\"600\" height=\"400\" viewBox=\"0 0 2400 1600\">\n",
       "<defs>\n",
       "  <clipPath id=\"clip650\">\n",
       "    <rect x=\"0\" y=\"0\" width=\"2400\" height=\"1600\"/>\n",
       "  </clipPath>\n",
       "</defs>\n",
       "<path clip-path=\"url(#clip650)\" d=\"M0 1600 L2400 1600 L2400 0 L0 0  Z\" fill=\"#ffffff\" fill-rule=\"evenodd\" fill-opacity=\"1\"/>\n",
       "<defs>\n",
       "  <clipPath id=\"clip651\">\n",
       "    <rect x=\"480\" y=\"0\" width=\"1681\" height=\"1600\"/>\n",
       "  </clipPath>\n",
       "</defs>\n",
       "<path clip-path=\"url(#clip650)\" d=\"M156.922 1486.45 L2352.76 1486.45 L2352.76 47.2441 L156.922 47.2441  Z\" fill=\"#ffffff\" fill-rule=\"evenodd\" fill-opacity=\"1\"/>\n",
       "<defs>\n",
       "  <clipPath id=\"clip652\">\n",
       "    <rect x=\"156\" y=\"47\" width=\"2197\" height=\"1440\"/>\n",
       "  </clipPath>\n",
       "</defs>\n",
       "<polyline clip-path=\"url(#clip652)\" style=\"stroke:#000000; stroke-linecap:round; stroke-linejoin:round; stroke-width:2; stroke-opacity:0.1; fill:none\" points=\"219.069,1486.45 219.069,47.2441 \"/>\n",
       "<polyline clip-path=\"url(#clip652)\" style=\"stroke:#000000; stroke-linecap:round; stroke-linejoin:round; stroke-width:2; stroke-opacity:0.1; fill:none\" points=\"909.582,1486.45 909.582,47.2441 \"/>\n",
       "<polyline clip-path=\"url(#clip652)\" style=\"stroke:#000000; stroke-linecap:round; stroke-linejoin:round; stroke-width:2; stroke-opacity:0.1; fill:none\" points=\"1600.1,1486.45 1600.1,47.2441 \"/>\n",
       "<polyline clip-path=\"url(#clip652)\" style=\"stroke:#000000; stroke-linecap:round; stroke-linejoin:round; stroke-width:2; stroke-opacity:0.1; fill:none\" points=\"2290.61,1486.45 2290.61,47.2441 \"/>\n",
       "<polyline clip-path=\"url(#clip650)\" style=\"stroke:#000000; stroke-linecap:round; stroke-linejoin:round; stroke-width:4; stroke-opacity:1; fill:none\" points=\"156.922,1486.45 2352.76,1486.45 \"/>\n",
       "<polyline clip-path=\"url(#clip650)\" style=\"stroke:#000000; stroke-linecap:round; stroke-linejoin:round; stroke-width:4; stroke-opacity:1; fill:none\" points=\"219.069,1486.45 219.069,1467.55 \"/>\n",
       "<polyline clip-path=\"url(#clip650)\" style=\"stroke:#000000; stroke-linecap:round; stroke-linejoin:round; stroke-width:4; stroke-opacity:1; fill:none\" points=\"909.582,1486.45 909.582,1467.55 \"/>\n",
       "<polyline clip-path=\"url(#clip650)\" style=\"stroke:#000000; stroke-linecap:round; stroke-linejoin:round; stroke-width:4; stroke-opacity:1; fill:none\" points=\"1600.1,1486.45 1600.1,1467.55 \"/>\n",
       "<polyline clip-path=\"url(#clip650)\" style=\"stroke:#000000; stroke-linecap:round; stroke-linejoin:round; stroke-width:4; stroke-opacity:1; fill:none\" points=\"2290.61,1486.45 2290.61,1467.55 \"/>\n",
       "<path clip-path=\"url(#clip650)\" d=\"M209.451 1544.91 L217.089 1544.91 L217.089 1518.55 L208.779 1520.21 L208.779 1515.95 L217.043 1514.29 L221.719 1514.29 L221.719 1544.91 L229.358 1544.91 L229.358 1548.85 L209.451 1548.85 L209.451 1544.91 Z\" fill=\"#000000\" fill-rule=\"nonzero\" fill-opacity=\"1\" /><path clip-path=\"url(#clip650)\" d=\"M904.235 1544.91 L920.554 1544.91 L920.554 1548.85 L898.61 1548.85 L898.61 1544.91 Q901.272 1542.16 905.855 1537.53 Q910.462 1532.88 911.642 1531.53 Q913.888 1529.01 914.767 1527.27 Q915.67 1525.51 915.67 1523.82 Q915.67 1521.07 913.726 1519.33 Q911.804 1517.6 908.703 1517.6 Q906.504 1517.6 904.05 1518.36 Q901.619 1519.13 898.842 1520.68 L898.842 1515.95 Q901.666 1514.82 904.119 1514.24 Q906.573 1513.66 908.61 1513.66 Q913.98 1513.66 917.175 1516.35 Q920.369 1519.03 920.369 1523.52 Q920.369 1525.65 919.559 1527.57 Q918.772 1529.47 916.666 1532.07 Q916.087 1532.74 912.985 1535.95 Q909.883 1539.15 904.235 1544.91 Z\" fill=\"#000000\" fill-rule=\"nonzero\" fill-opacity=\"1\" /><path clip-path=\"url(#clip650)\" d=\"M1604.34 1530.21 Q1607.7 1530.93 1609.58 1533.2 Q1611.47 1535.47 1611.47 1538.8 Q1611.47 1543.92 1607.95 1546.72 Q1604.44 1549.52 1597.95 1549.52 Q1595.78 1549.52 1593.46 1549.08 Q1591.17 1548.66 1588.72 1547.81 L1588.72 1543.29 Q1590.66 1544.43 1592.98 1545.01 Q1595.29 1545.58 1597.82 1545.58 Q1602.21 1545.58 1604.51 1543.85 Q1606.82 1542.11 1606.82 1538.8 Q1606.82 1535.75 1604.67 1534.03 Q1602.54 1532.3 1598.72 1532.3 L1594.69 1532.3 L1594.69 1528.45 L1598.9 1528.45 Q1602.35 1528.45 1604.18 1527.09 Q1606.01 1525.7 1606.01 1523.11 Q1606.01 1520.45 1604.11 1519.03 Q1602.24 1517.6 1598.72 1517.6 Q1596.8 1517.6 1594.6 1518.01 Q1592.4 1518.43 1589.76 1519.31 L1589.76 1515.14 Q1592.42 1514.4 1594.74 1514.03 Q1597.08 1513.66 1599.14 1513.66 Q1604.46 1513.66 1607.56 1516.09 Q1610.66 1518.5 1610.66 1522.62 Q1610.66 1525.49 1609.02 1527.48 Q1607.38 1529.45 1604.34 1530.21 Z\" fill=\"#000000\" fill-rule=\"nonzero\" fill-opacity=\"1\" /><path clip-path=\"url(#clip650)\" d=\"M2293.62 1518.36 L2281.81 1536.81 L2293.62 1536.81 L2293.62 1518.36 M2292.39 1514.29 L2298.27 1514.29 L2298.27 1536.81 L2303.2 1536.81 L2303.2 1540.7 L2298.27 1540.7 L2298.27 1548.85 L2293.62 1548.85 L2293.62 1540.7 L2278.02 1540.7 L2278.02 1536.19 L2292.39 1514.29 Z\" fill=\"#000000\" fill-rule=\"nonzero\" fill-opacity=\"1\" /><polyline clip-path=\"url(#clip652)\" style=\"stroke:#000000; stroke-linecap:round; stroke-linejoin:round; stroke-width:2; stroke-opacity:0.1; fill:none\" points=\"156.922,1309.94 2352.76,1309.94 \"/>\n",
       "<polyline clip-path=\"url(#clip652)\" style=\"stroke:#000000; stroke-linecap:round; stroke-linejoin:round; stroke-width:2; stroke-opacity:0.1; fill:none\" points=\"156.922,1083.65 2352.76,1083.65 \"/>\n",
       "<polyline clip-path=\"url(#clip652)\" style=\"stroke:#000000; stroke-linecap:round; stroke-linejoin:round; stroke-width:2; stroke-opacity:0.1; fill:none\" points=\"156.922,857.362 2352.76,857.362 \"/>\n",
       "<polyline clip-path=\"url(#clip652)\" style=\"stroke:#000000; stroke-linecap:round; stroke-linejoin:round; stroke-width:2; stroke-opacity:0.1; fill:none\" points=\"156.922,631.072 2352.76,631.072 \"/>\n",
       "<polyline clip-path=\"url(#clip652)\" style=\"stroke:#000000; stroke-linecap:round; stroke-linejoin:round; stroke-width:2; stroke-opacity:0.1; fill:none\" points=\"156.922,404.782 2352.76,404.782 \"/>\n",
       "<polyline clip-path=\"url(#clip652)\" style=\"stroke:#000000; stroke-linecap:round; stroke-linejoin:round; stroke-width:2; stroke-opacity:0.1; fill:none\" points=\"156.922,178.492 2352.76,178.492 \"/>\n",
       "<polyline clip-path=\"url(#clip650)\" style=\"stroke:#000000; stroke-linecap:round; stroke-linejoin:round; stroke-width:4; stroke-opacity:1; fill:none\" points=\"156.922,1486.45 156.922,47.2441 \"/>\n",
       "<polyline clip-path=\"url(#clip650)\" style=\"stroke:#000000; stroke-linecap:round; stroke-linejoin:round; stroke-width:4; stroke-opacity:1; fill:none\" points=\"156.922,1309.94 175.82,1309.94 \"/>\n",
       "<polyline clip-path=\"url(#clip650)\" style=\"stroke:#000000; stroke-linecap:round; stroke-linejoin:round; stroke-width:4; stroke-opacity:1; fill:none\" points=\"156.922,1083.65 175.82,1083.65 \"/>\n",
       "<polyline clip-path=\"url(#clip650)\" style=\"stroke:#000000; stroke-linecap:round; stroke-linejoin:round; stroke-width:4; stroke-opacity:1; fill:none\" points=\"156.922,857.362 175.82,857.362 \"/>\n",
       "<polyline clip-path=\"url(#clip650)\" style=\"stroke:#000000; stroke-linecap:round; stroke-linejoin:round; stroke-width:4; stroke-opacity:1; fill:none\" points=\"156.922,631.072 175.82,631.072 \"/>\n",
       "<polyline clip-path=\"url(#clip650)\" style=\"stroke:#000000; stroke-linecap:round; stroke-linejoin:round; stroke-width:4; stroke-opacity:1; fill:none\" points=\"156.922,404.782 175.82,404.782 \"/>\n",
       "<polyline clip-path=\"url(#clip650)\" style=\"stroke:#000000; stroke-linecap:round; stroke-linejoin:round; stroke-width:4; stroke-opacity:1; fill:none\" points=\"156.922,178.492 175.82,178.492 \"/>\n",
       "<path clip-path=\"url(#clip650)\" d=\"M55.5523 1323.29 L63.1911 1323.29 L63.1911 1296.92 L54.881 1298.59 L54.881 1294.33 L63.1448 1292.66 L67.8207 1292.66 L67.8207 1323.29 L75.4596 1323.29 L75.4596 1327.22 L55.5523 1327.22 L55.5523 1323.29 Z\" fill=\"#000000\" fill-rule=\"nonzero\" fill-opacity=\"1\" /><path clip-path=\"url(#clip650)\" d=\"M84.904 1321.34 L89.7882 1321.34 L89.7882 1327.22 L84.904 1327.22 L84.904 1321.34 Z\" fill=\"#000000\" fill-rule=\"nonzero\" fill-opacity=\"1\" /><path clip-path=\"url(#clip650)\" d=\"M100.02 1292.66 L118.376 1292.66 L118.376 1296.6 L104.302 1296.6 L104.302 1305.07 Q105.321 1304.72 106.339 1304.56 Q107.358 1304.37 108.376 1304.37 Q114.163 1304.37 117.543 1307.55 Q120.922 1310.72 120.922 1316.13 Q120.922 1321.71 117.45 1324.81 Q113.978 1327.89 107.658 1327.89 Q105.483 1327.89 103.214 1327.52 Q100.969 1327.15 98.5613 1326.41 L98.5613 1321.71 Q100.645 1322.85 102.867 1323.4 Q105.089 1323.96 107.566 1323.96 Q111.571 1323.96 113.908 1321.85 Q116.246 1319.74 116.246 1316.13 Q116.246 1312.52 113.908 1310.42 Q111.571 1308.31 107.566 1308.31 Q105.691 1308.31 103.816 1308.73 Q101.964 1309.14 100.02 1310.02 L100.02 1292.66 Z\" fill=\"#000000\" fill-rule=\"nonzero\" fill-opacity=\"1\" /><path clip-path=\"url(#clip650)\" d=\"M57.7745 1097 L74.0939 1097 L74.0939 1100.93 L52.1495 1100.93 L52.1495 1097 Q54.8115 1094.24 59.3949 1089.61 Q64.0013 1084.96 65.1819 1083.62 Q67.4272 1081.09 68.3068 1079.36 Q69.2096 1077.6 69.2096 1075.91 Q69.2096 1073.15 67.2652 1071.42 Q65.3439 1069.68 62.2421 1069.68 Q60.043 1069.68 57.5893 1070.45 Q55.1588 1071.21 52.381 1072.76 L52.381 1068.04 Q55.2051 1066.9 57.6588 1066.33 Q60.1124 1065.75 62.1495 1065.75 Q67.5198 1065.75 70.7142 1068.43 Q73.9087 1071.12 73.9087 1075.61 Q73.9087 1077.74 73.0985 1079.66 Q72.3115 1081.56 70.205 1084.15 Q69.6263 1084.82 66.5245 1088.04 Q63.4226 1091.23 57.7745 1097 Z\" fill=\"#000000\" fill-rule=\"nonzero\" fill-opacity=\"1\" /><path clip-path=\"url(#clip650)\" d=\"M83.9086 1095.05 L88.7928 1095.05 L88.7928 1100.93 L83.9086 1100.93 L83.9086 1095.05 Z\" fill=\"#000000\" fill-rule=\"nonzero\" fill-opacity=\"1\" /><path clip-path=\"url(#clip650)\" d=\"M108.978 1069.45 Q105.367 1069.45 103.538 1073.02 Q101.733 1076.56 101.733 1083.69 Q101.733 1090.79 103.538 1094.36 Q105.367 1097.9 108.978 1097.9 Q112.612 1097.9 114.418 1094.36 Q116.246 1090.79 116.246 1083.69 Q116.246 1076.56 114.418 1073.02 Q112.612 1069.45 108.978 1069.45 M108.978 1065.75 Q114.788 1065.75 117.844 1070.35 Q120.922 1074.94 120.922 1083.69 Q120.922 1092.41 117.844 1097.02 Q114.788 1101.6 108.978 1101.6 Q103.168 1101.6 100.089 1097.02 Q97.0335 1092.41 97.0335 1083.69 Q97.0335 1074.94 100.089 1070.35 Q103.168 1065.75 108.978 1065.75 Z\" fill=\"#000000\" fill-rule=\"nonzero\" fill-opacity=\"1\" /><path clip-path=\"url(#clip650)\" d=\"M58.7699 870.707 L75.0892 870.707 L75.0892 874.642 L53.1449 874.642 L53.1449 870.707 Q55.8069 867.952 60.3902 863.323 Q64.9967 858.67 66.1772 857.327 Q68.4226 854.804 69.3022 853.068 Q70.205 851.309 70.205 849.619 Q70.205 846.864 68.2606 845.128 Q66.3393 843.392 63.2374 843.392 Q61.0384 843.392 58.5847 844.156 Q56.1541 844.92 53.3764 846.471 L53.3764 841.749 Q56.2004 840.614 58.6541 840.036 Q61.1078 839.457 63.1448 839.457 Q68.5152 839.457 71.7096 842.142 Q74.904 844.827 74.904 849.318 Q74.904 851.448 74.0939 853.369 Q73.3068 855.267 71.2004 857.86 Q70.6217 858.531 67.5198 861.748 Q64.418 864.943 58.7699 870.707 Z\" fill=\"#000000\" fill-rule=\"nonzero\" fill-opacity=\"1\" /><path clip-path=\"url(#clip650)\" d=\"M84.904 868.762 L89.7882 868.762 L89.7882 874.642 L84.904 874.642 L84.904 868.762 Z\" fill=\"#000000\" fill-rule=\"nonzero\" fill-opacity=\"1\" /><path clip-path=\"url(#clip650)\" d=\"M100.02 840.082 L118.376 840.082 L118.376 844.017 L104.302 844.017 L104.302 852.489 Q105.321 852.142 106.339 851.98 Q107.358 851.795 108.376 851.795 Q114.163 851.795 117.543 854.966 Q120.922 858.137 120.922 863.554 Q120.922 869.133 117.45 872.235 Q113.978 875.313 107.658 875.313 Q105.483 875.313 103.214 874.943 Q100.969 874.573 98.5613 873.832 L98.5613 869.133 Q100.645 870.267 102.867 870.823 Q105.089 871.378 107.566 871.378 Q111.571 871.378 113.908 869.272 Q116.246 867.165 116.246 863.554 Q116.246 859.943 113.908 857.836 Q111.571 855.73 107.566 855.73 Q105.691 855.73 103.816 856.147 Q101.964 856.563 100.02 857.443 L100.02 840.082 Z\" fill=\"#000000\" fill-rule=\"nonzero\" fill-opacity=\"1\" /><path clip-path=\"url(#clip650)\" d=\"M67.9133 629.718 Q71.2698 630.435 73.1448 632.704 Q75.0429 634.972 75.0429 638.306 Q75.0429 643.422 71.5244 646.222 Q68.0059 649.023 61.5245 649.023 Q59.3486 649.023 57.0338 648.584 Q54.7421 648.167 52.2884 647.31 L52.2884 642.797 Q54.2328 643.931 56.5477 644.509 Q58.8625 645.088 61.3856 645.088 Q65.7837 645.088 68.0754 643.352 Q70.3902 641.616 70.3902 638.306 Q70.3902 635.25 68.2374 633.537 Q66.1078 631.801 62.2884 631.801 L58.2606 631.801 L58.2606 627.959 L62.4735 627.959 Q65.9226 627.959 67.7513 626.593 Q69.58 625.204 69.58 622.611 Q69.58 619.949 67.6819 618.537 Q65.8069 617.102 62.2884 617.102 Q60.3671 617.102 58.168 617.519 Q55.969 617.936 53.3301 618.815 L53.3301 614.649 Q55.9921 613.908 58.3069 613.537 Q60.6449 613.167 62.705 613.167 Q68.0291 613.167 71.1309 615.598 Q74.2327 618.005 74.2327 622.125 Q74.2327 624.996 72.5892 626.986 Q70.9457 628.954 67.9133 629.718 Z\" fill=\"#000000\" fill-rule=\"nonzero\" fill-opacity=\"1\" /><path clip-path=\"url(#clip650)\" d=\"M83.9086 642.472 L88.7928 642.472 L88.7928 648.352 L83.9086 648.352 L83.9086 642.472 Z\" fill=\"#000000\" fill-rule=\"nonzero\" fill-opacity=\"1\" /><path clip-path=\"url(#clip650)\" d=\"M108.978 616.871 Q105.367 616.871 103.538 620.436 Q101.733 623.977 101.733 631.107 Q101.733 638.213 103.538 641.778 Q105.367 645.32 108.978 645.32 Q112.612 645.32 114.418 641.778 Q116.246 638.213 116.246 631.107 Q116.246 623.977 114.418 620.436 Q112.612 616.871 108.978 616.871 M108.978 613.167 Q114.788 613.167 117.844 617.774 Q120.922 622.357 120.922 631.107 Q120.922 639.834 117.844 644.44 Q114.788 649.023 108.978 649.023 Q103.168 649.023 100.089 644.44 Q97.0335 639.834 97.0335 631.107 Q97.0335 622.357 100.089 617.774 Q103.168 613.167 108.978 613.167 Z\" fill=\"#000000\" fill-rule=\"nonzero\" fill-opacity=\"1\" /><path clip-path=\"url(#clip650)\" d=\"M68.9087 403.428 Q72.2652 404.146 74.1402 406.414 Q76.0383 408.683 76.0383 412.016 Q76.0383 417.132 72.5198 419.933 Q69.0013 422.733 62.5198 422.733 Q60.3439 422.733 58.0291 422.294 Q55.7375 421.877 53.2838 421.02 L53.2838 416.507 Q55.2282 417.641 57.543 418.22 Q59.8578 418.798 62.381 418.798 Q66.7791 418.798 69.0707 417.062 Q71.3855 415.326 71.3855 412.016 Q71.3855 408.96 69.2328 407.247 Q67.1032 405.511 63.2837 405.511 L59.256 405.511 L59.256 401.669 L63.4689 401.669 Q66.918 401.669 68.7467 400.303 Q70.5754 398.914 70.5754 396.322 Q70.5754 393.66 68.6772 392.247 Q66.8022 390.812 63.2837 390.812 Q61.3624 390.812 59.1634 391.229 Q56.9643 391.646 54.3254 392.525 L54.3254 388.359 Q56.9875 387.618 59.3023 387.248 Q61.6402 386.877 63.7004 386.877 Q69.0244 386.877 72.1263 389.308 Q75.2281 391.715 75.2281 395.835 Q75.2281 398.706 73.5846 400.697 Q71.9411 402.664 68.9087 403.428 Z\" fill=\"#000000\" fill-rule=\"nonzero\" fill-opacity=\"1\" /><path clip-path=\"url(#clip650)\" d=\"M84.904 416.183 L89.7882 416.183 L89.7882 422.062 L84.904 422.062 L84.904 416.183 Z\" fill=\"#000000\" fill-rule=\"nonzero\" fill-opacity=\"1\" /><path clip-path=\"url(#clip650)\" d=\"M100.02 387.502 L118.376 387.502 L118.376 391.437 L104.302 391.437 L104.302 399.909 Q105.321 399.562 106.339 399.4 Q107.358 399.215 108.376 399.215 Q114.163 399.215 117.543 402.386 Q120.922 405.558 120.922 410.974 Q120.922 416.553 117.45 419.655 Q113.978 422.733 107.658 422.733 Q105.483 422.733 103.214 422.363 Q100.969 421.993 98.5613 421.252 L98.5613 416.553 Q100.645 417.687 102.867 418.243 Q105.089 418.798 107.566 418.798 Q111.571 418.798 113.908 416.692 Q116.246 414.585 116.246 410.974 Q116.246 407.363 113.908 405.257 Q111.571 403.15 107.566 403.15 Q105.691 403.15 103.816 403.567 Q101.964 403.984 100.02 404.863 L100.02 387.502 Z\" fill=\"#000000\" fill-rule=\"nonzero\" fill-opacity=\"1\" /><path clip-path=\"url(#clip650)\" d=\"M66.5939 165.286 L54.7884 183.735 L66.5939 183.735 L66.5939 165.286 M65.367 161.212 L71.2466 161.212 L71.2466 183.735 L76.1772 183.735 L76.1772 187.624 L71.2466 187.624 L71.2466 195.772 L66.5939 195.772 L66.5939 187.624 L50.9921 187.624 L50.9921 183.11 L65.367 161.212 Z\" fill=\"#000000\" fill-rule=\"nonzero\" fill-opacity=\"1\" /><path clip-path=\"url(#clip650)\" d=\"M83.9086 189.893 L88.7928 189.893 L88.7928 195.772 L83.9086 195.772 L83.9086 189.893 Z\" fill=\"#000000\" fill-rule=\"nonzero\" fill-opacity=\"1\" /><path clip-path=\"url(#clip650)\" d=\"M108.978 164.291 Q105.367 164.291 103.538 167.856 Q101.733 171.397 101.733 178.527 Q101.733 185.633 103.538 189.198 Q105.367 192.74 108.978 192.74 Q112.612 192.74 114.418 189.198 Q116.246 185.633 116.246 178.527 Q116.246 171.397 114.418 167.856 Q112.612 164.291 108.978 164.291 M108.978 160.587 Q114.788 160.587 117.844 165.194 Q120.922 169.777 120.922 178.527 Q120.922 187.254 117.844 191.86 Q114.788 196.444 108.978 196.444 Q103.168 196.444 100.089 191.86 Q97.0335 187.254 97.0335 178.527 Q97.0335 169.777 100.089 165.194 Q103.168 160.587 108.978 160.587 Z\" fill=\"#000000\" fill-rule=\"nonzero\" fill-opacity=\"1\" /><circle clip-path=\"url(#clip652)\" cx=\"909.582\" cy=\"1174.17\" r=\"14.4\" fill=\"#009af9\" fill-rule=\"evenodd\" fill-opacity=\"1\" stroke=\"#000000\" stroke-opacity=\"1\" stroke-width=\"3.2\"/>\n",
       "<circle clip-path=\"url(#clip652)\" cx=\"219.069\" cy=\"1445.72\" r=\"14.4\" fill=\"#009af9\" fill-rule=\"evenodd\" fill-opacity=\"1\" stroke=\"#000000\" stroke-opacity=\"1\" stroke-width=\"3.2\"/>\n",
       "<circle clip-path=\"url(#clip652)\" cx=\"2290.61\" cy=\"87.9763\" r=\"14.4\" fill=\"#009af9\" fill-rule=\"evenodd\" fill-opacity=\"1\" stroke=\"#000000\" stroke-opacity=\"1\" stroke-width=\"3.2\"/>\n",
       "<circle clip-path=\"url(#clip652)\" cx=\"1600.1\" cy=\"495.298\" r=\"14.4\" fill=\"#009af9\" fill-rule=\"evenodd\" fill-opacity=\"1\" stroke=\"#000000\" stroke-opacity=\"1\" stroke-width=\"3.2\"/>\n",
       "<path clip-path=\"url(#clip650)\" d=\"M230.117 198.898 L502.13 198.898 L502.13 95.2176 L230.117 95.2176  Z\" fill=\"#ffffff\" fill-rule=\"evenodd\" fill-opacity=\"1\"/>\n",
       "<polyline clip-path=\"url(#clip650)\" style=\"stroke:#000000; stroke-linecap:round; stroke-linejoin:round; stroke-width:4; stroke-opacity:1; fill:none\" points=\"230.117,198.898 502.13,198.898 502.13,95.2176 230.117,95.2176 230.117,198.898 \"/>\n",
       "<circle clip-path=\"url(#clip650)\" cx=\"327.709\" cy=\"147.058\" r=\"20.48\" fill=\"#009af9\" fill-rule=\"evenodd\" fill-opacity=\"1\" stroke=\"#000000\" stroke-opacity=\"1\" stroke-width=\"4.55111\"/>\n",
       "<path clip-path=\"url(#clip650)\" d=\"M439.144 166.745 Q437.339 171.375 435.626 172.787 Q433.913 174.199 431.043 174.199 L427.64 174.199 L427.64 170.634 L430.14 170.634 Q431.899 170.634 432.871 169.8 Q433.844 168.967 435.024 165.865 L435.788 163.921 L425.302 138.412 L429.816 138.412 L437.918 158.689 L446.019 138.412 L450.533 138.412 L439.144 166.745 Z\" fill=\"#000000\" fill-rule=\"nonzero\" fill-opacity=\"1\" /><path clip-path=\"url(#clip650)\" d=\"M457.825 160.402 L465.464 160.402 L465.464 134.037 L457.154 135.703 L457.154 131.444 L465.417 129.778 L470.093 129.778 L470.093 160.402 L477.732 160.402 L477.732 164.338 L457.825 164.338 L457.825 160.402 Z\" fill=\"#000000\" fill-rule=\"nonzero\" fill-opacity=\"1\" /></svg>\n"
      ],
      "text/html": [
       "<?xml version=\"1.0\" encoding=\"utf-8\"?>\n",
       "<svg xmlns=\"http://www.w3.org/2000/svg\" xmlns:xlink=\"http://www.w3.org/1999/xlink\" width=\"600\" height=\"400\" viewBox=\"0 0 2400 1600\">\n",
       "<defs>\n",
       "  <clipPath id=\"clip700\">\n",
       "    <rect x=\"0\" y=\"0\" width=\"2400\" height=\"1600\"/>\n",
       "  </clipPath>\n",
       "</defs>\n",
       "<path clip-path=\"url(#clip700)\" d=\"M0 1600 L2400 1600 L2400 0 L0 0  Z\" fill=\"#ffffff\" fill-rule=\"evenodd\" fill-opacity=\"1\"/>\n",
       "<defs>\n",
       "  <clipPath id=\"clip701\">\n",
       "    <rect x=\"480\" y=\"0\" width=\"1681\" height=\"1600\"/>\n",
       "  </clipPath>\n",
       "</defs>\n",
       "<path clip-path=\"url(#clip700)\" d=\"M156.922 1486.45 L2352.76 1486.45 L2352.76 47.2441 L156.922 47.2441  Z\" fill=\"#ffffff\" fill-rule=\"evenodd\" fill-opacity=\"1\"/>\n",
       "<defs>\n",
       "  <clipPath id=\"clip702\">\n",
       "    <rect x=\"156\" y=\"47\" width=\"2197\" height=\"1440\"/>\n",
       "  </clipPath>\n",
       "</defs>\n",
       "<polyline clip-path=\"url(#clip702)\" style=\"stroke:#000000; stroke-linecap:round; stroke-linejoin:round; stroke-width:2; stroke-opacity:0.1; fill:none\" points=\"219.069,1486.45 219.069,47.2441 \"/>\n",
       "<polyline clip-path=\"url(#clip702)\" style=\"stroke:#000000; stroke-linecap:round; stroke-linejoin:round; stroke-width:2; stroke-opacity:0.1; fill:none\" points=\"909.582,1486.45 909.582,47.2441 \"/>\n",
       "<polyline clip-path=\"url(#clip702)\" style=\"stroke:#000000; stroke-linecap:round; stroke-linejoin:round; stroke-width:2; stroke-opacity:0.1; fill:none\" points=\"1600.1,1486.45 1600.1,47.2441 \"/>\n",
       "<polyline clip-path=\"url(#clip702)\" style=\"stroke:#000000; stroke-linecap:round; stroke-linejoin:round; stroke-width:2; stroke-opacity:0.1; fill:none\" points=\"2290.61,1486.45 2290.61,47.2441 \"/>\n",
       "<polyline clip-path=\"url(#clip700)\" style=\"stroke:#000000; stroke-linecap:round; stroke-linejoin:round; stroke-width:4; stroke-opacity:1; fill:none\" points=\"156.922,1486.45 2352.76,1486.45 \"/>\n",
       "<polyline clip-path=\"url(#clip700)\" style=\"stroke:#000000; stroke-linecap:round; stroke-linejoin:round; stroke-width:4; stroke-opacity:1; fill:none\" points=\"219.069,1486.45 219.069,1467.55 \"/>\n",
       "<polyline clip-path=\"url(#clip700)\" style=\"stroke:#000000; stroke-linecap:round; stroke-linejoin:round; stroke-width:4; stroke-opacity:1; fill:none\" points=\"909.582,1486.45 909.582,1467.55 \"/>\n",
       "<polyline clip-path=\"url(#clip700)\" style=\"stroke:#000000; stroke-linecap:round; stroke-linejoin:round; stroke-width:4; stroke-opacity:1; fill:none\" points=\"1600.1,1486.45 1600.1,1467.55 \"/>\n",
       "<polyline clip-path=\"url(#clip700)\" style=\"stroke:#000000; stroke-linecap:round; stroke-linejoin:round; stroke-width:4; stroke-opacity:1; fill:none\" points=\"2290.61,1486.45 2290.61,1467.55 \"/>\n",
       "<path clip-path=\"url(#clip700)\" d=\"M209.451 1544.91 L217.089 1544.91 L217.089 1518.55 L208.779 1520.21 L208.779 1515.95 L217.043 1514.29 L221.719 1514.29 L221.719 1544.91 L229.358 1544.91 L229.358 1548.85 L209.451 1548.85 L209.451 1544.91 Z\" fill=\"#000000\" fill-rule=\"nonzero\" fill-opacity=\"1\" /><path clip-path=\"url(#clip700)\" d=\"M904.235 1544.91 L920.554 1544.91 L920.554 1548.85 L898.61 1548.85 L898.61 1544.91 Q901.272 1542.16 905.855 1537.53 Q910.462 1532.88 911.642 1531.53 Q913.888 1529.01 914.767 1527.27 Q915.67 1525.51 915.67 1523.82 Q915.67 1521.07 913.726 1519.33 Q911.804 1517.6 908.703 1517.6 Q906.504 1517.6 904.05 1518.36 Q901.619 1519.13 898.842 1520.68 L898.842 1515.95 Q901.666 1514.82 904.119 1514.24 Q906.573 1513.66 908.61 1513.66 Q913.98 1513.66 917.175 1516.35 Q920.369 1519.03 920.369 1523.52 Q920.369 1525.65 919.559 1527.57 Q918.772 1529.47 916.666 1532.07 Q916.087 1532.74 912.985 1535.95 Q909.883 1539.15 904.235 1544.91 Z\" fill=\"#000000\" fill-rule=\"nonzero\" fill-opacity=\"1\" /><path clip-path=\"url(#clip700)\" d=\"M1604.34 1530.21 Q1607.7 1530.93 1609.58 1533.2 Q1611.47 1535.47 1611.47 1538.8 Q1611.47 1543.92 1607.95 1546.72 Q1604.44 1549.52 1597.95 1549.52 Q1595.78 1549.52 1593.46 1549.08 Q1591.17 1548.66 1588.72 1547.81 L1588.72 1543.29 Q1590.66 1544.43 1592.98 1545.01 Q1595.29 1545.58 1597.82 1545.58 Q1602.21 1545.58 1604.51 1543.85 Q1606.82 1542.11 1606.82 1538.8 Q1606.82 1535.75 1604.67 1534.03 Q1602.54 1532.3 1598.72 1532.3 L1594.69 1532.3 L1594.69 1528.45 L1598.9 1528.45 Q1602.35 1528.45 1604.18 1527.09 Q1606.01 1525.7 1606.01 1523.11 Q1606.01 1520.45 1604.11 1519.03 Q1602.24 1517.6 1598.72 1517.6 Q1596.8 1517.6 1594.6 1518.01 Q1592.4 1518.43 1589.76 1519.31 L1589.76 1515.14 Q1592.42 1514.4 1594.74 1514.03 Q1597.08 1513.66 1599.14 1513.66 Q1604.46 1513.66 1607.56 1516.09 Q1610.66 1518.5 1610.66 1522.62 Q1610.66 1525.49 1609.02 1527.48 Q1607.38 1529.45 1604.34 1530.21 Z\" fill=\"#000000\" fill-rule=\"nonzero\" fill-opacity=\"1\" /><path clip-path=\"url(#clip700)\" d=\"M2293.62 1518.36 L2281.81 1536.81 L2293.62 1536.81 L2293.62 1518.36 M2292.39 1514.29 L2298.27 1514.29 L2298.27 1536.81 L2303.2 1536.81 L2303.2 1540.7 L2298.27 1540.7 L2298.27 1548.85 L2293.62 1548.85 L2293.62 1540.7 L2278.02 1540.7 L2278.02 1536.19 L2292.39 1514.29 Z\" fill=\"#000000\" fill-rule=\"nonzero\" fill-opacity=\"1\" /><polyline clip-path=\"url(#clip702)\" style=\"stroke:#000000; stroke-linecap:round; stroke-linejoin:round; stroke-width:2; stroke-opacity:0.1; fill:none\" points=\"156.922,1309.94 2352.76,1309.94 \"/>\n",
       "<polyline clip-path=\"url(#clip702)\" style=\"stroke:#000000; stroke-linecap:round; stroke-linejoin:round; stroke-width:2; stroke-opacity:0.1; fill:none\" points=\"156.922,1083.65 2352.76,1083.65 \"/>\n",
       "<polyline clip-path=\"url(#clip702)\" style=\"stroke:#000000; stroke-linecap:round; stroke-linejoin:round; stroke-width:2; stroke-opacity:0.1; fill:none\" points=\"156.922,857.362 2352.76,857.362 \"/>\n",
       "<polyline clip-path=\"url(#clip702)\" style=\"stroke:#000000; stroke-linecap:round; stroke-linejoin:round; stroke-width:2; stroke-opacity:0.1; fill:none\" points=\"156.922,631.072 2352.76,631.072 \"/>\n",
       "<polyline clip-path=\"url(#clip702)\" style=\"stroke:#000000; stroke-linecap:round; stroke-linejoin:round; stroke-width:2; stroke-opacity:0.1; fill:none\" points=\"156.922,404.782 2352.76,404.782 \"/>\n",
       "<polyline clip-path=\"url(#clip702)\" style=\"stroke:#000000; stroke-linecap:round; stroke-linejoin:round; stroke-width:2; stroke-opacity:0.1; fill:none\" points=\"156.922,178.492 2352.76,178.492 \"/>\n",
       "<polyline clip-path=\"url(#clip700)\" style=\"stroke:#000000; stroke-linecap:round; stroke-linejoin:round; stroke-width:4; stroke-opacity:1; fill:none\" points=\"156.922,1486.45 156.922,47.2441 \"/>\n",
       "<polyline clip-path=\"url(#clip700)\" style=\"stroke:#000000; stroke-linecap:round; stroke-linejoin:round; stroke-width:4; stroke-opacity:1; fill:none\" points=\"156.922,1309.94 175.82,1309.94 \"/>\n",
       "<polyline clip-path=\"url(#clip700)\" style=\"stroke:#000000; stroke-linecap:round; stroke-linejoin:round; stroke-width:4; stroke-opacity:1; fill:none\" points=\"156.922,1083.65 175.82,1083.65 \"/>\n",
       "<polyline clip-path=\"url(#clip700)\" style=\"stroke:#000000; stroke-linecap:round; stroke-linejoin:round; stroke-width:4; stroke-opacity:1; fill:none\" points=\"156.922,857.362 175.82,857.362 \"/>\n",
       "<polyline clip-path=\"url(#clip700)\" style=\"stroke:#000000; stroke-linecap:round; stroke-linejoin:round; stroke-width:4; stroke-opacity:1; fill:none\" points=\"156.922,631.072 175.82,631.072 \"/>\n",
       "<polyline clip-path=\"url(#clip700)\" style=\"stroke:#000000; stroke-linecap:round; stroke-linejoin:round; stroke-width:4; stroke-opacity:1; fill:none\" points=\"156.922,404.782 175.82,404.782 \"/>\n",
       "<polyline clip-path=\"url(#clip700)\" style=\"stroke:#000000; stroke-linecap:round; stroke-linejoin:round; stroke-width:4; stroke-opacity:1; fill:none\" points=\"156.922,178.492 175.82,178.492 \"/>\n",
       "<path clip-path=\"url(#clip700)\" d=\"M55.5523 1323.29 L63.1911 1323.29 L63.1911 1296.92 L54.881 1298.59 L54.881 1294.33 L63.1448 1292.66 L67.8207 1292.66 L67.8207 1323.29 L75.4596 1323.29 L75.4596 1327.22 L55.5523 1327.22 L55.5523 1323.29 Z\" fill=\"#000000\" fill-rule=\"nonzero\" fill-opacity=\"1\" /><path clip-path=\"url(#clip700)\" d=\"M84.904 1321.34 L89.7882 1321.34 L89.7882 1327.22 L84.904 1327.22 L84.904 1321.34 Z\" fill=\"#000000\" fill-rule=\"nonzero\" fill-opacity=\"1\" /><path clip-path=\"url(#clip700)\" d=\"M100.02 1292.66 L118.376 1292.66 L118.376 1296.6 L104.302 1296.6 L104.302 1305.07 Q105.321 1304.72 106.339 1304.56 Q107.358 1304.37 108.376 1304.37 Q114.163 1304.37 117.543 1307.55 Q120.922 1310.72 120.922 1316.13 Q120.922 1321.71 117.45 1324.81 Q113.978 1327.89 107.658 1327.89 Q105.483 1327.89 103.214 1327.52 Q100.969 1327.15 98.5613 1326.41 L98.5613 1321.71 Q100.645 1322.85 102.867 1323.4 Q105.089 1323.96 107.566 1323.96 Q111.571 1323.96 113.908 1321.85 Q116.246 1319.74 116.246 1316.13 Q116.246 1312.52 113.908 1310.42 Q111.571 1308.31 107.566 1308.31 Q105.691 1308.31 103.816 1308.73 Q101.964 1309.14 100.02 1310.02 L100.02 1292.66 Z\" fill=\"#000000\" fill-rule=\"nonzero\" fill-opacity=\"1\" /><path clip-path=\"url(#clip700)\" d=\"M57.7745 1097 L74.0939 1097 L74.0939 1100.93 L52.1495 1100.93 L52.1495 1097 Q54.8115 1094.24 59.3949 1089.61 Q64.0013 1084.96 65.1819 1083.62 Q67.4272 1081.09 68.3068 1079.36 Q69.2096 1077.6 69.2096 1075.91 Q69.2096 1073.15 67.2652 1071.42 Q65.3439 1069.68 62.2421 1069.68 Q60.043 1069.68 57.5893 1070.45 Q55.1588 1071.21 52.381 1072.76 L52.381 1068.04 Q55.2051 1066.9 57.6588 1066.33 Q60.1124 1065.75 62.1495 1065.75 Q67.5198 1065.75 70.7142 1068.43 Q73.9087 1071.12 73.9087 1075.61 Q73.9087 1077.74 73.0985 1079.66 Q72.3115 1081.56 70.205 1084.15 Q69.6263 1084.82 66.5245 1088.04 Q63.4226 1091.23 57.7745 1097 Z\" fill=\"#000000\" fill-rule=\"nonzero\" fill-opacity=\"1\" /><path clip-path=\"url(#clip700)\" d=\"M83.9086 1095.05 L88.7928 1095.05 L88.7928 1100.93 L83.9086 1100.93 L83.9086 1095.05 Z\" fill=\"#000000\" fill-rule=\"nonzero\" fill-opacity=\"1\" /><path clip-path=\"url(#clip700)\" d=\"M108.978 1069.45 Q105.367 1069.45 103.538 1073.02 Q101.733 1076.56 101.733 1083.69 Q101.733 1090.79 103.538 1094.36 Q105.367 1097.9 108.978 1097.9 Q112.612 1097.9 114.418 1094.36 Q116.246 1090.79 116.246 1083.69 Q116.246 1076.56 114.418 1073.02 Q112.612 1069.45 108.978 1069.45 M108.978 1065.75 Q114.788 1065.75 117.844 1070.35 Q120.922 1074.94 120.922 1083.69 Q120.922 1092.41 117.844 1097.02 Q114.788 1101.6 108.978 1101.6 Q103.168 1101.6 100.089 1097.02 Q97.0335 1092.41 97.0335 1083.69 Q97.0335 1074.94 100.089 1070.35 Q103.168 1065.75 108.978 1065.75 Z\" fill=\"#000000\" fill-rule=\"nonzero\" fill-opacity=\"1\" /><path clip-path=\"url(#clip700)\" d=\"M58.7699 870.707 L75.0892 870.707 L75.0892 874.642 L53.1449 874.642 L53.1449 870.707 Q55.8069 867.952 60.3902 863.323 Q64.9967 858.67 66.1772 857.327 Q68.4226 854.804 69.3022 853.068 Q70.205 851.309 70.205 849.619 Q70.205 846.864 68.2606 845.128 Q66.3393 843.392 63.2374 843.392 Q61.0384 843.392 58.5847 844.156 Q56.1541 844.92 53.3764 846.471 L53.3764 841.749 Q56.2004 840.614 58.6541 840.036 Q61.1078 839.457 63.1448 839.457 Q68.5152 839.457 71.7096 842.142 Q74.904 844.827 74.904 849.318 Q74.904 851.448 74.0939 853.369 Q73.3068 855.267 71.2004 857.86 Q70.6217 858.531 67.5198 861.748 Q64.418 864.943 58.7699 870.707 Z\" fill=\"#000000\" fill-rule=\"nonzero\" fill-opacity=\"1\" /><path clip-path=\"url(#clip700)\" d=\"M84.904 868.762 L89.7882 868.762 L89.7882 874.642 L84.904 874.642 L84.904 868.762 Z\" fill=\"#000000\" fill-rule=\"nonzero\" fill-opacity=\"1\" /><path clip-path=\"url(#clip700)\" d=\"M100.02 840.082 L118.376 840.082 L118.376 844.017 L104.302 844.017 L104.302 852.489 Q105.321 852.142 106.339 851.98 Q107.358 851.795 108.376 851.795 Q114.163 851.795 117.543 854.966 Q120.922 858.137 120.922 863.554 Q120.922 869.133 117.45 872.235 Q113.978 875.313 107.658 875.313 Q105.483 875.313 103.214 874.943 Q100.969 874.573 98.5613 873.832 L98.5613 869.133 Q100.645 870.267 102.867 870.823 Q105.089 871.378 107.566 871.378 Q111.571 871.378 113.908 869.272 Q116.246 867.165 116.246 863.554 Q116.246 859.943 113.908 857.836 Q111.571 855.73 107.566 855.73 Q105.691 855.73 103.816 856.147 Q101.964 856.563 100.02 857.443 L100.02 840.082 Z\" fill=\"#000000\" fill-rule=\"nonzero\" fill-opacity=\"1\" /><path clip-path=\"url(#clip700)\" d=\"M67.9133 629.718 Q71.2698 630.435 73.1448 632.704 Q75.0429 634.972 75.0429 638.306 Q75.0429 643.422 71.5244 646.222 Q68.0059 649.023 61.5245 649.023 Q59.3486 649.023 57.0338 648.584 Q54.7421 648.167 52.2884 647.31 L52.2884 642.797 Q54.2328 643.931 56.5477 644.509 Q58.8625 645.088 61.3856 645.088 Q65.7837 645.088 68.0754 643.352 Q70.3902 641.616 70.3902 638.306 Q70.3902 635.25 68.2374 633.537 Q66.1078 631.801 62.2884 631.801 L58.2606 631.801 L58.2606 627.959 L62.4735 627.959 Q65.9226 627.959 67.7513 626.593 Q69.58 625.204 69.58 622.611 Q69.58 619.949 67.6819 618.537 Q65.8069 617.102 62.2884 617.102 Q60.3671 617.102 58.168 617.519 Q55.969 617.936 53.3301 618.815 L53.3301 614.649 Q55.9921 613.908 58.3069 613.537 Q60.6449 613.167 62.705 613.167 Q68.0291 613.167 71.1309 615.598 Q74.2327 618.005 74.2327 622.125 Q74.2327 624.996 72.5892 626.986 Q70.9457 628.954 67.9133 629.718 Z\" fill=\"#000000\" fill-rule=\"nonzero\" fill-opacity=\"1\" /><path clip-path=\"url(#clip700)\" d=\"M83.9086 642.472 L88.7928 642.472 L88.7928 648.352 L83.9086 648.352 L83.9086 642.472 Z\" fill=\"#000000\" fill-rule=\"nonzero\" fill-opacity=\"1\" /><path clip-path=\"url(#clip700)\" d=\"M108.978 616.871 Q105.367 616.871 103.538 620.436 Q101.733 623.977 101.733 631.107 Q101.733 638.213 103.538 641.778 Q105.367 645.32 108.978 645.32 Q112.612 645.32 114.418 641.778 Q116.246 638.213 116.246 631.107 Q116.246 623.977 114.418 620.436 Q112.612 616.871 108.978 616.871 M108.978 613.167 Q114.788 613.167 117.844 617.774 Q120.922 622.357 120.922 631.107 Q120.922 639.834 117.844 644.44 Q114.788 649.023 108.978 649.023 Q103.168 649.023 100.089 644.44 Q97.0335 639.834 97.0335 631.107 Q97.0335 622.357 100.089 617.774 Q103.168 613.167 108.978 613.167 Z\" fill=\"#000000\" fill-rule=\"nonzero\" fill-opacity=\"1\" /><path clip-path=\"url(#clip700)\" d=\"M68.9087 403.428 Q72.2652 404.146 74.1402 406.414 Q76.0383 408.683 76.0383 412.016 Q76.0383 417.132 72.5198 419.933 Q69.0013 422.733 62.5198 422.733 Q60.3439 422.733 58.0291 422.294 Q55.7375 421.877 53.2838 421.02 L53.2838 416.507 Q55.2282 417.641 57.543 418.22 Q59.8578 418.798 62.381 418.798 Q66.7791 418.798 69.0707 417.062 Q71.3855 415.326 71.3855 412.016 Q71.3855 408.96 69.2328 407.247 Q67.1032 405.511 63.2837 405.511 L59.256 405.511 L59.256 401.669 L63.4689 401.669 Q66.918 401.669 68.7467 400.303 Q70.5754 398.914 70.5754 396.322 Q70.5754 393.66 68.6772 392.247 Q66.8022 390.812 63.2837 390.812 Q61.3624 390.812 59.1634 391.229 Q56.9643 391.646 54.3254 392.525 L54.3254 388.359 Q56.9875 387.618 59.3023 387.248 Q61.6402 386.877 63.7004 386.877 Q69.0244 386.877 72.1263 389.308 Q75.2281 391.715 75.2281 395.835 Q75.2281 398.706 73.5846 400.697 Q71.9411 402.664 68.9087 403.428 Z\" fill=\"#000000\" fill-rule=\"nonzero\" fill-opacity=\"1\" /><path clip-path=\"url(#clip700)\" d=\"M84.904 416.183 L89.7882 416.183 L89.7882 422.062 L84.904 422.062 L84.904 416.183 Z\" fill=\"#000000\" fill-rule=\"nonzero\" fill-opacity=\"1\" /><path clip-path=\"url(#clip700)\" d=\"M100.02 387.502 L118.376 387.502 L118.376 391.437 L104.302 391.437 L104.302 399.909 Q105.321 399.562 106.339 399.4 Q107.358 399.215 108.376 399.215 Q114.163 399.215 117.543 402.386 Q120.922 405.558 120.922 410.974 Q120.922 416.553 117.45 419.655 Q113.978 422.733 107.658 422.733 Q105.483 422.733 103.214 422.363 Q100.969 421.993 98.5613 421.252 L98.5613 416.553 Q100.645 417.687 102.867 418.243 Q105.089 418.798 107.566 418.798 Q111.571 418.798 113.908 416.692 Q116.246 414.585 116.246 410.974 Q116.246 407.363 113.908 405.257 Q111.571 403.15 107.566 403.15 Q105.691 403.15 103.816 403.567 Q101.964 403.984 100.02 404.863 L100.02 387.502 Z\" fill=\"#000000\" fill-rule=\"nonzero\" fill-opacity=\"1\" /><path clip-path=\"url(#clip700)\" d=\"M66.5939 165.286 L54.7884 183.735 L66.5939 183.735 L66.5939 165.286 M65.367 161.212 L71.2466 161.212 L71.2466 183.735 L76.1772 183.735 L76.1772 187.624 L71.2466 187.624 L71.2466 195.772 L66.5939 195.772 L66.5939 187.624 L50.9921 187.624 L50.9921 183.11 L65.367 161.212 Z\" fill=\"#000000\" fill-rule=\"nonzero\" fill-opacity=\"1\" /><path clip-path=\"url(#clip700)\" d=\"M83.9086 189.893 L88.7928 189.893 L88.7928 195.772 L83.9086 195.772 L83.9086 189.893 Z\" fill=\"#000000\" fill-rule=\"nonzero\" fill-opacity=\"1\" /><path clip-path=\"url(#clip700)\" d=\"M108.978 164.291 Q105.367 164.291 103.538 167.856 Q101.733 171.397 101.733 178.527 Q101.733 185.633 103.538 189.198 Q105.367 192.74 108.978 192.74 Q112.612 192.74 114.418 189.198 Q116.246 185.633 116.246 178.527 Q116.246 171.397 114.418 167.856 Q112.612 164.291 108.978 164.291 M108.978 160.587 Q114.788 160.587 117.844 165.194 Q120.922 169.777 120.922 178.527 Q120.922 187.254 117.844 191.86 Q114.788 196.444 108.978 196.444 Q103.168 196.444 100.089 191.86 Q97.0335 187.254 97.0335 178.527 Q97.0335 169.777 100.089 165.194 Q103.168 160.587 108.978 160.587 Z\" fill=\"#000000\" fill-rule=\"nonzero\" fill-opacity=\"1\" /><circle clip-path=\"url(#clip702)\" cx=\"909.582\" cy=\"1174.17\" r=\"14.4\" fill=\"#009af9\" fill-rule=\"evenodd\" fill-opacity=\"1\" stroke=\"#000000\" stroke-opacity=\"1\" stroke-width=\"3.2\"/>\n",
       "<circle clip-path=\"url(#clip702)\" cx=\"219.069\" cy=\"1445.72\" r=\"14.4\" fill=\"#009af9\" fill-rule=\"evenodd\" fill-opacity=\"1\" stroke=\"#000000\" stroke-opacity=\"1\" stroke-width=\"3.2\"/>\n",
       "<circle clip-path=\"url(#clip702)\" cx=\"2290.61\" cy=\"87.9763\" r=\"14.4\" fill=\"#009af9\" fill-rule=\"evenodd\" fill-opacity=\"1\" stroke=\"#000000\" stroke-opacity=\"1\" stroke-width=\"3.2\"/>\n",
       "<circle clip-path=\"url(#clip702)\" cx=\"1600.1\" cy=\"495.298\" r=\"14.4\" fill=\"#009af9\" fill-rule=\"evenodd\" fill-opacity=\"1\" stroke=\"#000000\" stroke-opacity=\"1\" stroke-width=\"3.2\"/>\n",
       "<path clip-path=\"url(#clip700)\" d=\"M230.117 198.898 L502.13 198.898 L502.13 95.2176 L230.117 95.2176  Z\" fill=\"#ffffff\" fill-rule=\"evenodd\" fill-opacity=\"1\"/>\n",
       "<polyline clip-path=\"url(#clip700)\" style=\"stroke:#000000; stroke-linecap:round; stroke-linejoin:round; stroke-width:4; stroke-opacity:1; fill:none\" points=\"230.117,198.898 502.13,198.898 502.13,95.2176 230.117,95.2176 230.117,198.898 \"/>\n",
       "<circle clip-path=\"url(#clip700)\" cx=\"327.709\" cy=\"147.058\" r=\"20.48\" fill=\"#009af9\" fill-rule=\"evenodd\" fill-opacity=\"1\" stroke=\"#000000\" stroke-opacity=\"1\" stroke-width=\"4.55111\"/>\n",
       "<path clip-path=\"url(#clip700)\" d=\"M439.144 166.745 Q437.339 171.375 435.626 172.787 Q433.913 174.199 431.043 174.199 L427.64 174.199 L427.64 170.634 L430.14 170.634 Q431.899 170.634 432.871 169.8 Q433.844 168.967 435.024 165.865 L435.788 163.921 L425.302 138.412 L429.816 138.412 L437.918 158.689 L446.019 138.412 L450.533 138.412 L439.144 166.745 Z\" fill=\"#000000\" fill-rule=\"nonzero\" fill-opacity=\"1\" /><path clip-path=\"url(#clip700)\" d=\"M457.825 160.402 L465.464 160.402 L465.464 134.037 L457.154 135.703 L457.154 131.444 L465.417 129.778 L470.093 129.778 L470.093 160.402 L477.732 160.402 L477.732 164.338 L457.825 164.338 L457.825 160.402 Z\" fill=\"#000000\" fill-rule=\"nonzero\" fill-opacity=\"1\" /></svg>\n"
      ]
     },
     "metadata": {},
     "output_type": "display_data"
    }
   ],
   "source": [
    "line_xs = tensor([2.0, 1.0, 4.0, 3.0])\n",
    "line_ys = tensor([1.8, 1.2, 4.2, 3.3])\n",
    "\n",
    "plot(line_xs.elements, line_ys.elements, seriestype=:scatter)"
   ]
  },
  {
   "cell_type": "code",
   "execution_count": 3,
   "metadata": {},
   "outputs": [
    {
     "data": {
      "text/plain": [
       "line (generic function with 1 method)"
      ]
     },
     "metadata": {},
     "output_type": "display_data"
    }
   ],
   "source": [
    "\n",
    "# frame 26:25\n",
    "\n",
    "line(x) = (θ) -> ref(θ, 0) * x + ref(θ, 1)"
   ]
  },
  {
   "cell_type": "code",
   "execution_count": 4,
   "metadata": {},
   "outputs": [
    {
     "data": {
      "text/plain": [
       "7"
      ]
     },
     "metadata": {},
     "output_type": "display_data"
    }
   ],
   "source": [
    "line(5)(list(1, 2))"
   ]
  },
  {
   "cell_type": "markdown",
   "metadata": {},
   "source": [
    "# 2 - The More We Learn, the Tenser We Become"
   ]
  },
  {
   "cell_type": "code",
   "execution_count": 5,
   "metadata": {},
   "outputs": [],
   "source": [
    "@assert is_scalar(9)\n",
    "@assert is_scalar(3.1415)\n",
    "@assert !is_scalar(tensor([1]))\n",
    "@assert tlen(tensor([17, 12, 91, 67])) == 4\n",
    "@assert tlen(tensor([[3, 2, 8], [7, 1, 9]])) == 2"
   ]
  },
  {
   "cell_type": "code",
   "execution_count": 6,
   "metadata": {},
   "outputs": [
    {
     "data": {
      "text/plain": [
       "shape (generic function with 1 method)"
      ]
     },
     "metadata": {},
     "output_type": "display_data"
    }
   ],
   "source": [
    "\n",
    "# frame 39:37\n",
    "\n",
    "function shape(t)\n",
    "    result = list()\n",
    "    while !is_scalar(t)\n",
    "        # the iterative implementation requires us to append to the list,\n",
    "        # in contrast to the book's recursive implementation that prepends.\n",
    "        result = snoc(result, tlen(t))\n",
    "        t = tref(t, 0)\n",
    "    end\n",
    "    result\n",
    "end"
   ]
  },
  {
   "cell_type": "code",
   "execution_count": 7,
   "metadata": {},
   "outputs": [],
   "source": [
    "@assert shape(9) == list()\n",
    "@assert shape(tensor([9, 4, 7, 8, 0, 1])) == list(6)\n",
    "@assert shape(tensor([[[5], [6], [8]], [[7], [9], [5]]])) == list(2, 3, 1)"
   ]
  },
  {
   "cell_type": "code",
   "execution_count": 8,
   "metadata": {},
   "outputs": [
    {
     "data": {
      "text/plain": [
       "rank (generic function with 1 method)"
      ]
     },
     "metadata": {},
     "output_type": "display_data"
    }
   ],
   "source": [
    "\n",
    "# frame 42:44\n",
    "\n",
    "function rank(t)\n",
    "    result = 0\n",
    "    while !is_scalar(t)\n",
    "        # this is mostly equivalent to the books accumulator passing style;\n",
    "        # we just mutate the accumulator in place.\n",
    "        result += 1\n",
    "        t = tref(t, 0)\n",
    "    end\n",
    "    result\n",
    "end"
   ]
  },
  {
   "cell_type": "code",
   "execution_count": 9,
   "metadata": {},
   "outputs": [],
   "source": [
    "@assert rank(9) == 0\n",
    "@assert rank(tensor([9, 4, 7, 8, 0, 1])) == 1\n",
    "@assert rank(tensor([[[5], [6], [8]], [[7], [9], [5]]])) == 3"
   ]
  },
  {
   "cell_type": "markdown",
   "metadata": {},
   "source": [
    "# Interlude I - The More We Extend, the Less Tensor We Get"
   ]
  },
  {
   "cell_type": "code",
   "execution_count": 10,
   "metadata": {},
   "outputs": [],
   "source": [
    "@assert tensor([5, 6, 7]) + tensor([2, 0, 1]) == tensor([7, 6, 8])\n",
    "@assert 4 + tensor([3, 6, 5]) == tensor([7, 10, 9])\n",
    "@assert tensor([6, 9, 1]) + tensor([[4, 3, 8], [7, 4, 7]]) == tensor([[10, 12, 9], [13, 13, 8]])\n",
    "@assert tensor([[4, 6, 5], [6, 9, 7]]) * 3 == tensor([[12, 18, 15], [18, 27, 21]])\n",
    "\n",
    "@assert sqrt(tensor([9, 16, 25])) == tensor([3, 4, 5])\n",
    "@assert sqrt(tensor([[49, 81, 16], [64, 25, 36]])) == tensor([[7, 9, 4], [8, 5, 6]])"
   ]
  },
  {
   "cell_type": "code",
   "execution_count": 11,
   "metadata": {},
   "outputs": [
    {
     "data": {
      "text/plain": [
       "(::Main.Schemish.var\"#extended#10\"{typeof(sum_1), Int64}) (generic function with 1 method)"
      ]
     },
     "metadata": {},
     "output_type": "display_data"
    }
   ],
   "source": [
    "\n",
    "# frame 53:24\n",
    "\n",
    "function sum_1(t)\n",
    "    result = 0\n",
    "    for i in 0:tlen(t)-1\n",
    "        result = result + tref(t, i)\n",
    "    end\n",
    "    result\n",
    "end\n",
    "\n",
    "sum = ext1(sum_1, 1)"
   ]
  },
  {
   "cell_type": "code",
   "execution_count": 12,
   "metadata": {},
   "outputs": [],
   "source": [
    "@assert sum_1(tensor([10.0, 12.0, 14.0])) == 36.0\n",
    "@assert sum(tensor([[[1, 2], [3, 4]], [[5, 6], [7, 8]]])) == tensor([[3, 7], [11, 15]])"
   ]
  },
  {
   "cell_type": "code",
   "execution_count": 13,
   "metadata": {},
   "outputs": [
    {
     "data": {
      "text/plain": [
       "[14 34 26 50]"
      ]
     },
     "metadata": {},
     "output_type": "display_data"
    }
   ],
   "source": [
    "line(tensor([2, 7, 5, 11]))(list(4, 6))"
   ]
  },
  {
   "cell_type": "markdown",
   "metadata": {},
   "source": [
    "# 3 - Running Down a Slippery Slope"
   ]
  },
  {
   "cell_type": "code",
   "execution_count": 14,
   "metadata": {},
   "outputs": [
    {
     "data": {
      "text/plain": [
       "l2_loss (generic function with 1 method)"
      ]
     },
     "metadata": {},
     "output_type": "display_data"
    }
   ],
   "source": [
    "\n",
    "# frame 63:22\n",
    "\n",
    "l2_loss(target) = (xs, ys) -> (θ) -> sum(sqr(ys - target(xs)(θ)))"
   ]
  },
  {
   "cell_type": "code",
   "execution_count": 15,
   "metadata": {},
   "outputs": [
    {
     "data": {
      "text/plain": [
       "33.21"
      ]
     },
     "metadata": {},
     "output_type": "display_data"
    }
   ],
   "source": [
    "expectant = l2_loss(line)\n",
    "objective = expectant(line_xs, line_ys)\n",
    "loss_0 = objective(list(0.0, 0.0))"
   ]
  },
  {
   "cell_type": "code",
   "execution_count": 16,
   "metadata": {},
   "outputs": [
    {
     "data": {
      "text/plain": [
       "5.502108626999984"
      ]
     },
     "metadata": {},
     "output_type": "display_data"
    }
   ],
   "source": [
    "loss_0_ = objective(list(0.0099, 0.0))\n",
    "rate_of_change = (loss_0_ - loss_0) / 0.0099\n",
    "θ0_1 = 0.0 - rate_of_change * 0.01\n",
    "loss_1 = objective(list(θ0_1, 0.0))"
   ]
  },
  {
   "cell_type": "code",
   "execution_count": 17,
   "metadata": {},
   "outputs": [
    {
     "data": {
      "text/plain": [
       "-25.08119999999999"
      ]
     },
     "metadata": {},
     "output_type": "display_data"
    }
   ],
   "source": [
    "loss_1_ = objective(list(θ0_1 + 0.0099, 0.0))\n",
    "rate_of_change = (loss_1_ - loss_1) / 0.0099"
   ]
  },
  {
   "cell_type": "markdown",
   "metadata": {},
   "source": [
    "As we see, the rate of change depends on the current θ..."
   ]
  },
  {
   "cell_type": "markdown",
   "metadata": {},
   "source": [
    "# 4 - Slip-slidin' Away"
   ]
  },
  {
   "cell_type": "code",
   "execution_count": 18,
   "metadata": {},
   "outputs": [
    {
     "data": {
      "image/png": "[encoded data removed]",
      "image/svg+xml": [
       "<?xml version=\"1.0\" encoding=\"utf-8\"?>\n",
       "<svg xmlns=\"http://www.w3.org/2000/svg\" xmlns:xlink=\"http://www.w3.org/1999/xlink\" width=\"600\" height=\"400\" viewBox=\"0 0 2400 1600\">\n",
       "<defs>\n",
       "  <clipPath id=\"clip740\">\n",
       "    <rect x=\"0\" y=\"0\" width=\"2400\" height=\"1600\"/>\n",
       "  </clipPath>\n",
       "</defs>\n",
       "<path clip-path=\"url(#clip740)\" d=\"M0 1600 L2400 1600 L2400 0 L0 0  Z\" fill=\"#ffffff\" fill-rule=\"evenodd\" fill-opacity=\"1\"/>\n",
       "<defs>\n",
       "  <clipPath id=\"clip741\">\n",
       "    <rect x=\"480\" y=\"0\" width=\"1681\" height=\"1600\"/>\n",
       "  </clipPath>\n",
       "</defs>\n",
       "<path clip-path=\"url(#clip740)\" d=\"M170.857 1486.45 L2352.76 1486.45 L2352.76 47.2441 L170.857 47.2441  Z\" fill=\"#ffffff\" fill-rule=\"evenodd\" fill-opacity=\"1\"/>\n",
       "<defs>\n",
       "  <clipPath id=\"clip742\">\n",
       "    <rect x=\"170\" y=\"47\" width=\"2183\" height=\"1440\"/>\n",
       "  </clipPath>\n",
       "</defs>\n",
       "<polyline clip-path=\"url(#clip742)\" style=\"stroke:#000000; stroke-linecap:round; stroke-linejoin:round; stroke-width:2; stroke-opacity:0.1; fill:none\" points=\"232.609,1486.45 232.609,47.2441 \"/>\n",
       "<polyline clip-path=\"url(#clip742)\" style=\"stroke:#000000; stroke-linecap:round; stroke-linejoin:round; stroke-width:2; stroke-opacity:0.1; fill:none\" points=\"575.675,1486.45 575.675,47.2441 \"/>\n",
       "<polyline clip-path=\"url(#clip742)\" style=\"stroke:#000000; stroke-linecap:round; stroke-linejoin:round; stroke-width:2; stroke-opacity:0.1; fill:none\" points=\"918.741,1486.45 918.741,47.2441 \"/>\n",
       "<polyline clip-path=\"url(#clip742)\" style=\"stroke:#000000; stroke-linecap:round; stroke-linejoin:round; stroke-width:2; stroke-opacity:0.1; fill:none\" points=\"1261.81,1486.45 1261.81,47.2441 \"/>\n",
       "<polyline clip-path=\"url(#clip742)\" style=\"stroke:#000000; stroke-linecap:round; stroke-linejoin:round; stroke-width:2; stroke-opacity:0.1; fill:none\" points=\"1604.87,1486.45 1604.87,47.2441 \"/>\n",
       "<polyline clip-path=\"url(#clip742)\" style=\"stroke:#000000; stroke-linecap:round; stroke-linejoin:round; stroke-width:2; stroke-opacity:0.1; fill:none\" points=\"1947.94,1486.45 1947.94,47.2441 \"/>\n",
       "<polyline clip-path=\"url(#clip742)\" style=\"stroke:#000000; stroke-linecap:round; stroke-linejoin:round; stroke-width:2; stroke-opacity:0.1; fill:none\" points=\"2291,1486.45 2291,47.2441 \"/>\n",
       "<polyline clip-path=\"url(#clip740)\" style=\"stroke:#000000; stroke-linecap:round; stroke-linejoin:round; stroke-width:4; stroke-opacity:1; fill:none\" points=\"170.857,1486.45 2352.76,1486.45 \"/>\n",
       "<polyline clip-path=\"url(#clip740)\" style=\"stroke:#000000; stroke-linecap:round; stroke-linejoin:round; stroke-width:4; stroke-opacity:1; fill:none\" points=\"232.609,1486.45 232.609,1467.55 \"/>\n",
       "<polyline clip-path=\"url(#clip740)\" style=\"stroke:#000000; stroke-linecap:round; stroke-linejoin:round; stroke-width:4; stroke-opacity:1; fill:none\" points=\"575.675,1486.45 575.675,1467.55 \"/>\n",
       "<polyline clip-path=\"url(#clip740)\" style=\"stroke:#000000; stroke-linecap:round; stroke-linejoin:round; stroke-width:4; stroke-opacity:1; fill:none\" points=\"918.741,1486.45 918.741,1467.55 \"/>\n",
       "<polyline clip-path=\"url(#clip740)\" style=\"stroke:#000000; stroke-linecap:round; stroke-linejoin:round; stroke-width:4; stroke-opacity:1; fill:none\" points=\"1261.81,1486.45 1261.81,1467.55 \"/>\n",
       "<polyline clip-path=\"url(#clip740)\" style=\"stroke:#000000; stroke-linecap:round; stroke-linejoin:round; stroke-width:4; stroke-opacity:1; fill:none\" points=\"1604.87,1486.45 1604.87,1467.55 \"/>\n",
       "<polyline clip-path=\"url(#clip740)\" style=\"stroke:#000000; stroke-linecap:round; stroke-linejoin:round; stroke-width:4; stroke-opacity:1; fill:none\" points=\"1947.94,1486.45 1947.94,1467.55 \"/>\n",
       "<polyline clip-path=\"url(#clip740)\" style=\"stroke:#000000; stroke-linecap:round; stroke-linejoin:round; stroke-width:4; stroke-opacity:1; fill:none\" points=\"2291,1486.45 2291,1467.55 \"/>\n",
       "<path clip-path=\"url(#clip740)\" d=\"M202.552 1532.02 L232.227 1532.02 L232.227 1535.95 L202.552 1535.95 L202.552 1532.02 Z\" fill=\"#000000\" fill-rule=\"nonzero\" fill-opacity=\"1\" /><path clip-path=\"url(#clip740)\" d=\"M246.348 1544.91 L262.667 1544.91 L262.667 1548.85 L240.723 1548.85 L240.723 1544.91 Q243.385 1542.16 247.968 1537.53 Q252.574 1532.88 253.755 1531.53 Q256 1529.01 256.88 1527.27 Q257.783 1525.51 257.783 1523.82 Q257.783 1521.07 255.838 1519.33 Q253.917 1517.6 250.815 1517.6 Q248.616 1517.6 246.162 1518.36 Q243.732 1519.13 240.954 1520.68 L240.954 1515.95 Q243.778 1514.82 246.232 1514.24 Q248.686 1513.66 250.723 1513.66 Q256.093 1513.66 259.287 1516.35 Q262.482 1519.03 262.482 1523.52 Q262.482 1525.65 261.672 1527.57 Q260.885 1529.47 258.778 1532.07 Q258.199 1532.74 255.098 1535.95 Q251.996 1539.15 246.348 1544.91 Z\" fill=\"#000000\" fill-rule=\"nonzero\" fill-opacity=\"1\" /><path clip-path=\"url(#clip740)\" d=\"M545.432 1532.02 L575.108 1532.02 L575.108 1535.95 L545.432 1535.95 L545.432 1532.02 Z\" fill=\"#000000\" fill-rule=\"nonzero\" fill-opacity=\"1\" /><path clip-path=\"url(#clip740)\" d=\"M586.011 1544.91 L593.65 1544.91 L593.65 1518.55 L585.339 1520.21 L585.339 1515.95 L593.603 1514.29 L598.279 1514.29 L598.279 1544.91 L605.918 1544.91 L605.918 1548.85 L586.011 1548.85 L586.011 1544.91 Z\" fill=\"#000000\" fill-rule=\"nonzero\" fill-opacity=\"1\" /><path clip-path=\"url(#clip740)\" d=\"M918.741 1517.37 Q915.13 1517.37 913.301 1520.93 Q911.496 1524.47 911.496 1531.6 Q911.496 1538.71 913.301 1542.27 Q915.13 1545.82 918.741 1545.82 Q922.375 1545.82 924.181 1542.27 Q926.009 1538.71 926.009 1531.6 Q926.009 1524.47 924.181 1520.93 Q922.375 1517.37 918.741 1517.37 M918.741 1513.66 Q924.551 1513.66 927.607 1518.27 Q930.685 1522.85 930.685 1531.6 Q930.685 1540.33 927.607 1544.94 Q924.551 1549.52 918.741 1549.52 Q912.931 1549.52 909.852 1544.94 Q906.796 1540.33 906.796 1531.6 Q906.796 1522.85 909.852 1518.27 Q912.931 1513.66 918.741 1513.66 Z\" fill=\"#000000\" fill-rule=\"nonzero\" fill-opacity=\"1\" /><path clip-path=\"url(#clip740)\" d=\"M1252.19 1544.91 L1259.83 1544.91 L1259.83 1518.55 L1251.52 1520.21 L1251.52 1515.95 L1259.78 1514.29 L1264.46 1514.29 L1264.46 1544.91 L1272.1 1544.91 L1272.1 1548.85 L1252.19 1548.85 L1252.19 1544.91 Z\" fill=\"#000000\" fill-rule=\"nonzero\" fill-opacity=\"1\" /><path clip-path=\"url(#clip740)\" d=\"M1599.53 1544.91 L1615.84 1544.91 L1615.84 1548.85 L1593.9 1548.85 L1593.9 1544.91 Q1596.56 1542.16 1601.15 1537.53 Q1605.75 1532.88 1606.93 1531.53 Q1609.18 1529.01 1610.06 1527.27 Q1610.96 1525.51 1610.96 1523.82 Q1610.96 1521.07 1609.02 1519.33 Q1607.09 1517.6 1603.99 1517.6 Q1601.79 1517.6 1599.34 1518.36 Q1596.91 1519.13 1594.13 1520.68 L1594.13 1515.95 Q1596.96 1514.82 1599.41 1514.24 Q1601.86 1513.66 1603.9 1513.66 Q1609.27 1513.66 1612.47 1516.35 Q1615.66 1519.03 1615.66 1523.52 Q1615.66 1525.65 1614.85 1527.57 Q1614.06 1529.47 1611.96 1532.07 Q1611.38 1532.74 1608.28 1535.95 Q1605.17 1539.15 1599.53 1544.91 Z\" fill=\"#000000\" fill-rule=\"nonzero\" fill-opacity=\"1\" /><path clip-path=\"url(#clip740)\" d=\"M1952.19 1530.21 Q1955.54 1530.93 1957.42 1533.2 Q1959.32 1535.47 1959.32 1538.8 Q1959.32 1543.92 1955.8 1546.72 Q1952.28 1549.52 1945.8 1549.52 Q1943.62 1549.52 1941.31 1549.08 Q1939.01 1548.66 1936.56 1547.81 L1936.56 1543.29 Q1938.51 1544.43 1940.82 1545.01 Q1943.14 1545.58 1945.66 1545.58 Q1950.06 1545.58 1952.35 1543.85 Q1954.66 1542.11 1954.66 1538.8 Q1954.66 1535.75 1952.51 1534.03 Q1950.38 1532.3 1946.56 1532.3 L1942.53 1532.3 L1942.53 1528.45 L1946.75 1528.45 Q1950.2 1528.45 1952.02 1527.09 Q1953.85 1525.7 1953.85 1523.11 Q1953.85 1520.45 1951.95 1519.03 Q1950.08 1517.6 1946.56 1517.6 Q1944.64 1517.6 1942.44 1518.01 Q1940.24 1518.43 1937.6 1519.31 L1937.6 1515.14 Q1940.26 1514.4 1942.58 1514.03 Q1944.92 1513.66 1946.98 1513.66 Q1952.3 1513.66 1955.4 1516.09 Q1958.51 1518.5 1958.51 1522.62 Q1958.51 1525.49 1956.86 1527.48 Q1955.22 1529.45 1952.19 1530.21 Z\" fill=\"#000000\" fill-rule=\"nonzero\" fill-opacity=\"1\" /><path clip-path=\"url(#clip740)\" d=\"M2294.01 1518.36 L2282.21 1536.81 L2294.01 1536.81 L2294.01 1518.36 M2292.79 1514.29 L2298.67 1514.29 L2298.67 1536.81 L2303.6 1536.81 L2303.6 1540.7 L2298.67 1540.7 L2298.67 1548.85 L2294.01 1548.85 L2294.01 1540.7 L2278.41 1540.7 L2278.41 1536.19 L2292.79 1514.29 Z\" fill=\"#000000\" fill-rule=\"nonzero\" fill-opacity=\"1\" /><polyline clip-path=\"url(#clip742)\" style=\"stroke:#000000; stroke-linecap:round; stroke-linejoin:round; stroke-width:2; stroke-opacity:0.1; fill:none\" points=\"170.857,1446.74 2352.76,1446.74 \"/>\n",
       "<polyline clip-path=\"url(#clip742)\" style=\"stroke:#000000; stroke-linecap:round; stroke-linejoin:round; stroke-width:2; stroke-opacity:0.1; fill:none\" points=\"170.857,1203.42 2352.76,1203.42 \"/>\n",
       "<polyline clip-path=\"url(#clip742)\" style=\"stroke:#000000; stroke-linecap:round; stroke-linejoin:round; stroke-width:2; stroke-opacity:0.1; fill:none\" points=\"170.857,960.093 2352.76,960.093 \"/>\n",
       "<polyline clip-path=\"url(#clip742)\" style=\"stroke:#000000; stroke-linecap:round; stroke-linejoin:round; stroke-width:2; stroke-opacity:0.1; fill:none\" points=\"170.857,716.77 2352.76,716.77 \"/>\n",
       "<polyline clip-path=\"url(#clip742)\" style=\"stroke:#000000; stroke-linecap:round; stroke-linejoin:round; stroke-width:2; stroke-opacity:0.1; fill:none\" points=\"170.857,473.448 2352.76,473.448 \"/>\n",
       "<polyline clip-path=\"url(#clip742)\" style=\"stroke:#000000; stroke-linecap:round; stroke-linejoin:round; stroke-width:2; stroke-opacity:0.1; fill:none\" points=\"170.857,230.125 2352.76,230.125 \"/>\n",
       "<polyline clip-path=\"url(#clip740)\" style=\"stroke:#000000; stroke-linecap:round; stroke-linejoin:round; stroke-width:4; stroke-opacity:1; fill:none\" points=\"170.857,1486.45 170.857,47.2441 \"/>\n",
       "<polyline clip-path=\"url(#clip740)\" style=\"stroke:#000000; stroke-linecap:round; stroke-linejoin:round; stroke-width:4; stroke-opacity:1; fill:none\" points=\"170.857,1446.74 189.755,1446.74 \"/>\n",
       "<polyline clip-path=\"url(#clip740)\" style=\"stroke:#000000; stroke-linecap:round; stroke-linejoin:round; stroke-width:4; stroke-opacity:1; fill:none\" points=\"170.857,1203.42 189.755,1203.42 \"/>\n",
       "<polyline clip-path=\"url(#clip740)\" style=\"stroke:#000000; stroke-linecap:round; stroke-linejoin:round; stroke-width:4; stroke-opacity:1; fill:none\" points=\"170.857,960.093 189.755,960.093 \"/>\n",
       "<polyline clip-path=\"url(#clip740)\" style=\"stroke:#000000; stroke-linecap:round; stroke-linejoin:round; stroke-width:4; stroke-opacity:1; fill:none\" points=\"170.857,716.77 189.755,716.77 \"/>\n",
       "<polyline clip-path=\"url(#clip740)\" style=\"stroke:#000000; stroke-linecap:round; stroke-linejoin:round; stroke-width:4; stroke-opacity:1; fill:none\" points=\"170.857,473.448 189.755,473.448 \"/>\n",
       "<polyline clip-path=\"url(#clip740)\" style=\"stroke:#000000; stroke-linecap:round; stroke-linejoin:round; stroke-width:4; stroke-opacity:1; fill:none\" points=\"170.857,230.125 189.755,230.125 \"/>\n",
       "<path clip-path=\"url(#clip740)\" d=\"M122.913 1432.54 Q119.302 1432.54 117.473 1436.1 Q115.668 1439.64 115.668 1446.77 Q115.668 1453.88 117.473 1457.44 Q119.302 1460.99 122.913 1460.99 Q126.547 1460.99 128.353 1457.44 Q130.182 1453.88 130.182 1446.77 Q130.182 1439.64 128.353 1436.1 Q126.547 1432.54 122.913 1432.54 M122.913 1428.83 Q128.723 1428.83 131.779 1433.44 Q134.857 1438.02 134.857 1446.77 Q134.857 1455.5 131.779 1460.11 Q128.723 1464.69 122.913 1464.69 Q117.103 1464.69 114.024 1460.11 Q110.969 1455.5 110.969 1446.77 Q110.969 1438.02 114.024 1433.44 Q117.103 1428.83 122.913 1428.83 Z\" fill=\"#000000\" fill-rule=\"nonzero\" fill-opacity=\"1\" /><path clip-path=\"url(#clip740)\" d=\"M82.7975 1186.14 L101.154 1186.14 L101.154 1190.07 L87.0799 1190.07 L87.0799 1198.54 Q88.0984 1198.2 89.1169 1198.03 Q90.1354 1197.85 91.1539 1197.85 Q96.941 1197.85 100.321 1201.02 Q103.7 1204.19 103.7 1209.61 Q103.7 1215.19 100.228 1218.29 Q96.7558 1221.37 90.4364 1221.37 Q88.2604 1221.37 85.9919 1221 Q83.7466 1220.63 81.3392 1219.88 L81.3392 1215.19 Q83.4225 1216.32 85.6447 1216.88 Q87.8669 1217.43 90.3438 1217.43 Q94.3484 1217.43 96.6863 1215.32 Q99.0243 1213.22 99.0243 1209.61 Q99.0243 1206 96.6863 1203.89 Q94.3484 1201.78 90.3438 1201.78 Q88.4688 1201.78 86.5938 1202.2 Q84.7419 1202.62 82.7975 1203.5 L82.7975 1186.14 Z\" fill=\"#000000\" fill-rule=\"nonzero\" fill-opacity=\"1\" /><path clip-path=\"url(#clip740)\" d=\"M122.913 1189.21 Q119.302 1189.21 117.473 1192.78 Q115.668 1196.32 115.668 1203.45 Q115.668 1210.56 117.473 1214.12 Q119.302 1217.66 122.913 1217.66 Q126.547 1217.66 128.353 1214.12 Q130.182 1210.56 130.182 1203.45 Q130.182 1196.32 128.353 1192.78 Q126.547 1189.21 122.913 1189.21 M122.913 1185.51 Q128.723 1185.51 131.779 1190.12 Q134.857 1194.7 134.857 1203.45 Q134.857 1212.18 131.779 1216.78 Q128.723 1221.37 122.913 1221.37 Q117.103 1221.37 114.024 1216.78 Q110.969 1212.18 110.969 1203.45 Q110.969 1194.7 114.024 1190.12 Q117.103 1185.51 122.913 1185.51 Z\" fill=\"#000000\" fill-rule=\"nonzero\" fill-opacity=\"1\" /><path clip-path=\"url(#clip740)\" d=\"M53.3995 973.438 L61.0384 973.438 L61.0384 947.072 L52.7282 948.739 L52.7282 944.479 L60.9921 942.813 L65.668 942.813 L65.668 973.438 L73.3068 973.438 L73.3068 977.373 L53.3995 977.373 L53.3995 973.438 Z\" fill=\"#000000\" fill-rule=\"nonzero\" fill-opacity=\"1\" /><path clip-path=\"url(#clip740)\" d=\"M92.7512 945.891 Q89.1401 945.891 87.3114 949.456 Q85.5058 952.998 85.5058 960.127 Q85.5058 967.234 87.3114 970.799 Q89.1401 974.34 92.7512 974.34 Q96.3854 974.34 98.1909 970.799 Q100.02 967.234 100.02 960.127 Q100.02 952.998 98.1909 949.456 Q96.3854 945.891 92.7512 945.891 M92.7512 942.188 Q98.5613 942.188 101.617 946.794 Q104.696 951.377 104.696 960.127 Q104.696 968.854 101.617 973.461 Q98.5613 978.044 92.7512 978.044 Q86.941 978.044 83.8623 973.461 Q80.8068 968.854 80.8068 960.127 Q80.8068 951.377 83.8623 946.794 Q86.941 942.188 92.7512 942.188 Z\" fill=\"#000000\" fill-rule=\"nonzero\" fill-opacity=\"1\" /><path clip-path=\"url(#clip740)\" d=\"M122.913 945.891 Q119.302 945.891 117.473 949.456 Q115.668 952.998 115.668 960.127 Q115.668 967.234 117.473 970.799 Q119.302 974.34 122.913 974.34 Q126.547 974.34 128.353 970.799 Q130.182 967.234 130.182 960.127 Q130.182 952.998 128.353 949.456 Q126.547 945.891 122.913 945.891 M122.913 942.188 Q128.723 942.188 131.779 946.794 Q134.857 951.377 134.857 960.127 Q134.857 968.854 131.779 973.461 Q128.723 978.044 122.913 978.044 Q117.103 978.044 114.024 973.461 Q110.969 968.854 110.969 960.127 Q110.969 951.377 114.024 946.794 Q117.103 942.188 122.913 942.188 Z\" fill=\"#000000\" fill-rule=\"nonzero\" fill-opacity=\"1\" /><path clip-path=\"url(#clip740)\" d=\"M53.3995 730.115 L61.0384 730.115 L61.0384 703.749 L52.7282 705.416 L52.7282 701.157 L60.9921 699.49 L65.668 699.49 L65.668 730.115 L73.3068 730.115 L73.3068 734.05 L53.3995 734.05 L53.3995 730.115 Z\" fill=\"#000000\" fill-rule=\"nonzero\" fill-opacity=\"1\" /><path clip-path=\"url(#clip740)\" d=\"M82.7975 699.49 L101.154 699.49 L101.154 703.425 L87.0799 703.425 L87.0799 711.898 Q88.0984 711.55 89.1169 711.388 Q90.1354 711.203 91.1539 711.203 Q96.941 711.203 100.321 714.374 Q103.7 717.546 103.7 722.962 Q103.7 728.541 100.228 731.643 Q96.7558 734.722 90.4364 734.722 Q88.2604 734.722 85.9919 734.351 Q83.7466 733.981 81.3392 733.24 L81.3392 728.541 Q83.4225 729.675 85.6447 730.231 Q87.8669 730.786 90.3438 730.786 Q94.3484 730.786 96.6863 728.68 Q99.0243 726.573 99.0243 722.962 Q99.0243 719.351 96.6863 717.245 Q94.3484 715.138 90.3438 715.138 Q88.4688 715.138 86.5938 715.555 Q84.7419 715.972 82.7975 716.851 L82.7975 699.49 Z\" fill=\"#000000\" fill-rule=\"nonzero\" fill-opacity=\"1\" /><path clip-path=\"url(#clip740)\" d=\"M122.913 702.569 Q119.302 702.569 117.473 706.134 Q115.668 709.675 115.668 716.805 Q115.668 723.911 117.473 727.476 Q119.302 731.018 122.913 731.018 Q126.547 731.018 128.353 727.476 Q130.182 723.911 130.182 716.805 Q130.182 709.675 128.353 706.134 Q126.547 702.569 122.913 702.569 M122.913 698.865 Q128.723 698.865 131.779 703.472 Q134.857 708.055 134.857 716.805 Q134.857 725.532 131.779 730.138 Q128.723 734.722 122.913 734.722 Q117.103 734.722 114.024 730.138 Q110.969 725.532 110.969 716.805 Q110.969 708.055 114.024 703.472 Q117.103 698.865 122.913 698.865 Z\" fill=\"#000000\" fill-rule=\"nonzero\" fill-opacity=\"1\" /><path clip-path=\"url(#clip740)\" d=\"M56.6171 486.793 L72.9365 486.793 L72.9365 490.728 L50.9921 490.728 L50.9921 486.793 Q53.6541 484.038 58.2375 479.408 Q62.8439 474.756 64.0245 473.413 Q66.2698 470.89 67.1494 469.154 Q68.0522 467.395 68.0522 465.705 Q68.0522 462.95 66.1078 461.214 Q64.1865 459.478 61.0847 459.478 Q58.8856 459.478 56.4319 460.242 Q54.0014 461.006 51.2236 462.557 L51.2236 457.834 Q54.0477 456.7 56.5014 456.121 Q58.955 455.543 60.9921 455.543 Q66.3624 455.543 69.5568 458.228 Q72.7513 460.913 72.7513 465.404 Q72.7513 467.533 71.9411 469.455 Q71.1541 471.353 69.0476 473.945 Q68.4689 474.617 65.367 477.834 Q62.2652 481.029 56.6171 486.793 Z\" fill=\"#000000\" fill-rule=\"nonzero\" fill-opacity=\"1\" /><path clip-path=\"url(#clip740)\" d=\"M92.7512 459.246 Q89.1401 459.246 87.3114 462.811 Q85.5058 466.353 85.5058 473.482 Q85.5058 480.589 87.3114 484.154 Q89.1401 487.695 92.7512 487.695 Q96.3854 487.695 98.1909 484.154 Q100.02 480.589 100.02 473.482 Q100.02 466.353 98.1909 462.811 Q96.3854 459.246 92.7512 459.246 M92.7512 455.543 Q98.5613 455.543 101.617 460.149 Q104.696 464.733 104.696 473.482 Q104.696 482.209 101.617 486.816 Q98.5613 491.399 92.7512 491.399 Q86.941 491.399 83.8623 486.816 Q80.8068 482.209 80.8068 473.482 Q80.8068 464.733 83.8623 460.149 Q86.941 455.543 92.7512 455.543 Z\" fill=\"#000000\" fill-rule=\"nonzero\" fill-opacity=\"1\" /><path clip-path=\"url(#clip740)\" d=\"M122.913 459.246 Q119.302 459.246 117.473 462.811 Q115.668 466.353 115.668 473.482 Q115.668 480.589 117.473 484.154 Q119.302 487.695 122.913 487.695 Q126.547 487.695 128.353 484.154 Q130.182 480.589 130.182 473.482 Q130.182 466.353 128.353 462.811 Q126.547 459.246 122.913 459.246 M122.913 455.543 Q128.723 455.543 131.779 460.149 Q134.857 464.733 134.857 473.482 Q134.857 482.209 131.779 486.816 Q128.723 491.399 122.913 491.399 Q117.103 491.399 114.024 486.816 Q110.969 482.209 110.969 473.482 Q110.969 464.733 114.024 460.149 Q117.103 455.543 122.913 455.543 Z\" fill=\"#000000\" fill-rule=\"nonzero\" fill-opacity=\"1\" /><path clip-path=\"url(#clip740)\" d=\"M56.6171 243.47 L72.9365 243.47 L72.9365 247.405 L50.9921 247.405 L50.9921 243.47 Q53.6541 240.715 58.2375 236.086 Q62.8439 231.433 64.0245 230.091 Q66.2698 227.567 67.1494 225.831 Q68.0522 224.072 68.0522 222.382 Q68.0522 219.628 66.1078 217.892 Q64.1865 216.155 61.0847 216.155 Q58.8856 216.155 56.4319 216.919 Q54.0014 217.683 51.2236 219.234 L51.2236 214.512 Q54.0477 213.378 56.5014 212.799 Q58.955 212.22 60.9921 212.22 Q66.3624 212.22 69.5568 214.905 Q72.7513 217.591 72.7513 222.081 Q72.7513 224.211 71.9411 226.132 Q71.1541 228.03 69.0476 230.623 Q68.4689 231.294 65.367 234.512 Q62.2652 237.706 56.6171 243.47 Z\" fill=\"#000000\" fill-rule=\"nonzero\" fill-opacity=\"1\" /><path clip-path=\"url(#clip740)\" d=\"M82.7975 212.845 L101.154 212.845 L101.154 216.78 L87.0799 216.78 L87.0799 225.253 Q88.0984 224.905 89.1169 224.743 Q90.1354 224.558 91.1539 224.558 Q96.941 224.558 100.321 227.729 Q103.7 230.901 103.7 236.317 Q103.7 241.896 100.228 244.998 Q96.7558 248.077 90.4364 248.077 Q88.2604 248.077 85.9919 247.706 Q83.7466 247.336 81.3392 246.595 L81.3392 241.896 Q83.4225 243.03 85.6447 243.586 Q87.8669 244.141 90.3438 244.141 Q94.3484 244.141 96.6863 242.035 Q99.0243 239.928 99.0243 236.317 Q99.0243 232.706 96.6863 230.6 Q94.3484 228.493 90.3438 228.493 Q88.4688 228.493 86.5938 228.91 Q84.7419 229.327 82.7975 230.206 L82.7975 212.845 Z\" fill=\"#000000\" fill-rule=\"nonzero\" fill-opacity=\"1\" /><path clip-path=\"url(#clip740)\" d=\"M122.913 215.924 Q119.302 215.924 117.473 219.489 Q115.668 223.03 115.668 230.16 Q115.668 237.266 117.473 240.831 Q119.302 244.373 122.913 244.373 Q126.547 244.373 128.353 240.831 Q130.182 237.266 130.182 230.16 Q130.182 223.03 128.353 219.489 Q126.547 215.924 122.913 215.924 M122.913 212.22 Q128.723 212.22 131.779 216.827 Q134.857 221.41 134.857 230.16 Q134.857 238.887 131.779 243.493 Q128.723 248.077 122.913 248.077 Q117.103 248.077 114.024 243.493 Q110.969 238.887 110.969 230.16 Q110.969 221.41 114.024 216.827 Q117.103 212.22 122.913 212.22 Z\" fill=\"#000000\" fill-rule=\"nonzero\" fill-opacity=\"1\" /><circle clip-path=\"url(#clip742)\" cx=\"575.675\" cy=\"832.543\" r=\"14.4\" fill=\"#ff0000\" fill-rule=\"evenodd\" fill-opacity=\"1\" stroke=\"#000000\" stroke-opacity=\"1\" stroke-width=\"3.2\"/>\n",
       "<circle clip-path=\"url(#clip742)\" cx=\"918.741\" cy=\"1285.12\" r=\"14.4\" fill=\"#ff0000\" fill-rule=\"evenodd\" fill-opacity=\"1\" stroke=\"#000000\" stroke-opacity=\"1\" stroke-width=\"3.2\"/>\n",
       "<circle clip-path=\"url(#clip742)\" cx=\"1261.81\" cy=\"1445.72\" r=\"14.4\" fill=\"#ff0000\" fill-rule=\"evenodd\" fill-opacity=\"1\" stroke=\"#000000\" stroke-opacity=\"1\" stroke-width=\"3.2\"/>\n",
       "<circle clip-path=\"url(#clip742)\" cx=\"1604.87\" cy=\"1314.32\" r=\"14.4\" fill=\"#ff0000\" fill-rule=\"evenodd\" fill-opacity=\"1\" stroke=\"#000000\" stroke-opacity=\"1\" stroke-width=\"3.2\"/>\n",
       "<circle clip-path=\"url(#clip742)\" cx=\"1947.94\" cy=\"890.94\" r=\"14.4\" fill=\"#ff0000\" fill-rule=\"evenodd\" fill-opacity=\"1\" stroke=\"#000000\" stroke-opacity=\"1\" stroke-width=\"3.2\"/>\n",
       "<polyline clip-path=\"url(#clip742)\" style=\"stroke:#ff0000; stroke-linecap:round; stroke-linejoin:round; stroke-width:4; stroke-opacity:1; fill:none\" points=\"232.609,87.9763 266.916,175.572 301.222,260.249 335.529,342.005 369.836,420.841 404.142,496.758 438.449,569.755 472.755,639.832 507.062,706.989 541.368,771.226 575.675,832.543 609.982,890.94 644.288,946.418 678.595,998.976 712.901,1048.61 747.208,1095.33 781.515,1139.13 815.821,1180.01 850.128,1217.97 884.434,1253 918.741,1285.12 953.047,1314.32 987.354,1340.6 1021.66,1363.96 1055.97,1384.4 1090.27,1401.92 1124.58,1416.52 1158.89,1428.2 1193.19,1436.96 1227.5,1442.8 1261.81,1445.72 1296.11,1445.72 1330.42,1442.8 1364.73,1436.96 1399.03,1428.2 1433.34,1416.52 1467.65,1401.92 1501.95,1384.4 1536.26,1363.96 1570.57,1340.6 1604.87,1314.32 1639.18,1285.12 1673.49,1253 1707.79,1217.97 1742.1,1180.01 1776.41,1139.13 1810.71,1095.33 1845.02,1048.61 1879.33,998.976 1913.63,946.418 1947.94,890.94 1982.24,832.543 2016.55,771.226 2050.86,706.989 2085.16,639.832 2119.47,569.755 2153.78,496.758 2188.08,420.841 2222.39,342.005 2256.7,260.249 2291,175.572 \"/>\n",
       "<path clip-path=\"url(#clip740)\" d=\"M2009.41 1438.47 L2280.03 1438.47 L2280.03 1282.95 L2009.41 1282.95  Z\" fill=\"#ffffff\" fill-rule=\"evenodd\" fill-opacity=\"1\"/>\n",
       "<polyline clip-path=\"url(#clip740)\" style=\"stroke:#000000; stroke-linecap:round; stroke-linejoin:round; stroke-width:4; stroke-opacity:1; fill:none\" points=\"2009.41,1438.47 2280.03,1438.47 2280.03,1282.95 2009.41,1282.95 2009.41,1438.47 \"/>\n",
       "<circle clip-path=\"url(#clip740)\" cx=\"2106.38\" cy=\"1334.79\" r=\"20.48\" fill=\"#ff0000\" fill-rule=\"evenodd\" fill-opacity=\"1\" stroke=\"#000000\" stroke-opacity=\"1\" stroke-width=\"4.55111\"/>\n",
       "<path clip-path=\"url(#clip740)\" d=\"M2217.19 1354.48 Q2215.39 1359.11 2213.68 1360.52 Q2211.96 1361.94 2209.09 1361.94 L2205.69 1361.94 L2205.69 1358.37 L2208.19 1358.37 Q2209.95 1358.37 2210.92 1357.54 Q2211.89 1356.7 2213.07 1353.6 L2213.84 1351.66 L2203.35 1326.15 L2207.87 1326.15 L2215.97 1346.43 L2224.07 1326.15 L2228.58 1326.15 L2217.19 1354.48 Z\" fill=\"#000000\" fill-rule=\"nonzero\" fill-opacity=\"1\" /><path clip-path=\"url(#clip740)\" d=\"M2235.88 1348.14 L2243.51 1348.14 L2243.51 1321.77 L2235.2 1323.44 L2235.2 1319.18 L2243.47 1317.51 L2248.14 1317.51 L2248.14 1348.14 L2255.78 1348.14 L2255.78 1352.07 L2235.88 1352.07 L2235.88 1348.14 Z\" fill=\"#000000\" fill-rule=\"nonzero\" fill-opacity=\"1\" /><polyline clip-path=\"url(#clip740)\" style=\"stroke:#ff0000; stroke-linecap:round; stroke-linejoin:round; stroke-width:4; stroke-opacity:1; fill:none\" points=\"2033.65,1386.63 2179.11,1386.63 \"/>\n",
       "<path clip-path=\"url(#clip740)\" d=\"M2217.19 1406.32 Q2215.39 1410.95 2213.68 1412.36 Q2211.96 1413.78 2209.09 1413.78 L2205.69 1413.78 L2205.69 1410.21 L2208.19 1410.21 Q2209.95 1410.21 2210.92 1409.38 Q2211.89 1408.54 2213.07 1405.44 L2213.84 1403.5 L2203.35 1377.99 L2207.87 1377.99 L2215.97 1398.27 L2224.07 1377.99 L2228.58 1377.99 L2217.19 1406.32 Z\" fill=\"#000000\" fill-rule=\"nonzero\" fill-opacity=\"1\" /><path clip-path=\"url(#clip740)\" d=\"M2239.09 1399.98 L2255.41 1399.98 L2255.41 1403.91 L2233.47 1403.91 L2233.47 1399.98 Q2236.13 1397.22 2240.71 1392.6 Q2245.32 1387.94 2246.5 1386.6 Q2248.75 1384.08 2249.63 1382.34 Q2250.53 1380.58 2250.53 1378.89 Q2250.53 1376.14 2248.58 1374.4 Q2246.66 1372.66 2243.56 1372.66 Q2241.36 1372.66 2238.91 1373.43 Q2236.48 1374.19 2233.7 1375.74 L2233.7 1371.02 Q2236.52 1369.89 2238.98 1369.31 Q2241.43 1368.73 2243.47 1368.73 Q2248.84 1368.73 2252.03 1371.41 Q2255.23 1374.1 2255.23 1378.59 Q2255.23 1380.72 2254.42 1382.64 Q2253.63 1384.54 2251.52 1387.13 Q2250.94 1387.8 2247.84 1391.02 Q2244.74 1394.22 2239.09 1399.98 Z\" fill=\"#000000\" fill-rule=\"nonzero\" fill-opacity=\"1\" /></svg>\n"
      ],
      "text/html": [
       "<?xml version=\"1.0\" encoding=\"utf-8\"?>\n",
       "<svg xmlns=\"http://www.w3.org/2000/svg\" xmlns:xlink=\"http://www.w3.org/1999/xlink\" width=\"600\" height=\"400\" viewBox=\"0 0 2400 1600\">\n",
       "<defs>\n",
       "  <clipPath id=\"clip790\">\n",
       "    <rect x=\"0\" y=\"0\" width=\"2400\" height=\"1600\"/>\n",
       "  </clipPath>\n",
       "</defs>\n",
       "<path clip-path=\"url(#clip790)\" d=\"M0 1600 L2400 1600 L2400 0 L0 0  Z\" fill=\"#ffffff\" fill-rule=\"evenodd\" fill-opacity=\"1\"/>\n",
       "<defs>\n",
       "  <clipPath id=\"clip791\">\n",
       "    <rect x=\"480\" y=\"0\" width=\"1681\" height=\"1600\"/>\n",
       "  </clipPath>\n",
       "</defs>\n",
       "<path clip-path=\"url(#clip790)\" d=\"M170.857 1486.45 L2352.76 1486.45 L2352.76 47.2441 L170.857 47.2441  Z\" fill=\"#ffffff\" fill-rule=\"evenodd\" fill-opacity=\"1\"/>\n",
       "<defs>\n",
       "  <clipPath id=\"clip792\">\n",
       "    <rect x=\"170\" y=\"47\" width=\"2183\" height=\"1440\"/>\n",
       "  </clipPath>\n",
       "</defs>\n",
       "<polyline clip-path=\"url(#clip792)\" style=\"stroke:#000000; stroke-linecap:round; stroke-linejoin:round; stroke-width:2; stroke-opacity:0.1; fill:none\" points=\"232.609,1486.45 232.609,47.2441 \"/>\n",
       "<polyline clip-path=\"url(#clip792)\" style=\"stroke:#000000; stroke-linecap:round; stroke-linejoin:round; stroke-width:2; stroke-opacity:0.1; fill:none\" points=\"575.675,1486.45 575.675,47.2441 \"/>\n",
       "<polyline clip-path=\"url(#clip792)\" style=\"stroke:#000000; stroke-linecap:round; stroke-linejoin:round; stroke-width:2; stroke-opacity:0.1; fill:none\" points=\"918.741,1486.45 918.741,47.2441 \"/>\n",
       "<polyline clip-path=\"url(#clip792)\" style=\"stroke:#000000; stroke-linecap:round; stroke-linejoin:round; stroke-width:2; stroke-opacity:0.1; fill:none\" points=\"1261.81,1486.45 1261.81,47.2441 \"/>\n",
       "<polyline clip-path=\"url(#clip792)\" style=\"stroke:#000000; stroke-linecap:round; stroke-linejoin:round; stroke-width:2; stroke-opacity:0.1; fill:none\" points=\"1604.87,1486.45 1604.87,47.2441 \"/>\n",
       "<polyline clip-path=\"url(#clip792)\" style=\"stroke:#000000; stroke-linecap:round; stroke-linejoin:round; stroke-width:2; stroke-opacity:0.1; fill:none\" points=\"1947.94,1486.45 1947.94,47.2441 \"/>\n",
       "<polyline clip-path=\"url(#clip792)\" style=\"stroke:#000000; stroke-linecap:round; stroke-linejoin:round; stroke-width:2; stroke-opacity:0.1; fill:none\" points=\"2291,1486.45 2291,47.2441 \"/>\n",
       "<polyline clip-path=\"url(#clip790)\" style=\"stroke:#000000; stroke-linecap:round; stroke-linejoin:round; stroke-width:4; stroke-opacity:1; fill:none\" points=\"170.857,1486.45 2352.76,1486.45 \"/>\n",
       "<polyline clip-path=\"url(#clip790)\" style=\"stroke:#000000; stroke-linecap:round; stroke-linejoin:round; stroke-width:4; stroke-opacity:1; fill:none\" points=\"232.609,1486.45 232.609,1467.55 \"/>\n",
       "<polyline clip-path=\"url(#clip790)\" style=\"stroke:#000000; stroke-linecap:round; stroke-linejoin:round; stroke-width:4; stroke-opacity:1; fill:none\" points=\"575.675,1486.45 575.675,1467.55 \"/>\n",
       "<polyline clip-path=\"url(#clip790)\" style=\"stroke:#000000; stroke-linecap:round; stroke-linejoin:round; stroke-width:4; stroke-opacity:1; fill:none\" points=\"918.741,1486.45 918.741,1467.55 \"/>\n",
       "<polyline clip-path=\"url(#clip790)\" style=\"stroke:#000000; stroke-linecap:round; stroke-linejoin:round; stroke-width:4; stroke-opacity:1; fill:none\" points=\"1261.81,1486.45 1261.81,1467.55 \"/>\n",
       "<polyline clip-path=\"url(#clip790)\" style=\"stroke:#000000; stroke-linecap:round; stroke-linejoin:round; stroke-width:4; stroke-opacity:1; fill:none\" points=\"1604.87,1486.45 1604.87,1467.55 \"/>\n",
       "<polyline clip-path=\"url(#clip790)\" style=\"stroke:#000000; stroke-linecap:round; stroke-linejoin:round; stroke-width:4; stroke-opacity:1; fill:none\" points=\"1947.94,1486.45 1947.94,1467.55 \"/>\n",
       "<polyline clip-path=\"url(#clip790)\" style=\"stroke:#000000; stroke-linecap:round; stroke-linejoin:round; stroke-width:4; stroke-opacity:1; fill:none\" points=\"2291,1486.45 2291,1467.55 \"/>\n",
       "<path clip-path=\"url(#clip790)\" d=\"M202.552 1532.02 L232.227 1532.02 L232.227 1535.95 L202.552 1535.95 L202.552 1532.02 Z\" fill=\"#000000\" fill-rule=\"nonzero\" fill-opacity=\"1\" /><path clip-path=\"url(#clip790)\" d=\"M246.348 1544.91 L262.667 1544.91 L262.667 1548.85 L240.723 1548.85 L240.723 1544.91 Q243.385 1542.16 247.968 1537.53 Q252.574 1532.88 253.755 1531.53 Q256 1529.01 256.88 1527.27 Q257.783 1525.51 257.783 1523.82 Q257.783 1521.07 255.838 1519.33 Q253.917 1517.6 250.815 1517.6 Q248.616 1517.6 246.162 1518.36 Q243.732 1519.13 240.954 1520.68 L240.954 1515.95 Q243.778 1514.82 246.232 1514.24 Q248.686 1513.66 250.723 1513.66 Q256.093 1513.66 259.287 1516.35 Q262.482 1519.03 262.482 1523.52 Q262.482 1525.65 261.672 1527.57 Q260.885 1529.47 258.778 1532.07 Q258.199 1532.74 255.098 1535.95 Q251.996 1539.15 246.348 1544.91 Z\" fill=\"#000000\" fill-rule=\"nonzero\" fill-opacity=\"1\" /><path clip-path=\"url(#clip790)\" d=\"M545.432 1532.02 L575.108 1532.02 L575.108 1535.95 L545.432 1535.95 L545.432 1532.02 Z\" fill=\"#000000\" fill-rule=\"nonzero\" fill-opacity=\"1\" /><path clip-path=\"url(#clip790)\" d=\"M586.011 1544.91 L593.65 1544.91 L593.65 1518.55 L585.339 1520.21 L585.339 1515.95 L593.603 1514.29 L598.279 1514.29 L598.279 1544.91 L605.918 1544.91 L605.918 1548.85 L586.011 1548.85 L586.011 1544.91 Z\" fill=\"#000000\" fill-rule=\"nonzero\" fill-opacity=\"1\" /><path clip-path=\"url(#clip790)\" d=\"M918.741 1517.37 Q915.13 1517.37 913.301 1520.93 Q911.496 1524.47 911.496 1531.6 Q911.496 1538.71 913.301 1542.27 Q915.13 1545.82 918.741 1545.82 Q922.375 1545.82 924.181 1542.27 Q926.009 1538.71 926.009 1531.6 Q926.009 1524.47 924.181 1520.93 Q922.375 1517.37 918.741 1517.37 M918.741 1513.66 Q924.551 1513.66 927.607 1518.27 Q930.685 1522.85 930.685 1531.6 Q930.685 1540.33 927.607 1544.94 Q924.551 1549.52 918.741 1549.52 Q912.931 1549.52 909.852 1544.94 Q906.796 1540.33 906.796 1531.6 Q906.796 1522.85 909.852 1518.27 Q912.931 1513.66 918.741 1513.66 Z\" fill=\"#000000\" fill-rule=\"nonzero\" fill-opacity=\"1\" /><path clip-path=\"url(#clip790)\" d=\"M1252.19 1544.91 L1259.83 1544.91 L1259.83 1518.55 L1251.52 1520.21 L1251.52 1515.95 L1259.78 1514.29 L1264.46 1514.29 L1264.46 1544.91 L1272.1 1544.91 L1272.1 1548.85 L1252.19 1548.85 L1252.19 1544.91 Z\" fill=\"#000000\" fill-rule=\"nonzero\" fill-opacity=\"1\" /><path clip-path=\"url(#clip790)\" d=\"M1599.53 1544.91 L1615.84 1544.91 L1615.84 1548.85 L1593.9 1548.85 L1593.9 1544.91 Q1596.56 1542.16 1601.15 1537.53 Q1605.75 1532.88 1606.93 1531.53 Q1609.18 1529.01 1610.06 1527.27 Q1610.96 1525.51 1610.96 1523.82 Q1610.96 1521.07 1609.02 1519.33 Q1607.09 1517.6 1603.99 1517.6 Q1601.79 1517.6 1599.34 1518.36 Q1596.91 1519.13 1594.13 1520.68 L1594.13 1515.95 Q1596.96 1514.82 1599.41 1514.24 Q1601.86 1513.66 1603.9 1513.66 Q1609.27 1513.66 1612.47 1516.35 Q1615.66 1519.03 1615.66 1523.52 Q1615.66 1525.65 1614.85 1527.57 Q1614.06 1529.47 1611.96 1532.07 Q1611.38 1532.74 1608.28 1535.95 Q1605.17 1539.15 1599.53 1544.91 Z\" fill=\"#000000\" fill-rule=\"nonzero\" fill-opacity=\"1\" /><path clip-path=\"url(#clip790)\" d=\"M1952.19 1530.21 Q1955.54 1530.93 1957.42 1533.2 Q1959.32 1535.47 1959.32 1538.8 Q1959.32 1543.92 1955.8 1546.72 Q1952.28 1549.52 1945.8 1549.52 Q1943.62 1549.52 1941.31 1549.08 Q1939.01 1548.66 1936.56 1547.81 L1936.56 1543.29 Q1938.51 1544.43 1940.82 1545.01 Q1943.14 1545.58 1945.66 1545.58 Q1950.06 1545.58 1952.35 1543.85 Q1954.66 1542.11 1954.66 1538.8 Q1954.66 1535.75 1952.51 1534.03 Q1950.38 1532.3 1946.56 1532.3 L1942.53 1532.3 L1942.53 1528.45 L1946.75 1528.45 Q1950.2 1528.45 1952.02 1527.09 Q1953.85 1525.7 1953.85 1523.11 Q1953.85 1520.45 1951.95 1519.03 Q1950.08 1517.6 1946.56 1517.6 Q1944.64 1517.6 1942.44 1518.01 Q1940.24 1518.43 1937.6 1519.31 L1937.6 1515.14 Q1940.26 1514.4 1942.58 1514.03 Q1944.92 1513.66 1946.98 1513.66 Q1952.3 1513.66 1955.4 1516.09 Q1958.51 1518.5 1958.51 1522.62 Q1958.51 1525.49 1956.86 1527.48 Q1955.22 1529.45 1952.19 1530.21 Z\" fill=\"#000000\" fill-rule=\"nonzero\" fill-opacity=\"1\" /><path clip-path=\"url(#clip790)\" d=\"M2294.01 1518.36 L2282.21 1536.81 L2294.01 1536.81 L2294.01 1518.36 M2292.79 1514.29 L2298.67 1514.29 L2298.67 1536.81 L2303.6 1536.81 L2303.6 1540.7 L2298.67 1540.7 L2298.67 1548.85 L2294.01 1548.85 L2294.01 1540.7 L2278.41 1540.7 L2278.41 1536.19 L2292.79 1514.29 Z\" fill=\"#000000\" fill-rule=\"nonzero\" fill-opacity=\"1\" /><polyline clip-path=\"url(#clip792)\" style=\"stroke:#000000; stroke-linecap:round; stroke-linejoin:round; stroke-width:2; stroke-opacity:0.1; fill:none\" points=\"170.857,1446.74 2352.76,1446.74 \"/>\n",
       "<polyline clip-path=\"url(#clip792)\" style=\"stroke:#000000; stroke-linecap:round; stroke-linejoin:round; stroke-width:2; stroke-opacity:0.1; fill:none\" points=\"170.857,1203.42 2352.76,1203.42 \"/>\n",
       "<polyline clip-path=\"url(#clip792)\" style=\"stroke:#000000; stroke-linecap:round; stroke-linejoin:round; stroke-width:2; stroke-opacity:0.1; fill:none\" points=\"170.857,960.093 2352.76,960.093 \"/>\n",
       "<polyline clip-path=\"url(#clip792)\" style=\"stroke:#000000; stroke-linecap:round; stroke-linejoin:round; stroke-width:2; stroke-opacity:0.1; fill:none\" points=\"170.857,716.77 2352.76,716.77 \"/>\n",
       "<polyline clip-path=\"url(#clip792)\" style=\"stroke:#000000; stroke-linecap:round; stroke-linejoin:round; stroke-width:2; stroke-opacity:0.1; fill:none\" points=\"170.857,473.448 2352.76,473.448 \"/>\n",
       "<polyline clip-path=\"url(#clip792)\" style=\"stroke:#000000; stroke-linecap:round; stroke-linejoin:round; stroke-width:2; stroke-opacity:0.1; fill:none\" points=\"170.857,230.125 2352.76,230.125 \"/>\n",
       "<polyline clip-path=\"url(#clip790)\" style=\"stroke:#000000; stroke-linecap:round; stroke-linejoin:round; stroke-width:4; stroke-opacity:1; fill:none\" points=\"170.857,1486.45 170.857,47.2441 \"/>\n",
       "<polyline clip-path=\"url(#clip790)\" style=\"stroke:#000000; stroke-linecap:round; stroke-linejoin:round; stroke-width:4; stroke-opacity:1; fill:none\" points=\"170.857,1446.74 189.755,1446.74 \"/>\n",
       "<polyline clip-path=\"url(#clip790)\" style=\"stroke:#000000; stroke-linecap:round; stroke-linejoin:round; stroke-width:4; stroke-opacity:1; fill:none\" points=\"170.857,1203.42 189.755,1203.42 \"/>\n",
       "<polyline clip-path=\"url(#clip790)\" style=\"stroke:#000000; stroke-linecap:round; stroke-linejoin:round; stroke-width:4; stroke-opacity:1; fill:none\" points=\"170.857,960.093 189.755,960.093 \"/>\n",
       "<polyline clip-path=\"url(#clip790)\" style=\"stroke:#000000; stroke-linecap:round; stroke-linejoin:round; stroke-width:4; stroke-opacity:1; fill:none\" points=\"170.857,716.77 189.755,716.77 \"/>\n",
       "<polyline clip-path=\"url(#clip790)\" style=\"stroke:#000000; stroke-linecap:round; stroke-linejoin:round; stroke-width:4; stroke-opacity:1; fill:none\" points=\"170.857,473.448 189.755,473.448 \"/>\n",
       "<polyline clip-path=\"url(#clip790)\" style=\"stroke:#000000; stroke-linecap:round; stroke-linejoin:round; stroke-width:4; stroke-opacity:1; fill:none\" points=\"170.857,230.125 189.755,230.125 \"/>\n",
       "<path clip-path=\"url(#clip790)\" d=\"M122.913 1432.54 Q119.302 1432.54 117.473 1436.1 Q115.668 1439.64 115.668 1446.77 Q115.668 1453.88 117.473 1457.44 Q119.302 1460.99 122.913 1460.99 Q126.547 1460.99 128.353 1457.44 Q130.182 1453.88 130.182 1446.77 Q130.182 1439.64 128.353 1436.1 Q126.547 1432.54 122.913 1432.54 M122.913 1428.83 Q128.723 1428.83 131.779 1433.44 Q134.857 1438.02 134.857 1446.77 Q134.857 1455.5 131.779 1460.11 Q128.723 1464.69 122.913 1464.69 Q117.103 1464.69 114.024 1460.11 Q110.969 1455.5 110.969 1446.77 Q110.969 1438.02 114.024 1433.44 Q117.103 1428.83 122.913 1428.83 Z\" fill=\"#000000\" fill-rule=\"nonzero\" fill-opacity=\"1\" /><path clip-path=\"url(#clip790)\" d=\"M82.7975 1186.14 L101.154 1186.14 L101.154 1190.07 L87.0799 1190.07 L87.0799 1198.54 Q88.0984 1198.2 89.1169 1198.03 Q90.1354 1197.85 91.1539 1197.85 Q96.941 1197.85 100.321 1201.02 Q103.7 1204.19 103.7 1209.61 Q103.7 1215.19 100.228 1218.29 Q96.7558 1221.37 90.4364 1221.37 Q88.2604 1221.37 85.9919 1221 Q83.7466 1220.63 81.3392 1219.88 L81.3392 1215.19 Q83.4225 1216.32 85.6447 1216.88 Q87.8669 1217.43 90.3438 1217.43 Q94.3484 1217.43 96.6863 1215.32 Q99.0243 1213.22 99.0243 1209.61 Q99.0243 1206 96.6863 1203.89 Q94.3484 1201.78 90.3438 1201.78 Q88.4688 1201.78 86.5938 1202.2 Q84.7419 1202.62 82.7975 1203.5 L82.7975 1186.14 Z\" fill=\"#000000\" fill-rule=\"nonzero\" fill-opacity=\"1\" /><path clip-path=\"url(#clip790)\" d=\"M122.913 1189.21 Q119.302 1189.21 117.473 1192.78 Q115.668 1196.32 115.668 1203.45 Q115.668 1210.56 117.473 1214.12 Q119.302 1217.66 122.913 1217.66 Q126.547 1217.66 128.353 1214.12 Q130.182 1210.56 130.182 1203.45 Q130.182 1196.32 128.353 1192.78 Q126.547 1189.21 122.913 1189.21 M122.913 1185.51 Q128.723 1185.51 131.779 1190.12 Q134.857 1194.7 134.857 1203.45 Q134.857 1212.18 131.779 1216.78 Q128.723 1221.37 122.913 1221.37 Q117.103 1221.37 114.024 1216.78 Q110.969 1212.18 110.969 1203.45 Q110.969 1194.7 114.024 1190.12 Q117.103 1185.51 122.913 1185.51 Z\" fill=\"#000000\" fill-rule=\"nonzero\" fill-opacity=\"1\" /><path clip-path=\"url(#clip790)\" d=\"M53.3995 973.438 L61.0384 973.438 L61.0384 947.072 L52.7282 948.739 L52.7282 944.479 L60.9921 942.813 L65.668 942.813 L65.668 973.438 L73.3068 973.438 L73.3068 977.373 L53.3995 977.373 L53.3995 973.438 Z\" fill=\"#000000\" fill-rule=\"nonzero\" fill-opacity=\"1\" /><path clip-path=\"url(#clip790)\" d=\"M92.7512 945.891 Q89.1401 945.891 87.3114 949.456 Q85.5058 952.998 85.5058 960.127 Q85.5058 967.234 87.3114 970.799 Q89.1401 974.34 92.7512 974.34 Q96.3854 974.34 98.1909 970.799 Q100.02 967.234 100.02 960.127 Q100.02 952.998 98.1909 949.456 Q96.3854 945.891 92.7512 945.891 M92.7512 942.188 Q98.5613 942.188 101.617 946.794 Q104.696 951.377 104.696 960.127 Q104.696 968.854 101.617 973.461 Q98.5613 978.044 92.7512 978.044 Q86.941 978.044 83.8623 973.461 Q80.8068 968.854 80.8068 960.127 Q80.8068 951.377 83.8623 946.794 Q86.941 942.188 92.7512 942.188 Z\" fill=\"#000000\" fill-rule=\"nonzero\" fill-opacity=\"1\" /><path clip-path=\"url(#clip790)\" d=\"M122.913 945.891 Q119.302 945.891 117.473 949.456 Q115.668 952.998 115.668 960.127 Q115.668 967.234 117.473 970.799 Q119.302 974.34 122.913 974.34 Q126.547 974.34 128.353 970.799 Q130.182 967.234 130.182 960.127 Q130.182 952.998 128.353 949.456 Q126.547 945.891 122.913 945.891 M122.913 942.188 Q128.723 942.188 131.779 946.794 Q134.857 951.377 134.857 960.127 Q134.857 968.854 131.779 973.461 Q128.723 978.044 122.913 978.044 Q117.103 978.044 114.024 973.461 Q110.969 968.854 110.969 960.127 Q110.969 951.377 114.024 946.794 Q117.103 942.188 122.913 942.188 Z\" fill=\"#000000\" fill-rule=\"nonzero\" fill-opacity=\"1\" /><path clip-path=\"url(#clip790)\" d=\"M53.3995 730.115 L61.0384 730.115 L61.0384 703.749 L52.7282 705.416 L52.7282 701.157 L60.9921 699.49 L65.668 699.49 L65.668 730.115 L73.3068 730.115 L73.3068 734.05 L53.3995 734.05 L53.3995 730.115 Z\" fill=\"#000000\" fill-rule=\"nonzero\" fill-opacity=\"1\" /><path clip-path=\"url(#clip790)\" d=\"M82.7975 699.49 L101.154 699.49 L101.154 703.425 L87.0799 703.425 L87.0799 711.898 Q88.0984 711.55 89.1169 711.388 Q90.1354 711.203 91.1539 711.203 Q96.941 711.203 100.321 714.374 Q103.7 717.546 103.7 722.962 Q103.7 728.541 100.228 731.643 Q96.7558 734.722 90.4364 734.722 Q88.2604 734.722 85.9919 734.351 Q83.7466 733.981 81.3392 733.24 L81.3392 728.541 Q83.4225 729.675 85.6447 730.231 Q87.8669 730.786 90.3438 730.786 Q94.3484 730.786 96.6863 728.68 Q99.0243 726.573 99.0243 722.962 Q99.0243 719.351 96.6863 717.245 Q94.3484 715.138 90.3438 715.138 Q88.4688 715.138 86.5938 715.555 Q84.7419 715.972 82.7975 716.851 L82.7975 699.49 Z\" fill=\"#000000\" fill-rule=\"nonzero\" fill-opacity=\"1\" /><path clip-path=\"url(#clip790)\" d=\"M122.913 702.569 Q119.302 702.569 117.473 706.134 Q115.668 709.675 115.668 716.805 Q115.668 723.911 117.473 727.476 Q119.302 731.018 122.913 731.018 Q126.547 731.018 128.353 727.476 Q130.182 723.911 130.182 716.805 Q130.182 709.675 128.353 706.134 Q126.547 702.569 122.913 702.569 M122.913 698.865 Q128.723 698.865 131.779 703.472 Q134.857 708.055 134.857 716.805 Q134.857 725.532 131.779 730.138 Q128.723 734.722 122.913 734.722 Q117.103 734.722 114.024 730.138 Q110.969 725.532 110.969 716.805 Q110.969 708.055 114.024 703.472 Q117.103 698.865 122.913 698.865 Z\" fill=\"#000000\" fill-rule=\"nonzero\" fill-opacity=\"1\" /><path clip-path=\"url(#clip790)\" d=\"M56.6171 486.793 L72.9365 486.793 L72.9365 490.728 L50.9921 490.728 L50.9921 486.793 Q53.6541 484.038 58.2375 479.408 Q62.8439 474.756 64.0245 473.413 Q66.2698 470.89 67.1494 469.154 Q68.0522 467.395 68.0522 465.705 Q68.0522 462.95 66.1078 461.214 Q64.1865 459.478 61.0847 459.478 Q58.8856 459.478 56.4319 460.242 Q54.0014 461.006 51.2236 462.557 L51.2236 457.834 Q54.0477 456.7 56.5014 456.121 Q58.955 455.543 60.9921 455.543 Q66.3624 455.543 69.5568 458.228 Q72.7513 460.913 72.7513 465.404 Q72.7513 467.533 71.9411 469.455 Q71.1541 471.353 69.0476 473.945 Q68.4689 474.617 65.367 477.834 Q62.2652 481.029 56.6171 486.793 Z\" fill=\"#000000\" fill-rule=\"nonzero\" fill-opacity=\"1\" /><path clip-path=\"url(#clip790)\" d=\"M92.7512 459.246 Q89.1401 459.246 87.3114 462.811 Q85.5058 466.353 85.5058 473.482 Q85.5058 480.589 87.3114 484.154 Q89.1401 487.695 92.7512 487.695 Q96.3854 487.695 98.1909 484.154 Q100.02 480.589 100.02 473.482 Q100.02 466.353 98.1909 462.811 Q96.3854 459.246 92.7512 459.246 M92.7512 455.543 Q98.5613 455.543 101.617 460.149 Q104.696 464.733 104.696 473.482 Q104.696 482.209 101.617 486.816 Q98.5613 491.399 92.7512 491.399 Q86.941 491.399 83.8623 486.816 Q80.8068 482.209 80.8068 473.482 Q80.8068 464.733 83.8623 460.149 Q86.941 455.543 92.7512 455.543 Z\" fill=\"#000000\" fill-rule=\"nonzero\" fill-opacity=\"1\" /><path clip-path=\"url(#clip790)\" d=\"M122.913 459.246 Q119.302 459.246 117.473 462.811 Q115.668 466.353 115.668 473.482 Q115.668 480.589 117.473 484.154 Q119.302 487.695 122.913 487.695 Q126.547 487.695 128.353 484.154 Q130.182 480.589 130.182 473.482 Q130.182 466.353 128.353 462.811 Q126.547 459.246 122.913 459.246 M122.913 455.543 Q128.723 455.543 131.779 460.149 Q134.857 464.733 134.857 473.482 Q134.857 482.209 131.779 486.816 Q128.723 491.399 122.913 491.399 Q117.103 491.399 114.024 486.816 Q110.969 482.209 110.969 473.482 Q110.969 464.733 114.024 460.149 Q117.103 455.543 122.913 455.543 Z\" fill=\"#000000\" fill-rule=\"nonzero\" fill-opacity=\"1\" /><path clip-path=\"url(#clip790)\" d=\"M56.6171 243.47 L72.9365 243.47 L72.9365 247.405 L50.9921 247.405 L50.9921 243.47 Q53.6541 240.715 58.2375 236.086 Q62.8439 231.433 64.0245 230.091 Q66.2698 227.567 67.1494 225.831 Q68.0522 224.072 68.0522 222.382 Q68.0522 219.628 66.1078 217.892 Q64.1865 216.155 61.0847 216.155 Q58.8856 216.155 56.4319 216.919 Q54.0014 217.683 51.2236 219.234 L51.2236 214.512 Q54.0477 213.378 56.5014 212.799 Q58.955 212.22 60.9921 212.22 Q66.3624 212.22 69.5568 214.905 Q72.7513 217.591 72.7513 222.081 Q72.7513 224.211 71.9411 226.132 Q71.1541 228.03 69.0476 230.623 Q68.4689 231.294 65.367 234.512 Q62.2652 237.706 56.6171 243.47 Z\" fill=\"#000000\" fill-rule=\"nonzero\" fill-opacity=\"1\" /><path clip-path=\"url(#clip790)\" d=\"M82.7975 212.845 L101.154 212.845 L101.154 216.78 L87.0799 216.78 L87.0799 225.253 Q88.0984 224.905 89.1169 224.743 Q90.1354 224.558 91.1539 224.558 Q96.941 224.558 100.321 227.729 Q103.7 230.901 103.7 236.317 Q103.7 241.896 100.228 244.998 Q96.7558 248.077 90.4364 248.077 Q88.2604 248.077 85.9919 247.706 Q83.7466 247.336 81.3392 246.595 L81.3392 241.896 Q83.4225 243.03 85.6447 243.586 Q87.8669 244.141 90.3438 244.141 Q94.3484 244.141 96.6863 242.035 Q99.0243 239.928 99.0243 236.317 Q99.0243 232.706 96.6863 230.6 Q94.3484 228.493 90.3438 228.493 Q88.4688 228.493 86.5938 228.91 Q84.7419 229.327 82.7975 230.206 L82.7975 212.845 Z\" fill=\"#000000\" fill-rule=\"nonzero\" fill-opacity=\"1\" /><path clip-path=\"url(#clip790)\" d=\"M122.913 215.924 Q119.302 215.924 117.473 219.489 Q115.668 223.03 115.668 230.16 Q115.668 237.266 117.473 240.831 Q119.302 244.373 122.913 244.373 Q126.547 244.373 128.353 240.831 Q130.182 237.266 130.182 230.16 Q130.182 223.03 128.353 219.489 Q126.547 215.924 122.913 215.924 M122.913 212.22 Q128.723 212.22 131.779 216.827 Q134.857 221.41 134.857 230.16 Q134.857 238.887 131.779 243.493 Q128.723 248.077 122.913 248.077 Q117.103 248.077 114.024 243.493 Q110.969 238.887 110.969 230.16 Q110.969 221.41 114.024 216.827 Q117.103 212.22 122.913 212.22 Z\" fill=\"#000000\" fill-rule=\"nonzero\" fill-opacity=\"1\" /><circle clip-path=\"url(#clip792)\" cx=\"575.675\" cy=\"832.543\" r=\"14.4\" fill=\"#ff0000\" fill-rule=\"evenodd\" fill-opacity=\"1\" stroke=\"#000000\" stroke-opacity=\"1\" stroke-width=\"3.2\"/>\n",
       "<circle clip-path=\"url(#clip792)\" cx=\"918.741\" cy=\"1285.12\" r=\"14.4\" fill=\"#ff0000\" fill-rule=\"evenodd\" fill-opacity=\"1\" stroke=\"#000000\" stroke-opacity=\"1\" stroke-width=\"3.2\"/>\n",
       "<circle clip-path=\"url(#clip792)\" cx=\"1261.81\" cy=\"1445.72\" r=\"14.4\" fill=\"#ff0000\" fill-rule=\"evenodd\" fill-opacity=\"1\" stroke=\"#000000\" stroke-opacity=\"1\" stroke-width=\"3.2\"/>\n",
       "<circle clip-path=\"url(#clip792)\" cx=\"1604.87\" cy=\"1314.32\" r=\"14.4\" fill=\"#ff0000\" fill-rule=\"evenodd\" fill-opacity=\"1\" stroke=\"#000000\" stroke-opacity=\"1\" stroke-width=\"3.2\"/>\n",
       "<circle clip-path=\"url(#clip792)\" cx=\"1947.94\" cy=\"890.94\" r=\"14.4\" fill=\"#ff0000\" fill-rule=\"evenodd\" fill-opacity=\"1\" stroke=\"#000000\" stroke-opacity=\"1\" stroke-width=\"3.2\"/>\n",
       "<polyline clip-path=\"url(#clip792)\" style=\"stroke:#ff0000; stroke-linecap:round; stroke-linejoin:round; stroke-width:4; stroke-opacity:1; fill:none\" points=\"232.609,87.9763 266.916,175.572 301.222,260.249 335.529,342.005 369.836,420.841 404.142,496.758 438.449,569.755 472.755,639.832 507.062,706.989 541.368,771.226 575.675,832.543 609.982,890.94 644.288,946.418 678.595,998.976 712.901,1048.61 747.208,1095.33 781.515,1139.13 815.821,1180.01 850.128,1217.97 884.434,1253 918.741,1285.12 953.047,1314.32 987.354,1340.6 1021.66,1363.96 1055.97,1384.4 1090.27,1401.92 1124.58,1416.52 1158.89,1428.2 1193.19,1436.96 1227.5,1442.8 1261.81,1445.72 1296.11,1445.72 1330.42,1442.8 1364.73,1436.96 1399.03,1428.2 1433.34,1416.52 1467.65,1401.92 1501.95,1384.4 1536.26,1363.96 1570.57,1340.6 1604.87,1314.32 1639.18,1285.12 1673.49,1253 1707.79,1217.97 1742.1,1180.01 1776.41,1139.13 1810.71,1095.33 1845.02,1048.61 1879.33,998.976 1913.63,946.418 1947.94,890.94 1982.24,832.543 2016.55,771.226 2050.86,706.989 2085.16,639.832 2119.47,569.755 2153.78,496.758 2188.08,420.841 2222.39,342.005 2256.7,260.249 2291,175.572 \"/>\n",
       "<path clip-path=\"url(#clip790)\" d=\"M2009.41 1438.47 L2280.03 1438.47 L2280.03 1282.95 L2009.41 1282.95  Z\" fill=\"#ffffff\" fill-rule=\"evenodd\" fill-opacity=\"1\"/>\n",
       "<polyline clip-path=\"url(#clip790)\" style=\"stroke:#000000; stroke-linecap:round; stroke-linejoin:round; stroke-width:4; stroke-opacity:1; fill:none\" points=\"2009.41,1438.47 2280.03,1438.47 2280.03,1282.95 2009.41,1282.95 2009.41,1438.47 \"/>\n",
       "<circle clip-path=\"url(#clip790)\" cx=\"2106.38\" cy=\"1334.79\" r=\"20.48\" fill=\"#ff0000\" fill-rule=\"evenodd\" fill-opacity=\"1\" stroke=\"#000000\" stroke-opacity=\"1\" stroke-width=\"4.55111\"/>\n",
       "<path clip-path=\"url(#clip790)\" d=\"M2217.19 1354.48 Q2215.39 1359.11 2213.68 1360.52 Q2211.96 1361.94 2209.09 1361.94 L2205.69 1361.94 L2205.69 1358.37 L2208.19 1358.37 Q2209.95 1358.37 2210.92 1357.54 Q2211.89 1356.7 2213.07 1353.6 L2213.84 1351.66 L2203.35 1326.15 L2207.87 1326.15 L2215.97 1346.43 L2224.07 1326.15 L2228.58 1326.15 L2217.19 1354.48 Z\" fill=\"#000000\" fill-rule=\"nonzero\" fill-opacity=\"1\" /><path clip-path=\"url(#clip790)\" d=\"M2235.88 1348.14 L2243.51 1348.14 L2243.51 1321.77 L2235.2 1323.44 L2235.2 1319.18 L2243.47 1317.51 L2248.14 1317.51 L2248.14 1348.14 L2255.78 1348.14 L2255.78 1352.07 L2235.88 1352.07 L2235.88 1348.14 Z\" fill=\"#000000\" fill-rule=\"nonzero\" fill-opacity=\"1\" /><polyline clip-path=\"url(#clip790)\" style=\"stroke:#ff0000; stroke-linecap:round; stroke-linejoin:round; stroke-width:4; stroke-opacity:1; fill:none\" points=\"2033.65,1386.63 2179.11,1386.63 \"/>\n",
       "<path clip-path=\"url(#clip790)\" d=\"M2217.19 1406.32 Q2215.39 1410.95 2213.68 1412.36 Q2211.96 1413.78 2209.09 1413.78 L2205.69 1413.78 L2205.69 1410.21 L2208.19 1410.21 Q2209.95 1410.21 2210.92 1409.38 Q2211.89 1408.54 2213.07 1405.44 L2213.84 1403.5 L2203.35 1377.99 L2207.87 1377.99 L2215.97 1398.27 L2224.07 1377.99 L2228.58 1377.99 L2217.19 1406.32 Z\" fill=\"#000000\" fill-rule=\"nonzero\" fill-opacity=\"1\" /><path clip-path=\"url(#clip790)\" d=\"M2239.09 1399.98 L2255.41 1399.98 L2255.41 1403.91 L2233.47 1403.91 L2233.47 1399.98 Q2236.13 1397.22 2240.71 1392.6 Q2245.32 1387.94 2246.5 1386.6 Q2248.75 1384.08 2249.63 1382.34 Q2250.53 1380.58 2250.53 1378.89 Q2250.53 1376.14 2248.58 1374.4 Q2246.66 1372.66 2243.56 1372.66 Q2241.36 1372.66 2238.91 1373.43 Q2236.48 1374.19 2233.7 1375.74 L2233.7 1371.02 Q2236.52 1369.89 2238.98 1369.31 Q2241.43 1368.73 2243.47 1368.73 Q2248.84 1368.73 2252.03 1371.41 Q2255.23 1374.1 2255.23 1378.59 Q2255.23 1380.72 2254.42 1382.64 Q2253.63 1384.54 2251.52 1387.13 Q2250.94 1387.8 2247.84 1391.02 Q2244.74 1394.22 2239.09 1399.98 Z\" fill=\"#000000\" fill-rule=\"nonzero\" fill-opacity=\"1\" /></svg>\n"
      ]
     },
     "metadata": {},
     "output_type": "display_data"
    }
   ],
   "source": [
    "let θ0s = [-1, 0, 1, 2, 3]\n",
    "    let losses = [objective(list(θ0, 0.0)) for θ0 in θ0s]\n",
    "        plot(θ0s, losses, seriestype=:scatter, color=:red)\n",
    "    end\n",
    "end\n",
    "\n",
    "let θ0s = -2:0.1:4\n",
    "    let losses = [objective(list(θ0, 0.0)) for θ0 in θ0s]\n",
    "        plot!(θ0s, losses, color=:red)\n",
    "    end\n",
    "end"
   ]
  },
  {
   "cell_type": "code",
   "execution_count": 19,
   "metadata": {},
   "outputs": [],
   "source": [
    "@assert gradient_of((θ) -> sqr(ref(θ, 0)), list(27)) == list(54)"
   ]
  },
  {
   "cell_type": "code",
   "execution_count": 20,
   "metadata": {},
   "outputs": [],
   "source": [
    "@assert gradient_of(objective, list(0.0, 0.0)) == list(-63.0, -21.0)"
   ]
  },
  {
   "cell_type": "code",
   "execution_count": 21,
   "metadata": {},
   "outputs": [
    {
     "data": {
      "text/plain": [
       "revise (generic function with 1 method)"
      ]
     },
     "metadata": {},
     "output_type": "display_data"
    }
   ],
   "source": [
    "\n",
    "# frame 80:24\n",
    "\n",
    "function revise(f, revs, θ)\n",
    "    for _ in 1:revs\n",
    "        θ = f(θ)\n",
    "    end\n",
    "    return θ\n",
    "end"
   ]
  },
  {
   "cell_type": "code",
   "execution_count": 22,
   "metadata": {},
   "outputs": [],
   "source": [
    "@assert revise((θ) -> map((p) -> p - 3, θ), 5, list(1, 2, 3)) == list(-14, -13, -12)"
   ]
  },
  {
   "cell_type": "code",
   "execution_count": 23,
   "metadata": {},
   "outputs": [
    {
     "data": {
      "text/plain": [
       "(1.0499993623489503, 1.8747718457656533e-6)"
      ]
     },
     "metadata": {},
     "output_type": "display_data"
    }
   ],
   "source": [
    "θ = let α = 0.01, obj = l2_loss(line)(line_xs, line_ys)\n",
    "    function f(θ)\n",
    "        gs = ∇(obj, θ)\n",
    "        list(ref(θ, 0) - α * ref(gs, 0),\n",
    "            ref(θ, 1) - α * ref(gs, 1))\n",
    "    end\n",
    "    revise(f, 1000, list(0.0, 0.0))\n",
    "end\n"
   ]
  },
  {
   "cell_type": "code",
   "execution_count": 24,
   "metadata": {},
   "outputs": [
    {
     "data": {
      "image/png": "[encoded data removed]",
      "image/svg+xml": [
       "<?xml version=\"1.0\" encoding=\"utf-8\"?>\n",
       "<svg xmlns=\"http://www.w3.org/2000/svg\" xmlns:xlink=\"http://www.w3.org/1999/xlink\" width=\"600\" height=\"400\" viewBox=\"0 0 2400 1600\">\n",
       "<defs>\n",
       "  <clipPath id=\"clip830\">\n",
       "    <rect x=\"0\" y=\"0\" width=\"2400\" height=\"1600\"/>\n",
       "  </clipPath>\n",
       "</defs>\n",
       "<path clip-path=\"url(#clip830)\" d=\"M0 1600 L2400 1600 L2400 0 L0 0  Z\" fill=\"#ffffff\" fill-rule=\"evenodd\" fill-opacity=\"1\"/>\n",
       "<defs>\n",
       "  <clipPath id=\"clip831\">\n",
       "    <rect x=\"480\" y=\"0\" width=\"1681\" height=\"1600\"/>\n",
       "  </clipPath>\n",
       "</defs>\n",
       "<path clip-path=\"url(#clip830)\" d=\"M112.177 1486.45 L2352.76 1486.45 L2352.76 47.2441 L112.177 47.2441  Z\" fill=\"#ffffff\" fill-rule=\"evenodd\" fill-opacity=\"1\"/>\n",
       "<defs>\n",
       "  <clipPath id=\"clip832\">\n",
       "    <rect x=\"112\" y=\"47\" width=\"2242\" height=\"1440\"/>\n",
       "  </clipPath>\n",
       "</defs>\n",
       "<polyline clip-path=\"url(#clip832)\" style=\"stroke:#000000; stroke-linecap:round; stroke-linejoin:round; stroke-width:2; stroke-opacity:0.1; fill:none\" points=\"175.59,1486.45 175.59,47.2441 \"/>\n",
       "<polyline clip-path=\"url(#clip832)\" style=\"stroke:#000000; stroke-linecap:round; stroke-linejoin:round; stroke-width:2; stroke-opacity:0.1; fill:none\" points=\"598.34,1486.45 598.34,47.2441 \"/>\n",
       "<polyline clip-path=\"url(#clip832)\" style=\"stroke:#000000; stroke-linecap:round; stroke-linejoin:round; stroke-width:2; stroke-opacity:0.1; fill:none\" points=\"1021.09,1486.45 1021.09,47.2441 \"/>\n",
       "<polyline clip-path=\"url(#clip832)\" style=\"stroke:#000000; stroke-linecap:round; stroke-linejoin:round; stroke-width:2; stroke-opacity:0.1; fill:none\" points=\"1443.84,1486.45 1443.84,47.2441 \"/>\n",
       "<polyline clip-path=\"url(#clip832)\" style=\"stroke:#000000; stroke-linecap:round; stroke-linejoin:round; stroke-width:2; stroke-opacity:0.1; fill:none\" points=\"1866.59,1486.45 1866.59,47.2441 \"/>\n",
       "<polyline clip-path=\"url(#clip832)\" style=\"stroke:#000000; stroke-linecap:round; stroke-linejoin:round; stroke-width:2; stroke-opacity:0.1; fill:none\" points=\"2289.34,1486.45 2289.34,47.2441 \"/>\n",
       "<polyline clip-path=\"url(#clip830)\" style=\"stroke:#000000; stroke-linecap:round; stroke-linejoin:round; stroke-width:4; stroke-opacity:1; fill:none\" points=\"112.177,1486.45 2352.76,1486.45 \"/>\n",
       "<polyline clip-path=\"url(#clip830)\" style=\"stroke:#000000; stroke-linecap:round; stroke-linejoin:round; stroke-width:4; stroke-opacity:1; fill:none\" points=\"175.59,1486.45 175.59,1467.55 \"/>\n",
       "<polyline clip-path=\"url(#clip830)\" style=\"stroke:#000000; stroke-linecap:round; stroke-linejoin:round; stroke-width:4; stroke-opacity:1; fill:none\" points=\"598.34,1486.45 598.34,1467.55 \"/>\n",
       "<polyline clip-path=\"url(#clip830)\" style=\"stroke:#000000; stroke-linecap:round; stroke-linejoin:round; stroke-width:4; stroke-opacity:1; fill:none\" points=\"1021.09,1486.45 1021.09,1467.55 \"/>\n",
       "<polyline clip-path=\"url(#clip830)\" style=\"stroke:#000000; stroke-linecap:round; stroke-linejoin:round; stroke-width:4; stroke-opacity:1; fill:none\" points=\"1443.84,1486.45 1443.84,1467.55 \"/>\n",
       "<polyline clip-path=\"url(#clip830)\" style=\"stroke:#000000; stroke-linecap:round; stroke-linejoin:round; stroke-width:4; stroke-opacity:1; fill:none\" points=\"1866.59,1486.45 1866.59,1467.55 \"/>\n",
       "<polyline clip-path=\"url(#clip830)\" style=\"stroke:#000000; stroke-linecap:round; stroke-linejoin:round; stroke-width:4; stroke-opacity:1; fill:none\" points=\"2289.34,1486.45 2289.34,1467.55 \"/>\n",
       "<path clip-path=\"url(#clip830)\" d=\"M175.59 1517.37 Q171.979 1517.37 170.15 1520.93 Q168.344 1524.47 168.344 1531.6 Q168.344 1538.71 170.15 1542.27 Q171.979 1545.82 175.59 1545.82 Q179.224 1545.82 181.03 1542.27 Q182.858 1538.71 182.858 1531.6 Q182.858 1524.47 181.03 1520.93 Q179.224 1517.37 175.59 1517.37 M175.59 1513.66 Q181.4 1513.66 184.455 1518.27 Q187.534 1522.85 187.534 1531.6 Q187.534 1540.33 184.455 1544.94 Q181.4 1549.52 175.59 1549.52 Q169.78 1549.52 166.701 1544.94 Q163.645 1540.33 163.645 1531.6 Q163.645 1522.85 166.701 1518.27 Q169.78 1513.66 175.59 1513.66 Z\" fill=\"#000000\" fill-rule=\"nonzero\" fill-opacity=\"1\" /><path clip-path=\"url(#clip830)\" d=\"M588.722 1544.91 L596.361 1544.91 L596.361 1518.55 L588.051 1520.21 L588.051 1515.95 L596.315 1514.29 L600.991 1514.29 L600.991 1544.91 L608.63 1544.91 L608.63 1548.85 L588.722 1548.85 L588.722 1544.91 Z\" fill=\"#000000\" fill-rule=\"nonzero\" fill-opacity=\"1\" /><path clip-path=\"url(#clip830)\" d=\"M1015.74 1544.91 L1032.06 1544.91 L1032.06 1548.85 L1010.12 1548.85 L1010.12 1544.91 Q1012.78 1542.16 1017.36 1537.53 Q1021.97 1532.88 1023.15 1531.53 Q1025.4 1529.01 1026.28 1527.27 Q1027.18 1525.51 1027.18 1523.82 Q1027.18 1521.07 1025.23 1519.33 Q1023.31 1517.6 1020.21 1517.6 Q1018.01 1517.6 1015.56 1518.36 Q1013.13 1519.13 1010.35 1520.68 L1010.35 1515.95 Q1013.17 1514.82 1015.63 1514.24 Q1018.08 1513.66 1020.12 1513.66 Q1025.49 1513.66 1028.68 1516.35 Q1031.88 1519.03 1031.88 1523.52 Q1031.88 1525.65 1031.07 1527.57 Q1030.28 1529.47 1028.17 1532.07 Q1027.6 1532.74 1024.49 1535.95 Q1021.39 1539.15 1015.74 1544.91 Z\" fill=\"#000000\" fill-rule=\"nonzero\" fill-opacity=\"1\" /><path clip-path=\"url(#clip830)\" d=\"M1448.09 1530.21 Q1451.45 1530.93 1453.32 1533.2 Q1455.22 1535.47 1455.22 1538.8 Q1455.22 1543.92 1451.7 1546.72 Q1448.18 1549.52 1441.7 1549.52 Q1439.52 1549.52 1437.21 1549.08 Q1434.92 1548.66 1432.46 1547.81 L1432.46 1543.29 Q1434.41 1544.43 1436.72 1545.01 Q1439.04 1545.58 1441.56 1545.58 Q1445.96 1545.58 1448.25 1543.85 Q1450.57 1542.11 1450.57 1538.8 Q1450.57 1535.75 1448.41 1534.03 Q1446.28 1532.3 1442.46 1532.3 L1438.44 1532.3 L1438.44 1528.45 L1442.65 1528.45 Q1446.1 1528.45 1447.93 1527.09 Q1449.76 1525.7 1449.76 1523.11 Q1449.76 1520.45 1447.86 1519.03 Q1445.98 1517.6 1442.46 1517.6 Q1440.54 1517.6 1438.34 1518.01 Q1436.15 1518.43 1433.51 1519.31 L1433.51 1515.14 Q1436.17 1514.4 1438.48 1514.03 Q1440.82 1513.66 1442.88 1513.66 Q1448.21 1513.66 1451.31 1516.09 Q1454.41 1518.5 1454.41 1522.62 Q1454.41 1525.49 1452.77 1527.48 Q1451.12 1529.45 1448.09 1530.21 Z\" fill=\"#000000\" fill-rule=\"nonzero\" fill-opacity=\"1\" /><path clip-path=\"url(#clip830)\" d=\"M1869.6 1518.36 L1857.8 1536.81 L1869.6 1536.81 L1869.6 1518.36 M1868.37 1514.29 L1874.25 1514.29 L1874.25 1536.81 L1879.19 1536.81 L1879.19 1540.7 L1874.25 1540.7 L1874.25 1548.85 L1869.6 1548.85 L1869.6 1540.7 L1854 1540.7 L1854 1536.19 L1868.37 1514.29 Z\" fill=\"#000000\" fill-rule=\"nonzero\" fill-opacity=\"1\" /><path clip-path=\"url(#clip830)\" d=\"M2279.62 1514.29 L2297.98 1514.29 L2297.98 1518.22 L2283.9 1518.22 L2283.9 1526.7 Q2284.92 1526.35 2285.94 1526.19 Q2286.96 1526 2287.98 1526 Q2293.76 1526 2297.14 1529.17 Q2300.52 1532.34 2300.52 1537.76 Q2300.52 1543.34 2297.05 1546.44 Q2293.58 1549.52 2287.26 1549.52 Q2285.08 1549.52 2282.82 1549.15 Q2280.57 1548.78 2278.16 1548.04 L2278.16 1543.34 Q2280.25 1544.47 2282.47 1545.03 Q2284.69 1545.58 2287.17 1545.58 Q2291.17 1545.58 2293.51 1543.48 Q2295.85 1541.37 2295.85 1537.76 Q2295.85 1534.15 2293.51 1532.04 Q2291.17 1529.94 2287.17 1529.94 Q2285.29 1529.94 2283.42 1530.35 Q2281.57 1530.77 2279.62 1531.65 L2279.62 1514.29 Z\" fill=\"#000000\" fill-rule=\"nonzero\" fill-opacity=\"1\" /><polyline clip-path=\"url(#clip832)\" style=\"stroke:#000000; stroke-linecap:round; stroke-linejoin:round; stroke-width:2; stroke-opacity:0.1; fill:none\" points=\"112.177,1445.72 2352.76,1445.72 \"/>\n",
       "<polyline clip-path=\"url(#clip832)\" style=\"stroke:#000000; stroke-linecap:round; stroke-linejoin:round; stroke-width:2; stroke-opacity:0.1; fill:none\" points=\"112.177,1187.1 2352.76,1187.1 \"/>\n",
       "<polyline clip-path=\"url(#clip832)\" style=\"stroke:#000000; stroke-linecap:round; stroke-linejoin:round; stroke-width:2; stroke-opacity:0.1; fill:none\" points=\"112.177,928.482 2352.76,928.482 \"/>\n",
       "<polyline clip-path=\"url(#clip832)\" style=\"stroke:#000000; stroke-linecap:round; stroke-linejoin:round; stroke-width:2; stroke-opacity:0.1; fill:none\" points=\"112.177,669.865 2352.76,669.865 \"/>\n",
       "<polyline clip-path=\"url(#clip832)\" style=\"stroke:#000000; stroke-linecap:round; stroke-linejoin:round; stroke-width:2; stroke-opacity:0.1; fill:none\" points=\"112.177,411.247 2352.76,411.247 \"/>\n",
       "<polyline clip-path=\"url(#clip832)\" style=\"stroke:#000000; stroke-linecap:round; stroke-linejoin:round; stroke-width:2; stroke-opacity:0.1; fill:none\" points=\"112.177,152.63 2352.76,152.63 \"/>\n",
       "<polyline clip-path=\"url(#clip830)\" style=\"stroke:#000000; stroke-linecap:round; stroke-linejoin:round; stroke-width:4; stroke-opacity:1; fill:none\" points=\"112.177,1486.45 112.177,47.2441 \"/>\n",
       "<polyline clip-path=\"url(#clip830)\" style=\"stroke:#000000; stroke-linecap:round; stroke-linejoin:round; stroke-width:4; stroke-opacity:1; fill:none\" points=\"112.177,1445.72 131.075,1445.72 \"/>\n",
       "<polyline clip-path=\"url(#clip830)\" style=\"stroke:#000000; stroke-linecap:round; stroke-linejoin:round; stroke-width:4; stroke-opacity:1; fill:none\" points=\"112.177,1187.1 131.075,1187.1 \"/>\n",
       "<polyline clip-path=\"url(#clip830)\" style=\"stroke:#000000; stroke-linecap:round; stroke-linejoin:round; stroke-width:4; stroke-opacity:1; fill:none\" points=\"112.177,928.482 131.075,928.482 \"/>\n",
       "<polyline clip-path=\"url(#clip830)\" style=\"stroke:#000000; stroke-linecap:round; stroke-linejoin:round; stroke-width:4; stroke-opacity:1; fill:none\" points=\"112.177,669.865 131.075,669.865 \"/>\n",
       "<polyline clip-path=\"url(#clip830)\" style=\"stroke:#000000; stroke-linecap:round; stroke-linejoin:round; stroke-width:4; stroke-opacity:1; fill:none\" points=\"112.177,411.247 131.075,411.247 \"/>\n",
       "<polyline clip-path=\"url(#clip830)\" style=\"stroke:#000000; stroke-linecap:round; stroke-linejoin:round; stroke-width:4; stroke-opacity:1; fill:none\" points=\"112.177,152.63 131.075,152.63 \"/>\n",
       "<path clip-path=\"url(#clip830)\" d=\"M64.2328 1431.51 Q60.6217 1431.51 58.793 1435.08 Q56.9875 1438.62 56.9875 1445.75 Q56.9875 1452.86 58.793 1456.42 Q60.6217 1459.96 64.2328 1459.96 Q67.867 1459.96 69.6726 1456.42 Q71.5013 1452.86 71.5013 1445.75 Q71.5013 1438.62 69.6726 1435.08 Q67.867 1431.51 64.2328 1431.51 M64.2328 1427.81 Q70.0429 1427.81 73.0985 1432.42 Q76.1772 1437 76.1772 1445.75 Q76.1772 1454.48 73.0985 1459.08 Q70.0429 1463.67 64.2328 1463.67 Q58.4226 1463.67 55.344 1459.08 Q52.2884 1454.48 52.2884 1445.75 Q52.2884 1437 55.344 1432.42 Q58.4226 1427.81 64.2328 1427.81 Z\" fill=\"#000000\" fill-rule=\"nonzero\" fill-opacity=\"1\" /><path clip-path=\"url(#clip830)\" d=\"M56.2699 1200.44 L63.9087 1200.44 L63.9087 1174.08 L55.5986 1175.74 L55.5986 1171.49 L63.8624 1169.82 L68.5383 1169.82 L68.5383 1200.44 L76.1772 1200.44 L76.1772 1204.38 L56.2699 1204.38 L56.2699 1200.44 Z\" fill=\"#000000\" fill-rule=\"nonzero\" fill-opacity=\"1\" /><path clip-path=\"url(#clip830)\" d=\"M59.8578 941.827 L76.1772 941.827 L76.1772 945.762 L54.2328 945.762 L54.2328 941.827 Q56.8949 939.072 61.4782 934.442 Q66.0846 929.79 67.2652 928.447 Q69.5105 925.924 70.3902 924.188 Q71.2929 922.429 71.2929 920.739 Q71.2929 917.984 69.3485 916.248 Q67.4272 914.512 64.3254 914.512 Q62.1263 914.512 59.6726 915.276 Q57.2421 916.04 54.4643 917.591 L54.4643 912.868 Q57.2884 911.734 59.7421 911.156 Q62.1958 910.577 64.2328 910.577 Q69.6031 910.577 72.7976 913.262 Q75.992 915.947 75.992 920.438 Q75.992 922.567 75.1818 924.489 Q74.3948 926.387 72.2883 928.979 Q71.7096 929.651 68.6078 932.868 Q65.5059 936.063 59.8578 941.827 Z\" fill=\"#000000\" fill-rule=\"nonzero\" fill-opacity=\"1\" /><path clip-path=\"url(#clip830)\" d=\"M69.0476 668.51 Q72.404 669.228 74.279 671.497 Q76.1772 673.765 76.1772 677.098 Q76.1772 682.214 72.6587 685.015 Q69.1402 687.816 62.6587 687.816 Q60.4828 687.816 58.168 687.376 Q55.8764 686.959 53.4227 686.103 L53.4227 681.589 Q55.3671 682.723 57.6819 683.302 Q59.9967 683.881 62.5198 683.881 Q66.918 683.881 69.2096 682.145 Q71.5244 680.409 71.5244 677.098 Q71.5244 674.043 69.3717 672.33 Q67.242 670.594 63.4226 670.594 L59.3949 670.594 L59.3949 666.751 L63.6078 666.751 Q67.0569 666.751 68.8855 665.385 Q70.7142 663.997 70.7142 661.404 Q70.7142 658.742 68.8161 657.33 Q66.9411 655.895 63.4226 655.895 Q61.5013 655.895 59.3023 656.311 Q57.1032 656.728 54.4643 657.608 L54.4643 653.441 Q57.1264 652.7 59.4412 652.33 Q61.7791 651.96 63.8393 651.96 Q69.1633 651.96 72.2652 654.39 Q75.367 656.798 75.367 660.918 Q75.367 663.788 73.7235 665.779 Q72.08 667.747 69.0476 668.51 Z\" fill=\"#000000\" fill-rule=\"nonzero\" fill-opacity=\"1\" /><path clip-path=\"url(#clip830)\" d=\"M66.5939 398.041 L54.7884 416.49 L66.5939 416.49 L66.5939 398.041 M65.367 393.967 L71.2466 393.967 L71.2466 416.49 L76.1772 416.49 L76.1772 420.379 L71.2466 420.379 L71.2466 428.527 L66.5939 428.527 L66.5939 420.379 L50.9921 420.379 L50.9921 415.865 L65.367 393.967 Z\" fill=\"#000000\" fill-rule=\"nonzero\" fill-opacity=\"1\" /><path clip-path=\"url(#clip830)\" d=\"M55.2745 135.35 L73.6309 135.35 L73.6309 139.285 L59.5569 139.285 L59.5569 147.758 Q60.5754 147.41 61.5939 147.248 Q62.6124 147.063 63.6309 147.063 Q69.418 147.063 72.7976 150.234 Q76.1772 153.406 76.1772 158.822 Q76.1772 164.401 72.705 167.503 Q69.2328 170.582 62.9134 170.582 Q60.7374 170.582 58.4689 170.211 Q56.2236 169.841 53.8162 169.1 L53.8162 164.401 Q55.8995 165.535 58.1217 166.091 Q60.3439 166.646 62.8208 166.646 Q66.8254 166.646 69.1633 164.54 Q71.5013 162.433 71.5013 158.822 Q71.5013 155.211 69.1633 153.105 Q66.8254 150.998 62.8208 150.998 Q60.9458 150.998 59.0708 151.415 Q57.2189 151.832 55.2745 152.711 L55.2745 135.35 Z\" fill=\"#000000\" fill-rule=\"nonzero\" fill-opacity=\"1\" /><circle clip-path=\"url(#clip832)\" cx=\"1021.09\" cy=\"980.205\" r=\"14.4\" fill=\"#009af9\" fill-rule=\"evenodd\" fill-opacity=\"1\" stroke=\"#000000\" stroke-opacity=\"1\" stroke-width=\"3.2\"/>\n",
       "<circle clip-path=\"url(#clip832)\" cx=\"598.34\" cy=\"1135.38\" r=\"14.4\" fill=\"#009af9\" fill-rule=\"evenodd\" fill-opacity=\"1\" stroke=\"#000000\" stroke-opacity=\"1\" stroke-width=\"3.2\"/>\n",
       "<circle clip-path=\"url(#clip832)\" cx=\"1866.59\" cy=\"359.524\" r=\"14.4\" fill=\"#009af9\" fill-rule=\"evenodd\" fill-opacity=\"1\" stroke=\"#000000\" stroke-opacity=\"1\" stroke-width=\"3.2\"/>\n",
       "<circle clip-path=\"url(#clip832)\" cx=\"1443.84\" cy=\"592.279\" r=\"14.4\" fill=\"#009af9\" fill-rule=\"evenodd\" fill-opacity=\"1\" stroke=\"#000000\" stroke-opacity=\"1\" stroke-width=\"3.2\"/>\n",
       "<polyline clip-path=\"url(#clip832)\" style=\"stroke:#e26f46; stroke-linecap:round; stroke-linejoin:round; stroke-width:4; stroke-opacity:1; fill:none\" points=\"175.59,1445.72 2289.34,87.9763 \"/>\n",
       "<path clip-path=\"url(#clip830)\" d=\"M186.863 250.738 L463.351 250.738 L463.351 95.2176 L186.863 95.2176  Z\" fill=\"#ffffff\" fill-rule=\"evenodd\" fill-opacity=\"1\"/>\n",
       "<polyline clip-path=\"url(#clip830)\" style=\"stroke:#000000; stroke-linecap:round; stroke-linejoin:round; stroke-width:4; stroke-opacity:1; fill:none\" points=\"186.863,250.738 463.351,250.738 463.351,95.2176 186.863,95.2176 186.863,250.738 \"/>\n",
       "<circle clip-path=\"url(#clip830)\" cx=\"286.444\" cy=\"147.058\" r=\"20.48\" fill=\"#009af9\" fill-rule=\"evenodd\" fill-opacity=\"1\" stroke=\"#000000\" stroke-opacity=\"1\" stroke-width=\"4.55111\"/>\n",
       "<path clip-path=\"url(#clip830)\" d=\"M399.868 166.745 Q398.063 171.375 396.35 172.787 Q394.637 174.199 391.766 174.199 L388.364 174.199 L388.364 170.634 L390.864 170.634 Q392.623 170.634 393.595 169.8 Q394.567 168.967 395.748 165.865 L396.512 163.921 L386.026 138.412 L390.54 138.412 L398.641 158.689 L406.743 138.412 L411.257 138.412 L399.868 166.745 Z\" fill=\"#000000\" fill-rule=\"nonzero\" fill-opacity=\"1\" /><path clip-path=\"url(#clip830)\" d=\"M418.549 160.402 L426.188 160.402 L426.188 134.037 L417.877 135.703 L417.877 131.444 L426.141 129.778 L430.817 129.778 L430.817 160.402 L438.456 160.402 L438.456 164.338 L418.549 164.338 L418.549 160.402 Z\" fill=\"#000000\" fill-rule=\"nonzero\" fill-opacity=\"1\" /><polyline clip-path=\"url(#clip830)\" style=\"stroke:#e26f46; stroke-linecap:round; stroke-linejoin:round; stroke-width:4; stroke-opacity:1; fill:none\" points=\"211.758,198.898 361.13,198.898 \"/>\n",
       "<path clip-path=\"url(#clip830)\" d=\"M399.868 218.585 Q398.063 223.215 396.35 224.627 Q394.637 226.039 391.766 226.039 L388.364 226.039 L388.364 222.474 L390.864 222.474 Q392.623 222.474 393.595 221.64 Q394.567 220.807 395.748 217.705 L396.512 215.761 L386.026 190.252 L390.54 190.252 L398.641 210.529 L406.743 190.252 L411.257 190.252 L399.868 218.585 Z\" fill=\"#000000\" fill-rule=\"nonzero\" fill-opacity=\"1\" /><path clip-path=\"url(#clip830)\" d=\"M421.766 212.242 L438.086 212.242 L438.086 216.178 L416.141 216.178 L416.141 212.242 Q418.803 209.488 423.387 204.858 Q427.993 200.205 429.174 198.863 Q431.419 196.34 432.299 194.604 Q433.201 192.844 433.201 191.155 Q433.201 188.4 431.257 186.664 Q429.336 184.928 426.234 184.928 Q424.035 184.928 421.581 185.692 Q419.151 186.455 416.373 188.006 L416.373 183.284 Q419.197 182.15 421.65 181.571 Q424.104 180.993 426.141 180.993 Q431.512 180.993 434.706 183.678 Q437.9 186.363 437.9 190.854 Q437.9 192.983 437.09 194.905 Q436.303 196.803 434.197 199.395 Q433.618 200.067 430.516 203.284 Q427.414 206.479 421.766 212.242 Z\" fill=\"#000000\" fill-rule=\"nonzero\" fill-opacity=\"1\" /></svg>\n"
      ],
      "text/html": [
       "<?xml version=\"1.0\" encoding=\"utf-8\"?>\n",
       "<svg xmlns=\"http://www.w3.org/2000/svg\" xmlns:xlink=\"http://www.w3.org/1999/xlink\" width=\"600\" height=\"400\" viewBox=\"0 0 2400 1600\">\n",
       "<defs>\n",
       "  <clipPath id=\"clip880\">\n",
       "    <rect x=\"0\" y=\"0\" width=\"2400\" height=\"1600\"/>\n",
       "  </clipPath>\n",
       "</defs>\n",
       "<path clip-path=\"url(#clip880)\" d=\"M0 1600 L2400 1600 L2400 0 L0 0  Z\" fill=\"#ffffff\" fill-rule=\"evenodd\" fill-opacity=\"1\"/>\n",
       "<defs>\n",
       "  <clipPath id=\"clip881\">\n",
       "    <rect x=\"480\" y=\"0\" width=\"1681\" height=\"1600\"/>\n",
       "  </clipPath>\n",
       "</defs>\n",
       "<path clip-path=\"url(#clip880)\" d=\"M112.177 1486.45 L2352.76 1486.45 L2352.76 47.2441 L112.177 47.2441  Z\" fill=\"#ffffff\" fill-rule=\"evenodd\" fill-opacity=\"1\"/>\n",
       "<defs>\n",
       "  <clipPath id=\"clip882\">\n",
       "    <rect x=\"112\" y=\"47\" width=\"2242\" height=\"1440\"/>\n",
       "  </clipPath>\n",
       "</defs>\n",
       "<polyline clip-path=\"url(#clip882)\" style=\"stroke:#000000; stroke-linecap:round; stroke-linejoin:round; stroke-width:2; stroke-opacity:0.1; fill:none\" points=\"175.59,1486.45 175.59,47.2441 \"/>\n",
       "<polyline clip-path=\"url(#clip882)\" style=\"stroke:#000000; stroke-linecap:round; stroke-linejoin:round; stroke-width:2; stroke-opacity:0.1; fill:none\" points=\"598.34,1486.45 598.34,47.2441 \"/>\n",
       "<polyline clip-path=\"url(#clip882)\" style=\"stroke:#000000; stroke-linecap:round; stroke-linejoin:round; stroke-width:2; stroke-opacity:0.1; fill:none\" points=\"1021.09,1486.45 1021.09,47.2441 \"/>\n",
       "<polyline clip-path=\"url(#clip882)\" style=\"stroke:#000000; stroke-linecap:round; stroke-linejoin:round; stroke-width:2; stroke-opacity:0.1; fill:none\" points=\"1443.84,1486.45 1443.84,47.2441 \"/>\n",
       "<polyline clip-path=\"url(#clip882)\" style=\"stroke:#000000; stroke-linecap:round; stroke-linejoin:round; stroke-width:2; stroke-opacity:0.1; fill:none\" points=\"1866.59,1486.45 1866.59,47.2441 \"/>\n",
       "<polyline clip-path=\"url(#clip882)\" style=\"stroke:#000000; stroke-linecap:round; stroke-linejoin:round; stroke-width:2; stroke-opacity:0.1; fill:none\" points=\"2289.34,1486.45 2289.34,47.2441 \"/>\n",
       "<polyline clip-path=\"url(#clip880)\" style=\"stroke:#000000; stroke-linecap:round; stroke-linejoin:round; stroke-width:4; stroke-opacity:1; fill:none\" points=\"112.177,1486.45 2352.76,1486.45 \"/>\n",
       "<polyline clip-path=\"url(#clip880)\" style=\"stroke:#000000; stroke-linecap:round; stroke-linejoin:round; stroke-width:4; stroke-opacity:1; fill:none\" points=\"175.59,1486.45 175.59,1467.55 \"/>\n",
       "<polyline clip-path=\"url(#clip880)\" style=\"stroke:#000000; stroke-linecap:round; stroke-linejoin:round; stroke-width:4; stroke-opacity:1; fill:none\" points=\"598.34,1486.45 598.34,1467.55 \"/>\n",
       "<polyline clip-path=\"url(#clip880)\" style=\"stroke:#000000; stroke-linecap:round; stroke-linejoin:round; stroke-width:4; stroke-opacity:1; fill:none\" points=\"1021.09,1486.45 1021.09,1467.55 \"/>\n",
       "<polyline clip-path=\"url(#clip880)\" style=\"stroke:#000000; stroke-linecap:round; stroke-linejoin:round; stroke-width:4; stroke-opacity:1; fill:none\" points=\"1443.84,1486.45 1443.84,1467.55 \"/>\n",
       "<polyline clip-path=\"url(#clip880)\" style=\"stroke:#000000; stroke-linecap:round; stroke-linejoin:round; stroke-width:4; stroke-opacity:1; fill:none\" points=\"1866.59,1486.45 1866.59,1467.55 \"/>\n",
       "<polyline clip-path=\"url(#clip880)\" style=\"stroke:#000000; stroke-linecap:round; stroke-linejoin:round; stroke-width:4; stroke-opacity:1; fill:none\" points=\"2289.34,1486.45 2289.34,1467.55 \"/>\n",
       "<path clip-path=\"url(#clip880)\" d=\"M175.59 1517.37 Q171.979 1517.37 170.15 1520.93 Q168.344 1524.47 168.344 1531.6 Q168.344 1538.71 170.15 1542.27 Q171.979 1545.82 175.59 1545.82 Q179.224 1545.82 181.03 1542.27 Q182.858 1538.71 182.858 1531.6 Q182.858 1524.47 181.03 1520.93 Q179.224 1517.37 175.59 1517.37 M175.59 1513.66 Q181.4 1513.66 184.455 1518.27 Q187.534 1522.85 187.534 1531.6 Q187.534 1540.33 184.455 1544.94 Q181.4 1549.52 175.59 1549.52 Q169.78 1549.52 166.701 1544.94 Q163.645 1540.33 163.645 1531.6 Q163.645 1522.85 166.701 1518.27 Q169.78 1513.66 175.59 1513.66 Z\" fill=\"#000000\" fill-rule=\"nonzero\" fill-opacity=\"1\" /><path clip-path=\"url(#clip880)\" d=\"M588.722 1544.91 L596.361 1544.91 L596.361 1518.55 L588.051 1520.21 L588.051 1515.95 L596.315 1514.29 L600.991 1514.29 L600.991 1544.91 L608.63 1544.91 L608.63 1548.85 L588.722 1548.85 L588.722 1544.91 Z\" fill=\"#000000\" fill-rule=\"nonzero\" fill-opacity=\"1\" /><path clip-path=\"url(#clip880)\" d=\"M1015.74 1544.91 L1032.06 1544.91 L1032.06 1548.85 L1010.12 1548.85 L1010.12 1544.91 Q1012.78 1542.16 1017.36 1537.53 Q1021.97 1532.88 1023.15 1531.53 Q1025.4 1529.01 1026.28 1527.27 Q1027.18 1525.51 1027.18 1523.82 Q1027.18 1521.07 1025.23 1519.33 Q1023.31 1517.6 1020.21 1517.6 Q1018.01 1517.6 1015.56 1518.36 Q1013.13 1519.13 1010.35 1520.68 L1010.35 1515.95 Q1013.17 1514.82 1015.63 1514.24 Q1018.08 1513.66 1020.12 1513.66 Q1025.49 1513.66 1028.68 1516.35 Q1031.88 1519.03 1031.88 1523.52 Q1031.88 1525.65 1031.07 1527.57 Q1030.28 1529.47 1028.17 1532.07 Q1027.6 1532.74 1024.49 1535.95 Q1021.39 1539.15 1015.74 1544.91 Z\" fill=\"#000000\" fill-rule=\"nonzero\" fill-opacity=\"1\" /><path clip-path=\"url(#clip880)\" d=\"M1448.09 1530.21 Q1451.45 1530.93 1453.32 1533.2 Q1455.22 1535.47 1455.22 1538.8 Q1455.22 1543.92 1451.7 1546.72 Q1448.18 1549.52 1441.7 1549.52 Q1439.52 1549.52 1437.21 1549.08 Q1434.92 1548.66 1432.46 1547.81 L1432.46 1543.29 Q1434.41 1544.43 1436.72 1545.01 Q1439.04 1545.58 1441.56 1545.58 Q1445.96 1545.58 1448.25 1543.85 Q1450.57 1542.11 1450.57 1538.8 Q1450.57 1535.75 1448.41 1534.03 Q1446.28 1532.3 1442.46 1532.3 L1438.44 1532.3 L1438.44 1528.45 L1442.65 1528.45 Q1446.1 1528.45 1447.93 1527.09 Q1449.76 1525.7 1449.76 1523.11 Q1449.76 1520.45 1447.86 1519.03 Q1445.98 1517.6 1442.46 1517.6 Q1440.54 1517.6 1438.34 1518.01 Q1436.15 1518.43 1433.51 1519.31 L1433.51 1515.14 Q1436.17 1514.4 1438.48 1514.03 Q1440.82 1513.66 1442.88 1513.66 Q1448.21 1513.66 1451.31 1516.09 Q1454.41 1518.5 1454.41 1522.62 Q1454.41 1525.49 1452.77 1527.48 Q1451.12 1529.45 1448.09 1530.21 Z\" fill=\"#000000\" fill-rule=\"nonzero\" fill-opacity=\"1\" /><path clip-path=\"url(#clip880)\" d=\"M1869.6 1518.36 L1857.8 1536.81 L1869.6 1536.81 L1869.6 1518.36 M1868.37 1514.29 L1874.25 1514.29 L1874.25 1536.81 L1879.19 1536.81 L1879.19 1540.7 L1874.25 1540.7 L1874.25 1548.85 L1869.6 1548.85 L1869.6 1540.7 L1854 1540.7 L1854 1536.19 L1868.37 1514.29 Z\" fill=\"#000000\" fill-rule=\"nonzero\" fill-opacity=\"1\" /><path clip-path=\"url(#clip880)\" d=\"M2279.62 1514.29 L2297.98 1514.29 L2297.98 1518.22 L2283.9 1518.22 L2283.9 1526.7 Q2284.92 1526.35 2285.94 1526.19 Q2286.96 1526 2287.98 1526 Q2293.76 1526 2297.14 1529.17 Q2300.52 1532.34 2300.52 1537.76 Q2300.52 1543.34 2297.05 1546.44 Q2293.58 1549.52 2287.26 1549.52 Q2285.08 1549.52 2282.82 1549.15 Q2280.57 1548.78 2278.16 1548.04 L2278.16 1543.34 Q2280.25 1544.47 2282.47 1545.03 Q2284.69 1545.58 2287.17 1545.58 Q2291.17 1545.58 2293.51 1543.48 Q2295.85 1541.37 2295.85 1537.76 Q2295.85 1534.15 2293.51 1532.04 Q2291.17 1529.94 2287.17 1529.94 Q2285.29 1529.94 2283.42 1530.35 Q2281.57 1530.77 2279.62 1531.65 L2279.62 1514.29 Z\" fill=\"#000000\" fill-rule=\"nonzero\" fill-opacity=\"1\" /><polyline clip-path=\"url(#clip882)\" style=\"stroke:#000000; stroke-linecap:round; stroke-linejoin:round; stroke-width:2; stroke-opacity:0.1; fill:none\" points=\"112.177,1445.72 2352.76,1445.72 \"/>\n",
       "<polyline clip-path=\"url(#clip882)\" style=\"stroke:#000000; stroke-linecap:round; stroke-linejoin:round; stroke-width:2; stroke-opacity:0.1; fill:none\" points=\"112.177,1187.1 2352.76,1187.1 \"/>\n",
       "<polyline clip-path=\"url(#clip882)\" style=\"stroke:#000000; stroke-linecap:round; stroke-linejoin:round; stroke-width:2; stroke-opacity:0.1; fill:none\" points=\"112.177,928.482 2352.76,928.482 \"/>\n",
       "<polyline clip-path=\"url(#clip882)\" style=\"stroke:#000000; stroke-linecap:round; stroke-linejoin:round; stroke-width:2; stroke-opacity:0.1; fill:none\" points=\"112.177,669.865 2352.76,669.865 \"/>\n",
       "<polyline clip-path=\"url(#clip882)\" style=\"stroke:#000000; stroke-linecap:round; stroke-linejoin:round; stroke-width:2; stroke-opacity:0.1; fill:none\" points=\"112.177,411.247 2352.76,411.247 \"/>\n",
       "<polyline clip-path=\"url(#clip882)\" style=\"stroke:#000000; stroke-linecap:round; stroke-linejoin:round; stroke-width:2; stroke-opacity:0.1; fill:none\" points=\"112.177,152.63 2352.76,152.63 \"/>\n",
       "<polyline clip-path=\"url(#clip880)\" style=\"stroke:#000000; stroke-linecap:round; stroke-linejoin:round; stroke-width:4; stroke-opacity:1; fill:none\" points=\"112.177,1486.45 112.177,47.2441 \"/>\n",
       "<polyline clip-path=\"url(#clip880)\" style=\"stroke:#000000; stroke-linecap:round; stroke-linejoin:round; stroke-width:4; stroke-opacity:1; fill:none\" points=\"112.177,1445.72 131.075,1445.72 \"/>\n",
       "<polyline clip-path=\"url(#clip880)\" style=\"stroke:#000000; stroke-linecap:round; stroke-linejoin:round; stroke-width:4; stroke-opacity:1; fill:none\" points=\"112.177,1187.1 131.075,1187.1 \"/>\n",
       "<polyline clip-path=\"url(#clip880)\" style=\"stroke:#000000; stroke-linecap:round; stroke-linejoin:round; stroke-width:4; stroke-opacity:1; fill:none\" points=\"112.177,928.482 131.075,928.482 \"/>\n",
       "<polyline clip-path=\"url(#clip880)\" style=\"stroke:#000000; stroke-linecap:round; stroke-linejoin:round; stroke-width:4; stroke-opacity:1; fill:none\" points=\"112.177,669.865 131.075,669.865 \"/>\n",
       "<polyline clip-path=\"url(#clip880)\" style=\"stroke:#000000; stroke-linecap:round; stroke-linejoin:round; stroke-width:4; stroke-opacity:1; fill:none\" points=\"112.177,411.247 131.075,411.247 \"/>\n",
       "<polyline clip-path=\"url(#clip880)\" style=\"stroke:#000000; stroke-linecap:round; stroke-linejoin:round; stroke-width:4; stroke-opacity:1; fill:none\" points=\"112.177,152.63 131.075,152.63 \"/>\n",
       "<path clip-path=\"url(#clip880)\" d=\"M64.2328 1431.51 Q60.6217 1431.51 58.793 1435.08 Q56.9875 1438.62 56.9875 1445.75 Q56.9875 1452.86 58.793 1456.42 Q60.6217 1459.96 64.2328 1459.96 Q67.867 1459.96 69.6726 1456.42 Q71.5013 1452.86 71.5013 1445.75 Q71.5013 1438.62 69.6726 1435.08 Q67.867 1431.51 64.2328 1431.51 M64.2328 1427.81 Q70.0429 1427.81 73.0985 1432.42 Q76.1772 1437 76.1772 1445.75 Q76.1772 1454.48 73.0985 1459.08 Q70.0429 1463.67 64.2328 1463.67 Q58.4226 1463.67 55.344 1459.08 Q52.2884 1454.48 52.2884 1445.75 Q52.2884 1437 55.344 1432.42 Q58.4226 1427.81 64.2328 1427.81 Z\" fill=\"#000000\" fill-rule=\"nonzero\" fill-opacity=\"1\" /><path clip-path=\"url(#clip880)\" d=\"M56.2699 1200.44 L63.9087 1200.44 L63.9087 1174.08 L55.5986 1175.74 L55.5986 1171.49 L63.8624 1169.82 L68.5383 1169.82 L68.5383 1200.44 L76.1772 1200.44 L76.1772 1204.38 L56.2699 1204.38 L56.2699 1200.44 Z\" fill=\"#000000\" fill-rule=\"nonzero\" fill-opacity=\"1\" /><path clip-path=\"url(#clip880)\" d=\"M59.8578 941.827 L76.1772 941.827 L76.1772 945.762 L54.2328 945.762 L54.2328 941.827 Q56.8949 939.072 61.4782 934.442 Q66.0846 929.79 67.2652 928.447 Q69.5105 925.924 70.3902 924.188 Q71.2929 922.429 71.2929 920.739 Q71.2929 917.984 69.3485 916.248 Q67.4272 914.512 64.3254 914.512 Q62.1263 914.512 59.6726 915.276 Q57.2421 916.04 54.4643 917.591 L54.4643 912.868 Q57.2884 911.734 59.7421 911.156 Q62.1958 910.577 64.2328 910.577 Q69.6031 910.577 72.7976 913.262 Q75.992 915.947 75.992 920.438 Q75.992 922.567 75.1818 924.489 Q74.3948 926.387 72.2883 928.979 Q71.7096 929.651 68.6078 932.868 Q65.5059 936.063 59.8578 941.827 Z\" fill=\"#000000\" fill-rule=\"nonzero\" fill-opacity=\"1\" /><path clip-path=\"url(#clip880)\" d=\"M69.0476 668.51 Q72.404 669.228 74.279 671.497 Q76.1772 673.765 76.1772 677.098 Q76.1772 682.214 72.6587 685.015 Q69.1402 687.816 62.6587 687.816 Q60.4828 687.816 58.168 687.376 Q55.8764 686.959 53.4227 686.103 L53.4227 681.589 Q55.3671 682.723 57.6819 683.302 Q59.9967 683.881 62.5198 683.881 Q66.918 683.881 69.2096 682.145 Q71.5244 680.409 71.5244 677.098 Q71.5244 674.043 69.3717 672.33 Q67.242 670.594 63.4226 670.594 L59.3949 670.594 L59.3949 666.751 L63.6078 666.751 Q67.0569 666.751 68.8855 665.385 Q70.7142 663.997 70.7142 661.404 Q70.7142 658.742 68.8161 657.33 Q66.9411 655.895 63.4226 655.895 Q61.5013 655.895 59.3023 656.311 Q57.1032 656.728 54.4643 657.608 L54.4643 653.441 Q57.1264 652.7 59.4412 652.33 Q61.7791 651.96 63.8393 651.96 Q69.1633 651.96 72.2652 654.39 Q75.367 656.798 75.367 660.918 Q75.367 663.788 73.7235 665.779 Q72.08 667.747 69.0476 668.51 Z\" fill=\"#000000\" fill-rule=\"nonzero\" fill-opacity=\"1\" /><path clip-path=\"url(#clip880)\" d=\"M66.5939 398.041 L54.7884 416.49 L66.5939 416.49 L66.5939 398.041 M65.367 393.967 L71.2466 393.967 L71.2466 416.49 L76.1772 416.49 L76.1772 420.379 L71.2466 420.379 L71.2466 428.527 L66.5939 428.527 L66.5939 420.379 L50.9921 420.379 L50.9921 415.865 L65.367 393.967 Z\" fill=\"#000000\" fill-rule=\"nonzero\" fill-opacity=\"1\" /><path clip-path=\"url(#clip880)\" d=\"M55.2745 135.35 L73.6309 135.35 L73.6309 139.285 L59.5569 139.285 L59.5569 147.758 Q60.5754 147.41 61.5939 147.248 Q62.6124 147.063 63.6309 147.063 Q69.418 147.063 72.7976 150.234 Q76.1772 153.406 76.1772 158.822 Q76.1772 164.401 72.705 167.503 Q69.2328 170.582 62.9134 170.582 Q60.7374 170.582 58.4689 170.211 Q56.2236 169.841 53.8162 169.1 L53.8162 164.401 Q55.8995 165.535 58.1217 166.091 Q60.3439 166.646 62.8208 166.646 Q66.8254 166.646 69.1633 164.54 Q71.5013 162.433 71.5013 158.822 Q71.5013 155.211 69.1633 153.105 Q66.8254 150.998 62.8208 150.998 Q60.9458 150.998 59.0708 151.415 Q57.2189 151.832 55.2745 152.711 L55.2745 135.35 Z\" fill=\"#000000\" fill-rule=\"nonzero\" fill-opacity=\"1\" /><circle clip-path=\"url(#clip882)\" cx=\"1021.09\" cy=\"980.205\" r=\"14.4\" fill=\"#009af9\" fill-rule=\"evenodd\" fill-opacity=\"1\" stroke=\"#000000\" stroke-opacity=\"1\" stroke-width=\"3.2\"/>\n",
       "<circle clip-path=\"url(#clip882)\" cx=\"598.34\" cy=\"1135.38\" r=\"14.4\" fill=\"#009af9\" fill-rule=\"evenodd\" fill-opacity=\"1\" stroke=\"#000000\" stroke-opacity=\"1\" stroke-width=\"3.2\"/>\n",
       "<circle clip-path=\"url(#clip882)\" cx=\"1866.59\" cy=\"359.524\" r=\"14.4\" fill=\"#009af9\" fill-rule=\"evenodd\" fill-opacity=\"1\" stroke=\"#000000\" stroke-opacity=\"1\" stroke-width=\"3.2\"/>\n",
       "<circle clip-path=\"url(#clip882)\" cx=\"1443.84\" cy=\"592.279\" r=\"14.4\" fill=\"#009af9\" fill-rule=\"evenodd\" fill-opacity=\"1\" stroke=\"#000000\" stroke-opacity=\"1\" stroke-width=\"3.2\"/>\n",
       "<polyline clip-path=\"url(#clip882)\" style=\"stroke:#e26f46; stroke-linecap:round; stroke-linejoin:round; stroke-width:4; stroke-opacity:1; fill:none\" points=\"175.59,1445.72 2289.34,87.9763 \"/>\n",
       "<path clip-path=\"url(#clip880)\" d=\"M186.863 250.738 L463.351 250.738 L463.351 95.2176 L186.863 95.2176  Z\" fill=\"#ffffff\" fill-rule=\"evenodd\" fill-opacity=\"1\"/>\n",
       "<polyline clip-path=\"url(#clip880)\" style=\"stroke:#000000; stroke-linecap:round; stroke-linejoin:round; stroke-width:4; stroke-opacity:1; fill:none\" points=\"186.863,250.738 463.351,250.738 463.351,95.2176 186.863,95.2176 186.863,250.738 \"/>\n",
       "<circle clip-path=\"url(#clip880)\" cx=\"286.444\" cy=\"147.058\" r=\"20.48\" fill=\"#009af9\" fill-rule=\"evenodd\" fill-opacity=\"1\" stroke=\"#000000\" stroke-opacity=\"1\" stroke-width=\"4.55111\"/>\n",
       "<path clip-path=\"url(#clip880)\" d=\"M399.868 166.745 Q398.063 171.375 396.35 172.787 Q394.637 174.199 391.766 174.199 L388.364 174.199 L388.364 170.634 L390.864 170.634 Q392.623 170.634 393.595 169.8 Q394.567 168.967 395.748 165.865 L396.512 163.921 L386.026 138.412 L390.54 138.412 L398.641 158.689 L406.743 138.412 L411.257 138.412 L399.868 166.745 Z\" fill=\"#000000\" fill-rule=\"nonzero\" fill-opacity=\"1\" /><path clip-path=\"url(#clip880)\" d=\"M418.549 160.402 L426.188 160.402 L426.188 134.037 L417.877 135.703 L417.877 131.444 L426.141 129.778 L430.817 129.778 L430.817 160.402 L438.456 160.402 L438.456 164.338 L418.549 164.338 L418.549 160.402 Z\" fill=\"#000000\" fill-rule=\"nonzero\" fill-opacity=\"1\" /><polyline clip-path=\"url(#clip880)\" style=\"stroke:#e26f46; stroke-linecap:round; stroke-linejoin:round; stroke-width:4; stroke-opacity:1; fill:none\" points=\"211.758,198.898 361.13,198.898 \"/>\n",
       "<path clip-path=\"url(#clip880)\" d=\"M399.868 218.585 Q398.063 223.215 396.35 224.627 Q394.637 226.039 391.766 226.039 L388.364 226.039 L388.364 222.474 L390.864 222.474 Q392.623 222.474 393.595 221.64 Q394.567 220.807 395.748 217.705 L396.512 215.761 L386.026 190.252 L390.54 190.252 L398.641 210.529 L406.743 190.252 L411.257 190.252 L399.868 218.585 Z\" fill=\"#000000\" fill-rule=\"nonzero\" fill-opacity=\"1\" /><path clip-path=\"url(#clip880)\" d=\"M421.766 212.242 L438.086 212.242 L438.086 216.178 L416.141 216.178 L416.141 212.242 Q418.803 209.488 423.387 204.858 Q427.993 200.205 429.174 198.863 Q431.419 196.34 432.299 194.604 Q433.201 192.844 433.201 191.155 Q433.201 188.4 431.257 186.664 Q429.336 184.928 426.234 184.928 Q424.035 184.928 421.581 185.692 Q419.151 186.455 416.373 188.006 L416.373 183.284 Q419.197 182.15 421.65 181.571 Q424.104 180.993 426.141 180.993 Q431.512 180.993 434.706 183.678 Q437.9 186.363 437.9 190.854 Q437.9 192.983 437.09 194.905 Q436.303 196.803 434.197 199.395 Q433.618 200.067 430.516 203.284 Q427.414 206.479 421.766 212.242 Z\" fill=\"#000000\" fill-rule=\"nonzero\" fill-opacity=\"1\" /></svg>\n"
      ]
     },
     "metadata": {},
     "output_type": "display_data"
    }
   ],
   "source": [
    "plot(line_xs.elements, line_ys.elements, seriestype=:scatter)\n",
    "plot!([0, 5], [ref(θ, 0) * x + ref(θ, 1) for x in [0, 5]])"
   ]
  },
  {
   "cell_type": "code",
   "execution_count": 25,
   "metadata": {},
   "outputs": [
    {
     "data": {
      "text/plain": [
       "(1.0499999696356643, 8.927484965068062e-8)"
      ]
     },
     "metadata": {},
     "output_type": "display_data"
    }
   ],
   "source": [
    "α = 0.01\n",
    "revs = 1000\n",
    "\n",
    "function gradient_descent(obj, θ)\n",
    "    function f(Θ)\n",
    "        gs = ∇(obj, Θ)\n",
    "        map((p, g) -> p - α * g, Θ, ∇(obj, Θ))\n",
    "    end\n",
    "    revise(f, revs, θ)\n",
    "end\n",
    "\n",
    "gradient_descent(l2_loss(line)(line_xs, line_ys), list(1.0, 0.0))"
   ]
  },
  {
   "cell_type": "markdown",
   "metadata": {},
   "source": [
    "# Interlude II - Too Many Toys Make Us Hyperactive"
   ]
  },
  {
   "cell_type": "code",
   "execution_count": 26,
   "metadata": {},
   "outputs": [
    {
     "name": "stdout",
     "output_type": "stream",
     "text": [
      "11\n",
      "2001\n"
     ]
    }
   ],
   "source": [
    "smaller = nothing\n",
    "larger = nothing\n",
    "\n",
    "@assert @with_hypers(smaller, 1,\n",
    "    larger, 2000,\n",
    "    smaller + larger\n",
    ") == 2001\n",
    "\n",
    "@with_hypers(smaller, 1,\n",
    "    larger, 2000,\n",
    "    begin\n",
    "        @with_hypers(smaller, 5,\n",
    "            larger, 6,\n",
    "            println(smaller + larger)\n",
    "        )\n",
    "        println(smaller + larger)\n",
    "    end\n",
    ")"
   ]
  },
  {
   "cell_type": "markdown",
   "metadata": {},
   "source": [
    "# 5 - Target Practice"
   ]
  },
  {
   "cell_type": "code",
   "execution_count": 27,
   "metadata": {},
   "outputs": [
    {
     "data": {
      "text/plain": [
       "(1.0499993623489503, 1.8747718457656533e-6)"
      ]
     },
     "metadata": {},
     "output_type": "display_data"
    }
   ],
   "source": [
    "α = nothing     # hyperparameter\n",
    "revs = nothing  # hyperparameter\n",
    "\n",
    "@with_hypers(α, 0.01, revs, 1000,\n",
    "    gradient_descent(\n",
    "        l2_loss(line)(line_xs, line_ys),\n",
    "        list(0.0, 0.0)\n",
    "    )\n",
    ")"
   ]
  },
  {
   "cell_type": "code",
   "execution_count": 28,
   "metadata": {},
   "outputs": [
    {
     "data": {
      "image/png": "[encoded data removed]",
      "image/svg+xml": [
       "<?xml version=\"1.0\" encoding=\"utf-8\"?>\n",
       "<svg xmlns=\"http://www.w3.org/2000/svg\" xmlns:xlink=\"http://www.w3.org/1999/xlink\" width=\"600\" height=\"400\" viewBox=\"0 0 2400 1600\">\n",
       "<defs>\n",
       "  <clipPath id=\"clip920\">\n",
       "    <rect x=\"0\" y=\"0\" width=\"2400\" height=\"1600\"/>\n",
       "  </clipPath>\n",
       "</defs>\n",
       "<path clip-path=\"url(#clip920)\" d=\"M0 1600 L2400 1600 L2400 0 L0 0  Z\" fill=\"#ffffff\" fill-rule=\"evenodd\" fill-opacity=\"1\"/>\n",
       "<defs>\n",
       "  <clipPath id=\"clip921\">\n",
       "    <rect x=\"480\" y=\"0\" width=\"1681\" height=\"1600\"/>\n",
       "  </clipPath>\n",
       "</defs>\n",
       "<path clip-path=\"url(#clip920)\" d=\"M184.191 1486.45 L2352.76 1486.45 L2352.76 47.2441 L184.191 47.2441  Z\" fill=\"#ffffff\" fill-rule=\"evenodd\" fill-opacity=\"1\"/>\n",
       "<defs>\n",
       "  <clipPath id=\"clip922\">\n",
       "    <rect x=\"184\" y=\"47\" width=\"2170\" height=\"1440\"/>\n",
       "  </clipPath>\n",
       "</defs>\n",
       "<polyline clip-path=\"url(#clip922)\" style=\"stroke:#000000; stroke-linecap:round; stroke-linejoin:round; stroke-width:2; stroke-opacity:0.1; fill:none\" points=\"245.565,1486.45 245.565,47.2441 \"/>\n",
       "<polyline clip-path=\"url(#clip922)\" style=\"stroke:#000000; stroke-linecap:round; stroke-linejoin:round; stroke-width:2; stroke-opacity:0.1; fill:none\" points=\"757.019,1486.45 757.019,47.2441 \"/>\n",
       "<polyline clip-path=\"url(#clip922)\" style=\"stroke:#000000; stroke-linecap:round; stroke-linejoin:round; stroke-width:2; stroke-opacity:0.1; fill:none\" points=\"1268.47,1486.45 1268.47,47.2441 \"/>\n",
       "<polyline clip-path=\"url(#clip922)\" style=\"stroke:#000000; stroke-linecap:round; stroke-linejoin:round; stroke-width:2; stroke-opacity:0.1; fill:none\" points=\"1779.93,1486.45 1779.93,47.2441 \"/>\n",
       "<polyline clip-path=\"url(#clip922)\" style=\"stroke:#000000; stroke-linecap:round; stroke-linejoin:round; stroke-width:2; stroke-opacity:0.1; fill:none\" points=\"2291.38,1486.45 2291.38,47.2441 \"/>\n",
       "<polyline clip-path=\"url(#clip920)\" style=\"stroke:#000000; stroke-linecap:round; stroke-linejoin:round; stroke-width:4; stroke-opacity:1; fill:none\" points=\"184.191,1486.45 2352.76,1486.45 \"/>\n",
       "<polyline clip-path=\"url(#clip920)\" style=\"stroke:#000000; stroke-linecap:round; stroke-linejoin:round; stroke-width:4; stroke-opacity:1; fill:none\" points=\"245.565,1486.45 245.565,1467.55 \"/>\n",
       "<polyline clip-path=\"url(#clip920)\" style=\"stroke:#000000; stroke-linecap:round; stroke-linejoin:round; stroke-width:4; stroke-opacity:1; fill:none\" points=\"757.019,1486.45 757.019,1467.55 \"/>\n",
       "<polyline clip-path=\"url(#clip920)\" style=\"stroke:#000000; stroke-linecap:round; stroke-linejoin:round; stroke-width:4; stroke-opacity:1; fill:none\" points=\"1268.47,1486.45 1268.47,1467.55 \"/>\n",
       "<polyline clip-path=\"url(#clip920)\" style=\"stroke:#000000; stroke-linecap:round; stroke-linejoin:round; stroke-width:4; stroke-opacity:1; fill:none\" points=\"1779.93,1486.45 1779.93,1467.55 \"/>\n",
       "<polyline clip-path=\"url(#clip920)\" style=\"stroke:#000000; stroke-linecap:round; stroke-linejoin:round; stroke-width:4; stroke-opacity:1; fill:none\" points=\"2291.38,1486.45 2291.38,1467.55 \"/>\n",
       "<path clip-path=\"url(#clip920)\" d=\"M215.322 1532.02 L244.998 1532.02 L244.998 1535.95 L215.322 1535.95 L215.322 1532.02 Z\" fill=\"#000000\" fill-rule=\"nonzero\" fill-opacity=\"1\" /><path clip-path=\"url(#clip920)\" d=\"M255.901 1544.91 L263.54 1544.91 L263.54 1518.55 L255.229 1520.21 L255.229 1515.95 L263.493 1514.29 L268.169 1514.29 L268.169 1544.91 L275.808 1544.91 L275.808 1548.85 L255.901 1548.85 L255.901 1544.91 Z\" fill=\"#000000\" fill-rule=\"nonzero\" fill-opacity=\"1\" /><path clip-path=\"url(#clip920)\" d=\"M757.019 1517.37 Q753.408 1517.37 751.579 1520.93 Q749.774 1524.47 749.774 1531.6 Q749.774 1538.71 751.579 1542.27 Q753.408 1545.82 757.019 1545.82 Q760.653 1545.82 762.459 1542.27 Q764.288 1538.71 764.288 1531.6 Q764.288 1524.47 762.459 1520.93 Q760.653 1517.37 757.019 1517.37 M757.019 1513.66 Q762.829 1513.66 765.885 1518.27 Q768.964 1522.85 768.964 1531.6 Q768.964 1540.33 765.885 1544.94 Q762.829 1549.52 757.019 1549.52 Q751.209 1549.52 748.13 1544.94 Q745.075 1540.33 745.075 1531.6 Q745.075 1522.85 748.13 1518.27 Q751.209 1513.66 757.019 1513.66 Z\" fill=\"#000000\" fill-rule=\"nonzero\" fill-opacity=\"1\" /><path clip-path=\"url(#clip920)\" d=\"M1258.86 1544.91 L1266.49 1544.91 L1266.49 1518.55 L1258.18 1520.21 L1258.18 1515.95 L1266.45 1514.29 L1271.12 1514.29 L1271.12 1544.91 L1278.76 1544.91 L1278.76 1548.85 L1258.86 1548.85 L1258.86 1544.91 Z\" fill=\"#000000\" fill-rule=\"nonzero\" fill-opacity=\"1\" /><path clip-path=\"url(#clip920)\" d=\"M1774.58 1544.91 L1790.9 1544.91 L1790.9 1548.85 L1768.96 1548.85 L1768.96 1544.91 Q1771.62 1542.16 1776.2 1537.53 Q1780.81 1532.88 1781.99 1531.53 Q1784.23 1529.01 1785.11 1527.27 Q1786.02 1525.51 1786.02 1523.82 Q1786.02 1521.07 1784.07 1519.33 Q1782.15 1517.6 1779.05 1517.6 Q1776.85 1517.6 1774.39 1518.36 Q1771.96 1519.13 1769.19 1520.68 L1769.19 1515.95 Q1772.01 1514.82 1774.46 1514.24 Q1776.92 1513.66 1778.96 1513.66 Q1784.33 1513.66 1787.52 1516.35 Q1790.71 1519.03 1790.71 1523.52 Q1790.71 1525.65 1789.9 1527.57 Q1789.12 1529.47 1787.01 1532.07 Q1786.43 1532.74 1783.33 1535.95 Q1780.23 1539.15 1774.58 1544.91 Z\" fill=\"#000000\" fill-rule=\"nonzero\" fill-opacity=\"1\" /><path clip-path=\"url(#clip920)\" d=\"M2295.63 1530.21 Q2298.99 1530.93 2300.86 1533.2 Q2302.76 1535.47 2302.76 1538.8 Q2302.76 1543.92 2299.24 1546.72 Q2295.72 1549.52 2289.24 1549.52 Q2287.06 1549.52 2284.75 1549.08 Q2282.46 1548.66 2280 1547.81 L2280 1543.29 Q2281.95 1544.43 2284.26 1545.01 Q2286.58 1545.58 2289.1 1545.58 Q2293.5 1545.58 2295.79 1543.85 Q2298.11 1542.11 2298.11 1538.8 Q2298.11 1535.75 2295.95 1534.03 Q2293.82 1532.3 2290 1532.3 L2285.98 1532.3 L2285.98 1528.45 L2290.19 1528.45 Q2293.64 1528.45 2295.47 1527.09 Q2297.3 1525.7 2297.3 1523.11 Q2297.3 1520.45 2295.4 1519.03 Q2293.52 1517.6 2290 1517.6 Q2288.08 1517.6 2285.88 1518.01 Q2283.68 1518.43 2281.05 1519.31 L2281.05 1515.14 Q2283.71 1514.4 2286.02 1514.03 Q2288.36 1513.66 2290.42 1513.66 Q2295.74 1513.66 2298.85 1516.09 Q2301.95 1518.5 2301.95 1522.62 Q2301.95 1525.49 2300.3 1527.48 Q2298.66 1529.45 2295.63 1530.21 Z\" fill=\"#000000\" fill-rule=\"nonzero\" fill-opacity=\"1\" /><polyline clip-path=\"url(#clip922)\" style=\"stroke:#000000; stroke-linecap:round; stroke-linejoin:round; stroke-width:2; stroke-opacity:0.1; fill:none\" points=\"184.191,1412.09 2352.76,1412.09 \"/>\n",
       "<polyline clip-path=\"url(#clip922)\" style=\"stroke:#000000; stroke-linecap:round; stroke-linejoin:round; stroke-width:2; stroke-opacity:0.1; fill:none\" points=\"184.191,1201.91 2352.76,1201.91 \"/>\n",
       "<polyline clip-path=\"url(#clip922)\" style=\"stroke:#000000; stroke-linecap:round; stroke-linejoin:round; stroke-width:2; stroke-opacity:0.1; fill:none\" points=\"184.191,991.735 2352.76,991.735 \"/>\n",
       "<polyline clip-path=\"url(#clip922)\" style=\"stroke:#000000; stroke-linecap:round; stroke-linejoin:round; stroke-width:2; stroke-opacity:0.1; fill:none\" points=\"184.191,781.558 2352.76,781.558 \"/>\n",
       "<polyline clip-path=\"url(#clip922)\" style=\"stroke:#000000; stroke-linecap:round; stroke-linejoin:round; stroke-width:2; stroke-opacity:0.1; fill:none\" points=\"184.191,571.382 2352.76,571.382 \"/>\n",
       "<polyline clip-path=\"url(#clip922)\" style=\"stroke:#000000; stroke-linecap:round; stroke-linejoin:round; stroke-width:2; stroke-opacity:0.1; fill:none\" points=\"184.191,361.206 2352.76,361.206 \"/>\n",
       "<polyline clip-path=\"url(#clip922)\" style=\"stroke:#000000; stroke-linecap:round; stroke-linejoin:round; stroke-width:2; stroke-opacity:0.1; fill:none\" points=\"184.191,151.029 2352.76,151.029 \"/>\n",
       "<polyline clip-path=\"url(#clip920)\" style=\"stroke:#000000; stroke-linecap:round; stroke-linejoin:round; stroke-width:4; stroke-opacity:1; fill:none\" points=\"184.191,1486.45 184.191,47.2441 \"/>\n",
       "<polyline clip-path=\"url(#clip920)\" style=\"stroke:#000000; stroke-linecap:round; stroke-linejoin:round; stroke-width:4; stroke-opacity:1; fill:none\" points=\"184.191,1412.09 203.088,1412.09 \"/>\n",
       "<polyline clip-path=\"url(#clip920)\" style=\"stroke:#000000; stroke-linecap:round; stroke-linejoin:round; stroke-width:4; stroke-opacity:1; fill:none\" points=\"184.191,1201.91 203.088,1201.91 \"/>\n",
       "<polyline clip-path=\"url(#clip920)\" style=\"stroke:#000000; stroke-linecap:round; stroke-linejoin:round; stroke-width:4; stroke-opacity:1; fill:none\" points=\"184.191,991.735 203.088,991.735 \"/>\n",
       "<polyline clip-path=\"url(#clip920)\" style=\"stroke:#000000; stroke-linecap:round; stroke-linejoin:round; stroke-width:4; stroke-opacity:1; fill:none\" points=\"184.191,781.558 203.088,781.558 \"/>\n",
       "<polyline clip-path=\"url(#clip920)\" style=\"stroke:#000000; stroke-linecap:round; stroke-linejoin:round; stroke-width:4; stroke-opacity:1; fill:none\" points=\"184.191,571.382 203.088,571.382 \"/>\n",
       "<polyline clip-path=\"url(#clip920)\" style=\"stroke:#000000; stroke-linecap:round; stroke-linejoin:round; stroke-width:4; stroke-opacity:1; fill:none\" points=\"184.191,361.206 203.088,361.206 \"/>\n",
       "<polyline clip-path=\"url(#clip920)\" style=\"stroke:#000000; stroke-linecap:round; stroke-linejoin:round; stroke-width:4; stroke-opacity:1; fill:none\" points=\"184.191,151.029 203.088,151.029 \"/>\n",
       "<path clip-path=\"url(#clip920)\" d=\"M86.0382 1425.43 L102.358 1425.43 L102.358 1429.37 L80.4133 1429.37 L80.4133 1425.43 Q83.0753 1422.68 87.6586 1418.05 Q92.2651 1413.4 93.4456 1412.05 Q95.691 1409.53 96.5706 1407.79 Q97.4734 1406.03 97.4734 1404.34 Q97.4734 1401.59 95.5289 1399.85 Q93.6076 1398.12 90.5058 1398.12 Q88.3067 1398.12 85.8531 1398.88 Q83.4225 1399.65 80.6447 1401.2 L80.6447 1396.47 Q83.4688 1395.34 85.9225 1394.76 Q88.3762 1394.18 90.4132 1394.18 Q95.7836 1394.18 98.978 1396.87 Q102.172 1399.55 102.172 1404.04 Q102.172 1406.17 101.362 1408.09 Q100.575 1409.99 98.4687 1412.59 Q97.89 1413.26 94.7882 1416.47 Q91.6864 1419.67 86.0382 1425.43 Z\" fill=\"#000000\" fill-rule=\"nonzero\" fill-opacity=\"1\" /><path clip-path=\"url(#clip920)\" d=\"M112.172 1423.49 L117.057 1423.49 L117.057 1429.37 L112.172 1429.37 L112.172 1423.49 Z\" fill=\"#000000\" fill-rule=\"nonzero\" fill-opacity=\"1\" /><path clip-path=\"url(#clip920)\" d=\"M127.288 1394.81 L145.644 1394.81 L145.644 1398.74 L131.57 1398.74 L131.57 1407.21 Q132.589 1406.87 133.607 1406.71 Q134.626 1406.52 135.644 1406.52 Q141.431 1406.52 144.811 1409.69 Q148.191 1412.86 148.191 1418.28 Q148.191 1423.86 144.718 1426.96 Q141.246 1430.04 134.927 1430.04 Q132.751 1430.04 130.482 1429.67 Q128.237 1429.3 125.83 1428.56 L125.83 1423.86 Q127.913 1424.99 130.135 1425.55 Q132.357 1426.1 134.834 1426.1 Q138.839 1426.1 141.177 1424 Q143.515 1421.89 143.515 1418.28 Q143.515 1414.67 141.177 1412.56 Q138.839 1410.46 134.834 1410.46 Q132.959 1410.46 131.084 1410.87 Q129.232 1411.29 127.288 1412.17 L127.288 1394.81 Z\" fill=\"#000000\" fill-rule=\"nonzero\" fill-opacity=\"1\" /><path clip-path=\"url(#clip920)\" d=\"M81.0614 1184.63 L99.4178 1184.63 L99.4178 1188.57 L85.3438 1188.57 L85.3438 1197.04 Q86.3623 1196.69 87.3808 1196.53 Q88.3993 1196.34 89.4178 1196.34 Q95.2049 1196.34 98.5845 1199.52 Q101.964 1202.69 101.964 1208.1 Q101.964 1213.68 98.4919 1216.78 Q95.0197 1219.86 88.7003 1219.86 Q86.5243 1219.86 84.2558 1219.49 Q82.0105 1219.12 79.6031 1218.38 L79.6031 1213.68 Q81.6864 1214.82 83.9086 1215.37 Q86.1308 1215.93 88.6077 1215.93 Q92.6123 1215.93 94.9502 1213.82 Q97.2882 1211.71 97.2882 1208.1 Q97.2882 1204.49 94.9502 1202.39 Q92.6123 1200.28 88.6077 1200.28 Q86.7327 1200.28 84.8577 1200.7 Q83.0058 1201.11 81.0614 1201.99 L81.0614 1184.63 Z\" fill=\"#000000\" fill-rule=\"nonzero\" fill-opacity=\"1\" /><path clip-path=\"url(#clip920)\" d=\"M111.177 1213.31 L116.061 1213.31 L116.061 1219.19 L111.177 1219.19 L111.177 1213.31 Z\" fill=\"#000000\" fill-rule=\"nonzero\" fill-opacity=\"1\" /><path clip-path=\"url(#clip920)\" d=\"M136.246 1187.71 Q132.635 1187.71 130.807 1191.27 Q129.001 1194.82 129.001 1201.95 Q129.001 1209.05 130.807 1212.62 Q132.635 1216.16 136.246 1216.16 Q139.881 1216.16 141.686 1212.62 Q143.515 1209.05 143.515 1201.95 Q143.515 1194.82 141.686 1191.27 Q139.881 1187.71 136.246 1187.71 M136.246 1184.01 Q142.056 1184.01 145.112 1188.61 Q148.191 1193.2 148.191 1201.95 Q148.191 1210.67 145.112 1215.28 Q142.056 1219.86 136.246 1219.86 Q130.436 1219.86 127.357 1215.28 Q124.302 1210.67 124.302 1201.95 Q124.302 1193.2 127.357 1188.61 Q130.436 1184.01 136.246 1184.01 Z\" fill=\"#000000\" fill-rule=\"nonzero\" fill-opacity=\"1\" /><path clip-path=\"url(#clip920)\" d=\"M80.8299 974.455 L103.052 974.455 L103.052 976.445 L90.5058 1009.01 L85.6216 1009.01 L97.4271 978.39 L80.8299 978.39 L80.8299 974.455 Z\" fill=\"#000000\" fill-rule=\"nonzero\" fill-opacity=\"1\" /><path clip-path=\"url(#clip920)\" d=\"M112.172 1003.14 L117.057 1003.14 L117.057 1009.01 L112.172 1009.01 L112.172 1003.14 Z\" fill=\"#000000\" fill-rule=\"nonzero\" fill-opacity=\"1\" /><path clip-path=\"url(#clip920)\" d=\"M127.288 974.455 L145.644 974.455 L145.644 978.39 L131.57 978.39 L131.57 986.862 Q132.589 986.515 133.607 986.353 Q134.626 986.168 135.644 986.168 Q141.431 986.168 144.811 989.339 Q148.191 992.51 148.191 997.927 Q148.191 1003.51 144.718 1006.61 Q141.246 1009.69 134.927 1009.69 Q132.751 1009.69 130.482 1009.32 Q128.237 1008.95 125.83 1008.2 L125.83 1003.51 Q127.913 1004.64 130.135 1005.2 Q132.357 1005.75 134.834 1005.75 Q138.839 1005.75 141.177 1003.64 Q143.515 1001.54 143.515 997.927 Q143.515 994.316 141.177 992.209 Q138.839 990.103 134.834 990.103 Q132.959 990.103 131.084 990.519 Q129.232 990.936 127.288 991.816 L127.288 974.455 Z\" fill=\"#000000\" fill-rule=\"nonzero\" fill-opacity=\"1\" /><path clip-path=\"url(#clip920)\" d=\"M51.6634 794.903 L59.3023 794.903 L59.3023 768.538 L50.9921 770.204 L50.9921 765.945 L59.256 764.278 L63.9319 764.278 L63.9319 794.903 L71.5707 794.903 L71.5707 798.838 L51.6634 798.838 L51.6634 794.903 Z\" fill=\"#000000\" fill-rule=\"nonzero\" fill-opacity=\"1\" /><path clip-path=\"url(#clip920)\" d=\"M91.0151 767.357 Q87.404 767.357 85.5753 770.922 Q83.7697 774.463 83.7697 781.593 Q83.7697 788.699 85.5753 792.264 Q87.404 795.806 91.0151 795.806 Q94.6493 795.806 96.4548 792.264 Q98.2835 788.699 98.2835 781.593 Q98.2835 774.463 96.4548 770.922 Q94.6493 767.357 91.0151 767.357 M91.0151 763.653 Q96.8252 763.653 99.8808 768.26 Q102.959 772.843 102.959 781.593 Q102.959 790.32 99.8808 794.926 Q96.8252 799.51 91.0151 799.51 Q85.2049 799.51 82.1262 794.926 Q79.0707 790.32 79.0707 781.593 Q79.0707 772.843 82.1262 768.26 Q85.2049 763.653 91.0151 763.653 Z\" fill=\"#000000\" fill-rule=\"nonzero\" fill-opacity=\"1\" /><path clip-path=\"url(#clip920)\" d=\"M111.177 792.959 L116.061 792.959 L116.061 798.838 L111.177 798.838 L111.177 792.959 Z\" fill=\"#000000\" fill-rule=\"nonzero\" fill-opacity=\"1\" /><path clip-path=\"url(#clip920)\" d=\"M136.246 767.357 Q132.635 767.357 130.807 770.922 Q129.001 774.463 129.001 781.593 Q129.001 788.699 130.807 792.264 Q132.635 795.806 136.246 795.806 Q139.881 795.806 141.686 792.264 Q143.515 788.699 143.515 781.593 Q143.515 774.463 141.686 770.922 Q139.881 767.357 136.246 767.357 M136.246 763.653 Q142.056 763.653 145.112 768.26 Q148.191 772.843 148.191 781.593 Q148.191 790.32 145.112 794.926 Q142.056 799.51 136.246 799.51 Q130.436 799.51 127.357 794.926 Q124.302 790.32 124.302 781.593 Q124.302 772.843 127.357 768.26 Q130.436 763.653 136.246 763.653 Z\" fill=\"#000000\" fill-rule=\"nonzero\" fill-opacity=\"1\" /><path clip-path=\"url(#clip920)\" d=\"M52.6588 584.727 L60.2976 584.727 L60.2976 558.361 L51.9875 560.028 L51.9875 555.769 L60.2513 554.102 L64.9272 554.102 L64.9272 584.727 L72.5661 584.727 L72.5661 588.662 L52.6588 588.662 L52.6588 584.727 Z\" fill=\"#000000\" fill-rule=\"nonzero\" fill-opacity=\"1\" /><path clip-path=\"url(#clip920)\" d=\"M86.0382 584.727 L102.358 584.727 L102.358 588.662 L80.4133 588.662 L80.4133 584.727 Q83.0753 581.972 87.6586 577.343 Q92.2651 572.69 93.4456 571.347 Q95.691 568.824 96.5706 567.088 Q97.4734 565.329 97.4734 563.639 Q97.4734 560.884 95.5289 559.148 Q93.6076 557.412 90.5058 557.412 Q88.3067 557.412 85.8531 558.176 Q83.4225 558.94 80.6447 560.491 L80.6447 555.769 Q83.4688 554.634 85.9225 554.056 Q88.3762 553.477 90.4132 553.477 Q95.7836 553.477 98.978 556.162 Q102.172 558.847 102.172 563.338 Q102.172 565.468 101.362 567.389 Q100.575 569.287 98.4687 571.88 Q97.89 572.551 94.7882 575.769 Q91.6864 578.963 86.0382 584.727 Z\" fill=\"#000000\" fill-rule=\"nonzero\" fill-opacity=\"1\" /><path clip-path=\"url(#clip920)\" d=\"M112.172 582.782 L117.057 582.782 L117.057 588.662 L112.172 588.662 L112.172 582.782 Z\" fill=\"#000000\" fill-rule=\"nonzero\" fill-opacity=\"1\" /><path clip-path=\"url(#clip920)\" d=\"M127.288 554.102 L145.644 554.102 L145.644 558.037 L131.57 558.037 L131.57 566.509 Q132.589 566.162 133.607 566 Q134.626 565.815 135.644 565.815 Q141.431 565.815 144.811 568.986 Q148.191 572.157 148.191 577.574 Q148.191 583.153 144.718 586.255 Q141.246 589.333 134.927 589.333 Q132.751 589.333 130.482 588.963 Q128.237 588.593 125.83 587.852 L125.83 583.153 Q127.913 584.287 130.135 584.843 Q132.357 585.398 134.834 585.398 Q138.839 585.398 141.177 583.292 Q143.515 581.185 143.515 577.574 Q143.515 573.963 141.177 571.856 Q138.839 569.75 134.834 569.75 Q132.959 569.75 131.084 570.167 Q129.232 570.583 127.288 571.463 L127.288 554.102 Z\" fill=\"#000000\" fill-rule=\"nonzero\" fill-opacity=\"1\" /><path clip-path=\"url(#clip920)\" d=\"M51.6634 374.55 L59.3023 374.55 L59.3023 348.185 L50.9921 349.851 L50.9921 345.592 L59.256 343.926 L63.9319 343.926 L63.9319 374.55 L71.5707 374.55 L71.5707 378.486 L51.6634 378.486 L51.6634 374.55 Z\" fill=\"#000000\" fill-rule=\"nonzero\" fill-opacity=\"1\" /><path clip-path=\"url(#clip920)\" d=\"M81.0614 343.926 L99.4178 343.926 L99.4178 347.861 L85.3438 347.861 L85.3438 356.333 Q86.3623 355.986 87.3808 355.824 Q88.3993 355.638 89.4178 355.638 Q95.2049 355.638 98.5845 358.81 Q101.964 361.981 101.964 367.398 Q101.964 372.976 98.4919 376.078 Q95.0197 379.157 88.7003 379.157 Q86.5243 379.157 84.2558 378.786 Q82.0105 378.416 79.6031 377.675 L79.6031 372.976 Q81.6864 374.111 83.9086 374.666 Q86.1308 375.222 88.6077 375.222 Q92.6123 375.222 94.9502 373.115 Q97.2882 371.009 97.2882 367.398 Q97.2882 363.787 94.9502 361.68 Q92.6123 359.574 88.6077 359.574 Q86.7327 359.574 84.8577 359.99 Q83.0058 360.407 81.0614 361.287 L81.0614 343.926 Z\" fill=\"#000000\" fill-rule=\"nonzero\" fill-opacity=\"1\" /><path clip-path=\"url(#clip920)\" d=\"M111.177 372.606 L116.061 372.606 L116.061 378.486 L111.177 378.486 L111.177 372.606 Z\" fill=\"#000000\" fill-rule=\"nonzero\" fill-opacity=\"1\" /><path clip-path=\"url(#clip920)\" d=\"M136.246 347.004 Q132.635 347.004 130.807 350.569 Q129.001 354.111 129.001 361.24 Q129.001 368.347 130.807 371.912 Q132.635 375.453 136.246 375.453 Q139.881 375.453 141.686 371.912 Q143.515 368.347 143.515 361.24 Q143.515 354.111 141.686 350.569 Q139.881 347.004 136.246 347.004 M136.246 343.301 Q142.056 343.301 145.112 347.907 Q148.191 352.49 148.191 361.24 Q148.191 369.967 145.112 374.574 Q142.056 379.157 136.246 379.157 Q130.436 379.157 127.357 374.574 Q124.302 369.967 124.302 361.24 Q124.302 352.49 127.357 347.907 Q130.436 343.301 136.246 343.301 Z\" fill=\"#000000\" fill-rule=\"nonzero\" fill-opacity=\"1\" /><path clip-path=\"url(#clip920)\" d=\"M52.6588 164.374 L60.2976 164.374 L60.2976 138.008 L51.9875 139.675 L51.9875 135.416 L60.2513 133.749 L64.9272 133.749 L64.9272 164.374 L72.5661 164.374 L72.5661 168.309 L52.6588 168.309 L52.6588 164.374 Z\" fill=\"#000000\" fill-rule=\"nonzero\" fill-opacity=\"1\" /><path clip-path=\"url(#clip920)\" d=\"M80.8299 133.749 L103.052 133.749 L103.052 135.74 L90.5058 168.309 L85.6216 168.309 L97.4271 137.684 L80.8299 137.684 L80.8299 133.749 Z\" fill=\"#000000\" fill-rule=\"nonzero\" fill-opacity=\"1\" /><path clip-path=\"url(#clip920)\" d=\"M112.172 162.43 L117.057 162.43 L117.057 168.309 L112.172 168.309 L112.172 162.43 Z\" fill=\"#000000\" fill-rule=\"nonzero\" fill-opacity=\"1\" /><path clip-path=\"url(#clip920)\" d=\"M127.288 133.749 L145.644 133.749 L145.644 137.684 L131.57 137.684 L131.57 146.157 Q132.589 145.809 133.607 145.647 Q134.626 145.462 135.644 145.462 Q141.431 145.462 144.811 148.633 Q148.191 151.805 148.191 157.221 Q148.191 162.8 144.718 165.902 Q141.246 168.98 134.927 168.98 Q132.751 168.98 130.482 168.61 Q128.237 168.24 125.83 167.499 L125.83 162.8 Q127.913 163.934 130.135 164.49 Q132.357 165.045 134.834 165.045 Q138.839 165.045 141.177 162.939 Q143.515 160.832 143.515 157.221 Q143.515 153.61 141.177 151.504 Q138.839 149.397 134.834 149.397 Q132.959 149.397 131.084 149.814 Q129.232 150.231 127.288 151.11 L127.288 133.749 Z\" fill=\"#000000\" fill-rule=\"nonzero\" fill-opacity=\"1\" /><circle clip-path=\"url(#clip922)\" cx=\"245.565\" cy=\"1407.88\" r=\"14.4\" fill=\"#009af9\" fill-rule=\"evenodd\" fill-opacity=\"1\" stroke=\"#000000\" stroke-opacity=\"1\" stroke-width=\"3.2\"/>\n",
       "<circle clip-path=\"url(#clip922)\" cx=\"757.019\" cy=\"1445.72\" r=\"14.4\" fill=\"#009af9\" fill-rule=\"evenodd\" fill-opacity=\"1\" stroke=\"#000000\" stroke-opacity=\"1\" stroke-width=\"3.2\"/>\n",
       "<circle clip-path=\"url(#clip922)\" cx=\"1268.47\" cy=\"1256.56\" r=\"14.4\" fill=\"#009af9\" fill-rule=\"evenodd\" fill-opacity=\"1\" stroke=\"#000000\" stroke-opacity=\"1\" stroke-width=\"3.2\"/>\n",
       "<circle clip-path=\"url(#clip922)\" cx=\"1779.93\" cy=\"764.744\" r=\"14.4\" fill=\"#009af9\" fill-rule=\"evenodd\" fill-opacity=\"1\" stroke=\"#000000\" stroke-opacity=\"1\" stroke-width=\"3.2\"/>\n",
       "<circle clip-path=\"url(#clip922)\" cx=\"2291.38\" cy=\"87.9763\" r=\"14.4\" fill=\"#009af9\" fill-rule=\"evenodd\" fill-opacity=\"1\" stroke=\"#000000\" stroke-opacity=\"1\" stroke-width=\"3.2\"/>\n",
       "<path clip-path=\"url(#clip920)\" d=\"M256.476 198.898 L525.763 198.898 L525.763 95.2176 L256.476 95.2176  Z\" fill=\"#ffffff\" fill-rule=\"evenodd\" fill-opacity=\"1\"/>\n",
       "<polyline clip-path=\"url(#clip920)\" style=\"stroke:#000000; stroke-linecap:round; stroke-linejoin:round; stroke-width:4; stroke-opacity:1; fill:none\" points=\"256.476,198.898 525.763,198.898 525.763,95.2176 256.476,95.2176 256.476,198.898 \"/>\n",
       "<circle clip-path=\"url(#clip920)\" cx=\"352.857\" cy=\"147.058\" r=\"20.48\" fill=\"#009af9\" fill-rule=\"evenodd\" fill-opacity=\"1\" stroke=\"#000000\" stroke-opacity=\"1\" stroke-width=\"4.55111\"/>\n",
       "<path clip-path=\"url(#clip920)\" d=\"M463.08 166.745 Q461.275 171.375 459.562 172.787 Q457.849 174.199 454.978 174.199 L451.575 174.199 L451.575 170.634 L454.075 170.634 Q455.835 170.634 456.807 169.8 Q457.779 168.967 458.96 165.865 L459.724 163.921 L449.238 138.412 L453.751 138.412 L461.853 158.689 L469.955 138.412 L474.469 138.412 L463.08 166.745 Z\" fill=\"#000000\" fill-rule=\"nonzero\" fill-opacity=\"1\" /><path clip-path=\"url(#clip920)\" d=\"M481.761 160.402 L489.399 160.402 L489.399 134.037 L481.089 135.703 L481.089 131.444 L489.353 129.778 L494.029 129.778 L494.029 160.402 L501.668 160.402 L501.668 164.338 L481.761 164.338 L481.761 160.402 Z\" fill=\"#000000\" fill-rule=\"nonzero\" fill-opacity=\"1\" /></svg>\n"
      ],
      "text/html": [
       "<?xml version=\"1.0\" encoding=\"utf-8\"?>\n",
       "<svg xmlns=\"http://www.w3.org/2000/svg\" xmlns:xlink=\"http://www.w3.org/1999/xlink\" width=\"600\" height=\"400\" viewBox=\"0 0 2400 1600\">\n",
       "<defs>\n",
       "  <clipPath id=\"clip970\">\n",
       "    <rect x=\"0\" y=\"0\" width=\"2400\" height=\"1600\"/>\n",
       "  </clipPath>\n",
       "</defs>\n",
       "<path clip-path=\"url(#clip970)\" d=\"M0 1600 L2400 1600 L2400 0 L0 0  Z\" fill=\"#ffffff\" fill-rule=\"evenodd\" fill-opacity=\"1\"/>\n",
       "<defs>\n",
       "  <clipPath id=\"clip971\">\n",
       "    <rect x=\"480\" y=\"0\" width=\"1681\" height=\"1600\"/>\n",
       "  </clipPath>\n",
       "</defs>\n",
       "<path clip-path=\"url(#clip970)\" d=\"M184.191 1486.45 L2352.76 1486.45 L2352.76 47.2441 L184.191 47.2441  Z\" fill=\"#ffffff\" fill-rule=\"evenodd\" fill-opacity=\"1\"/>\n",
       "<defs>\n",
       "  <clipPath id=\"clip972\">\n",
       "    <rect x=\"184\" y=\"47\" width=\"2170\" height=\"1440\"/>\n",
       "  </clipPath>\n",
       "</defs>\n",
       "<polyline clip-path=\"url(#clip972)\" style=\"stroke:#000000; stroke-linecap:round; stroke-linejoin:round; stroke-width:2; stroke-opacity:0.1; fill:none\" points=\"245.565,1486.45 245.565,47.2441 \"/>\n",
       "<polyline clip-path=\"url(#clip972)\" style=\"stroke:#000000; stroke-linecap:round; stroke-linejoin:round; stroke-width:2; stroke-opacity:0.1; fill:none\" points=\"757.019,1486.45 757.019,47.2441 \"/>\n",
       "<polyline clip-path=\"url(#clip972)\" style=\"stroke:#000000; stroke-linecap:round; stroke-linejoin:round; stroke-width:2; stroke-opacity:0.1; fill:none\" points=\"1268.47,1486.45 1268.47,47.2441 \"/>\n",
       "<polyline clip-path=\"url(#clip972)\" style=\"stroke:#000000; stroke-linecap:round; stroke-linejoin:round; stroke-width:2; stroke-opacity:0.1; fill:none\" points=\"1779.93,1486.45 1779.93,47.2441 \"/>\n",
       "<polyline clip-path=\"url(#clip972)\" style=\"stroke:#000000; stroke-linecap:round; stroke-linejoin:round; stroke-width:2; stroke-opacity:0.1; fill:none\" points=\"2291.38,1486.45 2291.38,47.2441 \"/>\n",
       "<polyline clip-path=\"url(#clip970)\" style=\"stroke:#000000; stroke-linecap:round; stroke-linejoin:round; stroke-width:4; stroke-opacity:1; fill:none\" points=\"184.191,1486.45 2352.76,1486.45 \"/>\n",
       "<polyline clip-path=\"url(#clip970)\" style=\"stroke:#000000; stroke-linecap:round; stroke-linejoin:round; stroke-width:4; stroke-opacity:1; fill:none\" points=\"245.565,1486.45 245.565,1467.55 \"/>\n",
       "<polyline clip-path=\"url(#clip970)\" style=\"stroke:#000000; stroke-linecap:round; stroke-linejoin:round; stroke-width:4; stroke-opacity:1; fill:none\" points=\"757.019,1486.45 757.019,1467.55 \"/>\n",
       "<polyline clip-path=\"url(#clip970)\" style=\"stroke:#000000; stroke-linecap:round; stroke-linejoin:round; stroke-width:4; stroke-opacity:1; fill:none\" points=\"1268.47,1486.45 1268.47,1467.55 \"/>\n",
       "<polyline clip-path=\"url(#clip970)\" style=\"stroke:#000000; stroke-linecap:round; stroke-linejoin:round; stroke-width:4; stroke-opacity:1; fill:none\" points=\"1779.93,1486.45 1779.93,1467.55 \"/>\n",
       "<polyline clip-path=\"url(#clip970)\" style=\"stroke:#000000; stroke-linecap:round; stroke-linejoin:round; stroke-width:4; stroke-opacity:1; fill:none\" points=\"2291.38,1486.45 2291.38,1467.55 \"/>\n",
       "<path clip-path=\"url(#clip970)\" d=\"M215.322 1532.02 L244.998 1532.02 L244.998 1535.95 L215.322 1535.95 L215.322 1532.02 Z\" fill=\"#000000\" fill-rule=\"nonzero\" fill-opacity=\"1\" /><path clip-path=\"url(#clip970)\" d=\"M255.901 1544.91 L263.54 1544.91 L263.54 1518.55 L255.229 1520.21 L255.229 1515.95 L263.493 1514.29 L268.169 1514.29 L268.169 1544.91 L275.808 1544.91 L275.808 1548.85 L255.901 1548.85 L255.901 1544.91 Z\" fill=\"#000000\" fill-rule=\"nonzero\" fill-opacity=\"1\" /><path clip-path=\"url(#clip970)\" d=\"M757.019 1517.37 Q753.408 1517.37 751.579 1520.93 Q749.774 1524.47 749.774 1531.6 Q749.774 1538.71 751.579 1542.27 Q753.408 1545.82 757.019 1545.82 Q760.653 1545.82 762.459 1542.27 Q764.288 1538.71 764.288 1531.6 Q764.288 1524.47 762.459 1520.93 Q760.653 1517.37 757.019 1517.37 M757.019 1513.66 Q762.829 1513.66 765.885 1518.27 Q768.964 1522.85 768.964 1531.6 Q768.964 1540.33 765.885 1544.94 Q762.829 1549.52 757.019 1549.52 Q751.209 1549.52 748.13 1544.94 Q745.075 1540.33 745.075 1531.6 Q745.075 1522.85 748.13 1518.27 Q751.209 1513.66 757.019 1513.66 Z\" fill=\"#000000\" fill-rule=\"nonzero\" fill-opacity=\"1\" /><path clip-path=\"url(#clip970)\" d=\"M1258.86 1544.91 L1266.49 1544.91 L1266.49 1518.55 L1258.18 1520.21 L1258.18 1515.95 L1266.45 1514.29 L1271.12 1514.29 L1271.12 1544.91 L1278.76 1544.91 L1278.76 1548.85 L1258.86 1548.85 L1258.86 1544.91 Z\" fill=\"#000000\" fill-rule=\"nonzero\" fill-opacity=\"1\" /><path clip-path=\"url(#clip970)\" d=\"M1774.58 1544.91 L1790.9 1544.91 L1790.9 1548.85 L1768.96 1548.85 L1768.96 1544.91 Q1771.62 1542.16 1776.2 1537.53 Q1780.81 1532.88 1781.99 1531.53 Q1784.23 1529.01 1785.11 1527.27 Q1786.02 1525.51 1786.02 1523.82 Q1786.02 1521.07 1784.07 1519.33 Q1782.15 1517.6 1779.05 1517.6 Q1776.85 1517.6 1774.39 1518.36 Q1771.96 1519.13 1769.19 1520.68 L1769.19 1515.95 Q1772.01 1514.82 1774.46 1514.24 Q1776.92 1513.66 1778.96 1513.66 Q1784.33 1513.66 1787.52 1516.35 Q1790.71 1519.03 1790.71 1523.52 Q1790.71 1525.65 1789.9 1527.57 Q1789.12 1529.47 1787.01 1532.07 Q1786.43 1532.74 1783.33 1535.95 Q1780.23 1539.15 1774.58 1544.91 Z\" fill=\"#000000\" fill-rule=\"nonzero\" fill-opacity=\"1\" /><path clip-path=\"url(#clip970)\" d=\"M2295.63 1530.21 Q2298.99 1530.93 2300.86 1533.2 Q2302.76 1535.47 2302.76 1538.8 Q2302.76 1543.92 2299.24 1546.72 Q2295.72 1549.52 2289.24 1549.52 Q2287.06 1549.52 2284.75 1549.08 Q2282.46 1548.66 2280 1547.81 L2280 1543.29 Q2281.95 1544.43 2284.26 1545.01 Q2286.58 1545.58 2289.1 1545.58 Q2293.5 1545.58 2295.79 1543.85 Q2298.11 1542.11 2298.11 1538.8 Q2298.11 1535.75 2295.95 1534.03 Q2293.82 1532.3 2290 1532.3 L2285.98 1532.3 L2285.98 1528.45 L2290.19 1528.45 Q2293.64 1528.45 2295.47 1527.09 Q2297.3 1525.7 2297.3 1523.11 Q2297.3 1520.45 2295.4 1519.03 Q2293.52 1517.6 2290 1517.6 Q2288.08 1517.6 2285.88 1518.01 Q2283.68 1518.43 2281.05 1519.31 L2281.05 1515.14 Q2283.71 1514.4 2286.02 1514.03 Q2288.36 1513.66 2290.42 1513.66 Q2295.74 1513.66 2298.85 1516.09 Q2301.95 1518.5 2301.95 1522.62 Q2301.95 1525.49 2300.3 1527.48 Q2298.66 1529.45 2295.63 1530.21 Z\" fill=\"#000000\" fill-rule=\"nonzero\" fill-opacity=\"1\" /><polyline clip-path=\"url(#clip972)\" style=\"stroke:#000000; stroke-linecap:round; stroke-linejoin:round; stroke-width:2; stroke-opacity:0.1; fill:none\" points=\"184.191,1412.09 2352.76,1412.09 \"/>\n",
       "<polyline clip-path=\"url(#clip972)\" style=\"stroke:#000000; stroke-linecap:round; stroke-linejoin:round; stroke-width:2; stroke-opacity:0.1; fill:none\" points=\"184.191,1201.91 2352.76,1201.91 \"/>\n",
       "<polyline clip-path=\"url(#clip972)\" style=\"stroke:#000000; stroke-linecap:round; stroke-linejoin:round; stroke-width:2; stroke-opacity:0.1; fill:none\" points=\"184.191,991.735 2352.76,991.735 \"/>\n",
       "<polyline clip-path=\"url(#clip972)\" style=\"stroke:#000000; stroke-linecap:round; stroke-linejoin:round; stroke-width:2; stroke-opacity:0.1; fill:none\" points=\"184.191,781.558 2352.76,781.558 \"/>\n",
       "<polyline clip-path=\"url(#clip972)\" style=\"stroke:#000000; stroke-linecap:round; stroke-linejoin:round; stroke-width:2; stroke-opacity:0.1; fill:none\" points=\"184.191,571.382 2352.76,571.382 \"/>\n",
       "<polyline clip-path=\"url(#clip972)\" style=\"stroke:#000000; stroke-linecap:round; stroke-linejoin:round; stroke-width:2; stroke-opacity:0.1; fill:none\" points=\"184.191,361.206 2352.76,361.206 \"/>\n",
       "<polyline clip-path=\"url(#clip972)\" style=\"stroke:#000000; stroke-linecap:round; stroke-linejoin:round; stroke-width:2; stroke-opacity:0.1; fill:none\" points=\"184.191,151.029 2352.76,151.029 \"/>\n",
       "<polyline clip-path=\"url(#clip970)\" style=\"stroke:#000000; stroke-linecap:round; stroke-linejoin:round; stroke-width:4; stroke-opacity:1; fill:none\" points=\"184.191,1486.45 184.191,47.2441 \"/>\n",
       "<polyline clip-path=\"url(#clip970)\" style=\"stroke:#000000; stroke-linecap:round; stroke-linejoin:round; stroke-width:4; stroke-opacity:1; fill:none\" points=\"184.191,1412.09 203.088,1412.09 \"/>\n",
       "<polyline clip-path=\"url(#clip970)\" style=\"stroke:#000000; stroke-linecap:round; stroke-linejoin:round; stroke-width:4; stroke-opacity:1; fill:none\" points=\"184.191,1201.91 203.088,1201.91 \"/>\n",
       "<polyline clip-path=\"url(#clip970)\" style=\"stroke:#000000; stroke-linecap:round; stroke-linejoin:round; stroke-width:4; stroke-opacity:1; fill:none\" points=\"184.191,991.735 203.088,991.735 \"/>\n",
       "<polyline clip-path=\"url(#clip970)\" style=\"stroke:#000000; stroke-linecap:round; stroke-linejoin:round; stroke-width:4; stroke-opacity:1; fill:none\" points=\"184.191,781.558 203.088,781.558 \"/>\n",
       "<polyline clip-path=\"url(#clip970)\" style=\"stroke:#000000; stroke-linecap:round; stroke-linejoin:round; stroke-width:4; stroke-opacity:1; fill:none\" points=\"184.191,571.382 203.088,571.382 \"/>\n",
       "<polyline clip-path=\"url(#clip970)\" style=\"stroke:#000000; stroke-linecap:round; stroke-linejoin:round; stroke-width:4; stroke-opacity:1; fill:none\" points=\"184.191,361.206 203.088,361.206 \"/>\n",
       "<polyline clip-path=\"url(#clip970)\" style=\"stroke:#000000; stroke-linecap:round; stroke-linejoin:round; stroke-width:4; stroke-opacity:1; fill:none\" points=\"184.191,151.029 203.088,151.029 \"/>\n",
       "<path clip-path=\"url(#clip970)\" d=\"M86.0382 1425.43 L102.358 1425.43 L102.358 1429.37 L80.4133 1429.37 L80.4133 1425.43 Q83.0753 1422.68 87.6586 1418.05 Q92.2651 1413.4 93.4456 1412.05 Q95.691 1409.53 96.5706 1407.79 Q97.4734 1406.03 97.4734 1404.34 Q97.4734 1401.59 95.5289 1399.85 Q93.6076 1398.12 90.5058 1398.12 Q88.3067 1398.12 85.8531 1398.88 Q83.4225 1399.65 80.6447 1401.2 L80.6447 1396.47 Q83.4688 1395.34 85.9225 1394.76 Q88.3762 1394.18 90.4132 1394.18 Q95.7836 1394.18 98.978 1396.87 Q102.172 1399.55 102.172 1404.04 Q102.172 1406.17 101.362 1408.09 Q100.575 1409.99 98.4687 1412.59 Q97.89 1413.26 94.7882 1416.47 Q91.6864 1419.67 86.0382 1425.43 Z\" fill=\"#000000\" fill-rule=\"nonzero\" fill-opacity=\"1\" /><path clip-path=\"url(#clip970)\" d=\"M112.172 1423.49 L117.057 1423.49 L117.057 1429.37 L112.172 1429.37 L112.172 1423.49 Z\" fill=\"#000000\" fill-rule=\"nonzero\" fill-opacity=\"1\" /><path clip-path=\"url(#clip970)\" d=\"M127.288 1394.81 L145.644 1394.81 L145.644 1398.74 L131.57 1398.74 L131.57 1407.21 Q132.589 1406.87 133.607 1406.71 Q134.626 1406.52 135.644 1406.52 Q141.431 1406.52 144.811 1409.69 Q148.191 1412.86 148.191 1418.28 Q148.191 1423.86 144.718 1426.96 Q141.246 1430.04 134.927 1430.04 Q132.751 1430.04 130.482 1429.67 Q128.237 1429.3 125.83 1428.56 L125.83 1423.86 Q127.913 1424.99 130.135 1425.55 Q132.357 1426.1 134.834 1426.1 Q138.839 1426.1 141.177 1424 Q143.515 1421.89 143.515 1418.28 Q143.515 1414.67 141.177 1412.56 Q138.839 1410.46 134.834 1410.46 Q132.959 1410.46 131.084 1410.87 Q129.232 1411.29 127.288 1412.17 L127.288 1394.81 Z\" fill=\"#000000\" fill-rule=\"nonzero\" fill-opacity=\"1\" /><path clip-path=\"url(#clip970)\" d=\"M81.0614 1184.63 L99.4178 1184.63 L99.4178 1188.57 L85.3438 1188.57 L85.3438 1197.04 Q86.3623 1196.69 87.3808 1196.53 Q88.3993 1196.34 89.4178 1196.34 Q95.2049 1196.34 98.5845 1199.52 Q101.964 1202.69 101.964 1208.1 Q101.964 1213.68 98.4919 1216.78 Q95.0197 1219.86 88.7003 1219.86 Q86.5243 1219.86 84.2558 1219.49 Q82.0105 1219.12 79.6031 1218.38 L79.6031 1213.68 Q81.6864 1214.82 83.9086 1215.37 Q86.1308 1215.93 88.6077 1215.93 Q92.6123 1215.93 94.9502 1213.82 Q97.2882 1211.71 97.2882 1208.1 Q97.2882 1204.49 94.9502 1202.39 Q92.6123 1200.28 88.6077 1200.28 Q86.7327 1200.28 84.8577 1200.7 Q83.0058 1201.11 81.0614 1201.99 L81.0614 1184.63 Z\" fill=\"#000000\" fill-rule=\"nonzero\" fill-opacity=\"1\" /><path clip-path=\"url(#clip970)\" d=\"M111.177 1213.31 L116.061 1213.31 L116.061 1219.19 L111.177 1219.19 L111.177 1213.31 Z\" fill=\"#000000\" fill-rule=\"nonzero\" fill-opacity=\"1\" /><path clip-path=\"url(#clip970)\" d=\"M136.246 1187.71 Q132.635 1187.71 130.807 1191.27 Q129.001 1194.82 129.001 1201.95 Q129.001 1209.05 130.807 1212.62 Q132.635 1216.16 136.246 1216.16 Q139.881 1216.16 141.686 1212.62 Q143.515 1209.05 143.515 1201.95 Q143.515 1194.82 141.686 1191.27 Q139.881 1187.71 136.246 1187.71 M136.246 1184.01 Q142.056 1184.01 145.112 1188.61 Q148.191 1193.2 148.191 1201.95 Q148.191 1210.67 145.112 1215.28 Q142.056 1219.86 136.246 1219.86 Q130.436 1219.86 127.357 1215.28 Q124.302 1210.67 124.302 1201.95 Q124.302 1193.2 127.357 1188.61 Q130.436 1184.01 136.246 1184.01 Z\" fill=\"#000000\" fill-rule=\"nonzero\" fill-opacity=\"1\" /><path clip-path=\"url(#clip970)\" d=\"M80.8299 974.455 L103.052 974.455 L103.052 976.445 L90.5058 1009.01 L85.6216 1009.01 L97.4271 978.39 L80.8299 978.39 L80.8299 974.455 Z\" fill=\"#000000\" fill-rule=\"nonzero\" fill-opacity=\"1\" /><path clip-path=\"url(#clip970)\" d=\"M112.172 1003.14 L117.057 1003.14 L117.057 1009.01 L112.172 1009.01 L112.172 1003.14 Z\" fill=\"#000000\" fill-rule=\"nonzero\" fill-opacity=\"1\" /><path clip-path=\"url(#clip970)\" d=\"M127.288 974.455 L145.644 974.455 L145.644 978.39 L131.57 978.39 L131.57 986.862 Q132.589 986.515 133.607 986.353 Q134.626 986.168 135.644 986.168 Q141.431 986.168 144.811 989.339 Q148.191 992.51 148.191 997.927 Q148.191 1003.51 144.718 1006.61 Q141.246 1009.69 134.927 1009.69 Q132.751 1009.69 130.482 1009.32 Q128.237 1008.95 125.83 1008.2 L125.83 1003.51 Q127.913 1004.64 130.135 1005.2 Q132.357 1005.75 134.834 1005.75 Q138.839 1005.75 141.177 1003.64 Q143.515 1001.54 143.515 997.927 Q143.515 994.316 141.177 992.209 Q138.839 990.103 134.834 990.103 Q132.959 990.103 131.084 990.519 Q129.232 990.936 127.288 991.816 L127.288 974.455 Z\" fill=\"#000000\" fill-rule=\"nonzero\" fill-opacity=\"1\" /><path clip-path=\"url(#clip970)\" d=\"M51.6634 794.903 L59.3023 794.903 L59.3023 768.538 L50.9921 770.204 L50.9921 765.945 L59.256 764.278 L63.9319 764.278 L63.9319 794.903 L71.5707 794.903 L71.5707 798.838 L51.6634 798.838 L51.6634 794.903 Z\" fill=\"#000000\" fill-rule=\"nonzero\" fill-opacity=\"1\" /><path clip-path=\"url(#clip970)\" d=\"M91.0151 767.357 Q87.404 767.357 85.5753 770.922 Q83.7697 774.463 83.7697 781.593 Q83.7697 788.699 85.5753 792.264 Q87.404 795.806 91.0151 795.806 Q94.6493 795.806 96.4548 792.264 Q98.2835 788.699 98.2835 781.593 Q98.2835 774.463 96.4548 770.922 Q94.6493 767.357 91.0151 767.357 M91.0151 763.653 Q96.8252 763.653 99.8808 768.26 Q102.959 772.843 102.959 781.593 Q102.959 790.32 99.8808 794.926 Q96.8252 799.51 91.0151 799.51 Q85.2049 799.51 82.1262 794.926 Q79.0707 790.32 79.0707 781.593 Q79.0707 772.843 82.1262 768.26 Q85.2049 763.653 91.0151 763.653 Z\" fill=\"#000000\" fill-rule=\"nonzero\" fill-opacity=\"1\" /><path clip-path=\"url(#clip970)\" d=\"M111.177 792.959 L116.061 792.959 L116.061 798.838 L111.177 798.838 L111.177 792.959 Z\" fill=\"#000000\" fill-rule=\"nonzero\" fill-opacity=\"1\" /><path clip-path=\"url(#clip970)\" d=\"M136.246 767.357 Q132.635 767.357 130.807 770.922 Q129.001 774.463 129.001 781.593 Q129.001 788.699 130.807 792.264 Q132.635 795.806 136.246 795.806 Q139.881 795.806 141.686 792.264 Q143.515 788.699 143.515 781.593 Q143.515 774.463 141.686 770.922 Q139.881 767.357 136.246 767.357 M136.246 763.653 Q142.056 763.653 145.112 768.26 Q148.191 772.843 148.191 781.593 Q148.191 790.32 145.112 794.926 Q142.056 799.51 136.246 799.51 Q130.436 799.51 127.357 794.926 Q124.302 790.32 124.302 781.593 Q124.302 772.843 127.357 768.26 Q130.436 763.653 136.246 763.653 Z\" fill=\"#000000\" fill-rule=\"nonzero\" fill-opacity=\"1\" /><path clip-path=\"url(#clip970)\" d=\"M52.6588 584.727 L60.2976 584.727 L60.2976 558.361 L51.9875 560.028 L51.9875 555.769 L60.2513 554.102 L64.9272 554.102 L64.9272 584.727 L72.5661 584.727 L72.5661 588.662 L52.6588 588.662 L52.6588 584.727 Z\" fill=\"#000000\" fill-rule=\"nonzero\" fill-opacity=\"1\" /><path clip-path=\"url(#clip970)\" d=\"M86.0382 584.727 L102.358 584.727 L102.358 588.662 L80.4133 588.662 L80.4133 584.727 Q83.0753 581.972 87.6586 577.343 Q92.2651 572.69 93.4456 571.347 Q95.691 568.824 96.5706 567.088 Q97.4734 565.329 97.4734 563.639 Q97.4734 560.884 95.5289 559.148 Q93.6076 557.412 90.5058 557.412 Q88.3067 557.412 85.8531 558.176 Q83.4225 558.94 80.6447 560.491 L80.6447 555.769 Q83.4688 554.634 85.9225 554.056 Q88.3762 553.477 90.4132 553.477 Q95.7836 553.477 98.978 556.162 Q102.172 558.847 102.172 563.338 Q102.172 565.468 101.362 567.389 Q100.575 569.287 98.4687 571.88 Q97.89 572.551 94.7882 575.769 Q91.6864 578.963 86.0382 584.727 Z\" fill=\"#000000\" fill-rule=\"nonzero\" fill-opacity=\"1\" /><path clip-path=\"url(#clip970)\" d=\"M112.172 582.782 L117.057 582.782 L117.057 588.662 L112.172 588.662 L112.172 582.782 Z\" fill=\"#000000\" fill-rule=\"nonzero\" fill-opacity=\"1\" /><path clip-path=\"url(#clip970)\" d=\"M127.288 554.102 L145.644 554.102 L145.644 558.037 L131.57 558.037 L131.57 566.509 Q132.589 566.162 133.607 566 Q134.626 565.815 135.644 565.815 Q141.431 565.815 144.811 568.986 Q148.191 572.157 148.191 577.574 Q148.191 583.153 144.718 586.255 Q141.246 589.333 134.927 589.333 Q132.751 589.333 130.482 588.963 Q128.237 588.593 125.83 587.852 L125.83 583.153 Q127.913 584.287 130.135 584.843 Q132.357 585.398 134.834 585.398 Q138.839 585.398 141.177 583.292 Q143.515 581.185 143.515 577.574 Q143.515 573.963 141.177 571.856 Q138.839 569.75 134.834 569.75 Q132.959 569.75 131.084 570.167 Q129.232 570.583 127.288 571.463 L127.288 554.102 Z\" fill=\"#000000\" fill-rule=\"nonzero\" fill-opacity=\"1\" /><path clip-path=\"url(#clip970)\" d=\"M51.6634 374.55 L59.3023 374.55 L59.3023 348.185 L50.9921 349.851 L50.9921 345.592 L59.256 343.926 L63.9319 343.926 L63.9319 374.55 L71.5707 374.55 L71.5707 378.486 L51.6634 378.486 L51.6634 374.55 Z\" fill=\"#000000\" fill-rule=\"nonzero\" fill-opacity=\"1\" /><path clip-path=\"url(#clip970)\" d=\"M81.0614 343.926 L99.4178 343.926 L99.4178 347.861 L85.3438 347.861 L85.3438 356.333 Q86.3623 355.986 87.3808 355.824 Q88.3993 355.638 89.4178 355.638 Q95.2049 355.638 98.5845 358.81 Q101.964 361.981 101.964 367.398 Q101.964 372.976 98.4919 376.078 Q95.0197 379.157 88.7003 379.157 Q86.5243 379.157 84.2558 378.786 Q82.0105 378.416 79.6031 377.675 L79.6031 372.976 Q81.6864 374.111 83.9086 374.666 Q86.1308 375.222 88.6077 375.222 Q92.6123 375.222 94.9502 373.115 Q97.2882 371.009 97.2882 367.398 Q97.2882 363.787 94.9502 361.68 Q92.6123 359.574 88.6077 359.574 Q86.7327 359.574 84.8577 359.99 Q83.0058 360.407 81.0614 361.287 L81.0614 343.926 Z\" fill=\"#000000\" fill-rule=\"nonzero\" fill-opacity=\"1\" /><path clip-path=\"url(#clip970)\" d=\"M111.177 372.606 L116.061 372.606 L116.061 378.486 L111.177 378.486 L111.177 372.606 Z\" fill=\"#000000\" fill-rule=\"nonzero\" fill-opacity=\"1\" /><path clip-path=\"url(#clip970)\" d=\"M136.246 347.004 Q132.635 347.004 130.807 350.569 Q129.001 354.111 129.001 361.24 Q129.001 368.347 130.807 371.912 Q132.635 375.453 136.246 375.453 Q139.881 375.453 141.686 371.912 Q143.515 368.347 143.515 361.24 Q143.515 354.111 141.686 350.569 Q139.881 347.004 136.246 347.004 M136.246 343.301 Q142.056 343.301 145.112 347.907 Q148.191 352.49 148.191 361.24 Q148.191 369.967 145.112 374.574 Q142.056 379.157 136.246 379.157 Q130.436 379.157 127.357 374.574 Q124.302 369.967 124.302 361.24 Q124.302 352.49 127.357 347.907 Q130.436 343.301 136.246 343.301 Z\" fill=\"#000000\" fill-rule=\"nonzero\" fill-opacity=\"1\" /><path clip-path=\"url(#clip970)\" d=\"M52.6588 164.374 L60.2976 164.374 L60.2976 138.008 L51.9875 139.675 L51.9875 135.416 L60.2513 133.749 L64.9272 133.749 L64.9272 164.374 L72.5661 164.374 L72.5661 168.309 L52.6588 168.309 L52.6588 164.374 Z\" fill=\"#000000\" fill-rule=\"nonzero\" fill-opacity=\"1\" /><path clip-path=\"url(#clip970)\" d=\"M80.8299 133.749 L103.052 133.749 L103.052 135.74 L90.5058 168.309 L85.6216 168.309 L97.4271 137.684 L80.8299 137.684 L80.8299 133.749 Z\" fill=\"#000000\" fill-rule=\"nonzero\" fill-opacity=\"1\" /><path clip-path=\"url(#clip970)\" d=\"M112.172 162.43 L117.057 162.43 L117.057 168.309 L112.172 168.309 L112.172 162.43 Z\" fill=\"#000000\" fill-rule=\"nonzero\" fill-opacity=\"1\" /><path clip-path=\"url(#clip970)\" d=\"M127.288 133.749 L145.644 133.749 L145.644 137.684 L131.57 137.684 L131.57 146.157 Q132.589 145.809 133.607 145.647 Q134.626 145.462 135.644 145.462 Q141.431 145.462 144.811 148.633 Q148.191 151.805 148.191 157.221 Q148.191 162.8 144.718 165.902 Q141.246 168.98 134.927 168.98 Q132.751 168.98 130.482 168.61 Q128.237 168.24 125.83 167.499 L125.83 162.8 Q127.913 163.934 130.135 164.49 Q132.357 165.045 134.834 165.045 Q138.839 165.045 141.177 162.939 Q143.515 160.832 143.515 157.221 Q143.515 153.61 141.177 151.504 Q138.839 149.397 134.834 149.397 Q132.959 149.397 131.084 149.814 Q129.232 150.231 127.288 151.11 L127.288 133.749 Z\" fill=\"#000000\" fill-rule=\"nonzero\" fill-opacity=\"1\" /><circle clip-path=\"url(#clip972)\" cx=\"245.565\" cy=\"1407.88\" r=\"14.4\" fill=\"#009af9\" fill-rule=\"evenodd\" fill-opacity=\"1\" stroke=\"#000000\" stroke-opacity=\"1\" stroke-width=\"3.2\"/>\n",
       "<circle clip-path=\"url(#clip972)\" cx=\"757.019\" cy=\"1445.72\" r=\"14.4\" fill=\"#009af9\" fill-rule=\"evenodd\" fill-opacity=\"1\" stroke=\"#000000\" stroke-opacity=\"1\" stroke-width=\"3.2\"/>\n",
       "<circle clip-path=\"url(#clip972)\" cx=\"1268.47\" cy=\"1256.56\" r=\"14.4\" fill=\"#009af9\" fill-rule=\"evenodd\" fill-opacity=\"1\" stroke=\"#000000\" stroke-opacity=\"1\" stroke-width=\"3.2\"/>\n",
       "<circle clip-path=\"url(#clip972)\" cx=\"1779.93\" cy=\"764.744\" r=\"14.4\" fill=\"#009af9\" fill-rule=\"evenodd\" fill-opacity=\"1\" stroke=\"#000000\" stroke-opacity=\"1\" stroke-width=\"3.2\"/>\n",
       "<circle clip-path=\"url(#clip972)\" cx=\"2291.38\" cy=\"87.9763\" r=\"14.4\" fill=\"#009af9\" fill-rule=\"evenodd\" fill-opacity=\"1\" stroke=\"#000000\" stroke-opacity=\"1\" stroke-width=\"3.2\"/>\n",
       "<path clip-path=\"url(#clip970)\" d=\"M256.476 198.898 L525.763 198.898 L525.763 95.2176 L256.476 95.2176  Z\" fill=\"#ffffff\" fill-rule=\"evenodd\" fill-opacity=\"1\"/>\n",
       "<polyline clip-path=\"url(#clip970)\" style=\"stroke:#000000; stroke-linecap:round; stroke-linejoin:round; stroke-width:4; stroke-opacity:1; fill:none\" points=\"256.476,198.898 525.763,198.898 525.763,95.2176 256.476,95.2176 256.476,198.898 \"/>\n",
       "<circle clip-path=\"url(#clip970)\" cx=\"352.857\" cy=\"147.058\" r=\"20.48\" fill=\"#009af9\" fill-rule=\"evenodd\" fill-opacity=\"1\" stroke=\"#000000\" stroke-opacity=\"1\" stroke-width=\"4.55111\"/>\n",
       "<path clip-path=\"url(#clip970)\" d=\"M463.08 166.745 Q461.275 171.375 459.562 172.787 Q457.849 174.199 454.978 174.199 L451.575 174.199 L451.575 170.634 L454.075 170.634 Q455.835 170.634 456.807 169.8 Q457.779 168.967 458.96 165.865 L459.724 163.921 L449.238 138.412 L453.751 138.412 L461.853 158.689 L469.955 138.412 L474.469 138.412 L463.08 166.745 Z\" fill=\"#000000\" fill-rule=\"nonzero\" fill-opacity=\"1\" /><path clip-path=\"url(#clip970)\" d=\"M481.761 160.402 L489.399 160.402 L489.399 134.037 L481.089 135.703 L481.089 131.444 L489.353 129.778 L494.029 129.778 L494.029 160.402 L501.668 160.402 L501.668 164.338 L481.761 164.338 L481.761 160.402 Z\" fill=\"#000000\" fill-rule=\"nonzero\" fill-opacity=\"1\" /></svg>\n"
      ]
     },
     "metadata": {},
     "output_type": "display_data"
    }
   ],
   "source": [
    "quad_xs = tensor([-1.0, 0.0, 1.0, 2.0, 3.0])\n",
    "quad_ys = tensor([2.55, 2.1, 4.35, 10.2, 18.25])\n",
    "\n",
    "plot(quad_xs.elements, quad_ys.elements, seriestype=:scatter)"
   ]
  },
  {
   "cell_type": "code",
   "execution_count": 29,
   "metadata": {},
   "outputs": [
    {
     "data": {
      "text/plain": [
       "quad (generic function with 1 method)"
      ]
     },
     "metadata": {},
     "output_type": "display_data"
    }
   ],
   "source": [
    "\n",
    "# frame 102:15\n",
    "\n",
    "quad(t) = (θ) -> ref(θ, 0) * sqr(t) + ref(θ, 1) * t + ref(θ, 2)"
   ]
  },
  {
   "cell_type": "code",
   "execution_count": 30,
   "metadata": {},
   "outputs": [
    {
     "data": {
      "text/plain": [
       "(1.4787394427094362, 0.9928606519360351, 2.054642314847969)"
      ]
     },
     "metadata": {},
     "output_type": "display_data"
    }
   ],
   "source": [
    "@with_hypers(\n",
    "    revs, 1000,\n",
    "    α, 0.001,\n",
    "    gradient_descent(\n",
    "        l2_loss(quad)(quad_xs, quad_ys),\n",
    "        list(0.0, 0.0, 0.0)\n",
    "    )\n",
    ")"
   ]
  },
  {
   "cell_type": "code",
   "execution_count": 31,
   "metadata": {},
   "outputs": [
    {
     "data": {
      "text/plain": [
       "[13.99 15.99 18.0 22.4 30.2 37.94]"
      ]
     },
     "metadata": {},
     "output_type": "display_data"
    }
   ],
   "source": [
    "plane_xs = tensor([\n",
    "    [1.0, 2.05],\n",
    "    [1.0, 3.0],\n",
    "    [2.0, 2.0],\n",
    "    [2.0, 3.91],\n",
    "    [3.0, 6.13],\n",
    "    [4.0, 8.09]\n",
    "])\n",
    "\n",
    "plane_ys = tensor([13.99, 15.99, 18.0, 22.4, 30.2, 37.94])"
   ]
  },
  {
   "cell_type": "code",
   "execution_count": 32,
   "metadata": {},
   "outputs": [
    {
     "data": {
      "text/plain": [
       "plane (generic function with 1 method)"
      ]
     },
     "metadata": {},
     "output_type": "display_data"
    }
   ],
   "source": [
    "\n",
    "# frame 105:25\n",
    "\n",
    "plane(t) = (θ) -> dot_product(ref(θ, 0), t) + ref(θ, 1)"
   ]
  },
  {
   "cell_type": "code",
   "execution_count": 33,
   "metadata": {},
   "outputs": [
    {
     "data": {
      "text/plain": [
       "(::Main.Schemish.var\"#extended#15\"{typeof(dot_product_1_1), Int64, Int64}) (generic function with 1 method)"
      ]
     },
     "metadata": {},
     "output_type": "display_data"
    }
   ],
   "source": [
    "\n",
    "# frame 106:26\n",
    "\n",
    "dot_product_1_1(w, t) = sum_1(w * t)\n",
    "\n",
    "# frame 190:43\n",
    "\n",
    "dot_product = ext2(dot_product_1_1, 1, 1)"
   ]
  },
  {
   "cell_type": "code",
   "execution_count": 34,
   "metadata": {},
   "outputs": [],
   "source": [
    "@assert dot_product(tensor([2.0, 1.0, 7.0]), tensor([8.0, 4.0, 3.0])) == 41.0\n",
    "@assert dot_product(\n",
    "    tensor([1, 2]),\n",
    "    tensor([tensor([1, 2]), tensor([3, 4]), tensor([5, 6])])\n",
    ") == tensor([5, 11, 17])"
   ]
  },
  {
   "cell_type": "code",
   "execution_count": 35,
   "metadata": {},
   "outputs": [
    {
     "data": {
      "text/plain": [
       "([3.97757644609063 2.0496557321494446], 5.786758464448078)"
      ]
     },
     "metadata": {},
     "output_type": "display_data"
    }
   ],
   "source": [
    "@with_hypers(\n",
    "    revs, 1000,\n",
    "    α, 0.001,\n",
    "    gradient_descent(\n",
    "        l2_loss(plane)(plane_xs, plane_ys),\n",
    "        list(tensor([0.0, 0.0]), 0.0)\n",
    "    )\n",
    ")"
   ]
  },
  {
   "cell_type": "markdown",
   "metadata": {},
   "source": [
    "# 6 - An Appla a Day"
   ]
  },
  {
   "cell_type": "code",
   "execution_count": 36,
   "metadata": {},
   "outputs": [
    {
     "data": {
      "text/plain": [
       "samples (generic function with 1 method)"
      ]
     },
     "metadata": {},
     "output_type": "display_data"
    }
   ],
   "source": [
    "\n",
    "# frame 123:24\n",
    "\n",
    "function samples(n, s)\n",
    "    list(rand(0:n-1, s)...)\n",
    "end"
   ]
  },
  {
   "cell_type": "code",
   "execution_count": 37,
   "metadata": {},
   "outputs": [],
   "source": [
    "@assert trefs(tensor([5.0, 2.8, 4.2, 2.3, 7.4, 1.7, 8.1]), list(6, 0, 3, 1)) == tensor([8.1, 5.0, 2.3, 2.8])"
   ]
  },
  {
   "cell_type": "code",
   "execution_count": 38,
   "metadata": {},
   "outputs": [],
   "source": [
    "batch_size = nothing  # hyperparameter"
   ]
  },
  {
   "cell_type": "code",
   "execution_count": 39,
   "metadata": {},
   "outputs": [
    {
     "data": {
      "text/plain": [
       "sampling_obj (generic function with 1 method)"
      ]
     },
     "metadata": {},
     "output_type": "display_data"
    }
   ],
   "source": [
    "\n",
    "# frame 127:36\n",
    "\n",
    "function sampling_obj(expectant, xs, ys)\n",
    "    n = tlen(xs)\n",
    "    (θ) -> let b = samples(n, batch_size)\n",
    "        expectant(trefs(xs, b), trefs(ys, b))(θ)\n",
    "    end\n",
    "end"
   ]
  },
  {
   "cell_type": "code",
   "execution_count": 40,
   "metadata": {},
   "outputs": [
    {
     "data": {
      "text/plain": [
       "(1.0454245880950053, -0.03911761292802285)"
      ]
     },
     "metadata": {},
     "output_type": "display_data"
    }
   ],
   "source": [
    "@with_hypers(\n",
    "    revs, 1000,\n",
    "    α, 0.01,\n",
    "    batch_size, 4,\n",
    "    gradient_descent(\n",
    "        sampling_obj(\n",
    "            l2_loss(line), line_xs, line_ys),\n",
    "        list(0.0, 0.0)\n",
    "    )\n",
    ")"
   ]
  },
  {
   "cell_type": "code",
   "execution_count": 41,
   "metadata": {},
   "outputs": [
    {
     "data": {
      "text/plain": [
       "([3.9823714315977883 1.9765850354645493], 6.170298602362728)"
      ]
     },
     "metadata": {},
     "output_type": "display_data"
    }
   ],
   "source": [
    "@with_hypers(\n",
    "    revs, 15000,\n",
    "    α, 0.001,\n",
    "    batch_size, 4,\n",
    "    gradient_descent(\n",
    "        sampling_obj(\n",
    "            l2_loss(plane), plane_xs, plane_ys),\n",
    "        list(tensor([0.0, 0.0]), 0.0)\n",
    "    )\n",
    ")"
   ]
  },
  {
   "cell_type": "markdown",
   "metadata": {},
   "source": [
    "# 7 - The Crazy \"ates\""
   ]
  },
  {
   "cell_type": "code",
   "execution_count": 42,
   "metadata": {},
   "outputs": [
    {
     "data": {
      "text/plain": [
       "update (generic function with 1 method)"
      ]
     },
     "metadata": {},
     "output_type": "display_data"
    }
   ],
   "source": [
    "# Here, I'll take a more Julia-style approach to defining the three \"ates\"\n",
    "struct Lonely end\n",
    "inflate(::Lonely) = (θ) -> map(list, θ)\n",
    "deflate(::Lonely) = (Θ) -> map(first, Θ)\n",
    "update(::Lonely) = (Θ, gs) -> map((p, g) -> list(ref(p, 0) - α * g), Θ, gs)\n"
   ]
  },
  {
   "cell_type": "code",
   "execution_count": 43,
   "metadata": {},
   "outputs": [
    {
     "data": {
      "text/plain": [
       "gradient_descent (generic function with 2 methods)"
      ]
     },
     "metadata": {},
     "output_type": "display_data"
    }
   ],
   "source": [
    "# the penultimate gradient-descent from frame 137:22\n",
    "function gradient_descent(parameter_representation)\n",
    "    inflate_fn = inflate(parameter_representation)\n",
    "    deflate_fn = deflate(parameter_representation)\n",
    "    update_fn = update(parameter_representation)\n",
    "    (obj, θ) -> let f = (Θ) -> update_fn(Θ, (∇(obj, deflate_fn(Θ))))\n",
    "        deflate_fn(revise(f, revs, inflate_fn(θ)))\n",
    "    end\n",
    "end\n"
   ]
  },
  {
   "cell_type": "code",
   "execution_count": 44,
   "metadata": {},
   "outputs": [
    {
     "data": {
      "text/plain": [
       "try_plane (generic function with 1 method)"
      ]
     },
     "metadata": {},
     "output_type": "display_data"
    }
   ],
   "source": [
    "function try_plane(a_gradient_descent)\n",
    "    @with_hypers(\n",
    "        revs, 15000,\n",
    "        α, 0.001,\n",
    "        batch_size, 4,\n",
    "        a_gradient_descent(\n",
    "            sampling_obj(\n",
    "                l2_loss(plane),\n",
    "                plane_xs, plane_ys),\n",
    "            list(tensor([0.0, 0.0]), 0.0)))\n",
    "end"
   ]
  },
  {
   "cell_type": "code",
   "execution_count": 45,
   "metadata": {},
   "outputs": [
    {
     "data": {
      "text/plain": [
       "([3.985873912644485 1.9882896954926474], 6.167975967881547)"
      ]
     },
     "metadata": {},
     "output_type": "display_data"
    }
   ],
   "source": [
    "try_plane(gradient_descent(Lonely()))"
   ]
  },
  {
   "cell_type": "code",
   "execution_count": 46,
   "metadata": {},
   "outputs": [
    {
     "data": {
      "text/plain": [
       "([3.984594357443053 1.9822661236047947], 6.173201000163386)"
      ]
     },
     "metadata": {},
     "output_type": "display_data"
    }
   ],
   "source": [
    "struct Naked end\n",
    "inflate(::Naked) = (θ) -> map((p) -> p, θ)\n",
    "deflate(::Naked) = (Θ) -> map((p) -> p, Θ)\n",
    "update(::Naked) = (Θ, gs) -> map((p, g) -> (p - α * g), Θ, gs)\n",
    "\n",
    "try_plane(gradient_descent(Naked()))"
   ]
  },
  {
   "cell_type": "code",
   "execution_count": 47,
   "metadata": {},
   "outputs": [
    {
     "data": {
      "text/plain": [
       "gradient_descent (generic function with 2 methods)"
      ]
     },
     "metadata": {},
     "output_type": "display_data"
    }
   ],
   "source": [
    "\n",
    "# frame 141:38\n",
    "\n",
    "function gradient_descent(parameter_representation)\n",
    "    inflate_fn = inflate(parameter_representation)\n",
    "    deflate_fn = deflate(parameter_representation)\n",
    "    update_fn = update(parameter_representation)\n",
    "    (obj, θ) -> let f = (Θ) -> map(update_fn, Θ, ∇(obj, map(deflate_fn, Θ)))\n",
    "        map(deflate_fn, revise(f, revs, map(inflate_fn, θ)))\n",
    "    end\n",
    "end"
   ]
  },
  {
   "cell_type": "code",
   "execution_count": 48,
   "metadata": {},
   "outputs": [
    {
     "data": {
      "text/plain": [
       "([3.980142563808852 1.9687760139750778], 6.169165355888959)"
      ]
     },
     "metadata": {},
     "output_type": "display_data"
    }
   ],
   "source": [
    "inflate(::Lonely) = (p) -> list(p)\n",
    "deflate(::Lonely) = (P) -> first(P)\n",
    "update(::Lonely) = (P, g) -> list(first(P) - α * g)\n",
    "\n",
    "try_plane(gradient_descent(Lonely()))"
   ]
  },
  {
   "cell_type": "code",
   "execution_count": 49,
   "metadata": {},
   "outputs": [
    {
     "data": {
      "text/plain": [
       "([3.9775510036291086 1.9740106921115808], 6.162129160373426)"
      ]
     },
     "metadata": {},
     "output_type": "display_data"
    }
   ],
   "source": [
    "inflate(::Naked) = (p) -> p\n",
    "deflate(::Naked) = (P) -> P\n",
    "update(::Naked) = (P, g) -> P - α * g\n",
    "\n",
    "# frame 143:43\n",
    "naked_gradient_descent = gradient_descent(Naked())\n",
    "\n",
    "try_plane(naked_gradient_descent)"
   ]
  },
  {
   "cell_type": "markdown",
   "metadata": {},
   "source": [
    "# 8 - The Nearer Your Destination, the Slower You Become"
   ]
  },
  {
   "cell_type": "code",
   "execution_count": 50,
   "metadata": {},
   "outputs": [],
   "source": [
    "# frame 149:21\n",
    "μ = nothing  # hyperparameter; the recommendat value is usually about 0.9"
   ]
  },
  {
   "cell_type": "code",
   "execution_count": 51,
   "metadata": {},
   "outputs": [
    {
     "data": {
      "text/plain": [
       "#63 (generic function with 1 method)"
      ]
     },
     "metadata": {},
     "output_type": "display_data"
    }
   ],
   "source": [
    "struct Velocity end\n",
    "inflate(::Velocity) = (p) -> list(p, zeroes(p))\n",
    "deflate(::Velocity) = (P) -> first(P)\n",
    "update(::Velocity) = (P, g) -> let v = μ *ref(P, 1) - α * g\n",
    "    list(first(P) + v, v)\n",
    "end\n",
    "\n",
    "velocity_gradient_descent = gradient_descent(Velocity())"
   ]
  },
  {
   "cell_type": "code",
   "execution_count": 52,
   "metadata": {},
   "outputs": [
    {
     "data": {
      "text/plain": [
       "try_plane (generic function with 2 methods)"
      ]
     },
     "metadata": {},
     "output_type": "display_data"
    }
   ],
   "source": [
    "function try_plane(a_gradient_descent, a_revs)\n",
    "    @with_hypers(\n",
    "        revs, a_revs,\n",
    "        α, 0.001,\n",
    "        batch_size, 4,\n",
    "        a_gradient_descent(\n",
    "            sampling_obj(\n",
    "                l2_loss(plane),\n",
    "                plane_xs, plane_ys),\n",
    "            list(tensor([0.0, 0.0]), 0.0)))\n",
    "end"
   ]
  },
  {
   "cell_type": "code",
   "execution_count": 53,
   "metadata": {},
   "outputs": [
    {
     "data": {
      "text/plain": [
       "([3.9653328051715095 1.9560614164942765], 6.192297978035752)"
      ]
     },
     "metadata": {},
     "output_type": "display_data"
    }
   ],
   "source": [
    "@with_hypers μ 0.9 begin\n",
    "    try_plane(velocity_gradient_descent, 5000)\n",
    "end"
   ]
  },
  {
   "cell_type": "markdown",
   "metadata": {},
   "source": [
    "# Interlude IV - Smooth Operator"
   ]
  },
  {
   "cell_type": "code",
   "execution_count": 54,
   "metadata": {},
   "outputs": [
    {
     "data": {
      "text/plain": [
       "smooth (generic function with 1 method)"
      ]
     },
     "metadata": {},
     "output_type": "display_data"
    }
   ],
   "source": [
    "\n",
    "# frame 155:3\n",
    "\n",
    "function smooth(decay_rate, average, g)\n",
    "    decay_rate * average + (1 - decay_rate) * g\n",
    "end"
   ]
  },
  {
   "cell_type": "markdown",
   "metadata": {},
   "source": [
    "# 9 - Be Adamant"
   ]
  },
  {
   "cell_type": "code",
   "execution_count": 55,
   "metadata": {},
   "outputs": [
    {
     "data": {
      "text/plain": [
       "1.0e-8"
      ]
     },
     "metadata": {},
     "output_type": "display_data"
    }
   ],
   "source": [
    "β = nothing  # hyperparameter for the decay rate of the adaptive update rate\n",
    "\n",
    "ε = 1e-8  # the \"stabilizer\" -- not a hyperparameter"
   ]
  },
  {
   "cell_type": "code",
   "execution_count": 56,
   "metadata": {},
   "outputs": [
    {
     "data": {
      "text/plain": [
       "#63 (generic function with 1 method)"
      ]
     },
     "metadata": {},
     "output_type": "display_data"
    }
   ],
   "source": [
    "struct RMS end\n",
    "inflate(::RMS) = (p) -> list(p, zeroes(p))\n",
    "deflate(::RMS) = (P) -> first(P)\n",
    "update(::RMS) = (P, g) ->\n",
    "    let r = smooth(β, ref(P, 1), sqr(g))\n",
    "        let α = α / (sqrt(r) + ε)\n",
    "            list(first(P) - α * g, r)\n",
    "        end\n",
    "    end\n",
    "\n",
    "# frame 169:29\n",
    "rms_gradient_descent = gradient_descent(RMS())"
   ]
  },
  {
   "cell_type": "code",
   "execution_count": 57,
   "metadata": {},
   "outputs": [
    {
     "data": {
      "text/plain": [
       "try_plane (generic function with 3 methods)"
      ]
     },
     "metadata": {},
     "output_type": "display_data"
    }
   ],
   "source": [
    "function try_plane(a_gradient_descent, a_revs, an_α)\n",
    "    @with_hypers(\n",
    "        revs, a_revs,\n",
    "        α, an_α,\n",
    "        batch_size, 4,\n",
    "        a_gradient_descent(\n",
    "            sampling_obj(\n",
    "                l2_loss(plane),\n",
    "                plane_xs, plane_ys),\n",
    "            list(tensor([0.0, 0.0]), 0.0)))\n",
    "end"
   ]
  },
  {
   "cell_type": "code",
   "execution_count": 58,
   "metadata": {},
   "outputs": [
    {
     "data": {
      "text/plain": [
       "([3.9826487894328366 1.9867271743813342], 6.155576522662351)"
      ]
     },
     "metadata": {},
     "output_type": "display_data"
    }
   ],
   "source": [
    "@with_hypers β 0.9 begin\n",
    "    try_plane(rms_gradient_descent, 3000, 0.01)\n",
    "end"
   ]
  },
  {
   "cell_type": "code",
   "execution_count": 59,
   "metadata": {},
   "outputs": [
    {
     "data": {
      "text/plain": [
       "#63 (generic function with 1 method)"
      ]
     },
     "metadata": {},
     "output_type": "display_data"
    }
   ],
   "source": [
    "struct Adam end\n",
    "inflate(::Adam) = (p) -> let v=zeroes(p); list(p, v, v) end\n",
    "deflate(::Adam) = (P) -> first(P)\n",
    "update(::Adam) = (P, g) ->\n",
    "    let r = smooth(β, ref(P, 2), sqr(g))\n",
    "        let α = α / (sqrt(r) + ε);\n",
    "            v = smooth(μ, ref(P, 1), g)\n",
    "            list(ref(P, 0) - α * v, v, r)\n",
    "        end\n",
    "    end\n",
    "\n",
    "# frame 173:42\n",
    "adam_gradient_descent = gradient_descent(Adam())"
   ]
  },
  {
   "cell_type": "code",
   "execution_count": 60,
   "metadata": {},
   "outputs": [
    {
     "data": {
      "text/plain": [
       "([3.949981992594921 1.9974000055789285], 6.164947445657001)"
      ]
     },
     "metadata": {},
     "output_type": "display_data"
    }
   ],
   "source": [
    "@with_hypers μ 0.85 β 0.9 begin\n",
    "    try_plane(rms_gradient_descent, 1500, 0.01)\n",
    "end"
   ]
  },
  {
   "cell_type": "markdown",
   "metadata": {},
   "source": [
    "# Interlude V - Extensio Magnifico"
   ]
  },
  {
   "cell_type": "code",
   "execution_count": 61,
   "metadata": {},
   "outputs": [],
   "source": [
    "@assert zeroes(tensor([tensor([1]), tensor([2])])) == zeroes(tensor([tensor([0]), tensor([0])]))"
   ]
  },
  {
   "cell_type": "code",
   "execution_count": 62,
   "metadata": {},
   "outputs": [
    {
     "data": {
      "text/plain": [
       "(::Main.Schemish.var\"#extended#10\"{typeof(flatten_2), Int64}) (generic function with 1 method)"
      ]
     },
     "metadata": {},
     "output_type": "display_data"
    }
   ],
   "source": [
    "\n",
    "#frame 184:27\n",
    "\n",
    "flatten = ext1(flatten_2, 2)"
   ]
  },
  {
   "cell_type": "code",
   "execution_count": 63,
   "metadata": {},
   "outputs": [],
   "source": [
    "@assert flatten_2(tensor([tensor([1]), tensor([2])])) == tensor([1, 2])\n",
    "@assert flatten(tensor([tensor([tensor([1]), tensor([2])]), tensor([tensor([3]), tensor([4])])])) == tensor([tensor([1, 2]), tensor([3, 4])])"
   ]
  },
  {
   "cell_type": "code",
   "execution_count": 67,
   "metadata": {},
   "outputs": [
    {
     "data": {
      "text/plain": [
       "(::Main.Schemish.var\"#extended#15\"{typeof(*), Int64, Int64}) (generic function with 1 method)"
      ]
     },
     "metadata": {},
     "output_type": "display_data"
    }
   ],
   "source": [
    "\n",
    "# frame 190:44\n",
    "\n",
    "mul_2_1 = ext2(*, 2, 1)"
   ]
  },
  {
   "cell_type": "code",
   "execution_count": 79,
   "metadata": {},
   "outputs": [],
   "source": [
    "@assert (\n",
    "    mul_2_1(\n",
    "        tensor([tensor([3, 4, 5]), tensor([7, 8, 9])]),\n",
    "        tensor([2, 4, 3]))\n",
    "    ==\n",
    "    tensor([tensor([6, 16, 15]), tensor([14, 32, 27])]))\n",
    "\n",
    "@assert (\n",
    "    mul_2_1(\n",
    "        tensor([tensor([8, 1]), tensor([7, 3]), tensor([5, 4])]),\n",
    "        tensor([tensor([6, 2]), tensor([4, 9]), tensor([3, 8])]))\n",
    "    ==\n",
    "    tensor([\n",
    "        tensor([tensor([48, 2]), tensor([42, 6]), tensor([30, 8])]),\n",
    "        tensor([tensor([32, 9]), tensor([28, 27]), tensor([20, 36])]),\n",
    "        tensor([tensor([24, 8]), tensor([21, 24]), tensor([15, 32])])]))\n"
   ]
  },
  {
   "cell_type": "markdown",
   "metadata": {},
   "source": [
    "# 10 - Doing the Neuron Dance"
   ]
  },
  {
   "cell_type": "code",
   "execution_count": null,
   "metadata": {},
   "outputs": [],
   "source": []
  }
 ],
 "metadata": {
  "kernelspec": {
   "display_name": "Julia 1.9.2",
   "language": "julia",
   "name": "julia-1.9"
  },
  "language_info": {
   "file_extension": ".jl",
   "mimetype": "application/julia",
   "name": "julia",
   "version": "1.9.2"
  },
  "orig_nbformat": 4
 },
 "nbformat": 4,
 "nbformat_minor": 2
}
