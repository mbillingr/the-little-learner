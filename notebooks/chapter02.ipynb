{
 "cells": [
  {
   "cell_type": "code",
   "execution_count": 1,
   "metadata": {},
   "outputs": [],
   "source": [
    "include(\"../src/Schemish.jl\")\n",
    "include(\"../src/LittleLearner.jl\")\n",
    "using .Schemish\n",
    "using .LittleLearner"
   ]
  },
  {
   "cell_type": "markdown",
   "metadata": {},
   "source": [
    "# 2 - The More We Learn, the Tenser We Become"
   ]
  },
  {
   "cell_type": "code",
   "execution_count": 2,
   "metadata": {},
   "outputs": [
    {
     "data": {
      "text/plain": [
       "[[7 6 2 5] [3 8 6 9] [9 4 8 5]]"
      ]
     },
     "metadata": {},
     "output_type": "display_data"
    }
   ],
   "source": [
    "tensor([[7,6,2,5], [3,8,6,9], [9,4,8,5]])"
   ]
  },
  {
   "cell_type": "code",
   "execution_count": 3,
   "metadata": {},
   "outputs": [],
   "source": [
    "@assert is_scalar(9)\n",
    "@assert is_scalar(3.1415)\n",
    "@assert !is_scalar(tensor([1]))\n",
    "@assert tlen(tensor([17, 12, 91, 67])) == 4\n",
    "@assert tlen(tensor([[3, 2, 8], [7, 1, 9]])) == 2"
   ]
  },
  {
   "cell_type": "code",
   "execution_count": 11,
   "metadata": {},
   "outputs": [],
   "source": [
    "@assert rank(9) == 0\n",
    "@assert rank(tensor([9, 4, 7, 8, 0, 1])) == 1\n",
    "@assert rank(tensor([[[5], [6], [8]], [[7], [9], [5]]])) == 3\n",
    "\n",
    "@assert shape(9) == list()\n",
    "@assert shape(tensor([9, 4, 7, 8, 0, 1])) == list(6)\n",
    "@assert shape(tensor([[[5], [6], [8]], [[7], [9], [5]]])) == list(2, 3, 1)"
   ]
  },
  {
   "cell_type": "code",
   "execution_count": 5,
   "metadata": {},
   "outputs": [],
   "source": []
  }
 ],
 "metadata": {
  "kernelspec": {
   "display_name": "Julia 1.9.2",
   "language": "julia",
   "name": "julia-1.9"
  },
  "language_info": {
   "file_extension": ".jl",
   "mimetype": "application/julia",
   "name": "julia",
   "version": "1.9.2"
  },
  "orig_nbformat": 4
 },
 "nbformat": 4,
 "nbformat_minor": 2
}
